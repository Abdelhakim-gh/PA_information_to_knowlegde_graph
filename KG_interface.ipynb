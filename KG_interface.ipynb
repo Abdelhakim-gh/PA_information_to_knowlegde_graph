{
  "cells": [
    {
      "cell_type": "code",
      "execution_count": null,
      "metadata": {
        "colab": {
          "base_uri": "https://localhost:8080/"
        },
        "id": "k8B-5FXQqD6H",
        "outputId": "901bde3f-4cd1-4cec-cf87-6a8808351afb"
      },
      "outputs": [
        {
          "name": "stdout",
          "output_type": "stream",
          "text": [
            "Mounted at /content/drive\n"
          ]
        }
      ],
      "source": [
        "from google.colab import drive\n",
        "drive.mount('/content/drive')"
      ]
    },
    {
      "cell_type": "markdown",
      "metadata": {
        "id": "Qbl-94J-hWuR"
      },
      "source": [
        "## Install Required Packages"
      ]
    },
    {
      "cell_type": "code",
      "execution_count": null,
      "metadata": {
        "colab": {
          "base_uri": "https://localhost:8080/"
        },
        "id": "5x3LkpUztHNU",
        "outputId": "af49ae22-4308-4738-a51a-e51ad4a5bb07"
      },
      "outputs": [
        {
          "name": "stdout",
          "output_type": "stream",
          "text": [
            "\u001b[?25l   \u001b[90m━━━━━━━━━━━━━━━━━━━━━━━━━━━━━━━━━━━━━━━━\u001b[0m \u001b[32m0.0/1.0 MB\u001b[0m \u001b[31m?\u001b[0m eta \u001b[36m-:--:--\u001b[0m\r\u001b[2K   \u001b[91m━━━━━━━━━━━━━━━━━━━━━━━━━━━━━━━━━━━━━━━\u001b[0m\u001b[91m╸\u001b[0m \u001b[32m1.0/1.0 MB\u001b[0m \u001b[31m39.4 MB/s\u001b[0m eta \u001b[36m0:00:01\u001b[0m\r\u001b[2K   \u001b[90m━━━━━━━━━━━━━━━━━━━━━━━━━━━━━━━━━━━━━━━━\u001b[0m \u001b[32m1.0/1.0 MB\u001b[0m \u001b[31m25.5 MB/s\u001b[0m eta \u001b[36m0:00:00\u001b[0m\n",
            "\u001b[2K   \u001b[90m━━━━━━━━━━━━━━━━━━━━━━━━━━━━━━━━━━━━━━━━\u001b[0m \u001b[32m2.5/2.5 MB\u001b[0m \u001b[31m78.9 MB/s\u001b[0m eta \u001b[36m0:00:00\u001b[0m\n",
            "\u001b[2K   \u001b[90m━━━━━━━━━━━━━━━━━━━━━━━━━━━━━━━━━━━━━━━━\u001b[0m \u001b[32m209.2/209.2 kB\u001b[0m \u001b[31m17.1 MB/s\u001b[0m eta \u001b[36m0:00:00\u001b[0m\n",
            "\u001b[2K   \u001b[90m━━━━━━━━━━━━━━━━━━━━━━━━━━━━━━━━━━━━━━━━\u001b[0m \u001b[32m301.7/301.7 kB\u001b[0m \u001b[31m26.5 MB/s\u001b[0m eta \u001b[36m0:00:00\u001b[0m\n",
            "\u001b[2K   \u001b[90m━━━━━━━━━━━━━━━━━━━━━━━━━━━━━━━━━━━━━━━━\u001b[0m \u001b[32m1.2/1.2 MB\u001b[0m \u001b[31m61.2 MB/s\u001b[0m eta \u001b[36m0:00:00\u001b[0m\n",
            "\u001b[2K   \u001b[90m━━━━━━━━━━━━━━━━━━━━━━━━━━━━━━━━━━━━━━━━\u001b[0m \u001b[32m15.6/15.6 MB\u001b[0m \u001b[31m44.3 MB/s\u001b[0m eta \u001b[36m0:00:00\u001b[0m\n",
            "\u001b[2K   \u001b[90m━━━━━━━━━━━━━━━━━━━━━━━━━━━━━━━━━━━━━━━━\u001b[0m \u001b[32m50.9/50.9 kB\u001b[0m \u001b[31m4.6 MB/s\u001b[0m eta \u001b[36m0:00:00\u001b[0m\n",
            "\u001b[2K   \u001b[90m━━━━━━━━━━━━━━━━━━━━━━━━━━━━━━━━━━━━━━━━\u001b[0m \u001b[32m411.6/411.6 kB\u001b[0m \u001b[31m31.8 MB/s\u001b[0m eta \u001b[36m0:00:00\u001b[0m\n",
            "\u001b[2K   \u001b[90m━━━━━━━━━━━━━━━━━━━━━━━━━━━━━━━━━━━━━━━━\u001b[0m \u001b[32m139.8/139.8 kB\u001b[0m \u001b[31m13.5 MB/s\u001b[0m eta \u001b[36m0:00:00\u001b[0m\n",
            "\u001b[2K   \u001b[90m━━━━━━━━━━━━━━━━━━━━━━━━━━━━━━━━━━━━━━━━\u001b[0m \u001b[32m454.3/454.3 kB\u001b[0m \u001b[31m36.5 MB/s\u001b[0m eta \u001b[36m0:00:00\u001b[0m\n",
            "\u001b[2K   \u001b[90m━━━━━━━━━━━━━━━━━━━━━━━━━━━━━━━━━━━━━━━━\u001b[0m \u001b[32m49.3/49.3 kB\u001b[0m \u001b[31m4.2 MB/s\u001b[0m eta \u001b[36m0:00:00\u001b[0m\n",
            "\u001b[2K   \u001b[90m━━━━━━━━━━━━━━━━━━━━━━━━━━━━━━━━━━━━━━━━\u001b[0m \u001b[32m2.3/2.3 MB\u001b[0m \u001b[31m83.7 MB/s\u001b[0m eta \u001b[36m0:00:00\u001b[0m\n",
            "\u001b[2K   \u001b[90m━━━━━━━━━━━━━━━━━━━━━━━━━━━━━━━━━━━━━━━━\u001b[0m \u001b[32m1.6/1.6 MB\u001b[0m \u001b[31m69.1 MB/s\u001b[0m eta \u001b[36m0:00:00\u001b[0m\n",
            "\u001b[?25h\u001b[31mERROR: pip's dependency resolver does not currently take into account all the packages that are installed. This behaviour is the source of the following dependency conflicts.\n",
            "lightrag 0.1.0b6 requires tiktoken<0.8.0,>=0.7.0, but you have tiktoken 0.8.0 which is incompatible.\u001b[0m\u001b[31m\n",
            "\u001b[0m"
          ]
        }
      ],
      "source": [
        "%pip install --upgrade --quiet  langchain langchain-community langchain-ollama langchain-experimental neo4j tiktoken yfiles_jupyter_graphs python-dotenv json-repair langchain-openai langchain_core"
      ]
    },
    {
      "cell_type": "code",
      "execution_count": null,
      "metadata": {
        "colab": {
          "base_uri": "https://localhost:8080/"
        },
        "id": "PYiTfiOB9W-z",
        "outputId": "0b5040b1-b7a8-4d42-e8b5-8e802bef7de9"
      },
      "outputs": [
        {
          "name": "stdout",
          "output_type": "stream",
          "text": [
            "Reading package lists... Done\n",
            "Building dependency tree... Done\n",
            "Reading state information... Done\n",
            "The following additional packages will be installed:\n",
            "  libpci3 pci.ids\n",
            "The following NEW packages will be installed:\n",
            "  libpci3 pci.ids pciutils\n",
            "0 upgraded, 3 newly installed, 0 to remove and 49 not upgraded.\n",
            "Need to get 343 kB of archives.\n",
            "After this operation, 1,581 kB of additional disk space will be used.\n",
            "Get:1 http://archive.ubuntu.com/ubuntu jammy/main amd64 pci.ids all 0.0~2022.01.22-1 [251 kB]\n",
            "Get:2 http://archive.ubuntu.com/ubuntu jammy/main amd64 libpci3 amd64 1:3.7.0-6 [28.9 kB]\n",
            "Get:3 http://archive.ubuntu.com/ubuntu jammy/main amd64 pciutils amd64 1:3.7.0-6 [63.6 kB]\n",
            "Fetched 343 kB in 1s (318 kB/s)\n",
            "debconf: unable to initialize frontend: Dialog\n",
            "debconf: (No usable dialog-like program is installed, so the dialog based frontend cannot be used. at /usr/share/perl5/Debconf/FrontEnd/Dialog.pm line 78, <> line 3.)\n",
            "debconf: falling back to frontend: Readline\n",
            "debconf: unable to initialize frontend: Readline\n",
            "debconf: (This frontend requires a controlling tty.)\n",
            "debconf: falling back to frontend: Teletype\n",
            "dpkg-preconfigure: unable to re-open stdin: \n",
            "Selecting previously unselected package pci.ids.\n",
            "(Reading database ... 123634 files and directories currently installed.)\n",
            "Preparing to unpack .../pci.ids_0.0~2022.01.22-1_all.deb ...\n",
            "Unpacking pci.ids (0.0~2022.01.22-1) ...\n",
            "Selecting previously unselected package libpci3:amd64.\n",
            "Preparing to unpack .../libpci3_1%3a3.7.0-6_amd64.deb ...\n",
            "Unpacking libpci3:amd64 (1:3.7.0-6) ...\n",
            "Selecting previously unselected package pciutils.\n",
            "Preparing to unpack .../pciutils_1%3a3.7.0-6_amd64.deb ...\n",
            "Unpacking pciutils (1:3.7.0-6) ...\n",
            "Setting up pci.ids (0.0~2022.01.22-1) ...\n",
            "Setting up libpci3:amd64 (1:3.7.0-6) ...\n",
            "Setting up pciutils (1:3.7.0-6) ...\n",
            "Processing triggers for man-db (2.10.2-1) ...\n",
            "Processing triggers for libc-bin (2.35-0ubuntu3.4) ...\n",
            "/sbin/ldconfig.real: /usr/local/lib/libtcm_debug.so.1 is not a symbolic link\n",
            "\n",
            "/sbin/ldconfig.real: /usr/local/lib/libtbbbind_2_0.so.3 is not a symbolic link\n",
            "\n",
            "/sbin/ldconfig.real: /usr/local/lib/libumf.so.0 is not a symbolic link\n",
            "\n",
            "/sbin/ldconfig.real: /usr/local/lib/libtcm.so.1 is not a symbolic link\n",
            "\n",
            "/sbin/ldconfig.real: /usr/local/lib/libtbbbind_2_5.so.3 is not a symbolic link\n",
            "\n",
            "/sbin/ldconfig.real: /usr/local/lib/libhwloc.so.15 is not a symbolic link\n",
            "\n",
            "/sbin/ldconfig.real: /usr/local/lib/libur_adapter_level_zero.so.0 is not a symbolic link\n",
            "\n",
            "/sbin/ldconfig.real: /usr/local/lib/libur_adapter_opencl.so.0 is not a symbolic link\n",
            "\n",
            "/sbin/ldconfig.real: /usr/local/lib/libtbb.so.12 is not a symbolic link\n",
            "\n",
            "/sbin/ldconfig.real: /usr/local/lib/libtbbmalloc.so.2 is not a symbolic link\n",
            "\n",
            "/sbin/ldconfig.real: /usr/local/lib/libtbbmalloc_proxy.so.2 is not a symbolic link\n",
            "\n",
            "/sbin/ldconfig.real: /usr/local/lib/libtbbbind.so.3 is not a symbolic link\n",
            "\n",
            "/sbin/ldconfig.real: /usr/local/lib/libur_loader.so.0 is not a symbolic link\n",
            "\n",
            ">>> Installing ollama to /usr/local\n",
            ">>> Downloading Linux amd64 bundle\n",
            "############################################################################################# 100.0%\n",
            ">>> Creating ollama user...\n",
            ">>> Adding ollama user to video group...\n",
            ">>> Adding current user to ollama group...\n",
            ">>> Creating ollama systemd service...\n",
            "\u001b[1m\u001b[31mWARNING:\u001b[m systemd is not running\n",
            ">>> NVIDIA GPU installed.\n",
            ">>> The Ollama API is now available at 127.0.0.1:11434.\n",
            ">>> Install complete. Run \"ollama\" from the command line.\n"
          ]
        }
      ],
      "source": [
        "!sudo apt-get install -y pciutils\n",
        "!curl -fsSL https://ollama.com/install.sh | sh # download ollama api"
      ]
    },
    {
      "cell_type": "markdown",
      "metadata": {
        "id": "18giCE9qhZss"
      },
      "source": [
        "## Set Up Ollama API & Pull LLAMA 3.1 Model"
      ]
    },
    {
      "cell_type": "code",
      "execution_count": null,
      "metadata": {
        "id": "loO2XHOf-Ffj"
      },
      "outputs": [],
      "source": [
        "from IPython.display import clear_output\n",
        "# Create a Python script to start the Ollama API server in a separate thread\n",
        "import os\n",
        "import threading\n",
        "import subprocess\n",
        "import requests\n",
        "import json\n",
        "\n",
        "def ollama():\n",
        "    os.environ['OLLAMA_HOST'] = '0.0.0.0:11434'\n",
        "    os.environ['OLLAMA_ORIGINS'] = '*'\n",
        "    subprocess.Popen([\"ollama\", \"serve\"])\n",
        "\n",
        "ollama_thread = threading.Thread(target=ollama)\n",
        "ollama_thread.start()"
      ]
    },
    {
      "cell_type": "code",
      "execution_count": null,
      "metadata": {
        "id": "Dk6mtgCw_Jqi"
      },
      "outputs": [],
      "source": [
        "from IPython.display import clear_output\n",
        "\n",
        "!ollama pull llama3.1\n",
        "clear_output()\n",
        "\n",
        "!pip install -U lightrag[ollama]\n",
        "clear_output()"
      ]
    },
    {
      "cell_type": "markdown",
      "metadata": {
        "id": "ddVmLRAUhhXg"
      },
      "source": [
        "## Import modules"
      ]
    },
    {
      "cell_type": "code",
      "execution_count": null,
      "metadata": {
        "id": "jPIRSGz4tHNV"
      },
      "outputs": [],
      "source": [
        "from langchain_core.runnables import RunnablePassthrough\n",
        "from langchain_core.prompts import ChatPromptTemplate\n",
        "from pydantic import BaseModel, Field\n",
        "from langchain_core.output_parsers import StrOutputParser\n",
        "from langchain_community.graphs import Neo4jGraph\n",
        "from langchain.text_splitter import RecursiveCharacterTextSplitter\n",
        "from langchain_community.chat_models import ChatOllama  # Mise à jour de l'importation\n",
        "from langchain_experimental.graph_transformers import LLMGraphTransformer\n",
        "from neo4j import GraphDatabase\n",
        "from yfiles_jupyter_graphs import GraphWidget\n",
        "from langchain_community.vectorstores import Neo4jVector\n",
        "from langchain_community.document_loaders import PyPDFLoader  # Pour charger les fichiers PDF\n",
        "from langchain_community.vectorstores.neo4j_vector import remove_lucene_chars\n",
        "from langchain_ollama import OllamaEmbeddings  # À garder si nécessaire"
      ]
    },
    {
      "cell_type": "code",
      "execution_count": null,
      "metadata": {
        "colab": {
          "base_uri": "https://localhost:8080/"
        },
        "id": "zmDw1apdXYff",
        "outputId": "caabe963-24e4-49f8-902a-c077cb851b48"
      },
      "outputs": [
        {
          "name": "stdout",
          "output_type": "stream",
          "text": [
            "/content\n",
            "total 8\n",
            "drwx------ 6 root root 4096 Dec 29 11:27 drive\n",
            "drwxr-xr-x 1 root root 4096 Dec 19 14:20 sample_data\n"
          ]
        }
      ],
      "source": [
        "import os\n",
        "print(os.getcwd()) # prints your current working directory\n",
        "!ls -l # lists content of your working directory, including files and their permissions."
      ]
    },
    {
      "cell_type": "markdown",
      "metadata": {
        "id": "gVZeBTawhm1G"
      },
      "source": [
        "## Define Classes for Nodes, Relationships, and Documents"
      ]
    },
    {
      "cell_type": "code",
      "execution_count": null,
      "metadata": {
        "id": "x9OVUcyab5cu"
      },
      "outputs": [],
      "source": [
        "from typing import List, Dict, Optional\n",
        "\n",
        "class Node:\n",
        "    def __init__(self, id: str, type: str, properties: Dict):\n",
        "        self.id = id\n",
        "        self.type = type\n",
        "        self.properties = properties\n",
        "\n",
        "    def __repr__(self):\n",
        "        return f\"Node(id='{self.id}', type='{self.type}', properties={self.properties})\"\n",
        "\n",
        "class Relationship:\n",
        "    def __init__(self, source: Node, target: Node, type: str, properties: Dict):\n",
        "        self.source = source\n",
        "        self.target = target\n",
        "        self.type = type\n",
        "        self.properties = properties\n",
        "\n",
        "    def __repr__(self):\n",
        "        return f\"Relationship(source={self.source}, target={self.target}, type='{self.type}', properties={self.properties})\"\n",
        "\n",
        "class Document:\n",
        "    def __init__(self, metadata: Dict, page_content: str):\n",
        "        self.metadata = metadata\n",
        "        self.page_content = page_content\n",
        "\n",
        "    def __repr__(self):\n",
        "        return f\"Document(metadata={self.metadata}, page_content='{self.page_content[:50]}...')\"\n",
        "\n",
        "class GraphDocument:\n",
        "    def __init__(self, nodes: List[Node], relationships: List[Relationship], source: Document):\n",
        "        self.nodes = nodes\n",
        "        self.relationships = relationships\n",
        "        self.source = source\n",
        "\n",
        "    def __repr__(self):\n",
        "        return f\"GraphDocument(nodes={self.nodes}, relationships={self.relationships}, source={self.source})\"\n"
      ]
    },
    {
      "cell_type": "markdown",
      "metadata": {
        "id": "WfGnGmYEhtpj"
      },
      "source": [
        "## Load extracted othologies file"
      ]
    },
    {
      "cell_type": "code",
      "execution_count": null,
      "metadata": {
        "id": "I67D8cSfulqP"
      },
      "outputs": [],
      "source": [
        "with open(\"progress.json\", \"r\") as f:\n",
        "    serialized_documents = json.load(f)\n",
        "\n",
        "# Reconstitution des objets en format GraphDocument\n",
        "GraphDocument\n",
        "# Recréer les objets\n",
        "graph_documents = [\n",
        "    GraphDocument(**doc) if isinstance(doc, dict) else doc\n",
        "    for doc in serialized_documents\n",
        "]"
      ]
    },
    {
      "cell_type": "code",
      "execution_count": null,
      "metadata": {
        "colab": {
          "base_uri": "https://localhost:8080/"
        },
        "id": "uBtgBOXdyO0C",
        "outputId": "53731212-48e3-4fac-e13b-059b52fdd069"
      },
      "outputs": [
        {
          "data": {
            "text/plain": [
              "GraphDocument(nodes=[], relationships=[], source={'id': None, 'metadata': {'source': 'data2.pdf', 'page': 0}, 'page_content': '1774 BULLETIN OFFICIEL Nº 7222 – 30 moharrem 1445 (17-8-2023) \\n \\n \\n \\nArrêté du ministre délégué auprès de la ministre de l’économie et des finances, chargé du budget n° 1692 -23 du 4 hija 1444  (23 juin 2023)', 'type': 'Document'})"
            ]
          },
          "execution_count": 10,
          "metadata": {},
          "output_type": "execute_result"
        }
      ],
      "source": [
        "graph_documents[0]"
      ]
    },
    {
      "cell_type": "markdown",
      "metadata": {
        "id": "MIGewFwph91n"
      },
      "source": [
        "## Load and Transform JSON Data to GraphDocuments"
      ]
    },
    {
      "cell_type": "code",
      "execution_count": null,
      "metadata": {
        "colab": {
          "base_uri": "https://localhost:8080/"
        },
        "id": "8S09E7xDb71n",
        "outputId": "38d19be3-a979-44fe-cf92-ac4f0ccb45f4"
      },
      "outputs": [
        {
          "name": "stdout",
          "output_type": "stream",
          "text": [
            "Nombre de documents transformés : 669\n",
            "Exemple d'un document transformé :\n"
          ]
        }
      ],
      "source": [
        "import json\n",
        "\n",
        "\n",
        "def transform_json_to_graph(json_data: List[Dict]) -> List[GraphDocument]:\n",
        "    graph_documents = []\n",
        "\n",
        "    for item in json_data:\n",
        "        nodes = [Node(id=node['id'], type=node['type'], properties=node.get('properties', {}))\n",
        "                 for node in item.get('nodes', [])]\n",
        "\n",
        "        relationships = [\n",
        "            Relationship(\n",
        "                source=Node(id=rel['source']['id'], type=rel['source']['type'], properties=rel['source'].get('properties', {})),\n",
        "                target=Node(id=rel['target']['id'], type=rel['target']['type'], properties=rel['target'].get('properties', {})),\n",
        "                type=rel['type'],\n",
        "                properties=rel.get('properties', {})\n",
        "            ) for rel in item.get('relationships', [])\n",
        "        ]\n",
        "\n",
        "        # Vérifier si nodes ou relationships ne sont pas vides\n",
        "        if not nodes and not relationships:\n",
        "            continue  # Ignorer cet item\n",
        "\n",
        "        source_document = Document(\n",
        "            metadata=item['source']['metadata'],\n",
        "            page_content=item['source']['page_content']\n",
        "        )\n",
        "\n",
        "        graph_documents.append(GraphDocument(nodes=nodes, relationships=relationships, source=source_document))\n",
        "\n",
        "    return graph_documents\n",
        "\n",
        "# Charger le fichier progress.json\n",
        "with open(\"progress.json\", \"r\", encoding=\"utf-8\") as f:\n",
        "    json_data = json.load(f)\n",
        "\n",
        "# Transformer en GraphDocuments\n",
        "graph_documents = transform_json_to_graph(json_data)\n",
        "\n",
        "# Vérifier la sortie\n",
        "print(f\"Nombre de documents transformés : {len(graph_documents)}\")\n",
        "print(\"Exemple d'un document transformé :\")\n",
        "if graph_documents:\n",
        "  graph_documents[0]\n"
      ]
    },
    {
      "cell_type": "code",
      "execution_count": null,
      "metadata": {
        "colab": {
          "base_uri": "https://localhost:8080/"
        },
        "id": "WiCBAxQNeJGp",
        "outputId": "e7035798-97a7-4ba9-8b9f-047af67c75fd"
      },
      "outputs": [
        {
          "data": {
            "text/plain": [
              "GraphDocument(nodes=[Node(id='dahir n° 1 -07-129', type='Decree', properties={}), Node(id='loi n° 53 -05', type='Law', properties={})], relationships=[Relationship(source=Node(id='loi n° 53 -05', type='Law', properties={}), target=Node(id='dahir n° 1 -07-129', type='Decree', properties={}), type='RELATED_TO', properties={})], source=Document(metadata={'source': 'data2.pdf', 'page': 0}, page_content='Vu la loi n° 53 -05 relative à l’échange électroni...'))"
            ]
          },
          "execution_count": 12,
          "metadata": {},
          "output_type": "execute_result"
        }
      ],
      "source": [
        "graph_documents[0]\n"
      ]
    },
    {
      "cell_type": "markdown",
      "metadata": {
        "id": "hP6xNHpbiLWa"
      },
      "source": [
        "## Set Up Neo4j Connection and Add GraphDocuments"
      ]
    },
    {
      "cell_type": "code",
      "execution_count": null,
      "metadata": {
        "id": "6hkEs-gSxdjX"
      },
      "outputs": [],
      "source": [
        "# os.environ[\"NEO4J_URI\"] = ''\n",
        "# os.environ[\"NEO4J_USERNAME\"] = \"\"\n",
        "# os.environ[\"NEO4J_PASSWORD\"] = \"\""
      ]
    },
    {
      "cell_type": "markdown",
      "metadata": {
        "id": "dQw-fVV5Mjdl"
      },
      "source": [
        "#### First time"
      ]
    },
    {
      "cell_type": "code",
      "execution_count": null,
      "metadata": {
        "colab": {
          "base_uri": "https://localhost:8080/"
        },
        "id": "1igUPcdz6k41",
        "outputId": "22264bb2-f0ae-4dea-b0e5-d26c0ab43e3b"
      },
      "outputs": [
        {
          "name": "stderr",
          "output_type": "stream",
          "text": [
            "<ipython-input-15-2afd936a2a14>:14: LangChainDeprecationWarning: The class `Neo4jGraph` was deprecated in LangChain 0.3.8 and will be removed in 1.0. An updated version of the class exists in the :class:`~langchain-neo4j package and should be used instead. To use it run `pip install -U :class:`~langchain-neo4j` and import as `from :class:`~langchain_neo4j import Neo4jGraph``.\n",
            "  graph = Neo4jGraph(url=uri, username=user, password=password)\n"
          ]
        }
      ],
      "source": [
        "from neo4j import GraphDatabase\n",
        "from langchain.embeddings import OllamaEmbeddings\n",
        "from langchain.graphs import Neo4jGraph\n",
        "import os\n",
        "\n",
        "# Set up Neo4j connection using environment variables\n",
        "uri = os.environ.get(\"NEO4J_URI\")  # Ensure these environment variables are set\n",
        "user = os.environ.get(\"NEO4J_USERNAME\")\n",
        "password = os.environ.get(\"NEO4J_PASSWORD\")\n",
        "\n",
        "driver = GraphDatabase.driver(uri, auth=(user, password))\n",
        "\n",
        "# Set up Neo4jGraph and embeddings\n",
        "graph = Neo4jGraph(url=uri, username=user, password=password)\n",
        "\n",
        "#\n",
        "graph.add_graph_documents(\n",
        "    graph_documents,\n",
        "    baseEntityLabel=True,\n",
        "    include_source=True\n",
        ")"
      ]
    },
    {
      "cell_type": "markdown",
      "metadata": {
        "id": "uiQt7qrGMpHW"
      },
      "source": [
        "#### Second time"
      ]
    },
    {
      "cell_type": "code",
      "execution_count": null,
      "metadata": {
        "colab": {
          "base_uri": "https://localhost:8080/"
        },
        "id": "4N5246xlLa8z",
        "outputId": "2f8eb33a-1892-426f-d007-472c397ad874"
      },
      "outputs": [
        {
          "name": "stderr",
          "output_type": "stream",
          "text": [
            "<ipython-input-13-266e6adf20dd>:9: LangChainDeprecationWarning: The class `Neo4jGraph` was deprecated in LangChain 0.3.8 and will be removed in 1.0. An updated version of the class exists in the :class:`~langchain-neo4j package and should be used instead. To use it run `pip install -U :class:`~langchain-neo4j` and import as `from :class:`~langchain_neo4j import Neo4jGraph``.\n",
            "  graph = Neo4jGraph(url=uri, username=user, password=password)\n"
          ]
        }
      ],
      "source": [
        "# Set up Neo4j connection using environment variables\n",
        "uri = os.environ.get(\"NEO4J_URI\")  # Ensure these environment variables are set\n",
        "user = os.environ.get(\"NEO4J_USERNAME\")\n",
        "password = os.environ.get(\"NEO4J_PASSWORD\")\n",
        "\n",
        "driver = GraphDatabase.driver(uri, auth=(user, password))\n",
        "\n",
        "# Set up Neo4jGraph and embeddings\n",
        "graph = Neo4jGraph(url=uri, username=user, password=password)"
      ]
    },
    {
      "cell_type": "markdown",
      "metadata": {
        "id": "CD32bCGeMwx9"
      },
      "source": [
        "#### Embedding"
      ]
    },
    {
      "cell_type": "code",
      "execution_count": null,
      "metadata": {
        "id": "UpEwtSyZvoPd"
      },
      "outputs": [],
      "source": [
        "!ollama pull mxbai-embed-large\n",
        "clear_output()"
      ]
    },
    {
      "cell_type": "code",
      "execution_count": null,
      "metadata": {
        "id": "aeGzuN5ly1KB"
      },
      "outputs": [],
      "source": [
        "# Assuming you have a valid embeddings model (e.g., OllamaEmbeddings)\n",
        "embeddings = OllamaEmbeddings(model=\"mxbai-embed-large\")\n",
        "\n",
        "# Sample usage of graph (without Neo4jVector)\n",
        "vector_index = Neo4jVector.from_existing_graph(\n",
        "    embeddings,\n",
        "    search_type=\"hybrid\",\n",
        "    node_label=\"Document\",\n",
        "    text_node_properties=[\"text\"],\n",
        "    embedding_node_property=\"embedding\"\n",
        ")\n",
        "vector_retriever = vector_index.as_retriever()"
      ]
    },
    {
      "cell_type": "markdown",
      "metadata": {
        "id": "sO7plNm5MzYY"
      },
      "source": [
        "#### Graph db Index"
      ]
    },
    {
      "cell_type": "code",
      "execution_count": null,
      "metadata": {
        "id": "RMZlhtDmtHNW"
      },
      "outputs": [],
      "source": [
        "driver = GraphDatabase.driver(\n",
        "        uri = os.environ.get('NEO4J_URI'),\n",
        "        auth = (os.environ.get('NEO4J_USERNAME'), os.environ.get('NEO4J_PASSWORD')))\n",
        "\n",
        "def create_fulltext_index(tx):\n",
        "    query = '''\n",
        "    CREATE FULLTEXT INDEX `fulltext_entity_id`\n",
        "    FOR (n:__Entity__)\n",
        "    ON EACH [n.id];\n",
        "    '''\n",
        "    tx.run(query)\n",
        "\n",
        "# Function to execute the query\n",
        "def create_index():\n",
        "    with driver.session() as session:\n",
        "        session.execute_write(create_fulltext_index)\n",
        "        print(\"Fulltext index created successfully.\")\n",
        "\n",
        "# Call the function to create the index\n",
        "try:\n",
        "    create_index()\n",
        "except:\n",
        "    pass\n",
        "\n",
        "# Close the driver connection\n",
        "driver.close()"
      ]
    },
    {
      "cell_type": "markdown",
      "metadata": {
        "id": "QCgpUFplM331"
      },
      "source": [
        "#### Viz"
      ]
    },
    {
      "cell_type": "code",
      "execution_count": null,
      "metadata": {
        "id": "_fujEMr6vkt-"
      },
      "outputs": [],
      "source": [
        "from google.colab import output\n",
        "output.enable_custom_widget_manager()"
      ]
    },
    {
      "cell_type": "code",
      "execution_count": null,
      "metadata": {
        "colab": {
          "base_uri": "https://localhost:8080/",
          "height": 817,
          "referenced_widgets": [
            "0f72cf13e3af4b9cbd6566c37039ee77",
            "89ccd18a586e4b72b4b958dd240d7265"
          ]
        },
        "id": "fDhR7GayyO0D",
        "outputId": "9a341cd7-0b67-45a7-a067-279740356bbe"
      },
      "outputs": [
        {
          "data": {
            "application/vnd.jupyter.widget-view+json": {
              "model_id": "0f72cf13e3af4b9cbd6566c37039ee77",
              "version_major": 2,
              "version_minor": 0
            },
            "text/plain": [
              "GraphWidget(layout=Layout(height='800px', width='100%'))"
            ]
          },
          "metadata": {
            "application/vnd.jupyter.widget-view+json": {
              "colab": {
                "custom_widget_manager": {
                  "url": "https://ssl.gstatic.com/colaboratory-static/widgets/colab-cdn-widget-manager/2b70e893a8ba7c0f/manager.min.js"
                }
              }
            }
          },
          "output_type": "display_data"
        }
      ],
      "source": [
        "def showGraph() :\n",
        "    driver =GraphDatabase.driver(\n",
        "    uri = os. environ [\"NEO4J_URI\" ],\n",
        "    auth =(os.environ [\"NEO4J_USERNAME\" ],\n",
        "    os. environ [\"NEO4J_PASSWORD\" ]))\n",
        "    session = driver.session()\n",
        "    widget = GraphWidget (graph = session.run(\"MATCH (s)-[r: !MENTIONS] ->(t) RETURN s,r,t\") . graph())\n",
        "    widget.node_label_mapping = 'id'\n",
        "    return widget\n",
        "showGraph()"
      ]
    },
    {
      "cell_type": "markdown",
      "metadata": {
        "id": "J4F0dY6Vvkt_"
      },
      "source": [
        "Support for third party widgets will remain active for the duration of the session. To disable support:"
      ]
    },
    {
      "cell_type": "code",
      "execution_count": null,
      "metadata": {
        "id": "Kux3JBmvvkuA"
      },
      "outputs": [],
      "source": [
        "from google.colab import output\n",
        "output.disable_custom_widget_manager()"
      ]
    },
    {
      "cell_type": "markdown",
      "metadata": {
        "id": "yZukhLfVibDL"
      },
      "source": [
        "## Define Functions for Entity Extraction and Graph Retrieval"
      ]
    },
    {
      "cell_type": "code",
      "execution_count": null,
      "metadata": {
        "id": "asKbr1EU4Q93"
      },
      "outputs": [],
      "source": [
        "from pydantic import BaseModel, Field, ValidationError\n",
        "import json\n",
        "\n",
        "\n",
        "class Entities(BaseModel):\n",
        "    \"\"\"Identification des informations relatives aux entités.\"\"\"\n",
        "    names: list[str] = Field(\n",
        "        ...,\n",
        "        description=\"Toutes les entités de personnes, d'organisations ou d'entreprises qui apparaissent dans le texte.\",\n",
        "    )\n",
        "\n",
        "# Placeholder function to remove special characters for Lucene-compatible queries\n",
        "def remove_lucene_chars(input_text: str) -> str:\n",
        "    # Define characters to remove as needed (e.g., special symbols)\n",
        "    lucene_special_chars = \"!@#$%^&*()[]{}|\\\\;:'\\\"<>,.?/\"\n",
        "    return ''.join(char for char in input_text if char not in lucene_special_chars)\n",
        "\n",
        "# Generates a full-text query for Lucene-based search compatibility\n",
        "def generate_full_text_query(input: str) -> str:\n",
        "    words = [el for el in remove_lucene_chars(input).split() if el]\n",
        "    if not words:\n",
        "        return \"\"\n",
        "    full_text_query = \" AND \".join([f\"{word}~2\" for word in words])\n",
        "    print(f\"Generated Query: {full_text_query}\")\n",
        "    return full_text_query.strip()\n",
        "\n",
        "# Extracts entities from text using the LLM\n",
        "def extract_entities_from_text(question: str) -> Entities:\n",
        "    # Format the prompt explicitly to ask for a JSON response\n",
        "    formatted_prompt = (\n",
        "        \"You are extracting organization and person entities from the text. \"\n",
        "        \"Extract entities from the following input and return them in JSON format. \"\n",
        "        \"Use the format: {{'names': [...]}}. Input: {question}\"\n",
        "    ).format(question=question)\n",
        "\n",
        "    # Ensure `llm` is initialized and invoke it with the prompt\n",
        "    llm_response = llm.invoke(formatted_prompt)\n",
        "\n",
        "    # Parse the response as JSON and validate it against the Entities model\n",
        "    try:\n",
        "        response_data = json.loads(llm_response.content)  # Parse the JSON response\n",
        "\n",
        "        # Handle nested structure if 'entities' is the outer key\n",
        "        if 'entities' in response_data and 'names' in response_data['entities']:\n",
        "            response_data = response_data['entities']  # Extract only the inner 'names' dictionary\n",
        "\n",
        "        entities = Entities.parse_obj(response_data)  # Validate and convert to Entities model\n",
        "        print(f\"Extracted Entities: {entities}\")\n",
        "        return entities\n",
        "    except (json.JSONDecodeError, ValidationError) as e:\n",
        "        print(\"Error parsing response:\", e)\n",
        "        return Entities(names=[])\n",
        "\n",
        "# Full-text index query and graph retrieval function\n",
        "def graph_retriever(question: str) -> str:\n",
        "    \"\"\"\n",
        "Collecte le voisinage des entités mentionnées dans la question\n",
        "    \"\"\"\n",
        "    result = \"\"\n",
        "    # Step 1: Extract entities from the question using LLM\n",
        "    entities = extract_entities_from_text(question)\n",
        "\n",
        "    # Step 2: Retrieve graph data based on each entity\n",
        "    for entity in entities.names:\n",
        "        full_text_query = generate_full_text_query(entity)\n",
        "        response = graph.query(\n",
        "            \"\"\"CALL db.index.fulltext.queryNodes('fulltext_entity_id', $query, {limit:2})\n",
        "            YIELD node, score\n",
        "            CALL {\n",
        "              WITH node\n",
        "              MATCH (node)-[r:MENTIONS]->(neighbor)\n",
        "              RETURN node.id + ' - ' + type(r) + ' -> ' + neighbor.id AS output\n",
        "              UNION ALL\n",
        "              WITH node\n",
        "              MATCH (node)<-[r:MENTIONS]-(neighbor)\n",
        "              RETURN neighbor.id + ' - ' + type(r) + ' -> ' + node.id AS output\n",
        "            }\n",
        "            RETURN output LIMIT 50\n",
        "            \"\"\",\n",
        "            {\"query\": full_text_query},\n",
        "        )\n",
        "        # Process and format the graph retrieval output\n",
        "        result += \"\\n\".join([el['output'] for el in response])\n",
        "    return result"
      ]
    },
    {
      "cell_type": "code",
      "execution_count": null,
      "metadata": {
        "colab": {
          "base_uri": "https://localhost:8080/"
        },
        "id": "2YDm670brm8G",
        "outputId": "e5fffb0d-b7c3-45c0-8768-54e2768361d7"
      },
      "outputs": [
        {
          "name": "stderr",
          "output_type": "stream",
          "text": [
            "<ipython-input-20-0f415b4df970>:1: LangChainDeprecationWarning: The class `ChatOllama` was deprecated in LangChain 0.3.1 and will be removed in 1.0.0. An updated version of the class exists in the :class:`~langchain-ollama package and should be used instead. To use it run `pip install -U :class:`~langchain-ollama` and import as `from :class:`~langchain_ollama import ChatOllama``.\n",
            "  llm = ChatOllama(model=\"llama3.1\", temperature=0, format=\"json\")  # Utilisation du modèle mis à jour\n"
          ]
        }
      ],
      "source": [
        "llm = ChatOllama(model=\"llama3.1\", temperature=0, format=\"json\")  # Utilisation du modèle mis à jour"
      ]
    },
    {
      "cell_type": "code",
      "execution_count": null,
      "metadata": {
        "colab": {
          "base_uri": "https://localhost:8080/"
        },
        "id": "oRrKKotQ4Sq6",
        "outputId": "16d20b42-04c9-41c0-f13d-f8b6f618b225"
      },
      "outputs": [
        {
          "name": "stderr",
          "output_type": "stream",
          "text": [
            "<ipython-input-19-186de01d3bec>:47: PydanticDeprecatedSince20: The `parse_obj` method is deprecated; use `model_validate` instead. Deprecated in Pydantic V2.0 to be removed in V3.0. See Pydantic V2 Migration Guide at https://errors.pydantic.dev/2.10/migration/\n",
            "  entities = Entities.parse_obj(response_data)  # Validate and convert to Entities model\n"
          ]
        },
        {
          "name": "stdout",
          "output_type": "stream",
          "text": [
            "Extracted Entities: names=['Qui', \"l'administration\"]\n",
            "Generated Query: Qui~2\n"
          ]
        },
        {
          "name": "stderr",
          "output_type": "stream",
          "text": [
            "WARNING:neo4j.notifications:Received notification from DBMS server: {severity: WARNING} {code: Neo.ClientNotification.Statement.FeatureDeprecationWarning} {category: DEPRECATION} {title: This feature is deprecated and will be removed in future versions.} {description: CALL subquery without a variable scope clause is now deprecated. Use CALL (node, node) { ... }} {position: line: 3, column: 13, offset: 117} for query: \"CALL db.index.fulltext.queryNodes('fulltext_entity_id', $query, {limit:2})\\n            YIELD node, score\\n            CALL {\\n              WITH node\\n              MATCH (node)-[r:MENTIONS]->(neighbor)\\n              RETURN node.id + ' - ' + type(r) + ' -> ' + neighbor.id AS output\\n              UNION ALL\\n              WITH node\\n              MATCH (node)<-[r:MENTIONS]-(neighbor)\\n              RETURN neighbor.id + ' - ' + type(r) + ' -> ' + node.id AS output\\n            }\\n            RETURN output LIMIT 50\\n            \"\n"
          ]
        },
        {
          "name": "stdout",
          "output_type": "stream",
          "text": [
            "Generated Query: ladministration~2\n"
          ]
        },
        {
          "name": "stderr",
          "output_type": "stream",
          "text": [
            "WARNING:neo4j.notifications:Received notification from DBMS server: {severity: WARNING} {code: Neo.ClientNotification.Statement.FeatureDeprecationWarning} {category: DEPRECATION} {title: This feature is deprecated and will be removed in future versions.} {description: CALL subquery without a variable scope clause is now deprecated. Use CALL (node, node) { ... }} {position: line: 3, column: 13, offset: 117} for query: \"CALL db.index.fulltext.queryNodes('fulltext_entity_id', $query, {limit:2})\\n            YIELD node, score\\n            CALL {\\n              WITH node\\n              MATCH (node)-[r:MENTIONS]->(neighbor)\\n              RETURN node.id + ' - ' + type(r) + ' -> ' + neighbor.id AS output\\n              UNION ALL\\n              WITH node\\n              MATCH (node)<-[r:MENTIONS]-(neighbor)\\n              RETURN neighbor.id + ' - ' + type(r) + ' -> ' + node.id AS output\\n            }\\n            RETURN output LIMIT 50\\n            \"\n"
          ]
        },
        {
          "name": "stdout",
          "output_type": "stream",
          "text": [
            "9d1b7b931b615e98e87a26b676fe7ec8 - MENTIONS -> qui leur sont reprochés\n",
            "f5959a2847834e6308d9672feb6db367 - MENTIONS -> Les prestations qui peuvent faire l'objet de concours93d32a64fdd69d1172184c39d20520cb - MENTIONS -> architecte de l'administration\n",
            "d35f8b31bdb3cd6345608012e314ac6c - MENTIONS -> administrations or competent bodies of their countries of origin or origin\n"
          ]
        }
      ],
      "source": [
        "print(graph_retriever(\"Qui sont 'candidature' et 'architecte de l'administration' ?\"))"
      ]
    },
    {
      "cell_type": "markdown",
      "metadata": {
        "id": "Cwfr2sFgilcw"
      },
      "source": [
        "## Define Full Retriever and Q&A Chain"
      ]
    },
    {
      "cell_type": "code",
      "execution_count": null,
      "metadata": {
        "id": "iCTMp3prtHNX"
      },
      "outputs": [],
      "source": [
        "def full_retriever(question: str):\n",
        "    graph_data = graph_retriever(question)\n",
        "    vector_data = [el.page_content for el in vector_retriever.invoke(question)]\n",
        "\n",
        "    final_data = f\"\"\"Graph data:\n",
        "{graph_data}\n",
        "vector data:\n",
        "{\"#Document \". join(vector_data)}\n",
        "    \"\"\"\n",
        "    return final_data\n"
      ]
    },
    {
      "cell_type": "code",
      "execution_count": null,
      "metadata": {
        "colab": {
          "base_uri": "https://localhost:8080/",
          "height": 247
        },
        "id": "2wUjq8HrDp8m",
        "outputId": "9a8fad3d-2435-4e82-dbd7-7921c2dbd28b"
      },
      "outputs": [
        {
          "name": "stderr",
          "output_type": "stream",
          "text": [
            "<ipython-input-19-186de01d3bec>:47: PydanticDeprecatedSince20: The `parse_obj` method is deprecated; use `model_validate` instead. Deprecated in Pydantic V2.0 to be removed in V3.0. See Pydantic V2 Migration Guide at https://errors.pydantic.dev/2.10/migration/\n",
            "  entities = Entities.parse_obj(response_data)  # Validate and convert to Entities model\n"
          ]
        },
        {
          "name": "stdout",
          "output_type": "stream",
          "text": [
            "Extracted Entities: organizations=[] people=[] names=['Qui', \"l'administration\"]\n",
            "Generated Query: Qui~2\n",
            "Generated Query: ladministration~2\n"
          ]
        },
        {
          "data": {
            "application/vnd.google.colaboratory.intrinsic+json": {
              "type": "string"
            },
            "text/plain": [
              "\"Graph data:\\n9d1b7b931b615e98e87a26b676fe7ec8 - MENTIONS -> qui leur sont reprochés\\nf5959a2847834e6308d9672feb6db367 - MENTIONS -> Les prestations qui peuvent faire l'objet de concours93d32a64fdd69d1172184c39d20520cb - MENTIONS -> architecte de l'administration\\nd35f8b31bdb3cd6345608012e314ac6c - MENTIONS -> administrations or competent bodies of their countries of origin or origin\\nvector data:\\n\\ntext: b) Pour les préfectures ou provinces et leurs groupements : \\n– le directeur général des services ou le directeur des services, selon le cas, ou son représentant  ; \\n– le chef du service des marchés ou son représentant ;#Document \\ntext: convoquer l’expert concerné pour participer aux travaux du  jury ou de la sous–commission.  \\n3 – Tout architecte concurrent doit fournir, au moment  de sa candidature, un dossier administratif constitué de l’ensemble#Document \\ntext: – de déchiffrer les candidatures et les offres électroniques déposées par les concurrents ; \\n– d’ouvrir les plis des concurrents et d’évaluer leurs offres ;#Document \\ntext: – le chef du service concerné par la prestation objet du  marché ou son représentant ; \\n– le comptable public assignataire ou son représentant.  \\nc) Pour les communes  et les établissements  de coopération intercommunale  :\\n    \""
            ]
          },
          "execution_count": 33,
          "metadata": {},
          "output_type": "execute_result"
        }
      ],
      "source": [
        "full_retriever(\"Qui sont 'candidature' et 'architecte de l'administration' ?\")"
      ]
    },
    {
      "cell_type": "code",
      "execution_count": null,
      "metadata": {
        "id": "Dzb2jcittHNY"
      },
      "outputs": [],
      "source": [
        "template = \"\"\"Answer the question using the following context. Cite whether the information comes from 'Graph data' or 'Vector data':\n",
        "{context}\n",
        "\n",
        "Question: {question}\n",
        "Use natural language, be concise, and provide accurate references.\n",
        "Answer:\"\"\"\n",
        "prompt = ChatPromptTemplate.from_template(template)\n",
        "\n",
        "chain = (\n",
        "        {\n",
        "            \"context\": full_retriever,\n",
        "            \"question\": RunnablePassthrough(),\n",
        "        }\n",
        "    | prompt\n",
        "    | llm\n",
        "    | StrOutputParser()\n",
        ")"
      ]
    },
    {
      "cell_type": "markdown",
      "metadata": {
        "id": "owK6M-AtPMzQ"
      },
      "source": [
        "### Q & A"
      ]
    },
    {
      "cell_type": "code",
      "execution_count": null,
      "metadata": {
        "id": "C2oL5krFtyvG"
      },
      "outputs": [],
      "source": [
        "import logging\n",
        "\n",
        "# Set up logging to suppress warnings from Neo4j\n",
        "logging.getLogger(\"neo4j\").setLevel(logging.ERROR)\n"
      ]
    },
    {
      "cell_type": "code",
      "execution_count": null,
      "metadata": {
        "id": "9UBFO-gf6jnM"
      },
      "outputs": [],
      "source": [
        "from pydantic import BaseModel, Field\n",
        "from typing import Optional\n",
        "\n",
        "class Entities(BaseModel):\n",
        "    organizations: list = []\n",
        "    people: list = []\n",
        "    names: Optional[list] = []  # Rendre ce champ optionnel\n"
      ]
    },
    {
      "cell_type": "code",
      "execution_count": null,
      "metadata": {
        "colab": {
          "base_uri": "https://localhost:8080/"
        },
        "id": "wUHQBcxE6lY_",
        "outputId": "20ce14fa-ec87-40df-8828-637bbb804488"
      },
      "outputs": [
        {
          "name": "stderr",
          "output_type": "stream",
          "text": [
            "<ipython-input-19-186de01d3bec>:47: PydanticDeprecatedSince20: The `parse_obj` method is deprecated; use `model_validate` instead. Deprecated in Pydantic V2.0 to be removed in V3.0. See Pydantic V2 Migration Guide at https://errors.pydantic.dev/2.10/migration/\n",
            "  entities = Entities.parse_obj(response_data)  # Validate and convert to Entities model\n"
          ]
        },
        {
          "name": "stdout",
          "output_type": "stream",
          "text": [
            "Extracted Entities: organizations=[] people=[] names=[]\n",
            "{ \"Responsabilité du maître d'ouvrage\" : \n",
            "-119.1  } \n",
            "\n",
            "  \n",
            "\n",
            "\n",
            "\n",
            "\n",
            "\n",
            "  \n",
            "\n",
            "\n",
            "\n",
            "\n",
            "\n",
            "  \n",
            "\n",
            "\n",
            "\n",
            "\n",
            "\n",
            "  \n",
            "\n",
            "\n",
            "\n",
            "\n",
            "\n",
            "  \n",
            "\n",
            "\n",
            "\n",
            "\n",
            "\n",
            "  \n",
            "\n",
            "\n",
            "\n",
            "\n",
            "\n",
            "  \n",
            "\n",
            "\n",
            "\n",
            "\n",
            "\n",
            "  \n",
            "\n",
            "\n",
            "\n",
            "\n",
            "\n",
            "  \n",
            "\n",
            "\n",
            "\n",
            "\n",
            "\n",
            "  \n",
            "\n",
            "\n",
            "\n",
            "\n",
            "\n",
            "\n"
          ]
        }
      ],
      "source": [
        "response_data = chain.invoke(input=\"Quelles sont les responsabilités des différents acteurs mentionnés dans cet arrêté, comme les maîtres d'ouvrage, les concurrents et les agents de contrôle ?\")\n",
        "\n",
        "# Récupérer uniquement la réponse générée, sans validation\n",
        "# Exemple : Si la réponse est sous forme de dictionnaire avec une clé 'response'\n",
        "print(response_data)\n"
      ]
    },
    {
      "cell_type": "code",
      "execution_count": null,
      "metadata": {
        "colab": {
          "base_uri": "https://localhost:8080/",
          "height": 125
        },
        "id": "dtU0iMNgtHNY",
        "outputId": "f023eb06-e034-4280-b750-1e7b70351409"
      },
      "outputs": [
        {
          "name": "stderr",
          "output_type": "stream",
          "text": [
            "<ipython-input-19-186de01d3bec>:47: PydanticDeprecatedSince20: The `parse_obj` method is deprecated; use `model_validate` instead. Deprecated in Pydantic V2.0 to be removed in V3.0. See Pydantic V2 Migration Guide at https://errors.pydantic.dev/2.10/migration/\n",
            "  entities = Entities.parse_obj(response_data)  # Validate and convert to Entities model\n"
          ]
        },
        {
          "name": "stdout",
          "output_type": "stream",
          "text": [
            "Extracted Entities: organizations=[] people=[] names=[]\n"
          ]
        },
        {
          "data": {
            "application/vnd.google.colaboratory.intrinsic+json": {
              "type": "string"
            },
            "text/plain": [
              "'{ \"Responsabilité du maître d\\'ouvrage\" : \\n-119.1  } \\n\\n  \\n\\n\\n\\n\\n\\n  \\n\\n\\n\\n\\n\\n  \\n\\n\\n\\n\\n\\n  \\n\\n\\n\\n\\n\\n  \\n\\n\\n\\n\\n\\n  \\n\\n\\n\\n\\n\\n  \\n\\n\\n\\n\\n\\n  \\n\\n\\n\\n\\n\\n  \\n\\n\\n\\n\\n\\n  \\n\\n\\n\\n\\n\\n'"
            ]
          },
          "execution_count": 35,
          "metadata": {},
          "output_type": "execute_result"
        }
      ],
      "source": [
        "chain.invoke(input=\"Quelles sont les responsabilités des différents acteurs mentionnés dans cet arrêté, comme les maîtres d'ouvrage, les concurrents et les agents de contrôle ?\")"
      ]
    },
    {
      "cell_type": "code",
      "execution_count": null,
      "metadata": {
        "id": "10PDssPByO0E"
      },
      "outputs": [],
      "source": [
        "import time\n",
        "time.sleep(15 * 60)"
      ]
    },
    {
      "cell_type": "markdown",
      "metadata": {
        "id": "73z4YFcbKXGi"
      },
      "source": [
        "### Gradio"
      ]
    },
    {
      "cell_type": "code",
      "execution_count": null,
      "metadata": {
        "colab": {
          "base_uri": "https://localhost:8080/"
        },
        "id": "N6Xk1XA7Kdrg",
        "outputId": "e8bcb32e-ca01-4049-ad1f-b9b89b26cbb7"
      },
      "outputs": [
        {
          "name": "stdout",
          "output_type": "stream",
          "text": [
            "Requirement already satisfied: gradio in /usr/local/lib/python3.10/dist-packages (5.9.1)\n",
            "Requirement already satisfied: aiofiles<24.0,>=22.0 in /usr/local/lib/python3.10/dist-packages (from gradio) (23.2.1)\n",
            "Requirement already satisfied: anyio<5.0,>=3.0 in /usr/local/lib/python3.10/dist-packages (from gradio) (3.7.1)\n",
            "Requirement already satisfied: fastapi<1.0,>=0.115.2 in /usr/local/lib/python3.10/dist-packages (from gradio) (0.115.6)\n",
            "Requirement already satisfied: ffmpy in /usr/local/lib/python3.10/dist-packages (from gradio) (0.5.0)\n",
            "Requirement already satisfied: gradio-client==1.5.2 in /usr/local/lib/python3.10/dist-packages (from gradio) (1.5.2)\n",
            "Requirement already satisfied: httpx>=0.24.1 in /usr/local/lib/python3.10/dist-packages (from gradio) (0.27.2)\n",
            "Requirement already satisfied: huggingface-hub>=0.25.1 in /usr/local/lib/python3.10/dist-packages (from gradio) (0.27.0)\n",
            "Requirement already satisfied: jinja2<4.0 in /usr/local/lib/python3.10/dist-packages (from gradio) (3.1.4)\n",
            "Requirement already satisfied: markupsafe~=2.0 in /usr/local/lib/python3.10/dist-packages (from gradio) (2.1.5)\n",
            "Requirement already satisfied: numpy<3.0,>=1.0 in /usr/local/lib/python3.10/dist-packages (from gradio) (1.26.4)\n",
            "Requirement already satisfied: orjson~=3.0 in /usr/local/lib/python3.10/dist-packages (from gradio) (3.10.12)\n",
            "Requirement already satisfied: packaging in /usr/local/lib/python3.10/dist-packages (from gradio) (24.2)\n",
            "Requirement already satisfied: pandas<3.0,>=1.0 in /usr/local/lib/python3.10/dist-packages (from gradio) (2.2.2)\n",
            "Requirement already satisfied: pillow<12.0,>=8.0 in /usr/local/lib/python3.10/dist-packages (from gradio) (11.0.0)\n",
            "Requirement already satisfied: pydantic>=2.0 in /usr/local/lib/python3.10/dist-packages (from gradio) (2.10.3)\n",
            "Requirement already satisfied: pydub in /usr/local/lib/python3.10/dist-packages (from gradio) (0.25.1)\n",
            "Requirement already satisfied: python-multipart>=0.0.18 in /usr/local/lib/python3.10/dist-packages (from gradio) (0.0.20)\n",
            "Requirement already satisfied: pyyaml<7.0,>=5.0 in /usr/local/lib/python3.10/dist-packages (from gradio) (6.0.2)\n",
            "Requirement already satisfied: ruff>=0.2.2 in /usr/local/lib/python3.10/dist-packages (from gradio) (0.8.4)\n",
            "Requirement already satisfied: safehttpx<0.2.0,>=0.1.6 in /usr/local/lib/python3.10/dist-packages (from gradio) (0.1.6)\n",
            "Requirement already satisfied: semantic-version~=2.0 in /usr/local/lib/python3.10/dist-packages (from gradio) (2.10.0)\n",
            "Requirement already satisfied: starlette<1.0,>=0.40.0 in /usr/local/lib/python3.10/dist-packages (from gradio) (0.41.3)\n",
            "Requirement already satisfied: tomlkit<0.14.0,>=0.12.0 in /usr/local/lib/python3.10/dist-packages (from gradio) (0.13.2)\n",
            "Requirement already satisfied: typer<1.0,>=0.12 in /usr/local/lib/python3.10/dist-packages (from gradio) (0.15.1)\n",
            "Requirement already satisfied: typing-extensions~=4.0 in /usr/local/lib/python3.10/dist-packages (from gradio) (4.12.2)\n",
            "Requirement already satisfied: uvicorn>=0.14.0 in /usr/local/lib/python3.10/dist-packages (from gradio) (0.34.0)\n",
            "Requirement already satisfied: fsspec in /usr/local/lib/python3.10/dist-packages (from gradio-client==1.5.2->gradio) (2024.10.0)\n",
            "Requirement already satisfied: websockets<15.0,>=10.0 in /usr/local/lib/python3.10/dist-packages (from gradio-client==1.5.2->gradio) (14.1)\n",
            "Requirement already satisfied: idna>=2.8 in /usr/local/lib/python3.10/dist-packages (from anyio<5.0,>=3.0->gradio) (3.10)\n",
            "Requirement already satisfied: sniffio>=1.1 in /usr/local/lib/python3.10/dist-packages (from anyio<5.0,>=3.0->gradio) (1.3.1)\n",
            "Requirement already satisfied: exceptiongroup in /usr/local/lib/python3.10/dist-packages (from anyio<5.0,>=3.0->gradio) (1.2.2)\n",
            "Requirement already satisfied: certifi in /usr/local/lib/python3.10/dist-packages (from httpx>=0.24.1->gradio) (2024.12.14)\n",
            "Requirement already satisfied: httpcore==1.* in /usr/local/lib/python3.10/dist-packages (from httpx>=0.24.1->gradio) (1.0.7)\n",
            "Requirement already satisfied: h11<0.15,>=0.13 in /usr/local/lib/python3.10/dist-packages (from httpcore==1.*->httpx>=0.24.1->gradio) (0.14.0)\n",
            "Requirement already satisfied: filelock in /usr/local/lib/python3.10/dist-packages (from huggingface-hub>=0.25.1->gradio) (3.16.1)\n",
            "Requirement already satisfied: requests in /usr/local/lib/python3.10/dist-packages (from huggingface-hub>=0.25.1->gradio) (2.32.3)\n",
            "Requirement already satisfied: tqdm>=4.42.1 in /usr/local/lib/python3.10/dist-packages (from huggingface-hub>=0.25.1->gradio) (4.67.1)\n",
            "Requirement already satisfied: python-dateutil>=2.8.2 in /usr/local/lib/python3.10/dist-packages (from pandas<3.0,>=1.0->gradio) (2.8.2)\n",
            "Requirement already satisfied: pytz>=2020.1 in /usr/local/lib/python3.10/dist-packages (from pandas<3.0,>=1.0->gradio) (2024.2)\n",
            "Requirement already satisfied: tzdata>=2022.7 in /usr/local/lib/python3.10/dist-packages (from pandas<3.0,>=1.0->gradio) (2024.2)\n",
            "Requirement already satisfied: annotated-types>=0.6.0 in /usr/local/lib/python3.10/dist-packages (from pydantic>=2.0->gradio) (0.7.0)\n",
            "Requirement already satisfied: pydantic-core==2.27.1 in /usr/local/lib/python3.10/dist-packages (from pydantic>=2.0->gradio) (2.27.1)\n",
            "Requirement already satisfied: click>=8.0.0 in /usr/local/lib/python3.10/dist-packages (from typer<1.0,>=0.12->gradio) (8.1.7)\n",
            "Requirement already satisfied: shellingham>=1.3.0 in /usr/local/lib/python3.10/dist-packages (from typer<1.0,>=0.12->gradio) (1.5.4)\n",
            "Requirement already satisfied: rich>=10.11.0 in /usr/local/lib/python3.10/dist-packages (from typer<1.0,>=0.12->gradio) (13.9.4)\n",
            "Requirement already satisfied: six>=1.5 in /usr/local/lib/python3.10/dist-packages (from python-dateutil>=2.8.2->pandas<3.0,>=1.0->gradio) (1.17.0)\n",
            "Requirement already satisfied: markdown-it-py>=2.2.0 in /usr/local/lib/python3.10/dist-packages (from rich>=10.11.0->typer<1.0,>=0.12->gradio) (3.0.0)\n",
            "Requirement already satisfied: pygments<3.0.0,>=2.13.0 in /usr/local/lib/python3.10/dist-packages (from rich>=10.11.0->typer<1.0,>=0.12->gradio) (2.18.0)\n",
            "Requirement already satisfied: charset-normalizer<4,>=2 in /usr/local/lib/python3.10/dist-packages (from requests->huggingface-hub>=0.25.1->gradio) (3.4.0)\n",
            "Requirement already satisfied: urllib3<3,>=1.21.1 in /usr/local/lib/python3.10/dist-packages (from requests->huggingface-hub>=0.25.1->gradio) (2.2.3)\n",
            "Requirement already satisfied: mdurl~=0.1 in /usr/local/lib/python3.10/dist-packages (from markdown-it-py>=2.2.0->rich>=10.11.0->typer<1.0,>=0.12->gradio) (0.1.2)\n"
          ]
        }
      ],
      "source": [
        "!pip install gradio"
      ]
    },
    {
      "cell_type": "code",
      "execution_count": 39,
      "metadata": {
        "colab": {
          "base_uri": "https://localhost:8080/",
          "height": 646
        },
        "id": "vy9VX69RKgyo",
        "outputId": "f5ac849f-1fab-4a20-ecaf-aa77a8ad5f33"
      },
      "outputs": [
        {
          "name": "stdout",
          "output_type": "stream",
          "text": [
            "Running Gradio in a Colab notebook requires sharing enabled. Automatically setting `share=True` (you can turn this off by setting `share=False` in `launch()` explicitly).\n",
            "\n",
            "Colab notebook detected. To show errors in colab notebook, set debug=True in launch()\n",
            "* Running on public URL: https://0e8c176617777edbff.gradio.live\n",
            "\n",
            "This share link expires in 72 hours. For free permanent hosting and GPU upgrades, run `gradio deploy` from the terminal in the working directory to deploy to Hugging Face Spaces (https://huggingface.co/spaces)\n"
          ]
        },
        {
          "data": {
            "text/html": [
              "<div><iframe src=\"https://0e8c176617777edbff.gradio.live\" width=\"100%\" height=\"500\" allow=\"autoplay; camera; microphone; clipboard-read; clipboard-write;\" frameborder=\"0\" allowfullscreen></iframe></div>"
            ],
            "text/plain": [
              "<IPython.core.display.HTML object>"
            ]
          },
          "metadata": {},
          "output_type": "display_data"
        },
        {
          "data": {
            "text/plain": []
          },
          "execution_count": 39,
          "metadata": {},
          "output_type": "execute_result"
        }
      ],
      "source": [
        "import gradio as gr\n",
        "\n",
        "# Fonction pour obtenir la réponse à la question via votre pipeline existant\n",
        "def get_answer(question: str):\n",
        "    # Appeler votre chaîne de traitement (par exemple, chain.invoke())\n",
        "    result = chain.invoke(input=question)\n",
        "\n",
        "    # Si la sortie est un objet complexe, convertissez-la en chaîne de texte\n",
        "    # Par exemple, si result est un dictionnaire, vous pouvez utiliser json.dumps pour le convertir en chaîne\n",
        "    if isinstance(result, dict):\n",
        "        result = json.dumps(result, indent=4)  # Formater en JSON lisible\n",
        "    elif isinstance(result, str):\n",
        "        pass  # La réponse est déjà une chaîne de caractères\n",
        "    else:\n",
        "        result = str(result)  # Convertir toute autre sortie en chaîne de caractères\n",
        "\n",
        "    return result\n",
        "\n",
        "# Créer l'interface Gradio\n",
        "interface = gr.Interface(\n",
        "    fn=get_answer,  # Fonction qui traite la question\n",
        "    inputs=\"text\",\n",
        "    outputs=\"text\",\n",
        "    title=\"LLM Question-Answering Interface\",\n",
        "    description=\"Posez une question et recevez une réponse basée sur le contexte fourni.\"\n",
        ")\n",
        "\n",
        "# Lancer l'interface\n",
        "interface.launch()"
      ]
    }
  ],
  "metadata": {
    "accelerator": "GPU",
    "colab": {
      "collapsed_sections": [
        "gVZeBTawhm1G",
        "WfGnGmYEhtpj",
        "MIGewFwph91n",
        "yZukhLfVibDL",
        "Cwfr2sFgilcw"
      ],
      "gpuType": "T4",
      "provenance": []
    },
    "kernelspec": {
      "display_name": "Python 3",
      "name": "python3"
    },
    "language_info": {
      "codemirror_mode": {
        "name": "ipython",
        "version": 3
      },
      "file_extension": ".py",
      "mimetype": "text/x-python",
      "name": "python",
      "nbconvert_exporter": "python",
      "pygments_lexer": "ipython3",
      "version": "3.10.11"
    },
    "widgets": {
      "application/vnd.jupyter.widget-state+json": {
        "0f72cf13e3af4b9cbd6566c37039ee77": {
          "model_module": "yfiles-jupyter-graphs",
          "model_module_version": "^1.10.0",
          "model_name": "GraphModel",
          "state": {
            "_context_pane_mapping": [
              {
                "id": "Neighborhood",
                "title": "Neighborhood"
              },
              {
                "id": "Data",
                "title": "Data"
              },
              {
                "id": "Search",
                "title": "Search"
              },
              {
                "id": "About",
                "title": "About"
              }
            ],
            "_data_importer": "neo4j",
            "_directed": true,
            "_dom_classes": [],
            "_edges": [
              {
                "color": "#2196F3",
                "directed": true,
                "end": 1,
                "id": 1152922604118474800,
                "label": "RELATED_TO",
                "properties": {
                  "label": "RELATED_TO"
                },
                "start": 2,
                "styles": {},
                "thickness_factor": 1
              },
              {
                "color": "#2196F3",
                "directed": true,
                "end": 4,
                "id": 1152922604118474800,
                "label": "RELATED_TO",
                "properties": {
                  "label": "RELATED_TO"
                },
                "start": 5,
                "styles": {},
                "thickness_factor": 1
              },
              {
                "color": "#2196F3",
                "directed": true,
                "end": 8,
                "id": 1152922604118474800,
                "label": "RELATED_TO",
                "properties": {
                  "label": "RELATED_TO"
                },
                "start": 7,
                "styles": {},
                "thickness_factor": 1
              },
              {
                "color": "#4CAF50",
                "directed": true,
                "end": 11,
                "id": 1152923703630102500,
                "label": "REGULATES",
                "properties": {
                  "label": "REGULATES"
                },
                "start": 10,
                "styles": {},
                "thickness_factor": 1
              },
              {
                "color": "#F44336",
                "directed": true,
                "end": 14,
                "id": 1152924803141730300,
                "label": "ASSIGNED_TO",
                "properties": {
                  "label": "ASSIGNED_TO"
                },
                "start": 13,
                "styles": {},
                "thickness_factor": 1
              },
              {
                "color": "#607D8B",
                "directed": true,
                "end": 13,
                "id": 1152925902653358000,
                "label": "ASSOCIATED_WITH",
                "properties": {
                  "label": "ASSOCIATED_WITH"
                },
                "start": 16,
                "styles": {},
                "thickness_factor": 1
              },
              {
                "color": "#673AB7",
                "directed": true,
                "end": 299,
                "id": 1153168894723096600,
                "label": "MAINTAINS",
                "properties": {
                  "label": "MAINTAINS"
                },
                "start": 16,
                "styles": {},
                "thickness_factor": 1
              },
              {
                "color": "#CDDC39",
                "directed": true,
                "end": 18,
                "id": 1152927002164985900,
                "label": "USES_CERTIFICATES",
                "properties": {
                  "label": "USES_CERTIFICATES"
                },
                "start": 19,
                "styles": {},
                "thickness_factor": 1
              },
              {
                "color": "#9E9E9E",
                "directed": true,
                "end": 22,
                "id": 1152928101676613600,
                "label": "PUBLISHER_OF",
                "properties": {
                  "label": "PUBLISHER_OF"
                },
                "start": 21,
                "styles": {},
                "thickness_factor": 1
              },
              {
                "color": "#2196F3",
                "directed": true,
                "end": 25,
                "id": 1152922604118474800,
                "label": "RELATED_TO",
                "properties": {
                  "label": "RELATED_TO"
                },
                "start": 24,
                "styles": {},
                "thickness_factor": 1
              },
              {
                "color": "#9C27B0",
                "directed": true,
                "end": 27,
                "id": 1152929201188241400,
                "label": "MANAGES",
                "properties": {
                  "label": "MANAGES"
                },
                "start": 28,
                "styles": {},
                "thickness_factor": 1
              },
              {
                "color": "#2196F3",
                "directed": true,
                "end": 459,
                "id": 6917530127152710000,
                "label": "RELATED_TO",
                "properties": {
                  "label": "RELATED_TO"
                },
                "start": 30,
                "styles": {},
                "thickness_factor": 1
              },
              {
                "color": "#2196F3",
                "directed": true,
                "end": 101,
                "id": 1152952290932424700,
                "label": "HAVE_ACCESS",
                "properties": {
                  "label": "HAVE_ACCESS"
                },
                "start": 30,
                "styles": {},
                "thickness_factor": 1
              },
              {
                "color": "#4CAF50",
                "directed": true,
                "end": 277,
                "id": 1152999569932419000,
                "label": "HAS_ACCESS_TO",
                "properties": {
                  "label": "HAS_ACCESS_TO"
                },
                "start": 30,
                "styles": {},
                "thickness_factor": 1
              },
              {
                "color": "#F44336",
                "directed": true,
                "end": 402,
                "id": 1153036953327763500,
                "label": "PROVIDES_GUARANTEES",
                "properties": {
                  "label": "PROVIDES_GUARANTEES"
                },
                "start": 30,
                "styles": {},
                "thickness_factor": 1
              },
              {
                "color": "#607D8B",
                "directed": true,
                "end": 445,
                "id": 6917651073431765000,
                "label": "NOTIFIED_OF_CHANGES",
                "properties": {
                  "label": "NOTIFIED_OF_CHANGES"
                },
                "start": 30,
                "styles": {},
                "thickness_factor": 1
              },
              {
                "color": "#673AB7",
                "directed": true,
                "end": 566,
                "id": 6917679660734088000,
                "label": "AGREE_TO_EXTENSION",
                "properties": {
                  "label": "AGREE_TO_EXTENSION"
                },
                "start": 30,
                "styles": {},
                "thickness_factor": 1
              },
              {
                "color": "#CDDC39",
                "directed": true,
                "end": 495,
                "id": 6917691755361993000,
                "label": "PRODUCED_CAUTIONMENT",
                "properties": {
                  "label": "PRODUCED_CAUTIONMENT"
                },
                "start": 30,
                "styles": {},
                "thickness_factor": 1
              },
              {
                "color": "#9E9E9E",
                "directed": true,
                "end": 34,
                "id": 1153112819630080000,
                "label": "REFUSED_TO_EXTEND_OFFER",
                "properties": {
                  "label": "REFUSED_TO_EXTEND_OFFER"
                },
                "start": 30,
                "styles": {},
                "thickness_factor": 1
              },
              {
                "color": "#9C27B0",
                "directed": true,
                "end": 707,
                "id": 6917728039245710000,
                "label": "PROVIDES",
                "properties": {
                  "label": "PROVIDES"
                },
                "start": 30,
                "styles": {},
                "thickness_factor": 1
              },
              {
                "color": "#2196F3",
                "directed": true,
                "end": 757,
                "id": 6917741233385244000,
                "label": "NEEDS",
                "properties": {
                  "label": "NEEDS"
                },
                "start": 30,
                "styles": {},
                "thickness_factor": 1
              },
              {
                "color": "#4CAF50",
                "directed": true,
                "end": 850,
                "id": 6917765422641055000,
                "label": "NOTIFIED",
                "properties": {
                  "label": "NOTIFIED"
                },
                "start": 30,
                "styles": {},
                "thickness_factor": 1
              },
              {
                "color": "#F44336",
                "directed": true,
                "end": 991,
                "id": 6917801706524771000,
                "label": "OPERATE_IN",
                "properties": {
                  "label": "OPERATE_IN"
                },
                "start": 30,
                "styles": {},
                "thickness_factor": 1
              },
              {
                "color": "#607D8B",
                "directed": true,
                "end": 30,
                "id": 1152930300699869200,
                "label": "ASKS_FOR_CLARIFICATIONS",
                "properties": {
                  "label": "ASKS_FOR_CLARIFICATIONS"
                },
                "start": 31,
                "styles": {},
                "thickness_factor": 1
              },
              {
                "color": "#673AB7",
                "directed": true,
                "end": 53,
                "id": 1152937997281263600,
                "label": "REQUESTS",
                "properties": {
                  "label": "REQUESTS"
                },
                "start": 31,
                "styles": {},
                "thickness_factor": 1
              },
              {
                "color": "#673AB7",
                "directed": true,
                "end": 55,
                "id": 1155189797094948900,
                "label": "REQUESTS",
                "properties": {
                  "label": "REQUESTS"
                },
                "start": 31,
                "styles": {},
                "thickness_factor": 1
              },
              {
                "color": "#CDDC39",
                "directed": true,
                "end": 33,
                "id": 1152931400211497000,
                "label": "REQUESTS_INFORMATION",
                "properties": {
                  "label": "REQUESTS_INFORMATION"
                },
                "start": 34,
                "styles": {},
                "thickness_factor": 1
              },
              {
                "color": "#9E9E9E",
                "directed": true,
                "end": 45,
                "id": 6917541122268987000,
                "label": "IS_RESPONSIBLE_FOR",
                "properties": {
                  "label": "IS_RESPONSIBLE_FOR"
                },
                "start": 34,
                "styles": {},
                "thickness_factor": 1
              },
              {
                "color": "#9E9E9E",
                "directed": true,
                "end": 113,
                "id": 1152933599234752500,
                "label": "IS_RESPONSIBLE_FOR",
                "properties": {
                  "label": "IS_RESPONSIBLE_FOR"
                },
                "start": 34,
                "styles": {},
                "thickness_factor": 1
              },
              {
                "color": "#9E9E9E",
                "directed": true,
                "end": 201,
                "id": 6917541122268987000,
                "label": "IS_RESPONSIBLE_FOR",
                "properties": {
                  "label": "IS_RESPONSIBLE_FOR"
                },
                "start": 34,
                "styles": {},
                "thickness_factor": 1
              },
              {
                "color": "#9E9E9E",
                "directed": true,
                "end": 204,
                "id": 6917541122268987000,
                "label": "IS_RESPONSIBLE_FOR",
                "properties": {
                  "label": "IS_RESPONSIBLE_FOR"
                },
                "start": 34,
                "styles": {},
                "thickness_factor": 1
              },
              {
                "color": "#9E9E9E",
                "directed": true,
                "end": 277,
                "id": 6917541122268987000,
                "label": "IS_RESPONSIBLE_FOR",
                "properties": {
                  "label": "IS_RESPONSIBLE_FOR"
                },
                "start": 34,
                "styles": {},
                "thickness_factor": 1
              },
              {
                "color": "#9E9E9E",
                "directed": true,
                "end": 795,
                "id": 6917541122268988000,
                "label": "IS_RESPONSIBLE_FOR",
                "properties": {
                  "label": "IS_RESPONSIBLE_FOR"
                },
                "start": 34,
                "styles": {},
                "thickness_factor": 1
              },
              {
                "color": "#9E9E9E",
                "directed": true,
                "end": 894,
                "id": 1155185399048437800,
                "label": "IS_RESPONSIBLE_FOR",
                "properties": {
                  "label": "IS_RESPONSIBLE_FOR"
                },
                "start": 34,
                "styles": {},
                "thickness_factor": 1
              },
              {
                "color": "#9E9E9E",
                "directed": true,
                "end": 1274,
                "id": 6917541122268988000,
                "label": "IS_RESPONSIBLE_FOR",
                "properties": {
                  "label": "IS_RESPONSIBLE_FOR"
                },
                "start": 34,
                "styles": {},
                "thickness_factor": 1
              },
              {
                "color": "#9E9E9E",
                "directed": true,
                "end": 1287,
                "id": 6917541122268988000,
                "label": "IS_RESPONSIBLE_FOR",
                "properties": {
                  "label": "IS_RESPONSIBLE_FOR"
                },
                "start": 34,
                "styles": {},
                "thickness_factor": 1
              },
              {
                "color": "#9E9E9E",
                "directed": true,
                "end": 1411,
                "id": 6917541122268988000,
                "label": "IS_RESPONSIBLE_FOR",
                "properties": {
                  "label": "IS_RESPONSIBLE_FOR"
                },
                "start": 34,
                "styles": {},
                "thickness_factor": 1
              },
              {
                "color": "#9E9E9E",
                "directed": true,
                "end": 1434,
                "id": 6917541122268988000,
                "label": "IS_RESPONSIBLE_FOR",
                "properties": {
                  "label": "IS_RESPONSIBLE_FOR"
                },
                "start": 34,
                "styles": {},
                "thickness_factor": 1
              },
              {
                "color": "#673AB7",
                "directed": true,
                "end": 785,
                "id": 6917545520315500000,
                "label": "REQUESTS",
                "properties": {
                  "label": "REQUESTS"
                },
                "start": 34,
                "styles": {},
                "thickness_factor": 1
              },
              {
                "color": "#9C27B0",
                "directed": true,
                "end": 985,
                "id": 6917546619827127000,
                "label": "RECEIVES",
                "properties": {
                  "label": "RECEIVES"
                },
                "start": 34,
                "styles": {},
                "thickness_factor": 1
              },
              {
                "color": "#2196F3",
                "directed": true,
                "end": 115,
                "id": 1152955589467308000,
                "label": "NO_COMMUNICATION",
                "properties": {
                  "label": "NO_COMMUNICATION"
                },
                "start": 34,
                "styles": {},
                "thickness_factor": 1
              },
              {
                "color": "#4CAF50",
                "directed": true,
                "end": 1399,
                "id": 6917566411036427000,
                "label": "INVITES",
                "properties": {
                  "label": "INVITES"
                },
                "start": 34,
                "styles": {},
                "thickness_factor": 1
              },
              {
                "color": "#F44336",
                "directed": true,
                "end": 146,
                "id": 1152964385560330200,
                "label": "NOTIFY",
                "properties": {
                  "label": "NOTIFY"
                },
                "start": 34,
                "styles": {},
                "thickness_factor": 1
              },
              {
                "color": "#607D8B",
                "directed": true,
                "end": 235,
                "id": 6917594998338748000,
                "label": "DETERMINES",
                "properties": {
                  "label": "DETERMINES"
                },
                "start": 34,
                "styles": {},
                "thickness_factor": 1
              },
              {
                "color": "#673AB7",
                "directed": true,
                "end": 240,
                "id": 6917597197362004000,
                "label": "SPECIFIES_REQUIREMENTS",
                "properties": {
                  "label": "SPECIFIES_REQUIREMENTS"
                },
                "start": 34,
                "styles": {},
                "thickness_factor": 1
              },
              {
                "color": "#CDDC39",
                "directed": true,
                "end": 279,
                "id": 6917608192478282000,
                "label": "ENDS_PROCEDURE",
                "properties": {
                  "label": "ENDS_PROCEDURE"
                },
                "start": 34,
                "styles": {},
                "thickness_factor": 1
              },
              {
                "color": "#9E9E9E",
                "directed": true,
                "end": 281,
                "id": 6917609291989910000,
                "label": "ENGAGE_DIALOGUE_COMPETITIF",
                "properties": {
                  "label": "ENGAGE_DIALOGUE_COMPETITIF"
                },
                "start": 34,
                "styles": {},
                "thickness_factor": 1
              },
              {
                "color": "#9C27B0",
                "directed": true,
                "end": 306,
                "id": 6917619187594560000,
                "label": "LAUNCHED_CALL_FOR_TENDER",
                "properties": {
                  "label": "LAUNCHED_CALL_FOR_TENDER"
                },
                "start": 34,
                "styles": {},
                "thickness_factor": 1
              },
              {
                "color": "#2196F3",
                "directed": true,
                "end": 372,
                "id": 6917633481245721000,
                "label": "IS_DISPLAYED_BY",
                "properties": {
                  "label": "IS_DISPLAYED_BY"
                },
                "start": 34,
                "styles": {},
                "thickness_factor": 1
              },
              {
                "color": "#4CAF50",
                "directed": true,
                "end": 30,
                "id": 6917638978803859000,
                "label": "NEGOTIATES_WITH",
                "properties": {
                  "label": "NEGOTIATES_WITH"
                },
                "start": 34,
                "styles": {},
                "thickness_factor": 1
              },
              {
                "color": "#4CAF50",
                "directed": true,
                "end": 1005,
                "id": 6917638978803860000,
                "label": "NEGOTIATES_WITH",
                "properties": {
                  "label": "NEGOTIATES_WITH"
                },
                "start": 34,
                "styles": {},
                "thickness_factor": 1
              },
              {
                "color": "#F44336",
                "directed": true,
                "end": 387,
                "id": 6917640078315487000,
                "label": "ESTIMATES_COST",
                "properties": {
                  "label": "ESTIMATES_COST"
                },
                "start": 34,
                "styles": {},
                "thickness_factor": 1
              },
              {
                "color": "#607D8B",
                "directed": true,
                "end": 255,
                "id": 6917641177827115000,
                "label": "ESTABLISHED_BY",
                "properties": {
                  "label": "ESTABLISHED_BY"
                },
                "start": 34,
                "styles": {},
                "thickness_factor": 1
              },
              {
                "color": "#673AB7",
                "directed": true,
                "end": 447,
                "id": 6917652172943393000,
                "label": "RECEIVES_REQUEST",
                "properties": {
                  "label": "RECEIVES_REQUEST"
                },
                "start": 34,
                "styles": {},
                "thickness_factor": 1
              },
              {
                "color": "#CDDC39",
                "directed": true,
                "end": 457,
                "id": 6917654371966648000,
                "label": "ORGANIZES_MEETING",
                "properties": {
                  "label": "ORGANIZES_MEETING"
                },
                "start": 34,
                "styles": {},
                "thickness_factor": 1
              },
              {
                "color": "#9E9E9E",
                "directed": true,
                "end": 463,
                "id": 6917656570989904000,
                "label": "SELECTED_BY",
                "properties": {
                  "label": "SELECTED_BY"
                },
                "start": 34,
                "styles": {},
                "thickness_factor": 1
              },
              {
                "color": "#9C27B0",
                "directed": true,
                "end": 30,
                "id": 1153052346490552300,
                "label": "DECIDES_TO_CONSULT",
                "properties": {
                  "label": "DECIDES_TO_CONSULT"
                },
                "start": 34,
                "styles": {},
                "thickness_factor": 1
              },
              {
                "color": "#9C27B0",
                "directed": true,
                "end": 1005,
                "id": 6917659869524788000,
                "label": "DECIDES_TO_CONSULT",
                "properties": {
                  "label": "DECIDES_TO_CONSULT"
                },
                "start": 34,
                "styles": {},
                "thickness_factor": 1
              },
              {
                "color": "#2196F3",
                "directed": true,
                "end": 479,
                "id": 6917663168059671000,
                "label": "ESTABLISHED_ESTIMATION",
                "properties": {
                  "label": "ESTABLISHED_ESTIMATION"
                },
                "start": 34,
                "styles": {},
                "thickness_factor": 1
              },
              {
                "color": "#4CAF50",
                "directed": true,
                "end": 848,
                "id": 6917667566106183000,
                "label": "SUBMITS_DOCUMENTS",
                "properties": {
                  "label": "SUBMITS_DOCUMENTS"
                },
                "start": 34,
                "styles": {},
                "thickness_factor": 1
              },
              {
                "color": "#F44336",
                "directed": true,
                "end": 656,
                "id": 6917707148524783000,
                "label": "IS_MASTER_OF_CONTRACT",
                "properties": {
                  "label": "IS_MASTER_OF_CONTRACT"
                },
                "start": 34,
                "styles": {},
                "thickness_factor": 1
              },
              {
                "color": "#607D8B",
                "directed": true,
                "end": 60,
                "id": 1153102924025430000,
                "label": "PROPOSED_CONTRACT",
                "properties": {
                  "label": "PROPOSED_CONTRACT"
                },
                "start": 34,
                "styles": {},
                "thickness_factor": 1
              },
              {
                "color": "#673AB7",
                "directed": true,
                "end": 255,
                "id": 6917726939734082000,
                "label": "ESTABLISHES_REGULATION",
                "properties": {
                  "label": "ESTABLISHES_REGULATION"
                },
                "start": 34,
                "styles": {},
                "thickness_factor": 1
              },
              {
                "color": "#CDDC39",
                "directed": true,
                "end": 255,
                "id": 1153124914257985500,
                "label": "SIGN_CONTRACT",
                "properties": {
                  "label": "SIGN_CONTRACT"
                },
                "start": 34,
                "styles": {},
                "thickness_factor": 1
              },
              {
                "color": "#9E9E9E",
                "directed": true,
                "end": 797,
                "id": 6917751128989894000,
                "label": "RECOGNIZES",
                "properties": {
                  "label": "RECOGNIZES"
                },
                "start": 34,
                "styles": {},
                "thickness_factor": 1
              },
              {
                "color": "#9C27B0",
                "directed": true,
                "end": 785,
                "id": 6917755527036405000,
                "label": "REQUESTS_CONVOCTION",
                "properties": {
                  "label": "REQUESTS_CONVOCTION"
                },
                "start": 34,
                "styles": {},
                "thickness_factor": 1
              },
              {
                "color": "#2196F3",
                "directed": true,
                "end": 878,
                "id": 6917768721175938000,
                "label": "CONVOCATES",
                "properties": {
                  "label": "CONVOCATES"
                },
                "start": 34,
                "styles": {},
                "thickness_factor": 1
              },
              {
                "color": "#4CAF50",
                "directed": true,
                "end": 1395,
                "id": 6917770920199194000,
                "label": "INFORMS",
                "properties": {
                  "label": "INFORMS"
                },
                "start": 34,
                "styles": {},
                "thickness_factor": 1
              },
              {
                "color": "#F44336",
                "directed": true,
                "end": 967,
                "id": 6917797308478260000,
                "label": "EXECUTES_CONTRACT",
                "properties": {
                  "label": "EXECUTES_CONTRACT"
                },
                "start": 34,
                "styles": {},
                "thickness_factor": 1
              },
              {
                "color": "#607D8B",
                "directed": true,
                "end": 983,
                "id": 6917798407989888000,
                "label": "IS_LOCATED_AT",
                "properties": {
                  "label": "IS_LOCATED_AT"
                },
                "start": 34,
                "styles": {},
                "thickness_factor": 1
              },
              {
                "color": "#673AB7",
                "directed": true,
                "end": 60,
                "id": 1155443784280965000,
                "label": "AWARDS_CONTRACT",
                "properties": {
                  "label": "AWARDS_CONTRACT"
                },
                "start": 34,
                "styles": {},
                "thickness_factor": 1
              },
              {
                "color": "#673AB7",
                "directed": true,
                "end": 987,
                "id": 6917799507501516000,
                "label": "AWARDS_CONTRACT",
                "properties": {
                  "label": "AWARDS_CONTRACT"
                },
                "start": 34,
                "styles": {},
                "thickness_factor": 1
              },
              {
                "color": "#CDDC39",
                "directed": true,
                "end": 1012,
                "id": 6917807204082910000,
                "label": "IS_ALLOWED_TO_USE",
                "properties": {
                  "label": "IS_ALLOWED_TO_USE"
                },
                "start": 34,
                "styles": {},
                "thickness_factor": 1
              },
              {
                "color": "#9E9E9E",
                "directed": true,
                "end": 1022,
                "id": 6917809403106166000,
                "label": "SIGN_BY",
                "properties": {
                  "label": "SIGN_BY"
                },
                "start": 34,
                "styles": {},
                "thickness_factor": 1
              },
              {
                "color": "#9C27B0",
                "directed": true,
                "end": 1005,
                "id": 6917812701641049000,
                "label": "DELEGATES_ATTENTION",
                "properties": {
                  "label": "DELEGATES_ATTENTION"
                },
                "start": 34,
                "styles": {},
                "thickness_factor": 1
              },
              {
                "color": "#2196F3",
                "directed": true,
                "end": 1072,
                "id": 6917822597245699000,
                "label": "REPORTS_DATE_CHANGE",
                "properties": {
                  "label": "REPORTS_DATE_CHANGE"
                },
                "start": 34,
                "styles": {},
                "thickness_factor": 1
              },
              {
                "color": "#4CAF50",
                "directed": true,
                "end": 1068,
                "id": 6917823696757327000,
                "label": "INTRODUCES_CHANGES",
                "properties": {
                  "label": "INTRODUCES_CHANGES"
                },
                "start": 34,
                "styles": {},
                "thickness_factor": 1
              },
              {
                "color": "#F44336",
                "directed": true,
                "end": 1101,
                "id": 6917829194315466000,
                "label": "HAS_ARCHITECT",
                "properties": {
                  "label": "HAS_ARCHITECT"
                },
                "start": 34,
                "styles": {},
                "thickness_factor": 1
              },
              {
                "color": "#607D8B",
                "directed": true,
                "end": 283,
                "id": 6917850085036392000,
                "label": "RETAINS_OFFER",
                "properties": {
                  "label": "RETAINS_OFFER"
                },
                "start": 34,
                "styles": {},
                "thickness_factor": 1
              },
              {
                "color": "#673AB7",
                "directed": true,
                "end": 656,
                "id": 6917875373803832000,
                "label": "RECEIVES_DOCUMENT",
                "properties": {
                  "label": "RECEIVES_DOCUMENT"
                },
                "start": 34,
                "styles": {},
                "thickness_factor": 1
              },
              {
                "color": "#CDDC39",
                "directed": true,
                "end": 1407,
                "id": 6917905060617782000,
                "label": "APPOINTS",
                "properties": {
                  "label": "APPOINTS"
                },
                "start": 34,
                "styles": {},
                "thickness_factor": 1
              },
              {
                "color": "#9E9E9E",
                "directed": true,
                "end": 1489,
                "id": 6917923752315454000,
                "label": "CAN_USE_PROCEDURE",
                "properties": {
                  "label": "CAN_USE_PROCEDURE"
                },
                "start": 34,
                "styles": {},
                "thickness_factor": 1
              },
              {
                "color": "#9C27B0",
                "directed": true,
                "end": 36,
                "id": 1152932499723124700,
                "label": "REQUESTED_BY",
                "properties": {
                  "label": "REQUESTED_BY"
                },
                "start": 37,
                "styles": {},
                "thickness_factor": 1
              },
              {
                "color": "#2196F3",
                "directed": true,
                "end": 374,
                "id": 1153027057723113500,
                "label": "PLANS_TO_PERFORM_CONTRACT",
                "properties": {
                  "label": "PLANS_TO_PERFORM_CONTRACT"
                },
                "start": 37,
                "styles": {},
                "thickness_factor": 1
              },
              {
                "color": "#9E9E9E",
                "directed": true,
                "end": 1078,
                "id": 6917751128989894000,
                "label": "RECOGNIZES",
                "properties": {
                  "label": "RECOGNIZES"
                },
                "start": 37,
                "styles": {},
                "thickness_factor": 1
              },
              {
                "color": "#4CAF50",
                "directed": true,
                "end": 1030,
                "id": 6917824796268955000,
                "label": "DECIDES_TO_MAKE_CHANGES",
                "properties": {
                  "label": "DECIDES_TO_MAKE_CHANGES"
                },
                "start": 37,
                "styles": {},
                "thickness_factor": 1
              },
              {
                "color": "#F44336",
                "directed": true,
                "end": 1149,
                "id": 6917844587478255000,
                "label": "PROPOSED_TO",
                "properties": {
                  "label": "PROPOSED_TO"
                },
                "start": 37,
                "styles": {},
                "thickness_factor": 1
              },
              {
                "color": "#9E9E9E",
                "directed": true,
                "end": 40,
                "id": 1152933599234752500,
                "label": "IS_RESPONSIBLE_FOR",
                "properties": {
                  "label": "IS_RESPONSIBLE_FOR"
                },
                "start": 39,
                "styles": {},
                "thickness_factor": 1
              },
              {
                "color": "#607D8B",
                "directed": true,
                "end": 34,
                "id": 1152934698746380300,
                "label": "HAVE_RESPONSIBILITY",
                "properties": {
                  "label": "HAVE_RESPONSIBILITY"
                },
                "start": 42,
                "styles": {},
                "thickness_factor": 1
              },
              {
                "color": "#673AB7",
                "directed": true,
                "end": 45,
                "id": 1152935798258008000,
                "label": "SUBMITTED_DOCUMENTS",
                "properties": {
                  "label": "SUBMITTED_DOCUMENTS"
                },
                "start": 44,
                "styles": {},
                "thickness_factor": 1
              },
              {
                "color": "#CDDC39",
                "directed": true,
                "end": 103,
                "id": 1152978679211491300,
                "label": "SUBMITS_DECLARATION",
                "properties": {
                  "label": "SUBMITS_DECLARATION"
                },
                "start": 44,
                "styles": {},
                "thickness_factor": 1
              },
              {
                "color": "#9E9E9E",
                "directed": true,
                "end": 106,
                "id": 1153146904490541000,
                "label": "REQUIRES_SAFEKEEPING",
                "properties": {
                  "label": "REQUIRES_SAFEKEEPING"
                },
                "start": 45,
                "styles": {},
                "thickness_factor": 1
              },
              {
                "color": "#9C27B0",
                "directed": true,
                "end": 48,
                "id": 1152936897769635800,
                "label": "CAN_PRESENT_NEW_PLIS",
                "properties": {
                  "label": "CAN_PRESENT_NEW_PLIS"
                },
                "start": 47,
                "styles": {},
                "thickness_factor": 1
              },
              {
                "color": "#2196F3",
                "directed": true,
                "end": 520,
                "id": 1152941295816147000,
                "label": "PRODUCED_BY",
                "properties": {
                  "label": "PRODUCED_BY"
                },
                "start": 47,
                "styles": {},
                "thickness_factor": 1
              },
              {
                "color": "#4CAF50",
                "directed": true,
                "end": 130,
                "id": 1152961087025447000,
                "label": "GENERATE_TENDERS",
                "properties": {
                  "label": "GENERATE_TENDERS"
                },
                "start": 47,
                "styles": {},
                "thickness_factor": 1
              },
              {
                "color": "#F44336",
                "directed": true,
                "end": 747,
                "id": 1153130411816124400,
                "label": "INFORMED_OF",
                "properties": {
                  "label": "INFORMED_OF"
                },
                "start": 47,
                "styles": {},
                "thickness_factor": 1
              },
              {
                "color": "#607D8B",
                "directed": true,
                "end": 1420,
                "id": 1153301935630057500,
                "label": "REQUIRES_DOCUMENTATION",
                "properties": {
                  "label": "REQUIRES_DOCUMENTATION"
                },
                "start": 47,
                "styles": {},
                "thickness_factor": 1
              },
              {
                "color": "#2196F3",
                "directed": true,
                "end": 51,
                "id": 1152922604118474800,
                "label": "RELATED_TO",
                "properties": {
                  "label": "RELATED_TO"
                },
                "start": 50,
                "styles": {},
                "thickness_factor": 1
              },
              {
                "color": "#9C27B0",
                "directed": true,
                "end": 57,
                "id": 1152939096792891400,
                "label": "RECEIVES",
                "properties": {
                  "label": "RECEIVES"
                },
                "start": 58,
                "styles": {},
                "thickness_factor": 1
              },
              {
                "color": "#673AB7",
                "directed": true,
                "end": 263,
                "id": 1152995171885908000,
                "label": "SUBSCRIBES_TO",
                "properties": {
                  "label": "SUBSCRIBES_TO"
                },
                "start": 58,
                "styles": {},
                "thickness_factor": 1
              },
              {
                "color": "#CDDC39",
                "directed": true,
                "end": 1326,
                "id": 1153282144420757500,
                "label": "OWNS",
                "properties": {
                  "label": "OWNS"
                },
                "start": 58,
                "styles": {},
                "thickness_factor": 1
              },
              {
                "color": "#9E9E9E",
                "directed": true,
                "end": 967,
                "id": 1153290940513779700,
                "label": "CONFIES_EXECUTION",
                "properties": {
                  "label": "CONFIES_EXECUTION"
                },
                "start": 58,
                "styles": {},
                "thickness_factor": 1
              },
              {
                "color": "#9C27B0",
                "directed": true,
                "end": 61,
                "id": 1152940196304519200,
                "label": "IS_ELIGIBLE_FOR_CONTRACT",
                "properties": {
                  "label": "IS_ELIGIBLE_FOR_CONTRACT"
                },
                "start": 60,
                "styles": {},
                "thickness_factor": 1
              },
              {
                "color": "#2196F3",
                "directed": true,
                "end": 128,
                "id": 1152959987513819100,
                "label": "REPRESENTS",
                "properties": {
                  "label": "REPRESENTS"
                },
                "start": 60,
                "styles": {},
                "thickness_factor": 1
              },
              {
                "color": "#4CAF50",
                "directed": true,
                "end": 212,
                "id": 1152981977746374700,
                "label": "PROPOSES_BRAND",
                "properties": {
                  "label": "PROPOSES_BRAND"
                },
                "start": 60,
                "styles": {},
                "thickness_factor": 1
              },
              {
                "color": "#F44336",
                "directed": true,
                "end": 436,
                "id": 1153041351374274600,
                "label": "SUBMITTED_DOCUMENT",
                "properties": {
                  "label": "SUBMITTED_DOCUMENT"
                },
                "start": 60,
                "styles": {},
                "thickness_factor": 1
              },
              {
                "color": "#607D8B",
                "directed": true,
                "end": 484,
                "id": 6917664267571298000,
                "label": "REFUSES_TO_SIGN_CONTRACT",
                "properties": {
                  "label": "REFUSES_TO_SIGN_CONTRACT"
                },
                "start": 60,
                "styles": {},
                "thickness_factor": 1
              },
              {
                "color": "#673AB7",
                "directed": true,
                "end": 513,
                "id": 6917671964152694000,
                "label": "COMPETES_WITH",
                "properties": {
                  "label": "COMPETES_WITH"
                },
                "start": 60,
                "styles": {},
                "thickness_factor": 1
              },
              {
                "color": "#CDDC39",
                "directed": true,
                "end": 558,
                "id": 6917677461710833000,
                "label": "REMOVES",
                "properties": {
                  "label": "REMOVES"
                },
                "start": 60,
                "styles": {},
                "thickness_factor": 1
              },
              {
                "color": "#9E9E9E",
                "directed": true,
                "end": 1046,
                "id": 6917814900664305000,
                "label": "IS_IN_SITUATION_FISCAL_REGULARITY",
                "properties": {
                  "label": "IS_IN_SITUATION_FISCAL_REGULARITY"
                },
                "start": 60,
                "styles": {},
                "thickness_factor": 1
              },
              {
                "color": "#607D8B",
                "directed": true,
                "end": 1477,
                "id": 6917909458664293000,
                "label": "REQUIRES_DOCUMENTATION",
                "properties": {
                  "label": "REQUIRES_DOCUMENTATION"
                },
                "start": 60,
                "styles": {},
                "thickness_factor": 1
              },
              {
                "color": "#9C27B0",
                "directed": true,
                "end": 1448,
                "id": 6917917155245688000,
                "label": "SUBMITTED_CLAIM",
                "properties": {
                  "label": "SUBMITTED_CLAIM"
                },
                "start": 60,
                "styles": {},
                "thickness_factor": 1
              },
              {
                "color": "#2196F3",
                "directed": true,
                "end": 654,
                "id": 1152922604118474800,
                "label": "RELATED_TO",
                "properties": {
                  "label": "RELATED_TO"
                },
                "start": 61,
                "styles": {},
                "thickness_factor": 1
              },
              {
                "color": "#2196F3",
                "directed": true,
                "end": 416,
                "id": 1152979778723119000,
                "label": "BASED_ON",
                "properties": {
                  "label": "BASED_ON"
                },
                "start": 61,
                "styles": {},
                "thickness_factor": 1
              },
              {
                "color": "#4CAF50",
                "directed": true,
                "end": 378,
                "id": 1153029256746369000,
                "label": "IS_EQUAL_OR_LESS_THAN",
                "properties": {
                  "label": "IS_EQUAL_OR_LESS_THAN"
                },
                "start": 61,
                "styles": {},
                "thickness_factor": 1
              },
              {
                "color": "#F44336",
                "directed": true,
                "end": 1342,
                "id": 6917894065501505000,
                "label": "IS_EVALUATED_BY",
                "properties": {
                  "label": "IS_EVALUATED_BY"
                },
                "start": 61,
                "styles": {},
                "thickness_factor": 1
              },
              {
                "color": "#2196F3",
                "directed": true,
                "end": 63,
                "id": 1152941295816147000,
                "label": "PRODUCED_BY",
                "properties": {
                  "label": "PRODUCED_BY"
                },
                "start": 64,
                "styles": {},
                "thickness_factor": 1
              },
              {
                "color": "#607D8B",
                "directed": true,
                "end": 67,
                "id": 1152942395327774700,
                "label": "INVOLVES",
                "properties": {
                  "label": "INVOLVES"
                },
                "start": 66,
                "styles": {},
                "thickness_factor": 1
              },
              {
                "color": "#673AB7",
                "directed": true,
                "end": 70,
                "id": 1152943494839402500,
                "label": "PUBLISHED_ON",
                "properties": {
                  "label": "PUBLISHED_ON"
                },
                "start": 69,
                "styles": {},
                "thickness_factor": 1
              },
              {
                "color": "#673AB7",
                "directed": true,
                "end": 419,
                "id": 1155195294653087700,
                "label": "PUBLISHED_ON",
                "properties": {
                  "label": "PUBLISHED_ON"
                },
                "start": 69,
                "styles": {},
                "thickness_factor": 1
              },
              {
                "color": "#CDDC39",
                "directed": true,
                "end": 72,
                "id": 1152944594351030300,
                "label": "ESTABLISHES_PRICE",
                "properties": {
                  "label": "ESTABLISHES_PRICE"
                },
                "start": 73,
                "styles": {},
                "thickness_factor": 1
              },
              {
                "color": "#9E9E9E",
                "directed": true,
                "end": 75,
                "id": 1152945693862658000,
                "label": "ESTABLISHES_MINIMUM_BID",
                "properties": {
                  "label": "ESTABLISHES_MINIMUM_BID"
                },
                "start": 73,
                "styles": {},
                "thickness_factor": 1
              },
              {
                "color": "#9C27B0",
                "directed": true,
                "end": 77,
                "id": 1152946793374285800,
                "label": "ESTABLISHES_MAX_BID",
                "properties": {
                  "label": "ESTABLISHES_MAX_BID"
                },
                "start": 73,
                "styles": {},
                "thickness_factor": 1
              },
              {
                "color": "#4CAF50",
                "directed": true,
                "end": 132,
                "id": 1152958888002191400,
                "label": "INVITES",
                "properties": {
                  "label": "INVITES"
                },
                "start": 73,
                "styles": {},
                "thickness_factor": 1
              },
              {
                "color": "#2196F3",
                "directed": true,
                "end": 302,
                "id": 1153010565048696800,
                "label": "ESTABLISHED_REPORT",
                "properties": {
                  "label": "ESTABLISHED_REPORT"
                },
                "start": 73,
                "styles": {},
                "thickness_factor": 1
              },
              {
                "color": "#4CAF50",
                "directed": true,
                "end": 1068,
                "id": 6917820398222444000,
                "label": "CAN_INTRODUCE_CHANGES",
                "properties": {
                  "label": "CAN_INTRODUCE_CHANGES"
                },
                "start": 73,
                "styles": {},
                "thickness_factor": 1
              },
              {
                "color": "#F44336",
                "directed": true,
                "end": 80,
                "id": 1152947892885913600,
                "label": "REQUIRES",
                "properties": {
                  "label": "REQUIRES"
                },
                "start": 79,
                "styles": {},
                "thickness_factor": 1
              },
              {
                "color": "#607D8B",
                "directed": true,
                "end": 82,
                "id": 1152948992397541400,
                "label": "DEFINED_BY",
                "properties": {
                  "label": "DEFINED_BY"
                },
                "start": 79,
                "styles": {},
                "thickness_factor": 1
              },
              {
                "color": "#2196F3",
                "directed": true,
                "end": 85,
                "id": 1152922604118474800,
                "label": "RELATED_TO",
                "properties": {
                  "label": "RELATED_TO"
                },
                "start": 84,
                "styles": {},
                "thickness_factor": 1
              },
              {
                "color": "#2196F3",
                "directed": true,
                "end": 87,
                "id": 1152922604118474800,
                "label": "RELATED_TO",
                "properties": {
                  "label": "RELATED_TO"
                },
                "start": 88,
                "styles": {},
                "thickness_factor": 1
              },
              {
                "color": "#2196F3",
                "directed": true,
                "end": 90,
                "id": 1152922604118474800,
                "label": "RELATED_TO",
                "properties": {
                  "label": "RELATED_TO"
                },
                "start": 91,
                "styles": {},
                "thickness_factor": 1
              },
              {
                "color": "#673AB7",
                "directed": true,
                "end": 61,
                "id": 1152950091909169200,
                "label": "RELEVANT_TO",
                "properties": {
                  "label": "RELEVANT_TO"
                },
                "start": 93,
                "styles": {},
                "thickness_factor": 1
              },
              {
                "color": "#CDDC39",
                "directed": true,
                "end": 95,
                "id": 1152951191420797000,
                "label": "USED_IN",
                "properties": {
                  "label": "USED_IN"
                },
                "start": 96,
                "styles": {},
                "thickness_factor": 1
              },
              {
                "color": "#2196F3",
                "directed": true,
                "end": 99,
                "id": 1152922604118474800,
                "label": "RELATED_TO",
                "properties": {
                  "label": "RELATED_TO"
                },
                "start": 98,
                "styles": {},
                "thickness_factor": 1
              },
              {
                "color": "#2196F3",
                "directed": true,
                "end": 1030,
                "id": 6917530127152711000,
                "label": "RELATED_TO",
                "properties": {
                  "label": "RELATED_TO"
                },
                "start": 101,
                "styles": {},
                "thickness_factor": 1
              },
              {
                "color": "#9E9E9E",
                "directed": true,
                "end": 101,
                "id": 1153117217676591000,
                "label": "HAS_EMAIL_ADDRESS",
                "properties": {
                  "label": "HAS_EMAIL_ADDRESS"
                },
                "start": 101,
                "styles": {},
                "thickness_factor": 1
              },
              {
                "color": "#9C27B0",
                "directed": true,
                "end": 834,
                "id": 1153155700583563300,
                "label": "HAS_DOWNLOAD_LINK",
                "properties": {
                  "label": "HAS_DOWNLOAD_LINK"
                },
                "start": 101,
                "styles": {},
                "thickness_factor": 1
              },
              {
                "color": "#2196F3",
                "directed": true,
                "end": 104,
                "id": 1152922604118474800,
                "label": "RELATED_TO",
                "properties": {
                  "label": "RELATED_TO"
                },
                "start": 103,
                "styles": {},
                "thickness_factor": 1
              },
              {
                "color": "#2196F3",
                "directed": true,
                "end": 1305,
                "id": 1153116118164963300,
                "label": "LOCATED_AT",
                "properties": {
                  "label": "LOCATED_AT"
                },
                "start": 103,
                "styles": {},
                "thickness_factor": 1
              },
              {
                "color": "#9E9E9E",
                "directed": true,
                "end": 675,
                "id": 1152933599234752500,
                "label": "IS_RESPONSIBLE_FOR",
                "properties": {
                  "label": "IS_RESPONSIBLE_FOR"
                },
                "start": 106,
                "styles": {},
                "thickness_factor": 1
              },
              {
                "color": "#673AB7",
                "directed": true,
                "end": 34,
                "id": 1155189797094948900,
                "label": "REQUESTS",
                "properties": {
                  "label": "REQUESTS"
                },
                "start": 106,
                "styles": {},
                "thickness_factor": 1
              },
              {
                "color": "#673AB7",
                "directed": true,
                "end": 848,
                "id": 6917545520315500000,
                "label": "REQUESTS",
                "properties": {
                  "label": "REQUESTS"
                },
                "start": 106,
                "styles": {},
                "thickness_factor": 1
              },
              {
                "color": "#4CAF50",
                "directed": true,
                "end": 107,
                "id": 1152953390444052500,
                "label": "REPORTS_TO",
                "properties": {
                  "label": "REPORTS_TO"
                },
                "start": 106,
                "styles": {},
                "thickness_factor": 1
              },
              {
                "color": "#F44336",
                "directed": true,
                "end": 1450,
                "id": 6917685158292227000,
                "label": "HEAD_OF",
                "properties": {
                  "label": "HEAD_OF"
                },
                "start": 106,
                "styles": {},
                "thickness_factor": 1
              },
              {
                "color": "#607D8B",
                "directed": true,
                "end": 111,
                "id": 1153087530862641200,
                "label": "HEADS",
                "properties": {
                  "label": "HEADS"
                },
                "start": 106,
                "styles": {},
                "thickness_factor": 1
              },
              {
                "color": "#673AB7",
                "directed": true,
                "end": 783,
                "id": 1153139207909146600,
                "label": "IS_IN_CHARGE_OF",
                "properties": {
                  "label": "IS_IN_CHARGE_OF"
                },
                "start": 106,
                "styles": {},
                "thickness_factor": 1
              },
              {
                "color": "#CDDC39",
                "directed": true,
                "end": 675,
                "id": 1153141406932402200,
                "label": "DECIDES",
                "properties": {
                  "label": "DECIDES"
                },
                "start": 106,
                "styles": {},
                "thickness_factor": 1
              },
              {
                "color": "#9E9E9E",
                "directed": true,
                "end": 675,
                "id": 6917756626548033000,
                "label": "DECIDES_ON",
                "properties": {
                  "label": "DECIDES_ON"
                },
                "start": 106,
                "styles": {},
                "thickness_factor": 1
              },
              {
                "color": "#4CAF50",
                "directed": true,
                "end": 882,
                "id": 6917770920199194000,
                "label": "INFORMS",
                "properties": {
                  "label": "INFORMS"
                },
                "start": 106,
                "styles": {},
                "thickness_factor": 1
              },
              {
                "color": "#9C27B0",
                "directed": true,
                "end": 1114,
                "id": 6917832492850349000,
                "label": "ENSURES",
                "properties": {
                  "label": "ENSURES"
                },
                "start": 106,
                "styles": {},
                "thickness_factor": 1
              },
              {
                "color": "#2196F3",
                "directed": true,
                "end": 675,
                "id": 1153226069327741000,
                "label": "DECIDES_TO",
                "properties": {
                  "label": "DECIDES_TO"
                },
                "start": 106,
                "styles": {},
                "thickness_factor": 1
              },
              {
                "color": "#4CAF50",
                "directed": true,
                "end": 292,
                "id": 1153270049792852000,
                "label": "SIGNED",
                "properties": {
                  "label": "SIGNED"
                },
                "start": 106,
                "styles": {},
                "thickness_factor": 1
              },
              {
                "color": "#4CAF50",
                "directed": true,
                "end": 28,
                "id": 1152953390444052500,
                "label": "REPORTS_TO",
                "properties": {
                  "label": "REPORTS_TO"
                },
                "start": 109,
                "styles": {},
                "thickness_factor": 1
              },
              {
                "color": "#9E9E9E",
                "directed": true,
                "end": 121,
                "id": 1152933599234752500,
                "label": "IS_RESPONSIBLE_FOR",
                "properties": {
                  "label": "IS_RESPONSIBLE_FOR"
                },
                "start": 111,
                "styles": {},
                "thickness_factor": 1
              },
              {
                "color": "#9E9E9E",
                "directed": true,
                "end": 1333,
                "id": 6917541122268988000,
                "label": "IS_RESPONSIBLE_FOR",
                "properties": {
                  "label": "IS_RESPONSIBLE_FOR"
                },
                "start": 111,
                "styles": {},
                "thickness_factor": 1
              },
              {
                "color": "#F44336",
                "directed": true,
                "end": 95,
                "id": 1152954489955680300,
                "label": "CONDUCTS_AUCTION",
                "properties": {
                  "label": "CONDUCTS_AUCTION"
                },
                "start": 111,
                "styles": {},
                "thickness_factor": 1
              },
              {
                "color": "#607D8B",
                "directed": true,
                "end": 677,
                "id": 6917594998338749000,
                "label": "DETERMINES",
                "properties": {
                  "label": "DETERMINES"
                },
                "start": 111,
                "styles": {},
                "thickness_factor": 1
              },
              {
                "color": "#607D8B",
                "directed": true,
                "end": 60,
                "id": 1153085331839385600,
                "label": "ADMIT_OFFER",
                "properties": {
                  "label": "ADMIT_OFFER"
                },
                "start": 111,
                "styles": {},
                "thickness_factor": 1
              },
              {
                "color": "#673AB7",
                "directed": true,
                "end": 416,
                "id": 6917706049013154000,
                "label": "VERIFIES",
                "properties": {
                  "label": "VERIFIES"
                },
                "start": 111,
                "styles": {},
                "thickness_factor": 1
              },
              {
                "color": "#CDDC39",
                "directed": true,
                "end": 34,
                "id": 1153109521095196700,
                "label": "PROPOSED_OFFER",
                "properties": {
                  "label": "PROPOSED_OFFER"
                },
                "start": 111,
                "styles": {},
                "thickness_factor": 1
              },
              {
                "color": "#9E9E9E",
                "directed": true,
                "end": 818,
                "id": 6917759925082916000,
                "label": "EVALUATE_OFFERS",
                "properties": {
                  "label": "EVALUATE_OFFERS"
                },
                "start": 111,
                "styles": {},
                "thickness_factor": 1
              },
              {
                "color": "#9C27B0",
                "directed": true,
                "end": 1101,
                "id": 6917865478199182000,
                "label": "MEMBER_OF_JURY",
                "properties": {
                  "label": "MEMBER_OF_JURY"
                },
                "start": 111,
                "styles": {},
                "thickness_factor": 1
              },
              {
                "color": "#2196F3",
                "directed": true,
                "end": 95,
                "id": 1152956688978935800,
                "label": "CAN_PARTICIPATE_IN",
                "properties": {
                  "label": "CAN_PARTICIPATE_IN"
                },
                "start": 115,
                "styles": {},
                "thickness_factor": 1
              },
              {
                "color": "#4CAF50",
                "directed": true,
                "end": 119,
                "id": 1152957788490563600,
                "label": "ASSISTS_IN",
                "properties": {
                  "label": "ASSISTS_IN"
                },
                "start": 118,
                "styles": {},
                "thickness_factor": 1
              },
              {
                "color": "#4CAF50",
                "directed": true,
                "end": 123,
                "id": 1152958888002191400,
                "label": "INVITES",
                "properties": {
                  "label": "INVITES"
                },
                "start": 118,
                "styles": {},
                "thickness_factor": 1
              },
              {
                "color": "#2196F3",
                "directed": true,
                "end": 126,
                "id": 1152922604118474800,
                "label": "RELATED_TO",
                "properties": {
                  "label": "RELATED_TO"
                },
                "start": 125,
                "styles": {},
                "thickness_factor": 1
              },
              {
                "color": "#F44336",
                "directed": true,
                "end": 1005,
                "id": 1153263452723085300,
                "label": "IS_AUTHORIZED_TO_EMPLOY",
                "properties": {
                  "label": "IS_AUTHORIZED_TO_EMPLOY"
                },
                "start": 128,
                "styles": {},
                "thickness_factor": 1
              },
              {
                "color": "#607D8B",
                "directed": true,
                "end": 135,
                "id": 1152962186537075000,
                "label": "RANKED",
                "properties": {
                  "label": "RANKED"
                },
                "start": 134,
                "styles": {},
                "thickness_factor": 1
              },
              {
                "color": "#673AB7",
                "directed": true,
                "end": 1153,
                "id": 1153239263467274500,
                "label": "CLASSIFIED_AS",
                "properties": {
                  "label": "CLASSIFIED_AS"
                },
                "start": 134,
                "styles": {},
                "thickness_factor": 1
              },
              {
                "color": "#2196F3",
                "directed": true,
                "end": 138,
                "id": 1152922604118475000,
                "label": "RELATED_TO",
                "properties": {
                  "label": "RELATED_TO"
                },
                "start": 137,
                "styles": {},
                "thickness_factor": 1
              },
              {
                "color": "#CDDC39",
                "directed": true,
                "end": 141,
                "id": 1152963286048702700,
                "label": "RECEIVES_SUMMARY_REPORT",
                "properties": {
                  "label": "RECEIVES_SUMMARY_REPORT"
                },
                "start": 140,
                "styles": {},
                "thickness_factor": 1
              },
              {
                "color": "#9E9E9E",
                "directed": true,
                "end": 830,
                "id": 1153154601071935700,
                "label": "ALLOCATES_PRIZE",
                "properties": {
                  "label": "ALLOCATES_PRIZE"
                },
                "start": 140,
                "styles": {},
                "thickness_factor": 1
              },
              {
                "color": "#2196F3",
                "directed": true,
                "end": 143,
                "id": 1152922604118475000,
                "label": "RELATED_TO",
                "properties": {
                  "label": "RELATED_TO"
                },
                "start": 144,
                "styles": {},
                "thickness_factor": 1
              },
              {
                "color": "#9C27B0",
                "directed": true,
                "end": 181,
                "id": 1152972082141725000,
                "label": "DESCRIBES",
                "properties": {
                  "label": "DESCRIBES"
                },
                "start": 144,
                "styles": {},
                "thickness_factor": 1
              },
              {
                "color": "#2196F3",
                "directed": true,
                "end": 148,
                "id": 1152965485071958300,
                "label": "OWN",
                "properties": {
                  "label": "OWN"
                },
                "start": 149,
                "styles": {},
                "thickness_factor": 1
              },
              {
                "color": "#9E9E9E",
                "directed": true,
                "end": 103,
                "id": 1152933599234752800,
                "label": "IS_RESPONSIBLE_FOR",
                "properties": {
                  "label": "IS_RESPONSIBLE_FOR"
                },
                "start": 151,
                "styles": {},
                "thickness_factor": 1
              },
              {
                "color": "#2196F3",
                "directed": true,
                "end": 153,
                "id": 1152922604118475000,
                "label": "RELATED_TO",
                "properties": {
                  "label": "RELATED_TO"
                },
                "start": 154,
                "styles": {},
                "thickness_factor": 1
              },
              {
                "color": "#4CAF50",
                "directed": true,
                "end": 156,
                "id": 1152966584583586000,
                "label": "ENTERS_IN_FORCE",
                "properties": {
                  "label": "ENTERS_IN_FORCE"
                },
                "start": 157,
                "styles": {},
                "thickness_factor": 1
              },
              {
                "color": "#F44336",
                "directed": true,
                "end": 159,
                "id": 1152967684095213800,
                "label": "ABROGATED_BY",
                "properties": {
                  "label": "ABROGATED_BY"
                },
                "start": 160,
                "styles": {},
                "thickness_factor": 1
              },
              {
                "color": "#607D8B",
                "directed": true,
                "end": 163,
                "id": 1152948992397541600,
                "label": "DEFINED_BY",
                "properties": {
                  "label": "DEFINED_BY"
                },
                "start": 162,
                "styles": {},
                "thickness_factor": 1
              },
              {
                "color": "#607D8B",
                "directed": true,
                "end": 166,
                "id": 1152968783606841600,
                "label": "CONCLUDED_AGREEMENTS_WITH",
                "properties": {
                  "label": "CONCLUDED_AGREEMENTS_WITH"
                },
                "start": 165,
                "styles": {},
                "thickness_factor": 1
              },
              {
                "color": "#673AB7",
                "directed": true,
                "end": 468,
                "id": 1153051246978924800,
                "label": "SPENDS_MORE_THAN",
                "properties": {
                  "label": "SPENDS_MORE_THAN"
                },
                "start": 165,
                "styles": {},
                "thickness_factor": 1
              },
              {
                "color": "#CDDC39",
                "directed": true,
                "end": 169,
                "id": 1152969883118469400,
                "label": "CONTAINS",
                "properties": {
                  "label": "CONTAINS"
                },
                "start": 168,
                "styles": {},
                "thickness_factor": 1
              },
              {
                "color": "#9E9E9E",
                "directed": true,
                "end": 171,
                "id": 1152970982630097200,
                "label": "LISTS",
                "properties": {
                  "label": "LISTS"
                },
                "start": 172,
                "styles": {},
                "thickness_factor": 1
              },
              {
                "color": "#9C27B0",
                "directed": true,
                "end": 174,
                "id": 1152972082141725000,
                "label": "DESCRIBES",
                "properties": {
                  "label": "DESCRIBES"
                },
                "start": 175,
                "styles": {},
                "thickness_factor": 1
              },
              {
                "color": "#9C27B0",
                "directed": true,
                "end": 177,
                "id": 1152973181653352700,
                "label": "DEFINED_IN",
                "properties": {
                  "label": "DEFINED_IN"
                },
                "start": 178,
                "styles": {},
                "thickness_factor": 1
              },
              {
                "color": "#9C27B0",
                "directed": true,
                "end": 180,
                "id": 1152972082141725000,
                "label": "DESCRIBES",
                "properties": {
                  "label": "DESCRIBES"
                },
                "start": 181,
                "styles": {},
                "thickness_factor": 1
              },
              {
                "color": "#2196F3",
                "directed": true,
                "end": 1384,
                "id": 1152986375792886000,
                "label": "IS_PART_OF",
                "properties": {
                  "label": "IS_PART_OF"
                },
                "start": 181,
                "styles": {},
                "thickness_factor": 1
              },
              {
                "color": "#4CAF50",
                "directed": true,
                "end": 183,
                "id": 1152974281164980500,
                "label": "DESIGNATES",
                "properties": {
                  "label": "DESIGNATES"
                },
                "start": 184,
                "styles": {},
                "thickness_factor": 1
              },
              {
                "color": "#F44336",
                "directed": true,
                "end": 187,
                "id": 1152975380676608300,
                "label": "CONTAINS_INFORMATION_ABOUT",
                "properties": {
                  "label": "CONTAINS_INFORMATION_ABOUT"
                },
                "start": 186,
                "styles": {},
                "thickness_factor": 1
              },
              {
                "color": "#607D8B",
                "directed": true,
                "end": 190,
                "id": 1152976480188236000,
                "label": "IS_A",
                "properties": {
                  "label": "IS_A"
                },
                "start": 189,
                "styles": {},
                "thickness_factor": 1
              },
              {
                "color": "#F44336",
                "directed": true,
                "end": 978,
                "id": 1152947892885913900,
                "label": "REQUIRES",
                "properties": {
                  "label": "REQUIRES"
                },
                "start": 192,
                "styles": {},
                "thickness_factor": 1
              },
              {
                "color": "#673AB7",
                "directed": true,
                "end": 192,
                "id": 1152977579699863800,
                "label": "INCLUDES",
                "properties": {
                  "label": "INCLUDES"
                },
                "start": 193,
                "styles": {},
                "thickness_factor": 1
              },
              {
                "color": "#607D8B",
                "directed": true,
                "end": 34,
                "id": 1152948992397541600,
                "label": "DEFINED_BY",
                "properties": {
                  "label": "DEFINED_BY"
                },
                "start": 195,
                "styles": {},
                "thickness_factor": 1
              },
              {
                "color": "#2196F3",
                "directed": true,
                "end": 198,
                "id": 1152922604118475000,
                "label": "RELATED_TO",
                "properties": {
                  "label": "RELATED_TO"
                },
                "start": 199,
                "styles": {},
                "thickness_factor": 1
              },
              {
                "color": "#2196F3",
                "directed": true,
                "end": 202,
                "id": 1152922604118475000,
                "label": "RELATED_TO",
                "properties": {
                  "label": "RELATED_TO"
                },
                "start": 201,
                "styles": {},
                "thickness_factor": 1
              },
              {
                "color": "#2196F3",
                "directed": true,
                "end": 207,
                "id": 1152979778723119400,
                "label": "BASED_ON",
                "properties": {
                  "label": "BASED_ON"
                },
                "start": 206,
                "styles": {},
                "thickness_factor": 1
              },
              {
                "color": "#CDDC39",
                "directed": true,
                "end": 209,
                "id": 1152980878234747100,
                "label": "DETERMINED_BY",
                "properties": {
                  "label": "DETERMINED_BY"
                },
                "start": 210,
                "styles": {},
                "thickness_factor": 1
              },
              {
                "color": "#2196F3",
                "directed": true,
                "end": 215,
                "id": 1152922604118475000,
                "label": "RELATED_TO",
                "properties": {
                  "label": "RELATED_TO"
                },
                "start": 214,
                "styles": {},
                "thickness_factor": 1
              },
              {
                "color": "#9E9E9E",
                "directed": true,
                "end": 218,
                "id": 1152983077258002700,
                "label": "IS_ESTABLISHED_BY",
                "properties": {
                  "label": "IS_ESTABLISHED_BY"
                },
                "start": 217,
                "styles": {},
                "thickness_factor": 1
              },
              {
                "color": "#9C27B0",
                "directed": true,
                "end": 220,
                "id": 1152984176769630500,
                "label": "CAN_REQUEST_REVISION",
                "properties": {
                  "label": "CAN_REQUEST_REVISION"
                },
                "start": 221,
                "styles": {},
                "thickness_factor": 1
              },
              {
                "color": "#2196F3",
                "directed": true,
                "end": 223,
                "id": 1152985276281258200,
                "label": "INTRODUCED_BY",
                "properties": {
                  "label": "INTRODUCED_BY"
                },
                "start": 224,
                "styles": {},
                "thickness_factor": 1
              },
              {
                "color": "#2196F3",
                "directed": true,
                "end": 1191,
                "id": 1152922604118475000,
                "label": "RELATED_TO",
                "properties": {
                  "label": "RELATED_TO"
                },
                "start": 226,
                "styles": {},
                "thickness_factor": 1
              },
              {
                "color": "#2196F3",
                "directed": true,
                "end": 1347,
                "id": 1155174403932160300,
                "label": "RELATED_TO",
                "properties": {
                  "label": "RELATED_TO"
                },
                "start": 226,
                "styles": {},
                "thickness_factor": 1
              },
              {
                "color": "#2196F3",
                "directed": true,
                "end": 227,
                "id": 1152986375792886000,
                "label": "IS_PART_OF",
                "properties": {
                  "label": "IS_PART_OF"
                },
                "start": 226,
                "styles": {},
                "thickness_factor": 1
              },
              {
                "color": "#2196F3",
                "directed": true,
                "end": 230,
                "id": 1152922604118475000,
                "label": "RELATED_TO",
                "properties": {
                  "label": "RELATED_TO"
                },
                "start": 229,
                "styles": {},
                "thickness_factor": 1
              },
              {
                "color": "#607D8B",
                "directed": true,
                "end": 233,
                "id": 1152948992397541600,
                "label": "DEFINED_BY",
                "properties": {
                  "label": "DEFINED_BY"
                },
                "start": 232,
                "styles": {},
                "thickness_factor": 1
              },
              {
                "color": "#4CAF50",
                "directed": true,
                "end": 238,
                "id": 1152988574816141600,
                "label": "HAVE_CLAUSE",
                "properties": {
                  "label": "HAVE_CLAUSE"
                },
                "start": 237,
                "styles": {},
                "thickness_factor": 1
              },
              {
                "color": "#F44336",
                "directed": true,
                "end": 244,
                "id": 1152990773839397000,
                "label": "APPLIES_TO",
                "properties": {
                  "label": "APPLIES_TO"
                },
                "start": 243,
                "styles": {},
                "thickness_factor": 1
              },
              {
                "color": "#607D8B",
                "directed": true,
                "end": 247,
                "id": 1152991873351025000,
                "label": "IS_RELATED_TO",
                "properties": {
                  "label": "IS_RELATED_TO"
                },
                "start": 246,
                "styles": {},
                "thickness_factor": 1
              },
              {
                "color": "#2196F3",
                "directed": true,
                "end": 1303,
                "id": 6917530127152711000,
                "label": "RELATED_TO",
                "properties": {
                  "label": "RELATED_TO"
                },
                "start": 250,
                "styles": {},
                "thickness_factor": 1
              },
              {
                "color": "#607D8B",
                "directed": true,
                "end": 249,
                "id": 1152991873351025000,
                "label": "IS_RELATED_TO",
                "properties": {
                  "label": "IS_RELATED_TO"
                },
                "start": 250,
                "styles": {},
                "thickness_factor": 1
              },
              {
                "color": "#673AB7",
                "directed": true,
                "end": 252,
                "id": 1152992972862652700,
                "label": "DEFINE_CONDITIONS",
                "properties": {
                  "label": "DEFINE_CONDITIONS"
                },
                "start": 250,
                "styles": {},
                "thickness_factor": 1
              },
              {
                "color": "#CDDC39",
                "directed": true,
                "end": 376,
                "id": 1153028157234741500,
                "label": "ARE_AWARDED",
                "properties": {
                  "label": "ARE_AWARDED"
                },
                "start": 250,
                "styles": {},
                "thickness_factor": 1
              },
              {
                "color": "#9E9E9E",
                "directed": true,
                "end": 938,
                "id": 1153179889839374600,
                "label": "TRADED_ON",
                "properties": {
                  "label": "TRADED_ON"
                },
                "start": 250,
                "styles": {},
                "thickness_factor": 1
              },
              {
                "color": "#9C27B0",
                "directed": true,
                "end": 940,
                "id": 1153180989351002400,
                "label": "OPERATE_UNDER",
                "properties": {
                  "label": "OPERATE_UNDER"
                },
                "start": 250,
                "styles": {},
                "thickness_factor": 1
              },
              {
                "color": "#2196F3",
                "directed": true,
                "end": 1439,
                "id": 6917914956222432000,
                "label": "SUBJECT_TO",
                "properties": {
                  "label": "SUBJECT_TO"
                },
                "start": 250,
                "styles": {},
                "thickness_factor": 1
              },
              {
                "color": "#2196F3",
                "directed": true,
                "end": 1443,
                "id": 6917914956222432000,
                "label": "SUBJECT_TO",
                "properties": {
                  "label": "SUBJECT_TO"
                },
                "start": 250,
                "styles": {},
                "thickness_factor": 1
              },
              {
                "color": "#4CAF50",
                "directed": true,
                "end": 254,
                "id": 1152923703630102800,
                "label": "REGULATES",
                "properties": {
                  "label": "REGULATES"
                },
                "start": 255,
                "styles": {},
                "thickness_factor": 1
              },
              {
                "color": "#4CAF50",
                "directed": true,
                "end": 477,
                "id": 1153054545513808100,
                "label": "REFERS_TO",
                "properties": {
                  "label": "REFERS_TO"
                },
                "start": 255,
                "styles": {},
                "thickness_factor": 1
              },
              {
                "color": "#4CAF50",
                "directed": true,
                "end": 1040,
                "id": 6917662068548044000,
                "label": "REFERS_TO",
                "properties": {
                  "label": "REFERS_TO"
                },
                "start": 255,
                "styles": {},
                "thickness_factor": 1
              },
              {
                "color": "#F44336",
                "directed": true,
                "end": 258,
                "id": 1152994072374280400,
                "label": "IS_SIMILAR_TO",
                "properties": {
                  "label": "IS_SIMILAR_TO"
                },
                "start": 257,
                "styles": {},
                "thickness_factor": 1
              },
              {
                "color": "#607D8B",
                "directed": true,
                "end": 261,
                "id": 1152942395327775000,
                "label": "INVOLVES",
                "properties": {
                  "label": "INVOLVES"
                },
                "start": 260,
                "styles": {},
                "thickness_factor": 1
              },
              {
                "color": "#607D8B",
                "directed": true,
                "end": 266,
                "id": 1152996271397536000,
                "label": "HAS_AUTHORIZATION",
                "properties": {
                  "label": "HAS_AUTHORIZATION"
                },
                "start": 265,
                "styles": {},
                "thickness_factor": 1
              },
              {
                "color": "#673AB7",
                "directed": true,
                "end": 337,
                "id": 1153020460653347000,
                "label": "PROPOSED_BY",
                "properties": {
                  "label": "PROPOSED_BY"
                },
                "start": 265,
                "styles": {},
                "thickness_factor": 1
              },
              {
                "color": "#F44336",
                "directed": true,
                "end": 269,
                "id": 1152990773839397000,
                "label": "APPLIES_TO",
                "properties": {
                  "label": "APPLIES_TO"
                },
                "start": 268,
                "styles": {},
                "thickness_factor": 1
              },
              {
                "color": "#CDDC39",
                "directed": true,
                "end": 272,
                "id": 1152997370909163800,
                "label": "DEFINES_TECHNICAL_CONDITIONS",
                "properties": {
                  "label": "DEFINES_TECHNICAL_CONDITIONS"
                },
                "start": 271,
                "styles": {},
                "thickness_factor": 1
              },
              {
                "color": "#9E9E9E",
                "directed": true,
                "end": 1151,
                "id": 1153238163955646700,
                "label": "FAILS_TO_MEET_SPECIFICATIONS",
                "properties": {
                  "label": "FAILS_TO_MEET_SPECIFICATIONS"
                },
                "start": 271,
                "styles": {},
                "thickness_factor": 1
              },
              {
                "color": "#9C27B0",
                "directed": true,
                "end": 274,
                "id": 1152998470420791600,
                "label": "IS_CHARACTERISTIC_OF",
                "properties": {
                  "label": "IS_CHARACTERISTIC_OF"
                },
                "start": 275,
                "styles": {},
                "thickness_factor": 1
              },
              {
                "color": "#2196F3",
                "directed": true,
                "end": 37,
                "id": 1153008366025441500,
                "label": "NOTIFIED_BY",
                "properties": {
                  "label": "NOTIFIED_BY"
                },
                "start": 281,
                "styles": {},
                "thickness_factor": 1
              },
              {
                "color": "#4CAF50",
                "directed": true,
                "end": 284,
                "id": 1153002868467302700,
                "label": "CONTAINS_SOLUTIONS",
                "properties": {
                  "label": "CONTAINS_SOLUTIONS"
                },
                "start": 283,
                "styles": {},
                "thickness_factor": 1
              },
              {
                "color": "#F44336",
                "directed": true,
                "end": 989,
                "id": 1153193083978908000,
                "label": "PREFERRED_OVER",
                "properties": {
                  "label": "PREFERRED_OVER"
                },
                "start": 283,
                "styles": {},
                "thickness_factor": 1
              },
              {
                "color": "#607D8B",
                "directed": true,
                "end": 1337,
                "id": 1153285442955641000,
                "label": "IS_CONSIDERED",
                "properties": {
                  "label": "IS_CONSIDERED"
                },
                "start": 283,
                "styles": {},
                "thickness_factor": 1
              },
              {
                "color": "#673AB7",
                "directed": true,
                "end": 287,
                "id": 1153003967978930400,
                "label": "UNDERSTANDS",
                "properties": {
                  "label": "UNDERSTANDS"
                },
                "start": 286,
                "styles": {},
                "thickness_factor": 1
              },
              {
                "color": "#CDDC39",
                "directed": true,
                "end": 281,
                "id": 1153005067490558200,
                "label": "CANNOT_REVEAL_INFORMATION",
                "properties": {
                  "label": "CANNOT_REVEAL_INFORMATION"
                },
                "start": 289,
                "styles": {},
                "thickness_factor": 1
              },
              {
                "color": "#9E9E9E",
                "directed": true,
                "end": 329,
                "id": 1153017162118463700,
                "label": "PAY_FOR",
                "properties": {
                  "label": "PAY_FOR"
                },
                "start": 289,
                "styles": {},
                "thickness_factor": 1
              },
              {
                "color": "#9C27B0",
                "directed": true,
                "end": 292,
                "id": 1153006167002186000,
                "label": "HAS_PROCEDURE",
                "properties": {
                  "label": "HAS_PROCEDURE"
                },
                "start": 291,
                "styles": {},
                "thickness_factor": 1
              },
              {
                "color": "#2196F3",
                "directed": true,
                "end": 783,
                "id": 1152922604118475000,
                "label": "RELATED_TO",
                "properties": {
                  "label": "RELATED_TO"
                },
                "start": 292,
                "styles": {},
                "thickness_factor": 1
              },
              {
                "color": "#2196F3",
                "directed": true,
                "end": 1167,
                "id": 1155174403932160300,
                "label": "RELATED_TO",
                "properties": {
                  "label": "RELATED_TO"
                },
                "start": 292,
                "styles": {},
                "thickness_factor": 1
              },
              {
                "color": "#673AB7",
                "directed": true,
                "end": 101,
                "id": 1152943494839402800,
                "label": "PUBLISHED_ON",
                "properties": {
                  "label": "PUBLISHED_ON"
                },
                "start": 292,
                "styles": {},
                "thickness_factor": 1
              },
              {
                "color": "#2196F3",
                "directed": true,
                "end": 793,
                "id": 1153142506444030200,
                "label": "IS_CREATED_BY",
                "properties": {
                  "label": "IS_CREATED_BY"
                },
                "start": 292,
                "styles": {},
                "thickness_factor": 1
              },
              {
                "color": "#4CAF50",
                "directed": true,
                "end": 294,
                "id": 1153007266513813800,
                "label": "HAS_PHASES",
                "properties": {
                  "label": "HAS_PHASES"
                },
                "start": 295,
                "styles": {},
                "thickness_factor": 1
              },
              {
                "color": "#CDDC39",
                "directed": true,
                "end": 1171,
                "id": 1152969883118469400,
                "label": "CONTAINS",
                "properties": {
                  "label": "CONTAINS"
                },
                "start": 299,
                "styles": {},
                "thickness_factor": 1
              },
              {
                "color": "#F44336",
                "directed": true,
                "end": 300,
                "id": 1153009465537069300,
                "label": "TO_BE_RESUBMITTED",
                "properties": {
                  "label": "TO_BE_RESUBMITTED"
                },
                "start": 299,
                "styles": {},
                "thickness_factor": 1
              },
              {
                "color": "#607D8B",
                "directed": true,
                "end": 1213,
                "id": 1153091928909152500,
                "label": "CAN_REQUEST",
                "properties": {
                  "label": "CAN_REQUEST"
                },
                "start": 299,
                "styles": {},
                "thickness_factor": 1
              },
              {
                "color": "#673AB7",
                "directed": true,
                "end": 677,
                "id": 1153287641978896600,
                "label": "SUPERIOR_TO",
                "properties": {
                  "label": "SUPERIOR_TO"
                },
                "start": 299,
                "styles": {},
                "thickness_factor": 1
              },
              {
                "color": "#CDDC39",
                "directed": true,
                "end": 1482,
                "id": 6917920453780571000,
                "label": "CONVERTED_TO",
                "properties": {
                  "label": "CONVERTED_TO"
                },
                "start": 299,
                "styles": {},
                "thickness_factor": 1
              },
              {
                "color": "#4CAF50",
                "directed": true,
                "end": 295,
                "id": 1152923703630102800,
                "label": "REGULATES",
                "properties": {
                  "label": "REGULATES"
                },
                "start": 304,
                "styles": {},
                "thickness_factor": 1
              },
              {
                "color": "#9E9E9E",
                "directed": true,
                "end": 309,
                "id": 1153012764071952600,
                "label": "SUBMITS_OFFER",
                "properties": {
                  "label": "SUBMITS_OFFER"
                },
                "start": 308,
                "styles": {},
                "thickness_factor": 1
              },
              {
                "color": "#9C27B0",
                "directed": true,
                "end": 737,
                "id": 1153127113281241300,
                "label": "PROVIDED_TO",
                "properties": {
                  "label": "PROVIDED_TO"
                },
                "start": 309,
                "styles": {},
                "thickness_factor": 1
              },
              {
                "color": "#2196F3",
                "directed": true,
                "end": 311,
                "id": 1153013863583580400,
                "label": "CAN_PARTICIPATE_IN_TENDERING_PROCEDURE",
                "properties": {
                  "label": "CAN_PARTICIPATE_IN_TENDERING_PROCEDURE"
                },
                "start": 312,
                "styles": {},
                "thickness_factor": 1
              },
              {
                "color": "#4CAF50",
                "directed": true,
                "end": 315,
                "id": 1153014963095208200,
                "label": "PART_OF",
                "properties": {
                  "label": "PART_OF"
                },
                "start": 314,
                "styles": {},
                "thickness_factor": 1
              },
              {
                "color": "#607D8B",
                "directed": true,
                "end": 318,
                "id": 1152942395327775000,
                "label": "INVOLVES",
                "properties": {
                  "label": "INVOLVES"
                },
                "start": 317,
                "styles": {},
                "thickness_factor": 1
              },
              {
                "color": "#2196F3",
                "directed": true,
                "end": 321,
                "id": 1152922604118475000,
                "label": "RELATED_TO",
                "properties": {
                  "label": "RELATED_TO"
                },
                "start": 320,
                "styles": {},
                "thickness_factor": 1
              },
              {
                "color": "#2196F3",
                "directed": true,
                "end": 324,
                "id": 1152922604118475000,
                "label": "RELATED_TO",
                "properties": {
                  "label": "RELATED_TO"
                },
                "start": 323,
                "styles": {},
                "thickness_factor": 1
              },
              {
                "color": "#F44336",
                "directed": true,
                "end": 327,
                "id": 1153016062606836000,
                "label": "CALCULATED_BY",
                "properties": {
                  "label": "CALCULATED_BY"
                },
                "start": 326,
                "styles": {},
                "thickness_factor": 1
              },
              {
                "color": "#607D8B",
                "directed": true,
                "end": 331,
                "id": 1153018261630091500,
                "label": "AFFECTS",
                "properties": {
                  "label": "AFFECTS"
                },
                "start": 332,
                "styles": {},
                "thickness_factor": 1
              },
              {
                "color": "#673AB7",
                "directed": true,
                "end": 335,
                "id": 1153019361141719300,
                "label": "HAVE_PRICING_METHOD",
                "properties": {
                  "label": "HAVE_PRICING_METHOD"
                },
                "start": 334,
                "styles": {},
                "thickness_factor": 1
              },
              {
                "color": "#2196F3",
                "directed": true,
                "end": 340,
                "id": 1152922604118475000,
                "label": "RELATED_TO",
                "properties": {
                  "label": "RELATED_TO"
                },
                "start": 339,
                "styles": {},
                "thickness_factor": 1
              },
              {
                "color": "#CDDC39",
                "directed": true,
                "end": 342,
                "id": 1153021560164974800,
                "label": "APPROVED_BY",
                "properties": {
                  "label": "APPROVED_BY"
                },
                "start": 343,
                "styles": {},
                "thickness_factor": 1
              },
              {
                "color": "#9E9E9E",
                "directed": true,
                "end": 346,
                "id": 1153022659676602600,
                "label": "IS_ADAPTED_FROM",
                "properties": {
                  "label": "IS_ADAPTED_FROM"
                },
                "start": 345,
                "styles": {},
                "thickness_factor": 1
              },
              {
                "color": "#F44336",
                "directed": true,
                "end": 348,
                "id": 1152990773839397000,
                "label": "APPLIES_TO",
                "properties": {
                  "label": "APPLIES_TO"
                },
                "start": 349,
                "styles": {},
                "thickness_factor": 1
              },
              {
                "color": "#607D8B",
                "directed": true,
                "end": 352,
                "id": 1152976480188236000,
                "label": "IS_A",
                "properties": {
                  "label": "IS_A"
                },
                "start": 351,
                "styles": {},
                "thickness_factor": 1
              },
              {
                "color": "#9C27B0",
                "directed": true,
                "end": 354,
                "id": 1153023759188230400,
                "label": "IS_TYPE_OF",
                "properties": {
                  "label": "IS_TYPE_OF"
                },
                "start": 355,
                "styles": {},
                "thickness_factor": 1
              },
              {
                "color": "#2196F3",
                "directed": true,
                "end": 358,
                "id": 1153024858699858200,
                "label": "DEROGATES_FROM",
                "properties": {
                  "label": "DEROGATES_FROM"
                },
                "start": 357,
                "styles": {},
                "thickness_factor": 1
              },
              {
                "color": "#2196F3",
                "directed": true,
                "end": 360,
                "id": 1152922604118475000,
                "label": "RELATED_TO",
                "properties": {
                  "label": "RELATED_TO"
                },
                "start": 361,
                "styles": {},
                "thickness_factor": 1
              },
              {
                "color": "#673AB7",
                "directed": true,
                "end": 101,
                "id": 1152943494839402800,
                "label": "PUBLISHED_ON",
                "properties": {
                  "label": "PUBLISHED_ON"
                },
                "start": 361,
                "styles": {},
                "thickness_factor": 1
              },
              {
                "color": "#4CAF50",
                "directed": true,
                "end": 759,
                "id": 1153134809862635800,
                "label": "REQUIRES_DOCUMENT",
                "properties": {
                  "label": "REQUIRES_DOCUMENT"
                },
                "start": 361,
                "styles": {},
                "thickness_factor": 1
              },
              {
                "color": "#2196F3",
                "directed": true,
                "end": 364,
                "id": 1152922604118475000,
                "label": "RELATED_TO",
                "properties": {
                  "label": "RELATED_TO"
                },
                "start": 363,
                "styles": {},
                "thickness_factor": 1
              },
              {
                "color": "#F44336",
                "directed": true,
                "end": 540,
                "id": 1153067739653341400,
                "label": "PREVAILS_OVER",
                "properties": {
                  "label": "PREVAILS_OVER"
                },
                "start": 363,
                "styles": {},
                "thickness_factor": 1
              },
              {
                "color": "#2196F3",
                "directed": true,
                "end": 367,
                "id": 1152922604118475000,
                "label": "RELATED_TO",
                "properties": {
                  "label": "RELATED_TO"
                },
                "start": 366,
                "styles": {},
                "thickness_factor": 1
              },
              {
                "color": "#F44336",
                "directed": true,
                "end": 369,
                "id": 1152947892885913900,
                "label": "REQUIRES",
                "properties": {
                  "label": "REQUIRES"
                },
                "start": 370,
                "styles": {},
                "thickness_factor": 1
              },
              {
                "color": "#607D8B",
                "directed": true,
                "end": 30,
                "id": 1152942395327775000,
                "label": "INVOLVES",
                "properties": {
                  "label": "INVOLVES"
                },
                "start": 380,
                "styles": {},
                "thickness_factor": 1
              },
              {
                "color": "#4CAF50",
                "directed": true,
                "end": 749,
                "id": 1153014963095208200,
                "label": "PART_OF",
                "properties": {
                  "label": "PART_OF"
                },
                "start": 380,
                "styles": {},
                "thickness_factor": 1
              },
              {
                "color": "#607D8B",
                "directed": true,
                "end": 380,
                "id": 1153030356257997000,
                "label": "IS_CALLED",
                "properties": {
                  "label": "IS_CALLED"
                },
                "start": 381,
                "styles": {},
                "thickness_factor": 1
              },
              {
                "color": "#607D8B",
                "directed": true,
                "end": 384,
                "id": 1152976480188236000,
                "label": "IS_A",
                "properties": {
                  "label": "IS_A"
                },
                "start": 383,
                "styles": {},
                "thickness_factor": 1
              },
              {
                "color": "#2196F3",
                "directed": true,
                "end": 271,
                "id": 1152941295816147500,
                "label": "PRODUCED_BY",
                "properties": {
                  "label": "PRODUCED_BY"
                },
                "start": 387,
                "styles": {},
                "thickness_factor": 1
              },
              {
                "color": "#4CAF50",
                "directed": true,
                "end": 34,
                "id": 1152923703630103000,
                "label": "REGULATES",
                "properties": {
                  "label": "REGULATES"
                },
                "start": 390,
                "styles": {},
                "thickness_factor": 1
              },
              {
                "color": "#F44336",
                "directed": true,
                "end": 391,
                "id": 1152990773839397400,
                "label": "APPLIES_TO",
                "properties": {
                  "label": "APPLIES_TO"
                },
                "start": 390,
                "styles": {},
                "thickness_factor": 1
              },
              {
                "color": "#673AB7",
                "directed": true,
                "end": 393,
                "id": 1153034754304508400,
                "label": "PROVIDES_REFERENCE_RATE",
                "properties": {
                  "label": "PROVIDES_REFERENCE_RATE"
                },
                "start": 394,
                "styles": {},
                "thickness_factor": 1
              },
              {
                "color": "#CDDC39",
                "directed": true,
                "end": 397,
                "id": 1153035853816136200,
                "label": "REGULATED_BY",
                "properties": {
                  "label": "REGULATED_BY"
                },
                "start": 396,
                "styles": {},
                "thickness_factor": 1
              },
              {
                "color": "#2196F3",
                "directed": true,
                "end": 399,
                "id": 1152922604118475300,
                "label": "RELATED_TO",
                "properties": {
                  "label": "RELATED_TO"
                },
                "start": 400,
                "styles": {},
                "thickness_factor": 1
              },
              {
                "color": "#9E9E9E",
                "directed": true,
                "end": 405,
                "id": 1153038052839391700,
                "label": "NEEDED_FOR",
                "properties": {
                  "label": "NEEDED_FOR"
                },
                "start": 404,
                "styles": {},
                "thickness_factor": 1
              },
              {
                "color": "#4CAF50",
                "directed": true,
                "end": 334,
                "id": 1152923703630103000,
                "label": "REGULATES",
                "properties": {
                  "label": "REGULATES"
                },
                "start": 407,
                "styles": {},
                "thickness_factor": 1
              },
              {
                "color": "#9C27B0",
                "directed": true,
                "end": 410,
                "id": 1153039152351019500,
                "label": "USED_BY",
                "properties": {
                  "label": "USED_BY"
                },
                "start": 409,
                "styles": {},
                "thickness_factor": 1
              },
              {
                "color": "#CDDC39",
                "directed": true,
                "end": 413,
                "id": 1152980878234747400,
                "label": "DETERMINED_BY",
                "properties": {
                  "label": "DETERMINED_BY"
                },
                "start": 412,
                "styles": {},
                "thickness_factor": 1
              },
              {
                "color": "#2196F3",
                "directed": true,
                "end": 1328,
                "id": 1153283243932385800,
                "label": "ATTRIBUTED_TO",
                "properties": {
                  "label": "ATTRIBUTED_TO"
                },
                "start": 412,
                "styles": {},
                "thickness_factor": 1
              },
              {
                "color": "#2196F3",
                "directed": true,
                "end": 421,
                "id": 1152922604118475300,
                "label": "RELATED_TO",
                "properties": {
                  "label": "RELATED_TO"
                },
                "start": 422,
                "styles": {},
                "thickness_factor": 1
              },
              {
                "color": "#2196F3",
                "directed": true,
                "end": 425,
                "id": 1152922604118475300,
                "label": "RELATED_TO",
                "properties": {
                  "label": "RELATED_TO"
                },
                "start": 424,
                "styles": {},
                "thickness_factor": 1
              },
              {
                "color": "#2196F3",
                "directed": true,
                "end": 732,
                "id": 1155174403932160500,
                "label": "RELATED_TO",
                "properties": {
                  "label": "RELATED_TO"
                },
                "start": 424,
                "styles": {},
                "thickness_factor": 1
              },
              {
                "color": "#2196F3",
                "directed": true,
                "end": 428,
                "id": 1152922604118475300,
                "label": "RELATED_TO",
                "properties": {
                  "label": "RELATED_TO"
                },
                "start": 427,
                "styles": {},
                "thickness_factor": 1
              },
              {
                "color": "#4CAF50",
                "directed": true,
                "end": 430,
                "id": 1153040251862647300,
                "label": "HAS_MODEL",
                "properties": {
                  "label": "HAS_MODEL"
                },
                "start": 431,
                "styles": {},
                "thickness_factor": 1
              },
              {
                "color": "#2196F3",
                "directed": true,
                "end": 434,
                "id": 1152922604118475300,
                "label": "RELATED_TO",
                "properties": {
                  "label": "RELATED_TO"
                },
                "start": 433,
                "styles": {},
                "thickness_factor": 1
              },
              {
                "color": "#F44336",
                "directed": true,
                "end": 440,
                "id": 1153042450885902800,
                "label": "CAN_OCCUR",
                "properties": {
                  "label": "CAN_OCCUR"
                },
                "start": 439,
                "styles": {},
                "thickness_factor": 1
              },
              {
                "color": "#607D8B",
                "directed": true,
                "end": 442,
                "id": 1152991873351025200,
                "label": "IS_RELATED_TO",
                "properties": {
                  "label": "IS_RELATED_TO"
                },
                "start": 443,
                "styles": {},
                "thickness_factor": 1
              },
              {
                "color": "#2196F3",
                "directed": true,
                "end": 1074,
                "id": 1152922604118475300,
                "label": "RELATED_TO",
                "properties": {
                  "label": "RELATED_TO"
                },
                "start": 445,
                "styles": {},
                "thickness_factor": 1
              },
              {
                "color": "#607D8B",
                "directed": true,
                "end": 34,
                "id": 1153144705467286000,
                "label": "SUBMITTED_TO",
                "properties": {
                  "label": "SUBMITTED_TO"
                },
                "start": 449,
                "styles": {},
                "thickness_factor": 1
              },
              {
                "color": "#2196F3",
                "directed": true,
                "end": 449,
                "id": 1152922604118475300,
                "label": "RELATED_TO",
                "properties": {
                  "label": "RELATED_TO"
                },
                "start": 450,
                "styles": {},
                "thickness_factor": 1
              },
              {
                "color": "#673AB7",
                "directed": true,
                "end": 60,
                "id": 1153045749420786200,
                "label": "CAN_BE_REPORTED_ONCE",
                "properties": {
                  "label": "CAN_BE_REPORTED_ONCE"
                },
                "start": 452,
                "styles": {},
                "thickness_factor": 1
              },
              {
                "color": "#2196F3",
                "directed": true,
                "end": 455,
                "id": 1152922604118475300,
                "label": "RELATED_TO",
                "properties": {
                  "label": "RELATED_TO"
                },
                "start": 454,
                "styles": {},
                "thickness_factor": 1
              },
              {
                "color": "#CDDC39",
                "directed": true,
                "end": 461,
                "id": 1153047948444041700,
                "label": "POSTPONED_TO",
                "properties": {
                  "label": "POSTPONED_TO"
                },
                "start": 457,
                "styles": {},
                "thickness_factor": 1
              },
              {
                "color": "#9E9E9E",
                "directed": true,
                "end": 466,
                "id": 1153050147467297300,
                "label": "IS_SCHEDULED_TO_START",
                "properties": {
                  "label": "IS_SCHEDULED_TO_START"
                },
                "start": 465,
                "styles": {},
                "thickness_factor": 1
              },
              {
                "color": "#2196F3",
                "directed": true,
                "end": 471,
                "id": 1152922604118475300,
                "label": "RELATED_TO",
                "properties": {
                  "label": "RELATED_TO"
                },
                "start": 472,
                "styles": {},
                "thickness_factor": 1
              },
              {
                "color": "#9C27B0",
                "directed": true,
                "end": 474,
                "id": 1153053446002180600,
                "label": "HAS_SCHEDULED_DATE",
                "properties": {
                  "label": "HAS_SCHEDULED_DATE"
                },
                "start": 475,
                "styles": {},
                "thickness_factor": 1
              },
              {
                "color": "#2196F3",
                "directed": true,
                "end": 481,
                "id": 1152922604118475300,
                "label": "RELATED_TO",
                "properties": {
                  "label": "RELATED_TO"
                },
                "start": 482,
                "styles": {},
                "thickness_factor": 1
              },
              {
                "color": "#2196F3",
                "directed": true,
                "end": 1427,
                "id": 1153304134653313500,
                "label": "CAN_CONCLUDE_MARKETS_WITH",
                "properties": {
                  "label": "CAN_CONCLUDE_MARKETS_WITH"
                },
                "start": 484,
                "styles": {},
                "thickness_factor": 1
              },
              {
                "color": "#4CAF50",
                "directed": true,
                "end": 486,
                "id": 1153057844048691700,
                "label": "COMPLIES_WITH",
                "properties": {
                  "label": "COMPLIES_WITH"
                },
                "start": 487,
                "styles": {},
                "thickness_factor": 1
              },
              {
                "color": "#F44336",
                "directed": true,
                "end": 489,
                "id": 1153058943560319500,
                "label": "APPLY_TO",
                "properties": {
                  "label": "APPLY_TO"
                },
                "start": 490,
                "styles": {},
                "thickness_factor": 1
              },
              {
                "color": "#4CAF50",
                "directed": true,
                "end": 493,
                "id": 1153060043071947300,
                "label": "SUBMITS_DOCUMENTS",
                "properties": {
                  "label": "SUBMITS_DOCUMENTS"
                },
                "start": 492,
                "styles": {},
                "thickness_factor": 1
              },
              {
                "color": "#2196F3",
                "directed": true,
                "end": 496,
                "id": 1152922604118475300,
                "label": "RELATED_TO",
                "properties": {
                  "label": "RELATED_TO"
                },
                "start": 495,
                "styles": {},
                "thickness_factor": 1
              },
              {
                "color": "#F44336",
                "directed": true,
                "end": 498,
                "id": 1152947892885914000,
                "label": "REQUIRES",
                "properties": {
                  "label": "REQUIRES"
                },
                "start": 499,
                "styles": {},
                "thickness_factor": 1
              },
              {
                "color": "#607D8B",
                "directed": true,
                "end": 502,
                "id": 1153061142583575000,
                "label": "REQUIRED_FOR",
                "properties": {
                  "label": "REQUIRED_FOR"
                },
                "start": 501,
                "styles": {},
                "thickness_factor": 1
              },
              {
                "color": "#607D8B",
                "directed": true,
                "end": 1083,
                "id": 1155312942397260300,
                "label": "REQUIRED_FOR",
                "properties": {
                  "label": "REQUIRED_FOR"
                },
                "start": 501,
                "styles": {},
                "thickness_factor": 1
              },
              {
                "color": "#673AB7",
                "directed": true,
                "end": 505,
                "id": 1153062242095202800,
                "label": "ISSUED_BY",
                "properties": {
                  "label": "ISSUED_BY"
                },
                "start": 504,
                "styles": {},
                "thickness_factor": 1
              },
              {
                "color": "#CDDC39",
                "directed": true,
                "end": 507,
                "id": 1153063341606830600,
                "label": "EXECUTED",
                "properties": {
                  "label": "EXECUTED"
                },
                "start": 508,
                "styles": {},
                "thickness_factor": 1
              },
              {
                "color": "#2196F3",
                "directed": true,
                "end": 504,
                "id": 1155174403932160500,
                "label": "RELATED_TO",
                "properties": {
                  "label": "RELATED_TO"
                },
                "start": 510,
                "styles": {},
                "thickness_factor": 1
              },
              {
                "color": "#2196F3",
                "directed": true,
                "end": 511,
                "id": 1152922604118475300,
                "label": "RELATED_TO",
                "properties": {
                  "label": "RELATED_TO"
                },
                "start": 510,
                "styles": {},
                "thickness_factor": 1
              },
              {
                "color": "#9E9E9E",
                "directed": true,
                "end": 518,
                "id": 1153065540630086100,
                "label": "IS_EQUIVALENT_TO",
                "properties": {
                  "label": "IS_EQUIVALENT_TO"
                },
                "start": 517,
                "styles": {},
                "thickness_factor": 1
              },
              {
                "color": "#2196F3",
                "directed": true,
                "end": 522,
                "id": 1152922604118475300,
                "label": "RELATED_TO",
                "properties": {
                  "label": "RELATED_TO"
                },
                "start": 523,
                "styles": {},
                "thickness_factor": 1
              },
              {
                "color": "#2196F3",
                "directed": true,
                "end": 525,
                "id": 1152986375792886300,
                "label": "IS_PART_OF",
                "properties": {
                  "label": "IS_PART_OF"
                },
                "start": 526,
                "styles": {},
                "thickness_factor": 1
              },
              {
                "color": "#9C27B0",
                "directed": true,
                "end": 687,
                "id": 1153111720118452700,
                "label": "IS_COMPETITOR",
                "properties": {
                  "label": "IS_COMPETITOR"
                },
                "start": 526,
                "styles": {},
                "thickness_factor": 1
              },
              {
                "color": "#2196F3",
                "directed": true,
                "end": 1048,
                "id": 1153208477141697000,
                "label": "IS_IN_GOOD_STANDING_WITH",
                "properties": {
                  "label": "IS_IN_GOOD_STANDING_WITH"
                },
                "start": 526,
                "styles": {},
                "thickness_factor": 1
              },
              {
                "color": "#607D8B",
                "directed": true,
                "end": 528,
                "id": 1152996271397536300,
                "label": "HAS_AUTHORIZATION",
                "properties": {
                  "label": "HAS_AUTHORIZATION"
                },
                "start": 529,
                "styles": {},
                "thickness_factor": 1
              },
              {
                "color": "#4CAF50",
                "directed": true,
                "end": 531,
                "id": 1153066640141714000,
                "label": "IS_EQUAL_TO",
                "properties": {
                  "label": "IS_EQUAL_TO"
                },
                "start": 532,
                "styles": {},
                "thickness_factor": 1
              },
              {
                "color": "#2196F3",
                "directed": true,
                "end": 535,
                "id": 1152922604118475300,
                "label": "RELATED_TO",
                "properties": {
                  "label": "RELATED_TO"
                },
                "start": 534,
                "styles": {},
                "thickness_factor": 1
              },
              {
                "color": "#F44336",
                "directed": true,
                "end": 537,
                "id": 1152947892885914000,
                "label": "REQUIRES",
                "properties": {
                  "label": "REQUIRES"
                },
                "start": 538,
                "styles": {},
                "thickness_factor": 1
              },
              {
                "color": "#9C27B0",
                "directed": true,
                "end": 542,
                "id": 1152972082141725200,
                "label": "DESCRIBES",
                "properties": {
                  "label": "DESCRIBES"
                },
                "start": 543,
                "styles": {},
                "thickness_factor": 1
              },
              {
                "color": "#2196F3",
                "directed": true,
                "end": 546,
                "id": 1152922604118475300,
                "label": "RELATED_TO",
                "properties": {
                  "label": "RELATED_TO"
                },
                "start": 545,
                "styles": {},
                "thickness_factor": 1
              },
              {
                "color": "#F44336",
                "directed": true,
                "end": 669,
                "id": 1153105123048686000,
                "label": "IS_CONCERNED_IN",
                "properties": {
                  "label": "IS_CONCERNED_IN"
                },
                "start": 545,
                "styles": {},
                "thickness_factor": 1
              },
              {
                "color": "#CDDC39",
                "directed": true,
                "end": 548,
                "id": 1152969883118469600,
                "label": "CONTAINS",
                "properties": {
                  "label": "CONTAINS"
                },
                "start": 549,
                "styles": {},
                "thickness_factor": 1
              },
              {
                "color": "#CDDC39",
                "directed": true,
                "end": 552,
                "id": 1152969883118469600,
                "label": "CONTAINS",
                "properties": {
                  "label": "CONTAINS"
                },
                "start": 551,
                "styles": {},
                "thickness_factor": 1
              },
              {
                "color": "#607D8B",
                "directed": true,
                "end": 554,
                "id": 1153068839164969500,
                "label": "RESPECTS",
                "properties": {
                  "label": "RESPECTS"
                },
                "start": 555,
                "styles": {},
                "thickness_factor": 1
              },
              {
                "color": "#607D8B",
                "directed": true,
                "end": 560,
                "id": 1152991873351025200,
                "label": "IS_RELATED_TO",
                "properties": {
                  "label": "IS_RELATED_TO"
                },
                "start": 561,
                "styles": {},
                "thickness_factor": 1
              },
              {
                "color": "#673AB7",
                "directed": true,
                "end": 564,
                "id": 1153071038188225000,
                "label": "EXTENDS",
                "properties": {
                  "label": "EXTENDS"
                },
                "start": 563,
                "styles": {},
                "thickness_factor": 1
              },
              {
                "color": "#CDDC39",
                "directed": true,
                "end": 568,
                "id": 1153073237211480600,
                "label": "MADE_REQUEST",
                "properties": {
                  "label": "MADE_REQUEST"
                },
                "start": 569,
                "styles": {},
                "thickness_factor": 1
              },
              {
                "color": "#9E9E9E",
                "directed": true,
                "end": 571,
                "id": 1153074336723108400,
                "label": "PRESENTS",
                "properties": {
                  "label": "PRESENTS"
                },
                "start": 572,
                "styles": {},
                "thickness_factor": 1
              },
              {
                "color": "#9C27B0",
                "directed": true,
                "end": 574,
                "id": 1153075436234736000,
                "label": "CAN_BE_DONE_BY",
                "properties": {
                  "label": "CAN_BE_DONE_BY"
                },
                "start": 575,
                "styles": {},
                "thickness_factor": 1
              },
              {
                "color": "#2196F3",
                "directed": true,
                "end": 577,
                "id": 1153076535746364000,
                "label": "HEAD_OF_REGION",
                "properties": {
                  "label": "HEAD_OF_REGION"
                },
                "start": 578,
                "styles": {},
                "thickness_factor": 1
              },
              {
                "color": "#F44336",
                "directed": true,
                "end": 580,
                "id": 1153077635257991700,
                "label": "HEAD_OF",
                "properties": {
                  "label": "HEAD_OF"
                },
                "start": 578,
                "styles": {},
                "thickness_factor": 1
              },
              {
                "color": "#4CAF50",
                "directed": true,
                "end": 583,
                "id": 1153078734769619500,
                "label": "SUPERVISES",
                "properties": {
                  "label": "SUPERVISES"
                },
                "start": 582,
                "styles": {},
                "thickness_factor": 1
              },
              {
                "color": "#4CAF50",
                "directed": true,
                "end": 585,
                "id": 1153078734769619500,
                "label": "SUPERVISES",
                "properties": {
                  "label": "SUPERVISES"
                },
                "start": 586,
                "styles": {},
                "thickness_factor": 1
              },
              {
                "color": "#F44336",
                "directed": true,
                "end": 589,
                "id": 1153079834281247200,
                "label": "CAN_APPEAL_TO",
                "properties": {
                  "label": "CAN_APPEAL_TO"
                },
                "start": 588,
                "styles": {},
                "thickness_factor": 1
              },
              {
                "color": "#607D8B",
                "directed": true,
                "end": 592,
                "id": 1153080933792875000,
                "label": "INVITED",
                "properties": {
                  "label": "INVITED"
                },
                "start": 591,
                "styles": {},
                "thickness_factor": 1
              },
              {
                "color": "#673AB7",
                "directed": true,
                "end": 1135,
                "id": 1153098525978919400,
                "label": "VERIFIES",
                "properties": {
                  "label": "VERIFIES"
                },
                "start": 591,
                "styles": {},
                "thickness_factor": 1
              },
              {
                "color": "#673AB7",
                "directed": true,
                "end": 812,
                "id": 1153150203025425000,
                "label": "READS",
                "properties": {
                  "label": "READS"
                },
                "start": 591,
                "styles": {},
                "thickness_factor": 1
              },
              {
                "color": "#CDDC39",
                "directed": true,
                "end": 594,
                "id": 1152969883118469600,
                "label": "CONTAINS",
                "properties": {
                  "label": "CONTAINS"
                },
                "start": 595,
                "styles": {},
                "thickness_factor": 1
              },
              {
                "color": "#F44336",
                "directed": true,
                "end": 111,
                "id": 1153077635257991700,
                "label": "HEAD_OF",
                "properties": {
                  "label": "HEAD_OF"
                },
                "start": 597,
                "styles": {},
                "thickness_factor": 1
              },
              {
                "color": "#2196F3",
                "directed": true,
                "end": 600,
                "id": 1152922604118475300,
                "label": "RELATED_TO",
                "properties": {
                  "label": "RELATED_TO"
                },
                "start": 599,
                "styles": {},
                "thickness_factor": 1
              },
              {
                "color": "#CDDC39",
                "directed": true,
                "end": 603,
                "id": 1153082033304502800,
                "label": "NOTIFIED_BY_LETTER",
                "properties": {
                  "label": "NOTIFIED_BY_LETTER"
                },
                "start": 602,
                "styles": {},
                "thickness_factor": 1
              },
              {
                "color": "#9E9E9E",
                "directed": true,
                "end": 926,
                "id": 1153175491792863700,
                "label": "MAKE_STATEMENTS",
                "properties": {
                  "label": "MAKE_STATEMENTS"
                },
                "start": 602,
                "styles": {},
                "thickness_factor": 1
              },
              {
                "color": "#9C27B0",
                "directed": true,
                "end": 606,
                "id": 1152972082141725200,
                "label": "DESCRIBES",
                "properties": {
                  "label": "DESCRIBES"
                },
                "start": 605,
                "styles": {},
                "thickness_factor": 1
              },
              {
                "color": "#CDDC39",
                "directed": true,
                "end": 30,
                "id": 1152931400211497500,
                "label": "REQUESTS_INFORMATION",
                "properties": {
                  "label": "REQUESTS_INFORMATION"
                },
                "start": 608,
                "styles": {},
                "thickness_factor": 1
              },
              {
                "color": "#4CAF50",
                "directed": true,
                "end": 650,
                "id": 1152958888002192000,
                "label": "INVITES",
                "properties": {
                  "label": "INVITES"
                },
                "start": 608,
                "styles": {},
                "thickness_factor": 1
              },
              {
                "color": "#9C27B0",
                "directed": true,
                "end": 64,
                "id": 1153083132816130600,
                "label": "EXAMINES",
                "properties": {
                  "label": "EXAMINES"
                },
                "start": 608,
                "styles": {},
                "thickness_factor": 1
              },
              {
                "color": "#2196F3",
                "directed": true,
                "end": 632,
                "id": 1153093028420780500,
                "label": "LISTS_CONCURRENTS",
                "properties": {
                  "label": "LISTS_CONCURRENTS"
                },
                "start": 608,
                "styles": {},
                "thickness_factor": 1
              },
              {
                "color": "#673AB7",
                "directed": true,
                "end": 663,
                "id": 6917706049013155000,
                "label": "VERIFIES",
                "properties": {
                  "label": "VERIFIES"
                },
                "start": 608,
                "styles": {},
                "thickness_factor": 1
              },
              {
                "color": "#4CAF50",
                "directed": true,
                "end": 661,
                "id": 1153101824513802800,
                "label": "MEETS_AT",
                "properties": {
                  "label": "MEETS_AT"
                },
                "start": 608,
                "styles": {},
                "thickness_factor": 1
              },
              {
                "color": "#F44336",
                "directed": true,
                "end": 679,
                "id": 6917714845106177000,
                "label": "CLASSIFIES_OFFERS",
                "properties": {
                  "label": "CLASSIFIES_OFFERS"
                },
                "start": 608,
                "styles": {},
                "thickness_factor": 1
              },
              {
                "color": "#2196F3",
                "directed": true,
                "end": 613,
                "id": 1152922604118475300,
                "label": "RELATED_TO",
                "properties": {
                  "label": "RELATED_TO"
                },
                "start": 612,
                "styles": {},
                "thickness_factor": 1
              },
              {
                "color": "#F44336",
                "directed": true,
                "end": 615,
                "id": 1152947892885914000,
                "label": "REQUIRES",
                "properties": {
                  "label": "REQUIRES"
                },
                "start": 616,
                "styles": {},
                "thickness_factor": 1
              },
              {
                "color": "#607D8B",
                "directed": true,
                "end": 619,
                "id": 1153086431351014000,
                "label": "SIGN_OFFERS",
                "properties": {
                  "label": "SIGN_OFFERS"
                },
                "start": 618,
                "styles": {},
                "thickness_factor": 1
              },
              {
                "color": "#673AB7",
                "directed": true,
                "end": 622,
                "id": 1153088630374269400,
                "label": "REFERENCES",
                "properties": {
                  "label": "REFERENCES"
                },
                "start": 623,
                "styles": {},
                "thickness_factor": 1
              },
              {
                "color": "#CDDC39",
                "directed": true,
                "end": 625,
                "id": 1153089729885897200,
                "label": "CONSULTS",
                "properties": {
                  "label": "CONSULTS"
                },
                "start": 626,
                "styles": {},
                "thickness_factor": 1
              },
              {
                "color": "#607D8B",
                "directed": true,
                "end": 30,
                "id": 1153091928909152800,
                "label": "CAN_REQUEST",
                "properties": {
                  "label": "CAN_REQUEST"
                },
                "start": 626,
                "styles": {},
                "thickness_factor": 1
              },
              {
                "color": "#9E9E9E",
                "directed": true,
                "end": 629,
                "id": 1153090829397525000,
                "label": "CREATE_REPORTS",
                "properties": {
                  "label": "CREATE_REPORTS"
                },
                "start": 628,
                "styles": {},
                "thickness_factor": 1
              },
              {
                "color": "#9C27B0",
                "directed": true,
                "end": 30,
                "id": 1153094127932408300,
                "label": "SELECTED_CONTRACTOR",
                "properties": {
                  "label": "SELECTED_CONTRACTOR"
                },
                "start": 634,
                "styles": {},
                "thickness_factor": 1
              },
              {
                "color": "#2196F3",
                "directed": true,
                "end": 1229,
                "id": 1153254656630063600,
                "label": "TAKES_PLACE_AT",
                "properties": {
                  "label": "TAKES_PLACE_AT"
                },
                "start": 634,
                "styles": {},
                "thickness_factor": 1
              },
              {
                "color": "#4CAF50",
                "directed": true,
                "end": 638,
                "id": 1153095227444036000,
                "label": "CONTAIN",
                "properties": {
                  "label": "CONTAIN"
                },
                "start": 637,
                "styles": {},
                "thickness_factor": 1
              },
              {
                "color": "#F44336",
                "directed": true,
                "end": 640,
                "id": 1153096326955664100,
                "label": "LEFT",
                "properties": {
                  "label": "LEFT"
                },
                "start": 641,
                "styles": {},
                "thickness_factor": 1
              },
              {
                "color": "#4CAF50",
                "directed": true,
                "end": 643,
                "id": 1153054545513808600,
                "label": "REFERS_TO",
                "properties": {
                  "label": "REFERS_TO"
                },
                "start": 644,
                "styles": {},
                "thickness_factor": 1
              },
              {
                "color": "#607D8B",
                "directed": true,
                "end": 646,
                "id": 1153097426467292000,
                "label": "OFFERS_DISCOUNTS",
                "properties": {
                  "label": "OFFERS_DISCOUNTS"
                },
                "start": 647,
                "styles": {},
                "thickness_factor": 1
              },
              {
                "color": "#2196F3",
                "directed": true,
                "end": 255,
                "id": 1152941295816147700,
                "label": "PRODUCED_BY",
                "properties": {
                  "label": "PRODUCED_BY"
                },
                "start": 652,
                "styles": {},
                "thickness_factor": 1
              },
              {
                "color": "#673AB7",
                "directed": true,
                "end": 659,
                "id": 1153100725002175200,
                "label": "REQUIREMENT_FOR",
                "properties": {
                  "label": "REQUIREMENT_FOR"
                },
                "start": 658,
                "styles": {},
                "thickness_factor": 1
              },
              {
                "color": "#CDDC39",
                "directed": true,
                "end": 704,
                "id": 1153118317188219600,
                "label": "HOSTS_EVENT",
                "properties": {
                  "label": "HOSTS_EVENT"
                },
                "start": 661,
                "styles": {},
                "thickness_factor": 1
              },
              {
                "color": "#9E9E9E",
                "directed": true,
                "end": 666,
                "id": 1153104023537058600,
                "label": "HAS_CHARACTERISTIC",
                "properties": {
                  "label": "HAS_CHARACTERISTIC"
                },
                "start": 667,
                "styles": {},
                "thickness_factor": 1
              },
              {
                "color": "#9E9E9E",
                "directed": true,
                "end": 671,
                "id": 1153104023537058600,
                "label": "HAS_CHARACTERISTIC",
                "properties": {
                  "label": "HAS_CHARACTERISTIC"
                },
                "start": 672,
                "styles": {},
                "thickness_factor": 1
              },
              {
                "color": "#9C27B0",
                "directed": true,
                "end": 675,
                "id": 1153106222560314000,
                "label": "EXAMINED_BY",
                "properties": {
                  "label": "EXAMINED_BY"
                },
                "start": 674,
                "styles": {},
                "thickness_factor": 1
              },
              {
                "color": "#2196F3",
                "directed": true,
                "end": 1454,
                "id": 6917530127152711000,
                "label": "RELATED_TO",
                "properties": {
                  "label": "RELATED_TO"
                },
                "start": 675,
                "styles": {},
                "thickness_factor": 1
              },
              {
                "color": "#2196F3",
                "directed": true,
                "end": 675,
                "id": 1153188685932397300,
                "label": "DECLARE_INFRUCTUOUS",
                "properties": {
                  "label": "DECLARE_INFRUCTUOUS"
                },
                "start": 675,
                "styles": {},
                "thickness_factor": 1
              },
              {
                "color": "#4CAF50",
                "directed": true,
                "end": 1285,
                "id": 6917883070385227000,
                "label": "DECLARED_AS_INFRUCTUOUS",
                "properties": {
                  "label": "DECLARED_AS_INFRUCTUOUS"
                },
                "start": 675,
                "styles": {},
                "thickness_factor": 1
              },
              {
                "color": "#F44336",
                "directed": true,
                "end": 168,
                "id": 1153108421583569700,
                "label": "LISTED_IN",
                "properties": {
                  "label": "LISTED_IN"
                },
                "start": 681,
                "styles": {},
                "thickness_factor": 1
              },
              {
                "color": "#607D8B",
                "directed": true,
                "end": 685,
                "id": 1153110620606825200,
                "label": "CAN_CANCEL_TENDER",
                "properties": {
                  "label": "CAN_CANCEL_TENDER"
                },
                "start": 684,
                "styles": {},
                "thickness_factor": 1
              },
              {
                "color": "#673AB7",
                "directed": true,
                "end": 924,
                "id": 1153272248816108300,
                "label": "CAN_TERMINATE_CONTRACT_NEGOTIATION_PROCEDURE",
                "properties": {
                  "label": "CAN_TERMINATE_CONTRACT_NEGOTIATION_PROCEDURE"
                },
                "start": 684,
                "styles": {},
                "thickness_factor": 1
              },
              {
                "color": "#607D8B",
                "directed": true,
                "end": 691,
                "id": 1153056744537064200,
                "label": "REFUSES_TO_SIGN_CONTRACT",
                "properties": {
                  "label": "REFUSES_TO_SIGN_CONTRACT"
                },
                "start": 690,
                "styles": {},
                "thickness_factor": 1
              },
              {
                "color": "#CDDC39",
                "directed": true,
                "end": 694,
                "id": 1153113919141708500,
                "label": "REFUSES_TO_RECEIVE",
                "properties": {
                  "label": "REFUSES_TO_RECEIVE"
                },
                "start": 693,
                "styles": {},
                "thickness_factor": 1
              },
              {
                "color": "#9E9E9E",
                "directed": true,
                "end": 283,
                "id": 1153278845885875000,
                "label": "RECEIVES_OFFER",
                "properties": {
                  "label": "RECEIVES_OFFER"
                },
                "start": 693,
                "styles": {},
                "thickness_factor": 1
              },
              {
                "color": "#9C27B0",
                "directed": true,
                "end": 1318,
                "id": 1153279945397502700,
                "label": "ACCEPTS_DELAYS",
                "properties": {
                  "label": "ACCEPTS_DELAYS"
                },
                "start": 693,
                "styles": {},
                "thickness_factor": 1
              },
              {
                "color": "#2196F3",
                "directed": true,
                "end": 696,
                "id": 1153115018653336300,
                "label": "SELECTED_OFFER",
                "properties": {
                  "label": "SELECTED_OFFER"
                },
                "start": 697,
                "styles": {},
                "thickness_factor": 1
              },
              {
                "color": "#2196F3",
                "directed": true,
                "end": 37,
                "id": 1152922604118475500,
                "label": "RELATED_TO",
                "properties": {
                  "label": "RELATED_TO"
                },
                "start": 699,
                "styles": {},
                "thickness_factor": 1
              },
              {
                "color": "#2196F3",
                "directed": true,
                "end": 34,
                "id": 1153116118164964000,
                "label": "LOCATED_AT",
                "properties": {
                  "label": "LOCATED_AT"
                },
                "start": 701,
                "styles": {},
                "thickness_factor": 1
              },
              {
                "color": "#4CAF50",
                "directed": true,
                "end": 710,
                "id": 1152923703630103300,
                "label": "REGULATES",
                "properties": {
                  "label": "REGULATES"
                },
                "start": 709,
                "styles": {},
                "thickness_factor": 1
              },
              {
                "color": "#673AB7",
                "directed": true,
                "end": 1470,
                "id": 1153088630374269700,
                "label": "REFERENCES",
                "properties": {
                  "label": "REFERENCES"
                },
                "start": 709,
                "styles": {},
                "thickness_factor": 1
              },
              {
                "color": "#4CAF50",
                "directed": true,
                "end": 712,
                "id": 1153121615723103000,
                "label": "PROVIDED_BY",
                "properties": {
                  "label": "PROVIDED_BY"
                },
                "start": 713,
                "styles": {},
                "thickness_factor": 1
              },
              {
                "color": "#607D8B",
                "directed": true,
                "end": 679,
                "id": 1152925902653358800,
                "label": "ASSOCIATED_WITH",
                "properties": {
                  "label": "ASSOCIATED_WITH"
                },
                "start": 715,
                "styles": {},
                "thickness_factor": 1
              },
              {
                "color": "#F44336",
                "directed": true,
                "end": 717,
                "id": 1153122715234730800,
                "label": "USED_FOR",
                "properties": {
                  "label": "USED_FOR"
                },
                "start": 715,
                "styles": {},
                "thickness_factor": 1
              },
              {
                "color": "#F44336",
                "directed": true,
                "end": 720,
                "id": 1152947892885914400,
                "label": "REQUIRES",
                "properties": {
                  "label": "REQUIRES"
                },
                "start": 719,
                "styles": {},
                "thickness_factor": 1
              },
              {
                "color": "#607D8B",
                "directed": true,
                "end": 722,
                "id": 1153123814746358500,
                "label": "INVOLVED_IN",
                "properties": {
                  "label": "INVOLVED_IN"
                },
                "start": 723,
                "styles": {},
                "thickness_factor": 1
              },
              {
                "color": "#2196F3",
                "directed": true,
                "end": 726,
                "id": 1152922604118475500,
                "label": "RELATED_TO",
                "properties": {
                  "label": "RELATED_TO"
                },
                "start": 725,
                "styles": {},
                "thickness_factor": 1
              },
              {
                "color": "#607D8B",
                "directed": true,
                "end": 730,
                "id": 1152942395327775500,
                "label": "INVOLVES",
                "properties": {
                  "label": "INVOLVES"
                },
                "start": 729,
                "styles": {},
                "thickness_factor": 1
              },
              {
                "color": "#673AB7",
                "directed": true,
                "end": 380,
                "id": 1153126013769614000,
                "label": "NOT_REMITTED",
                "properties": {
                  "label": "NOT_REMITTED"
                },
                "start": 735,
                "styles": {},
                "thickness_factor": 1
              },
              {
                "color": "#2196F3",
                "directed": true,
                "end": 740,
                "id": 1152922604118475500,
                "label": "RELATED_TO",
                "properties": {
                  "label": "RELATED_TO"
                },
                "start": 739,
                "styles": {},
                "thickness_factor": 1
              },
              {
                "color": "#CDDC39",
                "directed": true,
                "end": 740,
                "id": 1153128212792869600,
                "label": "REQUIRES_TIMEFRAME",
                "properties": {
                  "label": "REQUIRES_TIMEFRAME"
                },
                "start": 739,
                "styles": {},
                "thickness_factor": 1
              },
              {
                "color": "#673AB7",
                "directed": true,
                "end": 101,
                "id": 1152943494839403300,
                "label": "PUBLISHED_ON",
                "properties": {
                  "label": "PUBLISHED_ON"
                },
                "start": 742,
                "styles": {},
                "thickness_factor": 1
              },
              {
                "color": "#9E9E9E",
                "directed": true,
                "end": 622,
                "id": 1153129312304497400,
                "label": "IS_PUBLISHED_UNDER",
                "properties": {
                  "label": "IS_PUBLISHED_UNDER"
                },
                "start": 745,
                "styles": {},
                "thickness_factor": 1
              },
              {
                "color": "#9C27B0",
                "directed": true,
                "end": 751,
                "id": 1153131511327753000,
                "label": "JUSTIFIES_AUTHORITIES",
                "properties": {
                  "label": "JUSTIFIES_AUTHORITIES"
                },
                "start": 752,
                "styles": {},
                "thickness_factor": 1
              },
              {
                "color": "#2196F3",
                "directed": true,
                "end": 755,
                "id": 1153132610839380700,
                "label": "HAS_DOCUMENTS",
                "properties": {
                  "label": "HAS_DOCUMENTS"
                },
                "start": 754,
                "styles": {},
                "thickness_factor": 1
              },
              {
                "color": "#4CAF50",
                "directed": true,
                "end": 526,
                "id": 1153135909374264000,
                "label": "SUPERVISED_BY",
                "properties": {
                  "label": "SUPERVISED_BY"
                },
                "start": 762,
                "styles": {},
                "thickness_factor": 1
              },
              {
                "color": "#2196F3",
                "directed": true,
                "end": 766,
                "id": 1152922604118475500,
                "label": "RELATED_TO",
                "properties": {
                  "label": "RELATED_TO"
                },
                "start": 765,
                "styles": {},
                "thickness_factor": 1
              },
              {
                "color": "#F44336",
                "directed": true,
                "end": 520,
                "id": 1153137008885891800,
                "label": "REQUIRED_TO_PRODUCE",
                "properties": {
                  "label": "REQUIRED_TO_PRODUCE"
                },
                "start": 768,
                "styles": {},
                "thickness_factor": 1
              },
              {
                "color": "#607D8B",
                "directed": true,
                "end": 912,
                "id": 1153172193257980700,
                "label": "PRODUCES",
                "properties": {
                  "label": "PRODUCES"
                },
                "start": 768,
                "styles": {},
                "thickness_factor": 1
              },
              {
                "color": "#CDDC39",
                "directed": true,
                "end": 771,
                "id": 1152969883118470000,
                "label": "CONTAINS",
                "properties": {
                  "label": "CONTAINS"
                },
                "start": 770,
                "styles": {},
                "thickness_factor": 1
              },
              {
                "color": "#2196F3",
                "directed": true,
                "end": 773,
                "id": 1152922604118475500,
                "label": "RELATED_TO",
                "properties": {
                  "label": "RELATED_TO"
                },
                "start": 774,
                "styles": {},
                "thickness_factor": 1
              },
              {
                "color": "#CDDC39",
                "directed": true,
                "end": 777,
                "id": 1152969883118470000,
                "label": "CONTAINS",
                "properties": {
                  "label": "CONTAINS"
                },
                "start": 776,
                "styles": {},
                "thickness_factor": 1
              },
              {
                "color": "#673AB7",
                "directed": true,
                "end": 779,
                "id": 1153138108397519600,
                "label": "IS_HEAD_OF",
                "properties": {
                  "label": "IS_HEAD_OF"
                },
                "start": 780,
                "styles": {},
                "thickness_factor": 1
              },
              {
                "color": "#673AB7",
                "directed": true,
                "end": 810,
                "id": 1153139207909147400,
                "label": "IS_IN_CHARGE_OF",
                "properties": {
                  "label": "IS_IN_CHARGE_OF"
                },
                "start": 787,
                "styles": {},
                "thickness_factor": 1
              },
              {
                "color": "#CDDC39",
                "directed": true,
                "end": 788,
                "id": 1153140307420775200,
                "label": "ANNOUNCES",
                "properties": {
                  "label": "ANNOUNCES"
                },
                "start": 787,
                "styles": {},
                "thickness_factor": 1
              },
              {
                "color": "#9E9E9E",
                "directed": true,
                "end": 880,
                "id": 1153162297653330700,
                "label": "CHECKS_PRESENCE_OF",
                "properties": {
                  "label": "CHECKS_PRESENCE_OF"
                },
                "start": 787,
                "styles": {},
                "thickness_factor": 1
              },
              {
                "color": "#9C27B0",
                "directed": true,
                "end": 1117,
                "id": 1153227168839369500,
                "label": "CHECKS_EXISTENCE_OF",
                "properties": {
                  "label": "CHECKS_EXISTENCE_OF"
                },
                "start": 787,
                "styles": {},
                "thickness_factor": 1
              },
              {
                "color": "#2196F3",
                "directed": true,
                "end": 1247,
                "id": 1153261253699830500,
                "label": "GIVES_LECTURE",
                "properties": {
                  "label": "GIVES_LECTURE"
                },
                "start": 787,
                "styles": {},
                "thickness_factor": 1
              },
              {
                "color": "#4CAF50",
                "directed": true,
                "end": 1249,
                "id": 6917869876245693000,
                "label": "RECOMMENDS",
                "properties": {
                  "label": "RECOMMENDS"
                },
                "start": 787,
                "styles": {},
                "thickness_factor": 1
              },
              {
                "color": "#F44336",
                "directed": true,
                "end": 801,
                "id": 1152990773839397600,
                "label": "APPLIES_TO",
                "properties": {
                  "label": "APPLIES_TO"
                },
                "start": 800,
                "styles": {},
                "thickness_factor": 1
              },
              {
                "color": "#F44336",
                "directed": true,
                "end": 804,
                "id": 1153145804978914000,
                "label": "STARTS_COUNTDOWN",
                "properties": {
                  "label": "STARTS_COUNTDOWN"
                },
                "start": 803,
                "styles": {},
                "thickness_factor": 1
              },
              {
                "color": "#607D8B",
                "directed": true,
                "end": 814,
                "id": 1153151302537053000,
                "label": "SIGN_DOCUMENTS",
                "properties": {
                  "label": "SIGN_DOCUMENTS"
                },
                "start": 815,
                "styles": {},
                "thickness_factor": 1
              },
              {
                "color": "#CDDC39",
                "directed": true,
                "end": 818,
                "id": 1152969883118470000,
                "label": "CONTAINS",
                "properties": {
                  "label": "CONTAINS"
                },
                "start": 817,
                "styles": {},
                "thickness_factor": 1
              },
              {
                "color": "#2196F3",
                "directed": true,
                "end": 1409,
                "id": 1152922604118475500,
                "label": "RELATED_TO",
                "properties": {
                  "label": "RELATED_TO"
                },
                "start": 822,
                "styles": {},
                "thickness_factor": 1
              },
              {
                "color": "#9C27B0",
                "directed": true,
                "end": 1271,
                "id": 1152972082141725400,
                "label": "DESCRIBES",
                "properties": {
                  "label": "DESCRIBES"
                },
                "start": 822,
                "styles": {},
                "thickness_factor": 1
              },
              {
                "color": "#2196F3",
                "directed": true,
                "end": 1056,
                "id": 1152979778723119900,
                "label": "BASED_ON",
                "properties": {
                  "label": "BASED_ON"
                },
                "start": 822,
                "styles": {},
                "thickness_factor": 1
              },
              {
                "color": "#673AB7",
                "directed": true,
                "end": 821,
                "id": 1153153501560308500,
                "label": "INVOLVED_IN_CONCEPTUALIZATION_AND_REALIZATION",
                "properties": {
                  "label": "INVOLVED_IN_CONCEPTUALIZATION_AND_REALIZATION"
                },
                "start": 822,
                "styles": {},
                "thickness_factor": 1
              },
              {
                "color": "#2196F3",
                "directed": true,
                "end": 824,
                "id": 1152922604118475500,
                "label": "RELATED_TO",
                "properties": {
                  "label": "RELATED_TO"
                },
                "start": 825,
                "styles": {},
                "thickness_factor": 1
              },
              {
                "color": "#2196F3",
                "directed": true,
                "end": 832,
                "id": 1152922604118475500,
                "label": "RELATED_TO",
                "properties": {
                  "label": "RELATED_TO"
                },
                "start": 827,
                "styles": {},
                "thickness_factor": 1
              },
              {
                "color": "#2196F3",
                "directed": true,
                "end": 848,
                "id": 1155174403932160800,
                "label": "RELATED_TO",
                "properties": {
                  "label": "RELATED_TO"
                },
                "start": 827,
                "styles": {},
                "thickness_factor": 1
              },
              {
                "color": "#2196F3",
                "directed": true,
                "end": 924,
                "id": 1157426203745846000,
                "label": "RELATED_TO",
                "properties": {
                  "label": "RELATED_TO"
                },
                "start": 827,
                "styles": {},
                "thickness_factor": 1
              },
              {
                "color": "#2196F3",
                "directed": true,
                "end": 1182,
                "id": 6917530127152711000,
                "label": "RELATED_TO",
                "properties": {
                  "label": "RELATED_TO"
                },
                "start": 827,
                "styles": {},
                "thickness_factor": 1
              },
              {
                "color": "#673AB7",
                "directed": true,
                "end": 101,
                "id": 1152943494839403300,
                "label": "PUBLISHED_ON",
                "properties": {
                  "label": "PUBLISHED_ON"
                },
                "start": 827,
                "styles": {},
                "thickness_factor": 1
              },
              {
                "color": "#F44336",
                "directed": true,
                "end": 836,
                "id": 1152947892885914400,
                "label": "REQUIRES",
                "properties": {
                  "label": "REQUIRES"
                },
                "start": 827,
                "styles": {},
                "thickness_factor": 1
              },
              {
                "color": "#F44336",
                "directed": true,
                "end": 862,
                "id": 1155199692699599600,
                "label": "REQUIRES",
                "properties": {
                  "label": "REQUIRES"
                },
                "start": 827,
                "styles": {},
                "thickness_factor": 1
              },
              {
                "color": "#9C27B0",
                "directed": true,
                "end": 828,
                "id": 1152972082141725400,
                "label": "DESCRIBES",
                "properties": {
                  "label": "DESCRIBES"
                },
                "start": 827,
                "styles": {},
                "thickness_factor": 1
              },
              {
                "color": "#CDDC39",
                "directed": true,
                "end": 934,
                "id": 6917786313361982000,
                "label": "ANNULATED_BY",
                "properties": {
                  "label": "ANNULATED_BY"
                },
                "start": 827,
                "styles": {},
                "thickness_factor": 1
              },
              {
                "color": "#9E9E9E",
                "directed": true,
                "end": 487,
                "id": 6917867677222437000,
                "label": "HAS_CRITERIA",
                "properties": {
                  "label": "HAS_CRITERIA"
                },
                "start": 827,
                "styles": {},
                "thickness_factor": 1
              },
              {
                "color": "#CDDC39",
                "directed": true,
                "end": 730,
                "id": 1153035853816136400,
                "label": "REGULATED_BY",
                "properties": {
                  "label": "REGULATED_BY"
                },
                "start": 838,
                "styles": {},
                "thickness_factor": 1
              },
              {
                "color": "#2196F3",
                "directed": true,
                "end": 605,
                "id": 1152922604118475500,
                "label": "RELATED_TO",
                "properties": {
                  "label": "RELATED_TO"
                },
                "start": 840,
                "styles": {},
                "thickness_factor": 1
              },
              {
                "color": "#2196F3",
                "directed": true,
                "end": 842,
                "id": 1152922604118475500,
                "label": "RELATED_TO",
                "properties": {
                  "label": "RELATED_TO"
                },
                "start": 843,
                "styles": {},
                "thickness_factor": 1
              },
              {
                "color": "#9C27B0",
                "directed": true,
                "end": 846,
                "id": 1153156800095191800,
                "label": "INSTALLED_IN",
                "properties": {
                  "label": "INSTALLED_IN"
                },
                "start": 845,
                "styles": {},
                "thickness_factor": 1
              },
              {
                "color": "#607D8B",
                "directed": true,
                "end": 206,
                "id": 1153172193257980700,
                "label": "PRODUCES",
                "properties": {
                  "label": "PRODUCES"
                },
                "start": 846,
                "styles": {},
                "thickness_factor": 1
              },
              {
                "color": "#2196F3",
                "directed": true,
                "end": 852,
                "id": 1153158999118447400,
                "label": "ARE_SAME_AS",
                "properties": {
                  "label": "ARE_SAME_AS"
                },
                "start": 853,
                "styles": {},
                "thickness_factor": 1
              },
              {
                "color": "#2196F3",
                "directed": true,
                "end": 856,
                "id": 1152922604118475500,
                "label": "RELATED_TO",
                "properties": {
                  "label": "RELATED_TO"
                },
                "start": 855,
                "styles": {},
                "thickness_factor": 1
              },
              {
                "color": "#2196F3",
                "directed": true,
                "end": 860,
                "id": 1152922604118475500,
                "label": "RELATED_TO",
                "properties": {
                  "label": "RELATED_TO"
                },
                "start": 859,
                "styles": {},
                "thickness_factor": 1
              },
              {
                "color": "#F44336",
                "directed": true,
                "end": 864,
                "id": 1152947892885914400,
                "label": "REQUIRES",
                "properties": {
                  "label": "REQUIRES"
                },
                "start": 865,
                "styles": {},
                "thickness_factor": 1
              },
              {
                "color": "#2196F3",
                "directed": true,
                "end": 868,
                "id": 1152922604118475500,
                "label": "RELATED_TO",
                "properties": {
                  "label": "RELATED_TO"
                },
                "start": 867,
                "styles": {},
                "thickness_factor": 1
              },
              {
                "color": "#4CAF50",
                "directed": true,
                "end": 871,
                "id": 1153160098630075100,
                "label": "REQUIRES_DOCUMENTS",
                "properties": {
                  "label": "REQUIRES_DOCUMENTS"
                },
                "start": 870,
                "styles": {},
                "thickness_factor": 1
              },
              {
                "color": "#CDDC39",
                "directed": true,
                "end": 594,
                "id": 1152969883118470000,
                "label": "CONTAINS",
                "properties": {
                  "label": "CONTAINS"
                },
                "start": 873,
                "styles": {},
                "thickness_factor": 1
              },
              {
                "color": "#607D8B",
                "directed": true,
                "end": 875,
                "id": 1152942395327775500,
                "label": "INVOLVES",
                "properties": {
                  "label": "INVOLVES"
                },
                "start": 876,
                "styles": {},
                "thickness_factor": 1
              },
              {
                "color": "#F44336",
                "directed": true,
                "end": 884,
                "id": 1153164496676586200,
                "label": "ADVISOR",
                "properties": {
                  "label": "ADVISOR"
                },
                "start": 885,
                "styles": {},
                "thickness_factor": 1
              },
              {
                "color": "#CDDC39",
                "directed": true,
                "end": 887,
                "id": 1153089729885897500,
                "label": "CONSULTS",
                "properties": {
                  "label": "CONSULTS"
                },
                "start": 888,
                "styles": {},
                "thickness_factor": 1
              },
              {
                "color": "#607D8B",
                "directed": true,
                "end": 890,
                "id": 1153165596188214000,
                "label": "DESCRIBED_BY",
                "properties": {
                  "label": "DESCRIBED_BY"
                },
                "start": 891,
                "styles": {},
                "thickness_factor": 1
              },
              {
                "color": "#CDDC39",
                "directed": true,
                "end": 30,
                "id": 1152931400211497700,
                "label": "REQUESTS_INFORMATION",
                "properties": {
                  "label": "REQUESTS_INFORMATION"
                },
                "start": 894,
                "styles": {},
                "thickness_factor": 1
              },
              {
                "color": "#CDDC39",
                "directed": true,
                "end": 885,
                "id": 6917697252920133000,
                "label": "CONSULTS",
                "properties": {
                  "label": "CONSULTS"
                },
                "start": 894,
                "styles": {},
                "thickness_factor": 1
              },
              {
                "color": "#4CAF50",
                "directed": true,
                "end": 1145,
                "id": 6917709347548038000,
                "label": "MEETS_AT",
                "properties": {
                  "label": "MEETS_AT"
                },
                "start": 894,
                "styles": {},
                "thickness_factor": 1
              },
              {
                "color": "#673AB7",
                "directed": true,
                "end": 901,
                "id": 1153166695699841800,
                "label": "EVALUATES",
                "properties": {
                  "label": "EVALUATES"
                },
                "start": 894,
                "styles": {},
                "thickness_factor": 1
              },
              {
                "color": "#CDDC39",
                "directed": true,
                "end": 903,
                "id": 1153167795211469600,
                "label": "CONDUCTS_EVALUATION",
                "properties": {
                  "label": "CONDUCTS_EVALUATION"
                },
                "start": 894,
                "styles": {},
                "thickness_factor": 1
              },
              {
                "color": "#9E9E9E",
                "directed": true,
                "end": 60,
                "id": 1153171093746353000,
                "label": "RETAINS",
                "properties": {
                  "label": "RETAINS"
                },
                "start": 894,
                "styles": {},
                "thickness_factor": 1
              },
              {
                "color": "#9C27B0",
                "directed": true,
                "end": 1260,
                "id": 6917828094803838000,
                "label": "COMPOSED_OF",
                "properties": {
                  "label": "COMPOSED_OF"
                },
                "start": 894,
                "styles": {},
                "thickness_factor": 1
              },
              {
                "color": "#2196F3",
                "directed": true,
                "end": 1143,
                "id": 6917842388454999000,
                "label": "SET_DEADLINE",
                "properties": {
                  "label": "SET_DEADLINE"
                },
                "start": 894,
                "styles": {},
                "thickness_factor": 1
              },
              {
                "color": "#4CAF50",
                "directed": true,
                "end": 1147,
                "id": 6917843487966627000,
                "label": "VERIFIES_EXISTENCE_OF",
                "properties": {
                  "label": "VERIFIES_EXISTENCE_OF"
                },
                "start": 894,
                "styles": {},
                "thickness_factor": 1
              },
              {
                "color": "#F44336",
                "directed": true,
                "end": 1161,
                "id": 6917847886013138000,
                "label": "DECLARES",
                "properties": {
                  "label": "DECLARES"
                },
                "start": 894,
                "styles": {},
                "thickness_factor": 1
              },
              {
                "color": "#607D8B",
                "directed": true,
                "end": 1260,
                "id": 6917873174780577000,
                "label": "SELECTS",
                "properties": {
                  "label": "SELECTS"
                },
                "start": 894,
                "styles": {},
                "thickness_factor": 1
              },
              {
                "color": "#673AB7",
                "directed": true,
                "end": 30,
                "id": 1153020460653347800,
                "label": "PROPOSED_BY",
                "properties": {
                  "label": "PROPOSED_BY"
                },
                "start": 896,
                "styles": {},
                "thickness_factor": 1
              },
              {
                "color": "#607D8B",
                "directed": true,
                "end": 899,
                "id": 1152991873351025700,
                "label": "IS_RELATED_TO",
                "properties": {
                  "label": "IS_RELATED_TO"
                },
                "start": 898,
                "styles": {},
                "thickness_factor": 1
              },
              {
                "color": "#673AB7",
                "directed": true,
                "end": 1255,
                "id": 1153098525978920000,
                "label": "VERIFIES",
                "properties": {
                  "label": "VERIFIES"
                },
                "start": 898,
                "styles": {},
                "thickness_factor": 1
              },
              {
                "color": "#673AB7",
                "directed": true,
                "end": 909,
                "id": 1153169994234725400,
                "label": "CLASSIFIES",
                "properties": {
                  "label": "CLASSIFIES"
                },
                "start": 898,
                "styles": {},
                "thickness_factor": 1
              },
              {
                "color": "#CDDC39",
                "directed": true,
                "end": 1030,
                "id": 1153241462490530800,
                "label": "CONDUCTS",
                "properties": {
                  "label": "CONDUCTS"
                },
                "start": 898,
                "styles": {},
                "thickness_factor": 1
              },
              {
                "color": "#2196F3",
                "directed": true,
                "end": 906,
                "id": 1152979778723120000,
                "label": "BASED_ON",
                "properties": {
                  "label": "BASED_ON"
                },
                "start": 907,
                "styles": {},
                "thickness_factor": 1
              },
              {
                "color": "#9E9E9E",
                "directed": true,
                "end": 915,
                "id": 1153173292769608700,
                "label": "SUSPENDS",
                "properties": {
                  "label": "SUSPENDS"
                },
                "start": 914,
                "styles": {},
                "thickness_factor": 1
              },
              {
                "color": "#673AB7",
                "directed": true,
                "end": 894,
                "id": 1153138108397520000,
                "label": "IS_HEAD_OF",
                "properties": {
                  "label": "IS_HEAD_OF"
                },
                "start": 917,
                "styles": {},
                "thickness_factor": 1
              },
              {
                "color": "#9C27B0",
                "directed": true,
                "end": 920,
                "id": 1153174392281236500,
                "label": "REGULARISES_NOT",
                "properties": {
                  "label": "REGULARISES_NOT"
                },
                "start": 919,
                "styles": {},
                "thickness_factor": 1
              },
              {
                "color": "#CDDC39",
                "directed": true,
                "end": 30,
                "id": 1152969883118470100,
                "label": "CONTAINS",
                "properties": {
                  "label": "CONTAINS"
                },
                "start": 922,
                "styles": {},
                "thickness_factor": 1
              },
              {
                "color": "#673AB7",
                "directed": true,
                "end": 101,
                "id": 1152943494839403500,
                "label": "PUBLISHED_ON",
                "properties": {
                  "label": "PUBLISHED_ON"
                },
                "start": 924,
                "styles": {},
                "thickness_factor": 1
              },
              {
                "color": "#2196F3",
                "directed": true,
                "end": 942,
                "id": 1153182088862631000,
                "label": "JUSTIFIES",
                "properties": {
                  "label": "JUSTIFIES"
                },
                "start": 924,
                "styles": {},
                "thickness_factor": 1
              },
              {
                "color": "#4CAF50",
                "directed": true,
                "end": 929,
                "id": 1153176591304492000,
                "label": "IS_SIGNED_BY",
                "properties": {
                  "label": "IS_SIGNED_BY"
                },
                "start": 928,
                "styles": {},
                "thickness_factor": 1
              },
              {
                "color": "#F44336",
                "directed": true,
                "end": 932,
                "id": 1153177690816119800,
                "label": "DURATION_OF",
                "properties": {
                  "label": "DURATION_OF"
                },
                "start": 931,
                "styles": {},
                "thickness_factor": 1
              },
              {
                "color": "#CDDC39",
                "directed": true,
                "end": 887,
                "id": 1153089729885897700,
                "label": "CONSULTS",
                "properties": {
                  "label": "CONSULTS"
                },
                "start": 936,
                "styles": {},
                "thickness_factor": 1
              },
              {
                "color": "#607D8B",
                "directed": true,
                "end": 946,
                "id": 1152942395327775700,
                "label": "INVOLVES",
                "properties": {
                  "label": "INVOLVES"
                },
                "start": 945,
                "styles": {},
                "thickness_factor": 1
              },
              {
                "color": "#607D8B",
                "directed": true,
                "end": 948,
                "id": 1153183188374258700,
                "label": "NEGOTIATED_WITH",
                "properties": {
                  "label": "NEGOTIATED_WITH"
                },
                "start": 949,
                "styles": {},
                "thickness_factor": 1
              },
              {
                "color": "#673AB7",
                "directed": true,
                "end": 952,
                "id": 1153184287885886500,
                "label": "IS_DATE_LIMITED_BY",
                "properties": {
                  "label": "IS_DATE_LIMITED_BY"
                },
                "start": 951,
                "styles": {},
                "thickness_factor": 1
              },
              {
                "color": "#CDDC39",
                "directed": true,
                "end": 954,
                "id": 1153185387397514200,
                "label": "IS_FOR",
                "properties": {
                  "label": "IS_FOR"
                },
                "start": 955,
                "styles": {},
                "thickness_factor": 1
              },
              {
                "color": "#607D8B",
                "directed": true,
                "end": 659,
                "id": 1153144705467286500,
                "label": "SUBMITTED_TO",
                "properties": {
                  "label": "SUBMITTED_TO"
                },
                "start": 958,
                "styles": {},
                "thickness_factor": 1
              },
              {
                "color": "#9E9E9E",
                "directed": true,
                "end": 960,
                "id": 1153186486909142000,
                "label": "REPORTED_BY",
                "properties": {
                  "label": "REPORTED_BY"
                },
                "start": 961,
                "styles": {},
                "thickness_factor": 1
              },
              {
                "color": "#9C27B0",
                "directed": true,
                "end": 963,
                "id": 1153187586420769800,
                "label": "CAN_BE_CONCLUDED",
                "properties": {
                  "label": "CAN_BE_CONCLUDED"
                },
                "start": 964,
                "styles": {},
                "thickness_factor": 1
              },
              {
                "color": "#607D8B",
                "directed": true,
                "end": 970,
                "id": 1152991873351025700,
                "label": "IS_RELATED_TO",
                "properties": {
                  "label": "IS_RELATED_TO"
                },
                "start": 969,
                "styles": {},
                "thickness_factor": 1
              },
              {
                "color": "#2196F3",
                "directed": true,
                "end": 973,
                "id": 1152922604118475800,
                "label": "RELATED_TO",
                "properties": {
                  "label": "RELATED_TO"
                },
                "start": 972,
                "styles": {},
                "thickness_factor": 1
              },
              {
                "color": "#2196F3",
                "directed": true,
                "end": 976,
                "id": 1152922604118475800,
                "label": "RELATED_TO",
                "properties": {
                  "label": "RELATED_TO"
                },
                "start": 975,
                "styles": {},
                "thickness_factor": 1
              },
              {
                "color": "#9E9E9E",
                "directed": true,
                "end": 981,
                "id": 1152933599234753500,
                "label": "IS_RESPONSIBLE_FOR",
                "properties": {
                  "label": "IS_RESPONSIBLE_FOR"
                },
                "start": 980,
                "styles": {},
                "thickness_factor": 1
              },
              {
                "color": "#673AB7",
                "directed": true,
                "end": 993,
                "id": 1153088630374270000,
                "label": "REFERENCES",
                "properties": {
                  "label": "REFERENCES"
                },
                "start": 994,
                "styles": {},
                "thickness_factor": 1
              },
              {
                "color": "#2196F3",
                "directed": true,
                "end": 997,
                "id": 1153195283002164200,
                "label": "PAID_BY",
                "properties": {
                  "label": "PAID_BY"
                },
                "start": 996,
                "styles": {},
                "thickness_factor": 1
              },
              {
                "color": "#4CAF50",
                "directed": true,
                "end": 134,
                "id": 1153230467374253000,
                "label": "OFFERS",
                "properties": {
                  "label": "OFFERS"
                },
                "start": 996,
                "styles": {},
                "thickness_factor": 1
              },
              {
                "color": "#F44336",
                "directed": true,
                "end": 1139,
                "id": 1153233765909136400,
                "label": "RECEIVED_HIGHEST_GRADE",
                "properties": {
                  "label": "RECEIVED_HIGHEST_GRADE"
                },
                "start": 996,
                "styles": {},
                "thickness_factor": 1
              },
              {
                "color": "#607D8B",
                "directed": true,
                "end": 1141,
                "id": 1153253557118436400,
                "label": "IS_CONCURRENT_WITH",
                "properties": {
                  "label": "IS_CONCURRENT_WITH"
                },
                "start": 996,
                "styles": {},
                "thickness_factor": 1
              },
              {
                "color": "#673AB7",
                "directed": true,
                "end": 999,
                "id": 1153196382513792000,
                "label": "INCLUDED_IN",
                "properties": {
                  "label": "INCLUDED_IN"
                },
                "start": 1000,
                "styles": {},
                "thickness_factor": 1
              },
              {
                "color": "#CDDC39",
                "directed": true,
                "end": 1002,
                "id": 1153197482025419800,
                "label": "SIMILAR_TO",
                "properties": {
                  "label": "SIMILAR_TO"
                },
                "start": 1002,
                "styles": {},
                "thickness_factor": 1
              },
              {
                "color": "#9E9E9E",
                "directed": true,
                "end": 1484,
                "id": 1153314030257964000,
                "label": "CONCERNS",
                "properties": {
                  "label": "CONCERNS"
                },
                "start": 1002,
                "styles": {},
                "thickness_factor": 1
              },
              {
                "color": "#CDDC39",
                "directed": true,
                "end": 1128,
                "id": 6917538923245733000,
                "label": "REQUESTS_INFORMATION",
                "properties": {
                  "label": "REQUESTS_INFORMATION"
                },
                "start": 1005,
                "styles": {},
                "thickness_factor": 1
              },
              {
                "color": "#9C27B0",
                "directed": true,
                "end": 1050,
                "id": 1153209576653325300,
                "label": "HAVE_JURIDICAL_CAPACITIES",
                "properties": {
                  "label": "HAVE_JURIDICAL_CAPACITIES"
                },
                "start": 1005,
                "styles": {},
                "thickness_factor": 1
              },
              {
                "color": "#2196F3",
                "directed": true,
                "end": 34,
                "id": 1153252457606808600,
                "label": "SUBMIT_PROJECTS",
                "properties": {
                  "label": "SUBMIT_PROJECTS"
                },
                "start": 1005,
                "styles": {},
                "thickness_factor": 1
              },
              {
                "color": "#4CAF50",
                "directed": true,
                "end": 30,
                "id": 1153256855653319700,
                "label": "COMPETE_AGAINST",
                "properties": {
                  "label": "COMPETE_AGAINST"
                },
                "start": 1005,
                "styles": {},
                "thickness_factor": 1
              },
              {
                "color": "#F44336",
                "directed": true,
                "end": 1005,
                "id": 1153268950281225200,
                "label": "RECEIVED_RESPONSES_FROM",
                "properties": {
                  "label": "RECEIVED_RESPONSES_FROM"
                },
                "start": 1005,
                "styles": {},
                "thickness_factor": 1
              },
              {
                "color": "#607D8B",
                "directed": true,
                "end": 1297,
                "id": 6917884169896855000,
                "label": "NUMBER_OF_CONCURRENTS",
                "properties": {
                  "label": "NUMBER_OF_CONCURRENTS"
                },
                "start": 1005,
                "styles": {},
                "thickness_factor": 1
              },
              {
                "color": "#9E9E9E",
                "directed": true,
                "end": 1007,
                "id": 1153049047955670000,
                "label": "SELECTED_BY",
                "properties": {
                  "label": "SELECTED_BY"
                },
                "start": 1008,
                "styles": {},
                "thickness_factor": 1
              },
              {
                "color": "#673AB7",
                "directed": true,
                "end": 37,
                "id": 1153198581537047600,
                "label": "PERMITS",
                "properties": {
                  "label": "PERMITS"
                },
                "start": 1010,
                "styles": {},
                "thickness_factor": 1
              },
              {
                "color": "#CDDC39",
                "directed": true,
                "end": 948,
                "id": 1153245860537042000,
                "label": "ORGANIZED_BY",
                "properties": {
                  "label": "ORGANIZED_BY"
                },
                "start": 1010,
                "styles": {},
                "thickness_factor": 1
              },
              {
                "color": "#9E9E9E",
                "directed": true,
                "end": 1015,
                "id": 1153200780560303000,
                "label": "IS_DEFINED_BY",
                "properties": {
                  "label": "IS_DEFINED_BY"
                },
                "start": 1016,
                "styles": {},
                "thickness_factor": 1
              },
              {
                "color": "#2196F3",
                "directed": true,
                "end": 1020,
                "id": 1152922604118475800,
                "label": "RELATED_TO",
                "properties": {
                  "label": "RELATED_TO"
                },
                "start": 1019,
                "styles": {},
                "thickness_factor": 1
              },
              {
                "color": "#4CAF50",
                "directed": true,
                "end": 1002,
                "id": 1152923703630103600,
                "label": "REGULATES",
                "properties": {
                  "label": "REGULATES"
                },
                "start": 1024,
                "styles": {},
                "thickness_factor": 1
              },
              {
                "color": "#2196F3",
                "directed": true,
                "end": 1026,
                "id": 1152922604118475800,
                "label": "RELATED_TO",
                "properties": {
                  "label": "RELATED_TO"
                },
                "start": 1027,
                "styles": {},
                "thickness_factor": 1
              },
              {
                "color": "#2196F3",
                "directed": true,
                "end": 1038,
                "id": 1155174403932161000,
                "label": "RELATED_TO",
                "properties": {
                  "label": "RELATED_TO"
                },
                "start": 1030,
                "styles": {},
                "thickness_factor": 1
              },
              {
                "color": "#9C27B0",
                "directed": true,
                "end": 34,
                "id": 1153202979583558700,
                "label": "CHOSEN_BY",
                "properties": {
                  "label": "CHOSEN_BY"
                },
                "start": 1032,
                "styles": {},
                "thickness_factor": 1
              },
              {
                "color": "#2196F3",
                "directed": true,
                "end": 1034,
                "id": 1153204079095186400,
                "label": "HAS_DURATION",
                "properties": {
                  "label": "HAS_DURATION"
                },
                "start": 1035,
                "styles": {},
                "thickness_factor": 1
              },
              {
                "color": "#4CAF50",
                "directed": true,
                "end": 1044,
                "id": 1153206278118442000,
                "label": "CAUSES",
                "properties": {
                  "label": "CAUSES"
                },
                "start": 1043,
                "styles": {},
                "thickness_factor": 1
              },
              {
                "color": "#F44336",
                "directed": true,
                "end": 1053,
                "id": 1153210676164953000,
                "label": "DEFINE_CRITERIA_FOR",
                "properties": {
                  "label": "DEFINE_CRITERIA_FOR"
                },
                "start": 1052,
                "styles": {},
                "thickness_factor": 1
              },
              {
                "color": "#607D8B",
                "directed": true,
                "end": 1060,
                "id": 1153211775676580900,
                "label": "HAVE_DEADLINE",
                "properties": {
                  "label": "HAVE_DEADLINE"
                },
                "start": 1059,
                "styles": {},
                "thickness_factor": 1
              },
              {
                "color": "#2196F3",
                "directed": true,
                "end": 1063,
                "id": 1152922604118475800,
                "label": "RELATED_TO",
                "properties": {
                  "label": "RELATED_TO"
                },
                "start": 1062,
                "styles": {},
                "thickness_factor": 1
              },
              {
                "color": "#9C27B0",
                "directed": true,
                "end": 675,
                "id": 1152932499723125800,
                "label": "REQUESTED_BY",
                "properties": {
                  "label": "REQUESTED_BY"
                },
                "start": 1066,
                "styles": {},
                "thickness_factor": 1
              },
              {
                "color": "#673AB7",
                "directed": true,
                "end": 101,
                "id": 1152943494839403500,
                "label": "PUBLISHED_ON",
                "properties": {
                  "label": "PUBLISHED_ON"
                },
                "start": 1066,
                "styles": {},
                "thickness_factor": 1
              },
              {
                "color": "#673AB7",
                "directed": true,
                "end": 1460,
                "id": 1153310731723080700,
                "label": "RECEIVES_RESPONSE",
                "properties": {
                  "label": "RECEIVES_RESPONSE"
                },
                "start": 1066,
                "styles": {},
                "thickness_factor": 1
              },
              {
                "color": "#CDDC39",
                "directed": true,
                "end": 1005,
                "id": 1153213974699836400,
                "label": "MAINTAINED_BY",
                "properties": {
                  "label": "MAINTAINED_BY"
                },
                "start": 1070,
                "styles": {},
                "thickness_factor": 1
              },
              {
                "color": "#F44336",
                "directed": true,
                "end": 1081,
                "id": 1152947892885914600,
                "label": "REQUIRES",
                "properties": {
                  "label": "REQUIRES"
                },
                "start": 1080,
                "styles": {},
                "thickness_factor": 1
              },
              {
                "color": "#F44336",
                "directed": true,
                "end": 1085,
                "id": 1152947892885914600,
                "label": "REQUIRES",
                "properties": {
                  "label": "REQUIRES"
                },
                "start": 1086,
                "styles": {},
                "thickness_factor": 1
              },
              {
                "color": "#2196F3",
                "directed": true,
                "end": 1030,
                "id": 1152922604118475800,
                "label": "RELATED_TO",
                "properties": {
                  "label": "RELATED_TO"
                },
                "start": 1088,
                "styles": {},
                "thickness_factor": 1
              },
              {
                "color": "#2196F3",
                "directed": true,
                "end": 1090,
                "id": 1152922604118475800,
                "label": "RELATED_TO",
                "properties": {
                  "label": "RELATED_TO"
                },
                "start": 1091,
                "styles": {},
                "thickness_factor": 1
              },
              {
                "color": "#9E9E9E",
                "directed": true,
                "end": 1094,
                "id": 1153218372746347500,
                "label": "REGISTERED_ON",
                "properties": {
                  "label": "REGISTERED_ON"
                },
                "start": 1093,
                "styles": {},
                "thickness_factor": 1
              },
              {
                "color": "#9C27B0",
                "directed": true,
                "end": 948,
                "id": 1153219472257975300,
                "label": "MUST_BE_MAINTAINED_BY",
                "properties": {
                  "label": "MUST_BE_MAINTAINED_BY"
                },
                "start": 1096,
                "styles": {},
                "thickness_factor": 1
              },
              {
                "color": "#9C27B0",
                "directed": true,
                "end": 1099,
                "id": 1153220571769603000,
                "label": "COMPOSED_OF",
                "properties": {
                  "label": "COMPOSED_OF"
                },
                "start": 1098,
                "styles": {},
                "thickness_factor": 1
              },
              {
                "color": "#673AB7",
                "directed": true,
                "end": 1137,
                "id": 1153166695699842000,
                "label": "EVALUATES",
                "properties": {
                  "label": "EVALUATES"
                },
                "start": 1101,
                "styles": {},
                "thickness_factor": 1
              },
              {
                "color": "#2196F3",
                "directed": true,
                "end": 1173,
                "id": 1153243661513786400,
                "label": "CANNOT_CLAIM_COMPENSATION",
                "properties": {
                  "label": "CANNOT_CLAIM_COMPENSATION"
                },
                "start": 1101,
                "styles": {},
                "thickness_factor": 1
              },
              {
                "color": "#4CAF50",
                "directed": true,
                "end": 1276,
                "id": 6917878672338716000,
                "label": "PARTICIPATES_IN",
                "properties": {
                  "label": "PARTICIPATES_IN"
                },
                "start": 1101,
                "styles": {},
                "thickness_factor": 1
              },
              {
                "color": "#9C27B0",
                "directed": true,
                "end": 848,
                "id": 1153220571769603000,
                "label": "COMPOSED_OF",
                "properties": {
                  "label": "COMPOSED_OF"
                },
                "start": 1103,
                "styles": {},
                "thickness_factor": 1
              },
              {
                "color": "#F44336",
                "directed": true,
                "end": 1105,
                "id": 1153222770792858600,
                "label": "HAVE_INCOMPLETE_FILES",
                "properties": {
                  "label": "HAVE_INCOMPLETE_FILES"
                },
                "start": 1106,
                "styles": {},
                "thickness_factor": 1
              },
              {
                "color": "#9E9E9E",
                "directed": true,
                "end": 1234,
                "id": 1152933599234753500,
                "label": "IS_RESPONSIBLE_FOR",
                "properties": {
                  "label": "IS_RESPONSIBLE_FOR"
                },
                "start": 1108,
                "styles": {},
                "thickness_factor": 1
              },
              {
                "color": "#607D8B",
                "directed": true,
                "end": 1141,
                "id": 1153080933792875500,
                "label": "INVITED",
                "properties": {
                  "label": "INVITED"
                },
                "start": 1108,
                "styles": {},
                "thickness_factor": 1
              },
              {
                "color": "#607D8B",
                "directed": true,
                "end": 894,
                "id": 1153223870304486400,
                "label": "CHAIRS",
                "properties": {
                  "label": "CHAIRS"
                },
                "start": 1108,
                "styles": {},
                "thickness_factor": 1
              },
              {
                "color": "#673AB7",
                "directed": true,
                "end": 1133,
                "id": 1153232666397508600,
                "label": "ANNOUNCED_DATE",
                "properties": {
                  "label": "ANNOUNCED_DATE"
                },
                "start": 1108,
                "styles": {},
                "thickness_factor": 1
              },
              {
                "color": "#CDDC39",
                "directed": true,
                "end": 894,
                "id": 1153266751257969700,
                "label": "SUSPENDS_SEANCE",
                "properties": {
                  "label": "SUSPENDS_SEANCE"
                },
                "start": 1108,
                "styles": {},
                "thickness_factor": 1
              },
              {
                "color": "#2196F3",
                "directed": true,
                "end": 1111,
                "id": 1152922604118475800,
                "label": "RELATED_TO",
                "properties": {
                  "label": "RELATED_TO"
                },
                "start": 1110,
                "styles": {},
                "thickness_factor": 1
              },
              {
                "color": "#9E9E9E",
                "directed": true,
                "end": 674,
                "id": 1153228268350997500,
                "label": "ANNOUNCES_CONTENTS",
                "properties": {
                  "label": "ANNOUNCES_CONTENTS"
                },
                "start": 1119,
                "styles": {},
                "thickness_factor": 1
              },
              {
                "color": "#9C27B0",
                "directed": true,
                "end": 1236,
                "id": 1153255756141692000,
                "label": "CHECKS",
                "properties": {
                  "label": "CHECKS"
                },
                "start": 1119,
                "styles": {},
                "thickness_factor": 1
              },
              {
                "color": "#2196F3",
                "directed": true,
                "end": 1122,
                "id": 1153229367862625300,
                "label": "PROPOSED_COST_ESTIMATE",
                "properties": {
                  "label": "PROPOSED_COST_ESTIMATE"
                },
                "start": 1121,
                "styles": {},
                "thickness_factor": 1
              },
              {
                "color": "#4CAF50",
                "directed": true,
                "end": 1101,
                "id": 1153231566885880800,
                "label": "INCLUDES_MEMBER",
                "properties": {
                  "label": "INCLUDES_MEMBER"
                },
                "start": 1126,
                "styles": {},
                "thickness_factor": 1
              },
              {
                "color": "#2196F3",
                "directed": true,
                "end": 1130,
                "id": 1152979778723120000,
                "label": "BASED_ON",
                "properties": {
                  "label": "BASED_ON"
                },
                "start": 1131,
                "styles": {},
                "thickness_factor": 1
              },
              {
                "color": "#2196F3",
                "directed": true,
                "end": 1155,
                "id": 1152922604118476000,
                "label": "RELATED_TO",
                "properties": {
                  "label": "RELATED_TO"
                },
                "start": 1156,
                "styles": {},
                "thickness_factor": 1
              },
              {
                "color": "#2196F3",
                "directed": true,
                "end": 1159,
                "id": 1152922604118476000,
                "label": "RELATED_TO",
                "properties": {
                  "label": "RELATED_TO"
                },
                "start": 1158,
                "styles": {},
                "thickness_factor": 1
              },
              {
                "color": "#2196F3",
                "directed": true,
                "end": 37,
                "id": 1152922604118476000,
                "label": "RELATED_TO",
                "properties": {
                  "label": "RELATED_TO"
                },
                "start": 1164,
                "styles": {},
                "thickness_factor": 1
              },
              {
                "color": "#F44336",
                "directed": true,
                "end": 1176,
                "id": 1153244761025414400,
                "label": "IS_IMPLEMENTED_BY",
                "properties": {
                  "label": "IS_IMPLEMENTED_BY"
                },
                "start": 1175,
                "styles": {},
                "thickness_factor": 1
              },
              {
                "color": "#2196F3",
                "directed": true,
                "end": 1180,
                "id": 1152922604118476000,
                "label": "RELATED_TO",
                "properties": {
                  "label": "RELATED_TO"
                },
                "start": 1179,
                "styles": {},
                "thickness_factor": 1
              },
              {
                "color": "#2196F3",
                "directed": true,
                "end": 1185,
                "id": 1152922604118476000,
                "label": "RELATED_TO",
                "properties": {
                  "label": "RELATED_TO"
                },
                "start": 1184,
                "styles": {},
                "thickness_factor": 1
              },
              {
                "color": "#9E9E9E",
                "directed": true,
                "end": 1188,
                "id": 1153104023537059000,
                "label": "HAS_CHARACTERISTIC",
                "properties": {
                  "label": "HAS_CHARACTERISTIC"
                },
                "start": 1187,
                "styles": {},
                "thickness_factor": 1
              },
              {
                "color": "#607D8B",
                "directed": true,
                "end": 1193,
                "id": 1153246960048670000,
                "label": "CHARACTERIZED_BY",
                "properties": {
                  "label": "CHARACTERIZED_BY"
                },
                "start": 1194,
                "styles": {},
                "thickness_factor": 1
              },
              {
                "color": "#673AB7",
                "directed": true,
                "end": 1197,
                "id": 1153248059560297700,
                "label": "HAS_COST_ESTIMATION",
                "properties": {
                  "label": "HAS_COST_ESTIMATION"
                },
                "start": 1196,
                "styles": {},
                "thickness_factor": 1
              },
              {
                "color": "#2196F3",
                "directed": true,
                "end": 1201,
                "id": 1152922604118476000,
                "label": "RELATED_TO",
                "properties": {
                  "label": "RELATED_TO"
                },
                "start": 1200,
                "styles": {},
                "thickness_factor": 1
              },
              {
                "color": "#2196F3",
                "directed": true,
                "end": 1206,
                "id": 1152922604118476000,
                "label": "RELATED_TO",
                "properties": {
                  "label": "RELATED_TO"
                },
                "start": 1204,
                "styles": {},
                "thickness_factor": 1
              },
              {
                "color": "#CDDC39",
                "directed": true,
                "end": 1203,
                "id": 1153249159071925500,
                "label": "COMMUNICATED_TO",
                "properties": {
                  "label": "COMMUNICATED_TO"
                },
                "start": 1204,
                "styles": {},
                "thickness_factor": 1
              },
              {
                "color": "#9E9E9E",
                "directed": true,
                "end": 183,
                "id": 1153250258583553300,
                "label": "RECEIVED_INFORMATION",
                "properties": {
                  "label": "RECEIVED_INFORMATION"
                },
                "start": 1208,
                "styles": {},
                "thickness_factor": 1
              },
              {
                "color": "#9C27B0",
                "directed": true,
                "end": 1210,
                "id": 1153251358095181000,
                "label": "NECESSITATE",
                "properties": {
                  "label": "NECESSITATE"
                },
                "start": 1211,
                "styles": {},
                "thickness_factor": 1
              },
              {
                "color": "#2196F3",
                "directed": true,
                "end": 1216,
                "id": 1152922604118476000,
                "label": "RELATED_TO",
                "properties": {
                  "label": "RELATED_TO"
                },
                "start": 1217,
                "styles": {},
                "thickness_factor": 1
              },
              {
                "color": "#2196F3",
                "directed": true,
                "end": 1220,
                "id": 1152922604118476000,
                "label": "RELATED_TO",
                "properties": {
                  "label": "RELATED_TO"
                },
                "start": 1221,
                "styles": {},
                "thickness_factor": 1
              },
              {
                "color": "#607D8B",
                "directed": true,
                "end": 1224,
                "id": 1152925902653359400,
                "label": "ASSOCIATED_WITH",
                "properties": {
                  "label": "ASSOCIATED_WITH"
                },
                "start": 1223,
                "styles": {},
                "thickness_factor": 1
              },
              {
                "color": "#CDDC39",
                "directed": true,
                "end": 1226,
                "id": 1152969883118470400,
                "label": "CONTAINS",
                "properties": {
                  "label": "CONTAINS"
                },
                "start": 1227,
                "styles": {},
                "thickness_factor": 1
              },
              {
                "color": "#F44336",
                "directed": true,
                "end": 1005,
                "id": 1152975380676609300,
                "label": "CONTAINS_INFORMATION_ABOUT",
                "properties": {
                  "label": "CONTAINS_INFORMATION_ABOUT"
                },
                "start": 1232,
                "styles": {},
                "thickness_factor": 1
              },
              {
                "color": "#2196F3",
                "directed": true,
                "end": 1241,
                "id": 1153259054676575500,
                "label": "USES_CRITERIA",
                "properties": {
                  "label": "USES_CRITERIA"
                },
                "start": 1240,
                "styles": {},
                "thickness_factor": 1
              },
              {
                "color": "#607D8B",
                "directed": true,
                "end": 1244,
                "id": 1152991873351026000,
                "label": "IS_RELATED_TO",
                "properties": {
                  "label": "IS_RELATED_TO"
                },
                "start": 1245,
                "styles": {},
                "thickness_factor": 1
              },
              {
                "color": "#CDDC39",
                "directed": true,
                "end": 1252,
                "id": 1152969883118470400,
                "label": "CONTAINS",
                "properties": {
                  "label": "CONTAINS"
                },
                "start": 1251,
                "styles": {},
                "thickness_factor": 1
              },
              {
                "color": "#4CAF50",
                "directed": true,
                "end": 1257,
                "id": 1153264552234714400,
                "label": "HAS_RESTRICTION",
                "properties": {
                  "label": "HAS_RESTRICTION"
                },
                "start": 1258,
                "styles": {},
                "thickness_factor": 1
              },
              {
                "color": "#607D8B",
                "directed": true,
                "end": 1159,
                "id": 1153080933792875800,
                "label": "INVITED",
                "properties": {
                  "label": "INVITED"
                },
                "start": 1262,
                "styles": {},
                "thickness_factor": 1
              },
              {
                "color": "#9E9E9E",
                "directed": true,
                "end": 1265,
                "id": 1152933599234753800,
                "label": "IS_RESPONSIBLE_FOR",
                "properties": {
                  "label": "IS_RESPONSIBLE_FOR"
                },
                "start": 1264,
                "styles": {},
                "thickness_factor": 1
              },
              {
                "color": "#F44336",
                "directed": true,
                "end": 1279,
                "id": 1153273348327736600,
                "label": "HAVE_TYPE",
                "properties": {
                  "label": "HAVE_TYPE"
                },
                "start": 1280,
                "styles": {},
                "thickness_factor": 1
              },
              {
                "color": "#607D8B",
                "directed": true,
                "end": 1282,
                "id": 1153274447839364400,
                "label": "HAPPENED_WITH",
                "properties": {
                  "label": "HAPPENED_WITH"
                },
                "start": 1283,
                "styles": {},
                "thickness_factor": 1
              },
              {
                "color": "#2196F3",
                "directed": true,
                "end": 1290,
                "id": 1152922604118476000,
                "label": "RELATED_TO",
                "properties": {
                  "label": "RELATED_TO"
                },
                "start": 1289,
                "styles": {},
                "thickness_factor": 1
              },
              {
                "color": "#607D8B",
                "directed": true,
                "end": 34,
                "id": 1153144705467286800,
                "label": "SUBMITTED_TO",
                "properties": {
                  "label": "SUBMITTED_TO"
                },
                "start": 1292,
                "styles": {},
                "thickness_factor": 1
              },
              {
                "color": "#9C27B0",
                "directed": true,
                "end": 1295,
                "id": 1153083132816131300,
                "label": "EXAMINES",
                "properties": {
                  "label": "EXAMINES"
                },
                "start": 1294,
                "styles": {},
                "thickness_factor": 1
              },
              {
                "color": "#673AB7",
                "directed": true,
                "end": 1106,
                "id": 1153277746374247700,
                "label": "ENGAGE_WITH",
                "properties": {
                  "label": "ENGAGE_WITH"
                },
                "start": 1294,
                "styles": {},
                "thickness_factor": 1
              },
              {
                "color": "#2196F3",
                "directed": true,
                "end": 1300,
                "id": 1152922604118476000,
                "label": "RELATED_TO",
                "properties": {
                  "label": "RELATED_TO"
                },
                "start": 1301,
                "styles": {},
                "thickness_factor": 1
              },
              {
                "color": "#F44336",
                "directed": true,
                "end": 1307,
                "id": 1152947892885915000,
                "label": "REQUIRES",
                "properties": {
                  "label": "REQUIRES"
                },
                "start": 1308,
                "styles": {},
                "thickness_factor": 1
              },
              {
                "color": "#CDDC39",
                "directed": true,
                "end": 1311,
                "id": 1153021560164975900,
                "label": "APPROVED_BY",
                "properties": {
                  "label": "APPROVED_BY"
                },
                "start": 1312,
                "styles": {},
                "thickness_factor": 1
              },
              {
                "color": "#CDDC39",
                "directed": true,
                "end": 1315,
                "id": 1153021560164975900,
                "label": "APPROVED_BY",
                "properties": {
                  "label": "APPROVED_BY"
                },
                "start": 1314,
                "styles": {},
                "thickness_factor": 1
              },
              {
                "color": "#4CAF50",
                "directed": true,
                "end": 1320,
                "id": 1153007266513814800,
                "label": "HAS_PHASES",
                "properties": {
                  "label": "HAS_PHASES"
                },
                "start": 1321,
                "styles": {},
                "thickness_factor": 1
              },
              {
                "color": "#CDDC39",
                "directed": true,
                "end": 1324,
                "id": 1153281044909131000,
                "label": "USES_RESULTS_OF_STUDY",
                "properties": {
                  "label": "USES_RESULTS_OF_STUDY"
                },
                "start": 1323,
                "styles": {},
                "thickness_factor": 1
              },
              {
                "color": "#9E9E9E",
                "directed": true,
                "end": 1330,
                "id": 1153284343444014300,
                "label": "PREPARED_BY",
                "properties": {
                  "label": "PREPARED_BY"
                },
                "start": 1331,
                "styles": {},
                "thickness_factor": 1
              },
              {
                "color": "#2196F3",
                "directed": true,
                "end": 134,
                "id": 1152922604118476000,
                "label": "RELATED_TO",
                "properties": {
                  "label": "RELATED_TO"
                },
                "start": 1335,
                "styles": {},
                "thickness_factor": 1
              },
              {
                "color": "#CDDC39",
                "directed": true,
                "end": 1339,
                "id": 1152980878234748200,
                "label": "DETERMINED_BY",
                "properties": {
                  "label": "DETERMINED_BY"
                },
                "start": 1340,
                "styles": {},
                "thickness_factor": 1
              },
              {
                "color": "#CDDC39",
                "directed": true,
                "end": 1345,
                "id": 1152980878234748200,
                "label": "DETERMINED_BY",
                "properties": {
                  "label": "DETERMINED_BY"
                },
                "start": 1344,
                "styles": {},
                "thickness_factor": 1
              },
              {
                "color": "#607D8B",
                "directed": true,
                "end": 1350,
                "id": 1152948992397542700,
                "label": "DEFINED_BY",
                "properties": {
                  "label": "DEFINED_BY"
                },
                "start": 1349,
                "styles": {},
                "thickness_factor": 1
              },
              {
                "color": "#2196F3",
                "directed": true,
                "end": 1353,
                "id": 1152986375792887000,
                "label": "IS_PART_OF",
                "properties": {
                  "label": "IS_PART_OF"
                },
                "start": 1352,
                "styles": {},
                "thickness_factor": 1
              },
              {
                "color": "#4CAF50",
                "directed": true,
                "end": 271,
                "id": 1152923703630103800,
                "label": "REGULATES",
                "properties": {
                  "label": "REGULATES"
                },
                "start": 1356,
                "styles": {},
                "thickness_factor": 1
              },
              {
                "color": "#607D8B",
                "directed": true,
                "end": 1359,
                "id": 1152948992397542700,
                "label": "DEFINED_BY",
                "properties": {
                  "label": "DEFINED_BY"
                },
                "start": 1358,
                "styles": {},
                "thickness_factor": 1
              },
              {
                "color": "#2196F3",
                "directed": true,
                "end": 1362,
                "id": 1152959987513820400,
                "label": "REPRESENTS",
                "properties": {
                  "label": "REPRESENTS"
                },
                "start": 1361,
                "styles": {},
                "thickness_factor": 1
              },
              {
                "color": "#9C27B0",
                "directed": true,
                "end": 1364,
                "id": 1153288741490525400,
                "label": "IS_SOLIDAIRE_WITH",
                "properties": {
                  "label": "IS_SOLIDAIRE_WITH"
                },
                "start": 1365,
                "styles": {},
                "thickness_factor": 1
              },
              {
                "color": "#9C27B0",
                "directed": true,
                "end": 181,
                "id": 1152972082141726000,
                "label": "DESCRIBES",
                "properties": {
                  "label": "DESCRIBES"
                },
                "start": 1367,
                "styles": {},
                "thickness_factor": 1
              },
              {
                "color": "#CDDC39",
                "directed": true,
                "end": 201,
                "id": 1153021560164975900,
                "label": "APPROVED_BY",
                "properties": {
                  "label": "APPROVED_BY"
                },
                "start": 1369,
                "styles": {},
                "thickness_factor": 1
              },
              {
                "color": "#F44336",
                "directed": true,
                "end": 1372,
                "id": 1152947892885915000,
                "label": "REQUIRES",
                "properties": {
                  "label": "REQUIRES"
                },
                "start": 1371,
                "styles": {},
                "thickness_factor": 1
              },
              {
                "color": "#607D8B",
                "directed": true,
                "end": 1374,
                "id": 1153172193257981200,
                "label": "PRODUCES",
                "properties": {
                  "label": "PRODUCES"
                },
                "start": 1375,
                "styles": {},
                "thickness_factor": 1
              },
              {
                "color": "#2196F3",
                "directed": true,
                "end": 1377,
                "id": 1152959987513820400,
                "label": "REPRESENTS",
                "properties": {
                  "label": "REPRESENTS"
                },
                "start": 1378,
                "styles": {},
                "thickness_factor": 1
              },
              {
                "color": "#2196F3",
                "directed": true,
                "end": 1380,
                "id": 1153289841002153200,
                "label": "CAUTIONS",
                "properties": {
                  "label": "CAUTIONS"
                },
                "start": 1381,
                "styles": {},
                "thickness_factor": 1
              },
              {
                "color": "#4CAF50",
                "directed": true,
                "end": 30,
                "id": 1153292040025408800,
                "label": "MEET_CONDITIONS",
                "properties": {
                  "label": "MEET_CONDITIONS"
                },
                "start": 1386,
                "styles": {},
                "thickness_factor": 1
              },
              {
                "color": "#673AB7",
                "directed": true,
                "end": 1389,
                "id": 1152977579699864800,
                "label": "INCLUDES",
                "properties": {
                  "label": "INCLUDES"
                },
                "start": 1388,
                "styles": {},
                "thickness_factor": 1
              },
              {
                "color": "#F44336",
                "directed": true,
                "end": 1391,
                "id": 1153293139537036500,
                "label": "IMPOSED_BY",
                "properties": {
                  "label": "IMPOSED_BY"
                },
                "start": 1392,
                "styles": {},
                "thickness_factor": 1
              },
              {
                "color": "#607D8B",
                "directed": true,
                "end": 1462,
                "id": 1153033654792881400,
                "label": "ESTABLISHED_BY",
                "properties": {
                  "label": "ESTABLISHED_BY"
                },
                "start": 1395,
                "styles": {},
                "thickness_factor": 1
              },
              {
                "color": "#607D8B",
                "directed": true,
                "end": 1394,
                "id": 1153294239048664300,
                "label": "ADVISOR_OF",
                "properties": {
                  "label": "ADVISOR_OF"
                },
                "start": 1395,
                "styles": {},
                "thickness_factor": 1
              },
              {
                "color": "#673AB7",
                "directed": true,
                "end": 1395,
                "id": 1153295338560292000,
                "label": "MADE_DECISION",
                "properties": {
                  "label": "MADE_DECISION"
                },
                "start": 1397,
                "styles": {},
                "thickness_factor": 1
              },
              {
                "color": "#CDDC39",
                "directed": true,
                "end": 1402,
                "id": 1153296438071919900,
                "label": "HAS_MISSION",
                "properties": {
                  "label": "HAS_MISSION"
                },
                "start": 1401,
                "styles": {},
                "thickness_factor": 1
              },
              {
                "color": "#607D8B",
                "directed": true,
                "end": 1404,
                "id": 1153144705467286800,
                "label": "SUBMITTED_TO",
                "properties": {
                  "label": "SUBMITTED_TO"
                },
                "start": 1405,
                "styles": {},
                "thickness_factor": 1
              },
              {
                "color": "#9E9E9E",
                "directed": true,
                "end": 1413,
                "id": 1153298637095175700,
                "label": "DELEGATED_TO",
                "properties": {
                  "label": "DELEGATED_TO"
                },
                "start": 1414,
                "styles": {},
                "thickness_factor": 1
              },
              {
                "color": "#9C27B0",
                "directed": true,
                "end": 34,
                "id": 1153299736606803500,
                "label": "IS_COORDINATED_BY",
                "properties": {
                  "label": "IS_COORDINATED_BY"
                },
                "start": 1416,
                "styles": {},
                "thickness_factor": 1
              },
              {
                "color": "#2196F3",
                "directed": true,
                "end": 1418,
                "id": 1153300836118431200,
                "label": "HAS_MEMBER",
                "properties": {
                  "label": "HAS_MEMBER"
                },
                "start": 1416,
                "styles": {},
                "thickness_factor": 1
              },
              {
                "color": "#4CAF50",
                "directed": true,
                "end": 1425,
                "id": 1153303035141686800,
                "label": "LAUNCHED_BY",
                "properties": {
                  "label": "LAUNCHED_BY"
                },
                "start": 1416,
                "styles": {},
                "thickness_factor": 1
              },
              {
                "color": "#9E9E9E",
                "directed": true,
                "end": 1423,
                "id": 1152933599234754000,
                "label": "IS_RESPONSIBLE_FOR",
                "properties": {
                  "label": "IS_RESPONSIBLE_FOR"
                },
                "start": 1422,
                "styles": {},
                "thickness_factor": 1
              },
              {
                "color": "#F44336",
                "directed": true,
                "end": 1429,
                "id": 1153305234164942300,
                "label": "REFUSES_CONCLUSION_OF_MARKETS",
                "properties": {
                  "label": "REFUSES_CONCLUSION_OF_MARKETS"
                },
                "start": 1427,
                "styles": {},
                "thickness_factor": 1
              },
              {
                "color": "#607D8B",
                "directed": true,
                "end": 1432,
                "id": 1153306333676570000,
                "label": "REPORTS_ON",
                "properties": {
                  "label": "REPORTS_ON"
                },
                "start": 1431,
                "styles": {},
                "thickness_factor": 1
              },
              {
                "color": "#2196F3",
                "directed": true,
                "end": 1436,
                "id": 1152922604118476300,
                "label": "RELATED_TO",
                "properties": {
                  "label": "RELATED_TO"
                },
                "start": 1437,
                "styles": {},
                "thickness_factor": 1
              },
              {
                "color": "#607D8B",
                "directed": true,
                "end": 61,
                "id": 1152991873351026200,
                "label": "IS_RELATED_TO",
                "properties": {
                  "label": "IS_RELATED_TO"
                },
                "start": 1441,
                "styles": {},
                "thickness_factor": 1
              },
              {
                "color": "#673AB7",
                "directed": true,
                "end": 1446,
                "id": 1153308532699825700,
                "label": "SUBMIT_COMPLAINT",
                "properties": {
                  "label": "SUBMIT_COMPLAINT"
                },
                "start": 1445,
                "styles": {},
                "thickness_factor": 1
              },
              {
                "color": "#607D8B",
                "directed": true,
                "end": 669,
                "id": 1152991873351026200,
                "label": "IS_RELATED_TO",
                "properties": {
                  "label": "IS_RELATED_TO"
                },
                "start": 1452,
                "styles": {},
                "thickness_factor": 1
              },
              {
                "color": "#9E9E9E",
                "directed": true,
                "end": 1457,
                "id": 1152933599234754000,
                "label": "IS_RESPONSIBLE_FOR",
                "properties": {
                  "label": "IS_RESPONSIBLE_FOR"
                },
                "start": 1458,
                "styles": {},
                "thickness_factor": 1
              },
              {
                "color": "#2196F3",
                "directed": true,
                "end": 1220,
                "id": 1153307433188198000,
                "label": "SUBJECT_TO",
                "properties": {
                  "label": "SUBJECT_TO"
                },
                "start": 1465,
                "styles": {},
                "thickness_factor": 1
              },
              {
                "color": "#CDDC39",
                "directed": true,
                "end": 1467,
                "id": 1153311831234709000,
                "label": "PUBLISHED_DOCUMENTS",
                "properties": {
                  "label": "PUBLISHED_DOCUMENTS"
                },
                "start": 1468,
                "styles": {},
                "thickness_factor": 1
              },
              {
                "color": "#2196F3",
                "directed": true,
                "end": 1472,
                "id": 1152922604118476300,
                "label": "RELATED_TO",
                "properties": {
                  "label": "RELATED_TO"
                },
                "start": 1473,
                "styles": {},
                "thickness_factor": 1
              },
              {
                "color": "#2196F3",
                "directed": true,
                "end": 295,
                "id": 1152986375792887300,
                "label": "IS_PART_OF",
                "properties": {
                  "label": "IS_PART_OF"
                },
                "start": 1475,
                "styles": {},
                "thickness_factor": 1
              },
              {
                "color": "#CDDC39",
                "directed": true,
                "end": 1480,
                "id": 1152969883118470700,
                "label": "CONTAINS",
                "properties": {
                  "label": "CONTAINS"
                },
                "start": 1479,
                "styles": {},
                "thickness_factor": 1
              },
              {
                "color": "#9E9E9E",
                "directed": true,
                "end": 1487,
                "id": 1153315129769592300,
                "label": "COSTS",
                "properties": {
                  "label": "COSTS"
                },
                "start": 1486,
                "styles": {},
                "thickness_factor": 1
              },
              {
                "color": "#CDDC39",
                "directed": true,
                "end": 64,
                "id": 1152969883118470700,
                "label": "CONTAINS",
                "properties": {
                  "label": "CONTAINS"
                },
                "start": 1491,
                "styles": {},
                "thickness_factor": 1
              },
              {
                "color": "#9C27B0",
                "directed": true,
                "end": 1494,
                "id": 1153317328792848000,
                "label": "IS_MINISTER",
                "properties": {
                  "label": "IS_MINISTER"
                },
                "start": 1493,
                "styles": {},
                "thickness_factor": 1
              },
              {
                "color": "#2196F3",
                "directed": true,
                "end": 1496,
                "id": 1152922604118476300,
                "label": "RELATED_TO",
                "properties": {
                  "label": "RELATED_TO"
                },
                "start": 1497,
                "styles": {},
                "thickness_factor": 1
              },
              {
                "color": "#2196F3",
                "directed": true,
                "end": 1500,
                "id": 1153318428304475600,
                "label": "PARTNERS_WITH",
                "properties": {
                  "label": "PARTNERS_WITH"
                },
                "start": 1499,
                "styles": {},
                "thickness_factor": 1
              },
              {
                "color": "#4CAF50",
                "directed": true,
                "end": 1503,
                "id": 1153319527816103400,
                "label": "FUNDS",
                "properties": {
                  "label": "FUNDS"
                },
                "start": 1502,
                "styles": {},
                "thickness_factor": 1
              },
              {
                "color": "#F44336",
                "directed": true,
                "end": 1506,
                "id": 1153320627327731200,
                "label": "OPERATES_BY",
                "properties": {
                  "label": "OPERATES_BY"
                },
                "start": 1505,
                "styles": {},
                "thickness_factor": 1
              },
              {
                "color": "#607D8B",
                "directed": true,
                "end": 1508,
                "id": 1153321726839359000,
                "label": "REQUIRED_BY",
                "properties": {
                  "label": "REQUIRED_BY"
                },
                "start": 1509,
                "styles": {},
                "thickness_factor": 1
              },
              {
                "color": "#2196F3",
                "directed": true,
                "end": 1512,
                "id": 1152922604118476300,
                "label": "RELATED_TO",
                "properties": {
                  "label": "RELATED_TO"
                },
                "start": 1511,
                "styles": {},
                "thickness_factor": 1
              },
              {
                "color": "#673AB7",
                "directed": true,
                "end": 1514,
                "id": 1153322826350986800,
                "label": "TRAVELLED_BY",
                "properties": {
                  "label": "TRAVELLED_BY"
                },
                "start": 1515,
                "styles": {},
                "thickness_factor": 1
              },
              {
                "color": "#2196F3",
                "directed": true,
                "end": 1517,
                "id": 1152922604118476300,
                "label": "RELATED_TO",
                "properties": {
                  "label": "RELATED_TO"
                },
                "start": 1518,
                "styles": {},
                "thickness_factor": 1
              },
              {
                "color": "#9C27B0",
                "directed": true,
                "end": 1521,
                "id": 1153120516211476000,
                "label": "PROVIDES",
                "properties": {
                  "label": "PROVIDES"
                },
                "start": 1520,
                "styles": {},
                "thickness_factor": 1
              },
              {
                "color": "#4CAF50",
                "directed": true,
                "end": 1524,
                "id": 1153230467374253600,
                "label": "OFFERS",
                "properties": {
                  "label": "OFFERS"
                },
                "start": 1523,
                "styles": {},
                "thickness_factor": 1
              },
              {
                "color": "#CDDC39",
                "directed": true,
                "end": 1526,
                "id": 1153323925862614500,
                "label": "TARGET_OF_ENQUIRY",
                "properties": {
                  "label": "TARGET_OF_ENQUIRY"
                },
                "start": 1527,
                "styles": {},
                "thickness_factor": 1
              },
              {
                "color": "#9C27B0",
                "directed": true,
                "end": 1529,
                "id": 1153120516211476000,
                "label": "PROVIDES",
                "properties": {
                  "label": "PROVIDES"
                },
                "start": 1530,
                "styles": {},
                "thickness_factor": 1
              },
              {
                "color": "#9E9E9E",
                "directed": true,
                "end": 1533,
                "id": 1153325025374242300,
                "label": "PROVIDES_SERVICE",
                "properties": {
                  "label": "PROVIDES_SERVICE"
                },
                "start": 1532,
                "styles": {},
                "thickness_factor": 1
              },
              {
                "color": "#673AB7",
                "directed": true,
                "end": 1536,
                "id": 1152977579699865000,
                "label": "INCLUDES",
                "properties": {
                  "label": "INCLUDES"
                },
                "start": 1535,
                "styles": {},
                "thickness_factor": 1
              },
              {
                "color": "#2196F3",
                "directed": true,
                "end": 1539,
                "id": 1152922604118476300,
                "label": "RELATED_TO",
                "properties": {
                  "label": "RELATED_TO"
                },
                "start": 1538,
                "styles": {},
                "thickness_factor": 1
              },
              {
                "color": "#9C27B0",
                "directed": true,
                "end": 1542,
                "id": 1153326124885870000,
                "label": "PURCHASED_ITEMS",
                "properties": {
                  "label": "PURCHASED_ITEMS"
                },
                "start": 1541,
                "styles": {},
                "thickness_factor": 1
              },
              {
                "color": "#2196F3",
                "directed": true,
                "end": 1545,
                "id": 1153327224397497900,
                "label": "PURCHASED_FOR",
                "properties": {
                  "label": "PURCHASED_FOR"
                },
                "start": 1544,
                "styles": {},
                "thickness_factor": 1
              },
              {
                "color": "#4CAF50",
                "directed": true,
                "end": 1548,
                "id": 1153230467374253600,
                "label": "OFFERS",
                "properties": {
                  "label": "OFFERS"
                },
                "start": 1547,
                "styles": {},
                "thickness_factor": 1
              },
              {
                "color": "#4CAF50",
                "directed": true,
                "end": 1552,
                "id": 1153230467374253600,
                "label": "OFFERS",
                "properties": {
                  "label": "OFFERS"
                },
                "start": 1551,
                "styles": {},
                "thickness_factor": 1
              },
              {
                "color": "#4CAF50",
                "directed": true,
                "end": 1555,
                "id": 1153328323909125600,
                "label": "OFFERS_SERVICE",
                "properties": {
                  "label": "OFFERS_SERVICE"
                },
                "start": 1554,
                "styles": {},
                "thickness_factor": 1
              },
              {
                "color": "#F44336",
                "directed": true,
                "end": 1558,
                "id": 1153329423420753400,
                "label": "OFFERED_BY",
                "properties": {
                  "label": "OFFERED_BY"
                },
                "start": 1557,
                "styles": {},
                "thickness_factor": 1
              },
              {
                "color": "#F44336",
                "directed": true,
                "end": 1560,
                "id": 1153329423420753400,
                "label": "OFFERED_BY",
                "properties": {
                  "label": "OFFERED_BY"
                },
                "start": 1561,
                "styles": {},
                "thickness_factor": 1
              },
              {
                "color": "#607D8B",
                "directed": true,
                "end": 1563,
                "id": 1153330522932381200,
                "label": "OFFERS_SERVICE_FOR",
                "properties": {
                  "label": "OFFERS_SERVICE_FOR"
                },
                "start": 1564,
                "styles": {},
                "thickness_factor": 1
              }
            ],
            "_graph_layout": {},
            "_highlight": [],
            "_license": {},
            "_model_module": "yfiles-jupyter-graphs",
            "_model_module_version": "^1.10.0",
            "_model_name": "GraphModel",
            "_neighborhood": {},
            "_nodes": [
              {
                "color": "#2196F3",
                "id": 2,
                "label": "loi n° 53 -05",
                "position": [
                  0,
                  0
                ],
                "properties": {
                  "id": "loi n° 53 -05",
                  "label": "Law:__Entity__"
                },
                "scale_factor": 1,
                "size": [
                  55,
                  55
                ],
                "styles": {},
                "type": "#2196F3"
              },
              {
                "color": "#4CAF50",
                "id": 1,
                "label": "dahir n° 1 -07-129",
                "position": [
                  0,
                  0
                ],
                "properties": {
                  "id": "dahir n° 1 -07-129",
                  "label": "Decree:__Entity__"
                },
                "scale_factor": 1,
                "size": [
                  55,
                  55
                ],
                "styles": {},
                "type": "#4CAF50"
              },
              {
                "color": "#F44336",
                "id": 5,
                "label": "Vu le dahir n° 1 -56 -211",
                "position": [
                  0,
                  0
                ],
                "properties": {
                  "id": "Vu le dahir n° 1 -56 -211",
                  "label": "__Entity__:Document"
                },
                "scale_factor": 1,
                "size": [
                  55,
                  55
                ],
                "styles": {},
                "type": "#F44336"
              },
              {
                "color": "#607D8B",
                "id": 4,
                "label": "garanties pécuniaires des soumissionnaires et adjudicataires de marchés publics",
                "position": [
                  0,
                  0
                ],
                "properties": {
                  "id": "garanties pécuniaires des soumissionnaires et adjudicataires de marchés publics",
                  "label": "__Entity__:Concept"
                },
                "scale_factor": 1,
                "size": [
                  55,
                  55
                ],
                "styles": {},
                "type": "#607D8B"
              },
              {
                "color": "#F44336",
                "id": 7,
                "label": "Décret n° 2-07-1235",
                "position": [
                  0,
                  0
                ],
                "properties": {
                  "id": "Décret n° 2-07-1235",
                  "label": "__Entity__:Document"
                },
                "scale_factor": 1,
                "size": [
                  55,
                  55
                ],
                "styles": {},
                "type": "#F44336"
              },
              {
                "color": "#607D8B",
                "id": 8,
                "label": "Contrôle des dépenses de l’Etat",
                "position": [
                  0,
                  0
                ],
                "properties": {
                  "id": "Contrôle des dépenses de l’Etat",
                  "label": "__Entity__:Concept"
                },
                "scale_factor": 1,
                "size": [
                  55,
                  55
                ],
                "styles": {},
                "type": "#607D8B"
              },
              {
                "color": "#F44336",
                "id": 10,
                "label": "Vu le décret",
                "position": [
                  0,
                  0
                ],
                "properties": {
                  "id": "Vu le décret",
                  "label": "__Entity__:Document"
                },
                "scale_factor": 1,
                "size": [
                  55,
                  55
                ],
                "styles": {},
                "type": "#F44336"
              },
              {
                "color": "#673AB7",
                "id": 11,
                "label": "comptabilité publique des régions et de leurs groupements",
                "position": [
                  0,
                  0
                ],
                "properties": {
                  "id": "comptabilité publique des régions et de leurs groupements",
                  "label": "Policy:__Entity__"
                },
                "scale_factor": 1,
                "size": [
                  55,
                  55
                ],
                "styles": {},
                "type": "#673AB7"
              },
              {
                "color": "#CDDC39",
                "id": 13,
                "label": "nom de compte",
                "position": [
                  0,
                  0
                ],
                "properties": {
                  "id": "nom de compte",
                  "label": "Username:__Entity__:Account"
                },
                "scale_factor": 1,
                "size": [
                  55,
                  55
                ],
                "styles": {},
                "type": "#CDDC39"
              },
              {
                "color": "#9E9E9E",
                "id": 14,
                "label": "utilisateur",
                "position": [
                  0,
                  0
                ],
                "properties": {
                  "id": "utilisateur",
                  "label": "User:__Entity__"
                },
                "scale_factor": 1,
                "size": [
                  55,
                  55
                ],
                "styles": {},
                "type": "#9E9E9E"
              },
              {
                "color": "#9C27B0",
                "id": 16,
                "label": "compte",
                "position": [
                  0,
                  0
                ],
                "properties": {
                  "id": "compte",
                  "label": "__Entity__:Account"
                },
                "scale_factor": 1,
                "size": [
                  55,
                  55
                ],
                "styles": {},
                "type": "#9C27B0"
              },
              {
                "color": "#2196F3",
                "id": 299,
                "label": "offres",
                "position": [
                  0,
                  0
                ],
                "properties": {
                  "id": "offres",
                  "label": "Offers:__Entity__:Offer"
                },
                "scale_factor": 1,
                "size": [
                  55,
                  55
                ],
                "styles": {},
                "type": "#2196F3"
              },
              {
                "color": "#4CAF50",
                "id": 19,
                "label": "maîtres d'ouvrage",
                "position": [
                  0,
                  0
                ],
                "properties": {
                  "id": "maîtres d'ouvrage",
                  "label": "Person/Company:__Entity__"
                },
                "scale_factor": 1,
                "size": [
                  55,
                  55
                ],
                "styles": {},
                "type": "#4CAF50"
              },
              {
                "color": "#F44336",
                "id": 18,
                "label": "certificats électroniques",
                "position": [
                  0,
                  0
                ],
                "properties": {
                  "id": "certificats électroniques",
                  "label": "Certificate:__Entity__"
                },
                "scale_factor": 1,
                "size": [
                  55,
                  55
                ],
                "styles": {},
                "type": "#F44336"
              },
              {
                "color": "#607D8B",
                "id": 21,
                "label": "Commission Nationale de la Commande Publique",
                "position": [
                  0,
                  0
                ],
                "properties": {
                  "id": "Commission Nationale de la Commande Publique",
                  "label": "Organization:__Entity__"
                },
                "scale_factor": 1,
                "size": [
                  55,
                  55
                ],
                "styles": {},
                "type": "#607D8B"
              },
              {
                "color": "#673AB7",
                "id": 22,
                "label": "avis émanant d'elle",
                "position": [
                  0,
                  0
                ],
                "properties": {
                  "id": "avis émanant d'elle",
                  "label": "__Entity__:Publication"
                },
                "scale_factor": 1,
                "size": [
                  55,
                  55
                ],
                "styles": {},
                "type": "#673AB7"
              },
              {
                "color": "#CDDC39",
                "id": 24,
                "label": "candidatures",
                "position": [
                  0,
                  0
                ],
                "properties": {
                  "id": "candidatures",
                  "label": "__Entity__:Documents"
                },
                "scale_factor": 1,
                "size": [
                  55,
                  55
                ],
                "styles": {},
                "type": "#CDDC39"
              },
              {
                "color": "#CDDC39",
                "id": 25,
                "label": "offres électroniques",
                "position": [
                  0,
                  0
                ],
                "properties": {
                  "id": "offres électroniques",
                  "label": "__Entity__:Documents"
                },
                "scale_factor": 1,
                "size": [
                  55,
                  55
                ],
                "styles": {},
                "type": "#CDDC39"
              },
              {
                "color": "#607D8B",
                "id": 28,
                "label": "commission de consultation",
                "position": [
                  0,
                  0
                ],
                "properties": {
                  "id": "commission de consultation",
                  "label": "Organization:__Entity__"
                },
                "scale_factor": 1,
                "size": [
                  55,
                  55
                ],
                "styles": {},
                "type": "#607D8B"
              },
              {
                "color": "#9E9E9E",
                "id": 27,
                "label": "admissibilité des concurrents",
                "position": [
                  0,
                  0
                ],
                "properties": {
                  "id": "admissibilité des concurrents",
                  "label": "Process:__Entity__"
                },
                "scale_factor": 1,
                "size": [
                  55,
                  55
                ],
                "styles": {},
                "type": "#9E9E9E"
              },
              {
                "color": "#9C27B0",
                "id": 30,
                "label": "concurrents",
                "position": [
                  0,
                  0
                ],
                "properties": {
                  "id": "concurrents",
                  "label": "People:__Entity__:Personnel:Group:Person/Company:Company"
                },
                "scale_factor": 1,
                "size": [
                  55,
                  55
                ],
                "styles": {},
                "type": "#9C27B0"
              },
              {
                "color": "#2196F3",
                "id": 459,
                "label": "dernier tiers du délai de publicité",
                "position": [
                  0,
                  0
                ],
                "properties": {
                  "id": "dernier tiers du délai de publicité",
                  "label": "Timeframe:__Entity__"
                },
                "scale_factor": 1,
                "size": [
                  55,
                  55
                ],
                "styles": {},
                "type": "#2196F3"
              },
              {
                "color": "#4CAF50",
                "id": 101,
                "label": "portail des marchés publics",
                "position": [
                  0,
                  0
                ],
                "properties": {
                  "id": "portail des marchés publics",
                  "label": "Website:Portal:__Entity__:Platform"
                },
                "scale_factor": 1,
                "size": [
                  55,
                  55
                ],
                "styles": {},
                "type": "#4CAF50"
              },
              {
                "color": "#F44336",
                "id": 277,
                "label": "programme fonctionnel",
                "position": [
                  0,
                  0
                ],
                "properties": {
                  "id": "programme fonctionnel",
                  "label": "Project:__Entity__:Document"
                },
                "scale_factor": 1,
                "size": [
                  55,
                  55
                ],
                "styles": {},
                "type": "#F44336"
              },
              {
                "color": "#607D8B",
                "id": 402,
                "label": "garanties fournies par les concurrents",
                "position": [
                  0,
                  0
                ],
                "properties": {
                  "id": "garanties fournies par les concurrents",
                  "label": "Service:__Entity__"
                },
                "scale_factor": 1,
                "size": [
                  55,
                  55
                ],
                "styles": {},
                "type": "#607D8B"
              },
              {
                "color": "#673AB7",
                "id": 445,
                "label": "modifications",
                "position": [
                  0,
                  0
                ],
                "properties": {
                  "id": "modifications",
                  "label": "__Entity__:Modification"
                },
                "scale_factor": 1,
                "size": [
                  55,
                  55
                ],
                "styles": {},
                "type": "#673AB7"
              },
              {
                "color": "#CDDC39",
                "id": 566,
                "label": "demande de prorogation",
                "position": [
                  0,
                  0
                ],
                "properties": {
                  "id": "demande de prorogation",
                  "label": "__Entity__:Request"
                },
                "scale_factor": 1,
                "size": [
                  55,
                  55
                ],
                "styles": {},
                "type": "#CDDC39"
              },
              {
                "color": "#F44336",
                "id": 495,
                "label": "récépissé du cautionnement provisoire",
                "position": [
                  0,
                  0
                ],
                "properties": {
                  "id": "récépissé du cautionnement provisoire",
                  "label": "__Entity__:Document"
                },
                "scale_factor": 1,
                "size": [
                  55,
                  55
                ],
                "styles": {},
                "type": "#F44336"
              },
              {
                "color": "#9E9E9E",
                "id": 34,
                "label": "maître d'ouvrage",
                "position": [
                  0,
                  0
                ],
                "properties": {
                  "id": "maître d'ouvrage",
                  "label": "Organization:__Entity__:Person/Company:Person:Role:Authority"
                },
                "scale_factor": 1,
                "size": [
                  55,
                  55
                ],
                "styles": {},
                "type": "#9E9E9E"
              },
              {
                "color": "#9C27B0",
                "id": 707,
                "label": "pièces à fournir",
                "position": [
                  0,
                  0
                ],
                "properties": {
                  "id": "pièces à fournir",
                  "label": "Product:__Entity__"
                },
                "scale_factor": 1,
                "size": [
                  55,
                  55
                ],
                "styles": {},
                "type": "#9C27B0"
              },
              {
                "color": "#F44336",
                "id": 757,
                "label": "récépissé du cautionnement provisoire ou de l'attestation de la caution personnelle et solidaire en tenant lieu",
                "position": [
                  0,
                  0
                ],
                "properties": {
                  "id": "récépissé du cautionnement provisoire ou de l'attestation de la caution personnelle et solidaire en tenant lieu",
                  "label": "__Entity__:Document"
                },
                "scale_factor": 1,
                "size": [
                  55,
                  55
                ],
                "styles": {},
                "type": "#F44336"
              },
              {
                "color": "#2196F3",
                "id": 850,
                "label": "tous les concurrents ayant téléchargé ou retiré le dossier du concours",
                "position": [
                  0,
                  0
                ],
                "properties": {
                  "id": "tous les concurrents ayant téléchargé ou retiré le dossier du concours",
                  "label": "Group:__Entity__"
                },
                "scale_factor": 1,
                "size": [
                  55,
                  55
                ],
                "styles": {},
                "type": "#2196F3"
              },
              {
                "color": "#4CAF50",
                "id": 991,
                "label": "la même commune",
                "position": [
                  0,
                  0
                ],
                "properties": {
                  "id": "la même commune",
                  "label": "Location:__Entity__"
                },
                "scale_factor": 1,
                "size": [
                  55,
                  55
                ],
                "styles": {},
                "type": "#4CAF50"
              },
              {
                "color": "#F44336",
                "id": 31,
                "label": "demander",
                "position": [
                  0,
                  0
                ],
                "properties": {
                  "id": "demander",
                  "label": "__Entity__:Person"
                },
                "scale_factor": 1,
                "size": [
                  55,
                  55
                ],
                "styles": {},
                "type": "#F44336"
              },
              {
                "color": "#607D8B",
                "id": 53,
                "label": "organisme agréé",
                "position": [
                  0,
                  0
                ],
                "properties": {
                  "id": "organisme agréé",
                  "label": "Organization:__Entity__"
                },
                "scale_factor": 1,
                "size": [
                  55,
                  55
                ],
                "styles": {},
                "type": "#607D8B"
              },
              {
                "color": "#607D8B",
                "id": 55,
                "label": "mainlevée",
                "position": [
                  0,
                  0
                ],
                "properties": {
                  "id": "mainlevée",
                  "label": "Action:__Entity__"
                },
                "scale_factor": 1,
                "size": [
                  55,
                  55
                ],
                "styles": {},
                "type": "#607D8B"
              },
              {
                "color": "#F44336",
                "id": 33,
                "label": "dossier de consultation",
                "position": [
                  0,
                  0
                ],
                "properties": {
                  "id": "dossier de consultation",
                  "label": "__Entity__:Document"
                },
                "scale_factor": 1,
                "size": [
                  55,
                  55
                ],
                "styles": {},
                "type": "#F44336"
              },
              {
                "color": "#673AB7",
                "id": 45,
                "label": "plis",
                "position": [
                  0,
                  0
                ],
                "properties": {
                  "id": "plis",
                  "label": "__Entity__:Documents:Concept:Object"
                },
                "scale_factor": 1,
                "size": [
                  55,
                  55
                ],
                "styles": {},
                "type": "#673AB7"
              },
              {
                "color": "#CDDC39",
                "id": 113,
                "label": "séance de l'encherre",
                "position": [
                  0,
                  0
                ],
                "properties": {
                  "id": "séance de l'encherre",
                  "label": "Event:__Entity__"
                },
                "scale_factor": 1,
                "size": [
                  55,
                  55
                ],
                "styles": {},
                "type": "#CDDC39"
              },
              {
                "color": "#9E9E9E",
                "id": 201,
                "label": "procédure de passation du marché",
                "position": [
                  0,
                  0
                ],
                "properties": {
                  "id": "procédure de passation du marché",
                  "label": "Procedure:Process:__Entity__"
                },
                "scale_factor": 1,
                "size": [
                  55,
                  55
                ],
                "styles": {},
                "type": "#9E9E9E"
              },
              {
                "color": "#607D8B",
                "id": 204,
                "label": "prestations de restauration des ouvrages traditionnels, historiques et anciens",
                "position": [
                  0,
                  0
                ],
                "properties": {
                  "id": "prestations de restauration des ouvrages traditionnels, historiques et anciens",
                  "label": "Service:__Entity__"
                },
                "scale_factor": 1,
                "size": [
                  55,
                  55
                ],
                "styles": {},
                "type": "#607D8B"
              },
              {
                "color": "#9C27B0",
                "id": 795,
                "label": "travaux de la commission",
                "position": [
                  0,
                  0
                ],
                "properties": {
                  "id": "travaux de la commission",
                  "label": "__Entity__:Project"
                },
                "scale_factor": 1,
                "size": [
                  55,
                  55
                ],
                "styles": {},
                "type": "#9C27B0"
              },
              {
                "color": "#2196F3",
                "id": 894,
                "label": "jury",
                "position": [
                  0,
                  0
                ],
                "properties": {
                  "id": "jury",
                  "label": "Group:Person/Group:Organization:__Entity__"
                },
                "scale_factor": 1,
                "size": [
                  55,
                  55
                ],
                "styles": {},
                "type": "#2196F3"
              },
              {
                "color": "#9C27B0",
                "id": 1274,
                "label": "travaux du jury",
                "position": [
                  0,
                  0
                ],
                "properties": {
                  "id": "travaux du jury",
                  "label": "__Entity__:Project"
                },
                "scale_factor": 1,
                "size": [
                  55,
                  55
                ],
                "styles": {},
                "type": "#9C27B0"
              },
              {
                "color": "#4CAF50",
                "id": 1287,
                "label": "exécution de prestations",
                "position": [
                  0,
                  0
                ],
                "properties": {
                  "id": "exécution de prestations",
                  "label": "Task:__Entity__"
                },
                "scale_factor": 1,
                "size": [
                  55,
                  55
                ],
                "styles": {},
                "type": "#4CAF50"
              },
              {
                "color": "#9C27B0",
                "id": 1411,
                "label": "mission",
                "position": [
                  0,
                  0
                ],
                "properties": {
                  "id": "mission",
                  "label": "__Entity__:Project"
                },
                "scale_factor": 1,
                "size": [
                  55,
                  55
                ],
                "styles": {},
                "type": "#9C27B0"
              },
              {
                "color": "#F44336",
                "id": 1434,
                "label": "rapport",
                "position": [
                  0,
                  0
                ],
                "properties": {
                  "id": "rapport",
                  "label": "__Entity__:Document"
                },
                "scale_factor": 1,
                "size": [
                  55,
                  55
                ],
                "styles": {},
                "type": "#F44336"
              },
              {
                "color": "#2196F3",
                "id": 785,
                "label": "membres absents",
                "position": [
                  0,
                  0
                ],
                "properties": {
                  "id": "membres absents",
                  "label": "Group:__Entity__"
                },
                "scale_factor": 1,
                "size": [
                  55,
                  55
                ],
                "styles": {},
                "type": "#2196F3"
              },
              {
                "color": "#CDDC39",
                "id": 985,
                "label": "plis déposés",
                "position": [
                  0,
                  0
                ],
                "properties": {
                  "id": "plis déposés",
                  "label": "__Entity__:Documents"
                },
                "scale_factor": 1,
                "size": [
                  55,
                  55
                ],
                "styles": {},
                "type": "#CDDC39"
              },
              {
                "color": "#2196F3",
                "id": 115,
                "label": "concurrents enchérisseurs",
                "position": [
                  0,
                  0
                ],
                "properties": {
                  "id": "concurrents enchérisseurs",
                  "label": "Group:__Entity__"
                },
                "scale_factor": 1,
                "size": [
                  55,
                  55
                ],
                "styles": {},
                "type": "#2196F3"
              },
              {
                "color": "#2196F3",
                "id": 1399,
                "label": "qui leur sont reprochés",
                "position": [
                  0,
                  0
                ],
                "properties": {
                  "id": "qui leur sont reprochés",
                  "label": "Group:__Entity__"
                },
                "scale_factor": 1,
                "size": [
                  55,
                  55
                ],
                "styles": {},
                "type": "#2196F3"
              },
              {
                "color": "#F44336",
                "id": 146,
                "label": "comptable assignataire",
                "position": [
                  0,
                  0
                ],
                "properties": {
                  "id": "comptable assignataire",
                  "label": "__Entity__:Person"
                },
                "scale_factor": 1,
                "size": [
                  55,
                  55
                ],
                "styles": {},
                "type": "#F44336"
              },
              {
                "color": "#F44336",
                "id": 235,
                "label": "caractère prévisible, répétitif et permanent",
                "position": [
                  0,
                  0
                ],
                "properties": {
                  "id": "caractère prévisible, répétitif et permanent",
                  "label": "Characteristic:__Entity__"
                },
                "scale_factor": 1,
                "size": [
                  55,
                  55
                ],
                "styles": {},
                "type": "#F44336"
              },
              {
                "color": "#607D8B",
                "id": 240,
                "label": "commande",
                "position": [
                  0,
                  0
                ],
                "properties": {
                  "id": "commande",
                  "label": "__Entity__:Order"
                },
                "scale_factor": 1,
                "size": [
                  55,
                  55
                ],
                "styles": {},
                "type": "#607D8B"
              },
              {
                "color": "#F44336",
                "id": 279,
                "label": "candidat admis",
                "position": [
                  0,
                  0
                ],
                "properties": {
                  "id": "candidat admis",
                  "label": "__Entity__:Person"
                },
                "scale_factor": 1,
                "size": [
                  55,
                  55
                ],
                "styles": {},
                "type": "#F44336"
              },
              {
                "color": "#673AB7",
                "id": 281,
                "label": "candidats",
                "position": [
                  0,
                  0
                ],
                "properties": {
                  "id": "candidats",
                  "label": "Group:__Entity__:Person"
                },
                "scale_factor": 1,
                "size": [
                  55,
                  55
                ],
                "styles": {},
                "type": "#673AB7"
              },
              {
                "color": "#CDDC39",
                "id": 306,
                "label": "appel à la concurrence",
                "position": [
                  0,
                  0
                ],
                "properties": {
                  "id": "appel à la concurrence",
                  "label": "Event:__Entity__"
                },
                "scale_factor": 1,
                "size": [
                  55,
                  55
                ],
                "styles": {},
                "type": "#CDDC39"
              },
              {
                "color": "#CDDC39",
                "id": 372,
                "label": "Ce programme prévisionnel",
                "position": [
                  0,
                  0
                ],
                "properties": {
                  "id": "Ce programme prévisionnel",
                  "label": "Program:__Entity__"
                },
                "scale_factor": 1,
                "size": [
                  55,
                  55
                ],
                "styles": {},
                "type": "#CDDC39"
              },
              {
                "color": "#9E9E9E",
                "id": 1005,
                "label": "architectes",
                "position": [
                  0,
                  0
                ],
                "properties": {
                  "id": "architectes",
                  "label": "__Entity__:Person:Profession:Group:Person/Group:Person/Profession"
                },
                "scale_factor": 1,
                "size": [
                  55,
                  55
                ],
                "styles": {},
                "type": "#9E9E9E"
              },
              {
                "color": "#9C27B0",
                "id": 387,
                "label": "fournitures",
                "position": [
                  0,
                  0
                ],
                "properties": {
                  "id": "fournitures",
                  "label": "Product:__Entity__:Goods"
                },
                "scale_factor": 1,
                "size": [
                  55,
                  55
                ],
                "styles": {},
                "type": "#9C27B0"
              },
              {
                "color": "#2196F3",
                "id": 255,
                "label": "règlement de consultation",
                "position": [
                  0,
                  0
                ],
                "properties": {
                  "id": "règlement de consultation",
                  "label": "Regulation:__Entity__:Document"
                },
                "scale_factor": 1,
                "size": [
                  55,
                  55
                ],
                "styles": {},
                "type": "#2196F3"
              },
              {
                "color": "#CDDC39",
                "id": 447,
                "label": "demande de report",
                "position": [
                  0,
                  0
                ],
                "properties": {
                  "id": "demande de report",
                  "label": "__Entity__:Request"
                },
                "scale_factor": 1,
                "size": [
                  55,
                  55
                ],
                "styles": {},
                "type": "#CDDC39"
              },
              {
                "color": "#CDDC39",
                "id": 457,
                "label": "réunion",
                "position": [
                  0,
                  0
                ],
                "properties": {
                  "id": "réunion",
                  "label": "Event:__Entity__"
                },
                "scale_factor": 1,
                "size": [
                  55,
                  55
                ],
                "styles": {},
                "type": "#CDDC39"
              },
              {
                "color": "#4CAF50",
                "id": 463,
                "label": "moins",
                "position": [
                  0,
                  0
                ],
                "properties": {
                  "id": "moins",
                  "label": "Entity:__Entity__"
                },
                "scale_factor": 1,
                "size": [
                  55,
                  55
                ],
                "styles": {},
                "type": "#4CAF50"
              },
              {
                "color": "#F44336",
                "id": 479,
                "label": "coût des prestations",
                "position": [
                  0,
                  0
                ],
                "properties": {
                  "id": "coût des prestations",
                  "label": "Cost:__Entity__"
                },
                "scale_factor": 1,
                "size": [
                  55,
                  55
                ],
                "styles": {},
                "type": "#F44336"
              },
              {
                "color": "#2196F3",
                "id": 848,
                "label": "membres du jury",
                "position": [
                  0,
                  0
                ],
                "properties": {
                  "id": "membres du jury",
                  "label": "Group:__Entity__"
                },
                "scale_factor": 1,
                "size": [
                  55,
                  55
                ],
                "styles": {},
                "type": "#2196F3"
              },
              {
                "color": "#4CAF50",
                "id": 656,
                "label": "bureau du maître d’ouvrage",
                "position": [
                  0,
                  0
                ],
                "properties": {
                  "id": "bureau du maître d’ouvrage",
                  "label": "Location:__Entity__"
                },
                "scale_factor": 1,
                "size": [
                  55,
                  55
                ],
                "styles": {},
                "type": "#4CAF50"
              },
              {
                "color": "#607D8B",
                "id": 60,
                "label": "concurrent",
                "position": [
                  0,
                  0
                ],
                "properties": {
                  "id": "concurrent",
                  "label": "Person/Company:__Entity__:Company:Person"
                },
                "scale_factor": 1,
                "size": [
                  55,
                  55
                ],
                "styles": {},
                "type": "#607D8B"
              },
              {
                "color": "#CDDC39",
                "id": 797,
                "label": "demande du concurrent",
                "position": [
                  0,
                  0
                ],
                "properties": {
                  "id": "demande du concurrent",
                  "label": "__Entity__:Request"
                },
                "scale_factor": 1,
                "size": [
                  55,
                  55
                ],
                "styles": {},
                "type": "#CDDC39"
              },
              {
                "color": "#CDDC39",
                "id": 878,
                "label": "séance publique  d’ouverture des plis",
                "position": [
                  0,
                  0
                ],
                "properties": {
                  "id": "séance publique  d’ouverture des plis",
                  "label": "Event:__Entity__"
                },
                "scale_factor": 1,
                "size": [
                  55,
                  55
                ],
                "styles": {},
                "type": "#CDDC39"
              },
              {
                "color": "#607D8B",
                "id": 1395,
                "label": "commission nationale de la commande publique",
                "position": [
                  0,
                  0
                ],
                "properties": {
                  "id": "commission nationale de la commande publique",
                  "label": "Organization:__Entity__"
                },
                "scale_factor": 1,
                "size": [
                  55,
                  55
                ],
                "styles": {},
                "type": "#607D8B"
              },
              {
                "color": "#673AB7",
                "id": 967,
                "label": "tiers",
                "position": [
                  0,
                  0
                ],
                "properties": {
                  "id": "tiers",
                  "label": "Entity:__Entity__:Company"
                },
                "scale_factor": 1,
                "size": [
                  55,
                  55
                ],
                "styles": {},
                "type": "#673AB7"
              },
              {
                "color": "#4CAF50",
                "id": 983,
                "label": "bureau du maître d'ouvrage",
                "position": [
                  0,
                  0
                ],
                "properties": {
                  "id": "bureau du maître d'ouvrage",
                  "label": "Location:__Entity__"
                },
                "scale_factor": 1,
                "size": [
                  55,
                  55
                ],
                "styles": {},
                "type": "#4CAF50"
              },
              {
                "color": "#CDDC39",
                "id": 987,
                "label": "concurrent ayant présenté l’offre la moins–disante",
                "position": [
                  0,
                  0
                ],
                "properties": {
                  "id": "concurrent ayant présenté l’offre la moins–disante",
                  "label": "__Entity__:Company"
                },
                "scale_factor": 1,
                "size": [
                  55,
                  55
                ],
                "styles": {},
                "type": "#CDDC39"
              },
              {
                "color": "#9E9E9E",
                "id": 1012,
                "label": "mode de passation",
                "position": [
                  0,
                  0
                ],
                "properties": {
                  "id": "mode de passation",
                  "label": "Procedure:__Entity__"
                },
                "scale_factor": 1,
                "size": [
                  55,
                  55
                ],
                "styles": {},
                "type": "#9E9E9E"
              },
              {
                "color": "#F44336",
                "id": 1022,
                "label": "architecte de l'administration",
                "position": [
                  0,
                  0
                ],
                "properties": {
                  "id": "architecte de l'administration",
                  "label": "__Entity__:Person"
                },
                "scale_factor": 1,
                "size": [
                  55,
                  55
                ],
                "styles": {},
                "type": "#F44336"
              },
              {
                "color": "#CDDC39",
                "id": 1072,
                "label": "date prévue pour la séance d’ouverture des plis",
                "position": [
                  0,
                  0
                ],
                "properties": {
                  "id": "date prévue pour la séance d’ouverture des plis",
                  "label": "Event:__Entity__"
                },
                "scale_factor": 1,
                "size": [
                  55,
                  55
                ],
                "styles": {},
                "type": "#CDDC39"
              },
              {
                "color": "#F44336",
                "id": 1068,
                "label": "dossier de la consultation architecturale",
                "position": [
                  0,
                  0
                ],
                "properties": {
                  "id": "dossier de la consultation architecturale",
                  "label": "__Entity__:Document"
                },
                "scale_factor": 1,
                "size": [
                  55,
                  55
                ],
                "styles": {},
                "type": "#F44336"
              },
              {
                "color": "#F44336",
                "id": 1101,
                "label": "architecte",
                "position": [
                  0,
                  0
                ],
                "properties": {
                  "id": "architecte",
                  "label": "__Entity__:Person"
                },
                "scale_factor": 1,
                "size": [
                  55,
                  55
                ],
                "styles": {},
                "type": "#F44336"
              },
              {
                "color": "#9C27B0",
                "id": 283,
                "label": "offre",
                "position": [
                  0,
                  0
                ],
                "properties": {
                  "id": "offre",
                  "label": "__Entity__:Offer"
                },
                "scale_factor": 1,
                "size": [
                  55,
                  55
                ],
                "styles": {},
                "type": "#9C27B0"
              },
              {
                "color": "#4CAF50",
                "id": 1407,
                "label": "maître d'ouvrage délégué",
                "position": [
                  0,
                  0
                ],
                "properties": {
                  "id": "maître d'ouvrage délégué",
                  "label": "Person/Company:__Entity__"
                },
                "scale_factor": 1,
                "size": [
                  55,
                  55
                ],
                "styles": {},
                "type": "#4CAF50"
              },
              {
                "color": "#9E9E9E",
                "id": 1489,
                "label": "procédure de taxation",
                "position": [
                  0,
                  0
                ],
                "properties": {
                  "id": "procédure de taxation",
                  "label": "Procedure:__Entity__"
                },
                "scale_factor": 1,
                "size": [
                  55,
                  55
                ],
                "styles": {},
                "type": "#9E9E9E"
              },
              {
                "color": "#2196F3",
                "id": 37,
                "label": "maître d’ouvrage",
                "position": [
                  0,
                  0
                ],
                "properties": {
                  "id": "maître d’ouvrage",
                  "label": "Organization:__Entity__:Person/Entity:Person:Person/Company"
                },
                "scale_factor": 1,
                "size": [
                  55,
                  55
                ],
                "styles": {},
                "type": "#2196F3"
              },
              {
                "color": "#CDDC39",
                "id": 36,
                "label": "demande du maître d’ouvrage",
                "position": [
                  0,
                  0
                ],
                "properties": {
                  "id": "demande du maître d’ouvrage",
                  "label": "__Entity__:Request"
                },
                "scale_factor": 1,
                "size": [
                  55,
                  55
                ],
                "styles": {},
                "type": "#CDDC39"
              },
              {
                "color": "#CDDC39",
                "id": 374,
                "label": "programmation budgétaire triennale",
                "position": [
                  0,
                  0
                ],
                "properties": {
                  "id": "programmation budgétaire triennale",
                  "label": "Program:__Entity__"
                },
                "scale_factor": 1,
                "size": [
                  55,
                  55
                ],
                "styles": {},
                "type": "#CDDC39"
              },
              {
                "color": "#CDDC39",
                "id": 1078,
                "label": "demande de l'architecte concurrent",
                "position": [
                  0,
                  0
                ],
                "properties": {
                  "id": "demande de l'architecte concurrent",
                  "label": "__Entity__:Request"
                },
                "scale_factor": 1,
                "size": [
                  55,
                  55
                ],
                "styles": {},
                "type": "#CDDC39"
              },
              {
                "color": "#4CAF50",
                "id": 1030,
                "label": "consultation architecturale",
                "position": [
                  0,
                  0
                ],
                "properties": {
                  "id": "consultation architecturale",
                  "label": "Event:Process:__Entity__:Concept"
                },
                "scale_factor": 1,
                "size": [
                  55,
                  55
                ],
                "styles": {},
                "type": "#4CAF50"
              },
              {
                "color": "#F44336",
                "id": 1149,
                "label": "proposition de l’architecte concerné",
                "position": [
                  0,
                  0
                ],
                "properties": {
                  "id": "proposition de l’architecte concerné",
                  "label": "__Entity__:Proposal"
                },
                "scale_factor": 1,
                "size": [
                  55,
                  55
                ],
                "styles": {},
                "type": "#F44336"
              },
              {
                "color": "#607D8B",
                "id": 39,
                "label": "aux agents chargés du contrôle",
                "position": [
                  0,
                  0
                ],
                "properties": {
                  "id": "aux agents chargés du contrôle",
                  "label": "__Entity__:Personnel/Agency"
                },
                "scale_factor": 1,
                "size": [
                  55,
                  55
                ],
                "styles": {},
                "type": "#607D8B"
              },
              {
                "color": "#4CAF50",
                "id": 40,
                "label": "examiner les projets de dossiers de consultation",
                "position": [
                  0,
                  0
                ],
                "properties": {
                  "id": "examiner les projets de dossiers de consultation",
                  "label": "Task:__Entity__"
                },
                "scale_factor": 1,
                "size": [
                  55,
                  55
                ],
                "styles": {},
                "type": "#4CAF50"
              },
              {
                "color": "#F44336",
                "id": 42,
                "label": "présidents",
                "position": [
                  0,
                  0
                ],
                "properties": {
                  "id": "présidents",
                  "label": "__Entity__:Person"
                },
                "scale_factor": 1,
                "size": [
                  55,
                  55
                ],
                "styles": {},
                "type": "#F44336"
              },
              {
                "color": "#F44336",
                "id": 44,
                "label": "concurent",
                "position": [
                  0,
                  0
                ],
                "properties": {
                  "id": "concurent",
                  "label": "__Entity__:Person"
                },
                "scale_factor": 1,
                "size": [
                  55,
                  55
                ],
                "styles": {},
                "type": "#F44336"
              },
              {
                "color": "#673AB7",
                "id": 103,
                "label": "marchés publics",
                "position": [
                  0,
                  0
                ],
                "properties": {
                  "id": "marchés publics",
                  "label": "Event:Organization:__Entity__:Concept"
                },
                "scale_factor": 1,
                "size": [
                  55,
                  55
                ],
                "styles": {},
                "type": "#673AB7"
              },
              {
                "color": "#CDDC39",
                "id": 106,
                "label": "président",
                "position": [
                  0,
                  0
                ],
                "properties": {
                  "id": "président",
                  "label": "Position:__Entity__:Person"
                },
                "scale_factor": 1,
                "size": [
                  55,
                  55
                ],
                "styles": {},
                "type": "#CDDC39"
              },
              {
                "color": "#9E9E9E",
                "id": 47,
                "label": "Les concurrents",
                "position": [
                  0,
                  0
                ],
                "properties": {
                  "id": "Les concurrents",
                  "label": "Group:__Entity__:Company"
                },
                "scale_factor": 1,
                "size": [
                  55,
                  55
                ],
                "styles": {},
                "type": "#9E9E9E"
              },
              {
                "color": "#9C27B0",
                "id": 48,
                "label": "nouveaux plis",
                "position": [
                  0,
                  0
                ],
                "properties": {
                  "id": "nouveaux plis",
                  "label": "Plis:__Entity__"
                },
                "scale_factor": 1,
                "size": [
                  55,
                  55
                ],
                "styles": {},
                "type": "#9C27B0"
              },
              {
                "color": "#2196F3",
                "id": 520,
                "label": "les pièces du dossier technique",
                "position": [
                  0,
                  0
                ],
                "properties": {
                  "id": "les pièces du dossier technique",
                  "label": "Product:__Entity__:Document"
                },
                "scale_factor": 1,
                "size": [
                  55,
                  55
                ],
                "styles": {},
                "type": "#2196F3"
              },
              {
                "color": "#4CAF50",
                "id": 130,
                "label": "les devis",
                "position": [
                  0,
                  0
                ],
                "properties": {
                  "id": "les devis",
                  "label": "Tenders:__Entity__"
                },
                "scale_factor": 1,
                "size": [
                  55,
                  55
                ],
                "styles": {},
                "type": "#4CAF50"
              },
              {
                "color": "#CDDC39",
                "id": 747,
                "label": "les modifications prévues ci– dessus",
                "position": [
                  0,
                  0
                ],
                "properties": {
                  "id": "les modifications prévues ci– dessus",
                  "label": "Event:__Entity__"
                },
                "scale_factor": 1,
                "size": [
                  55,
                  55
                ],
                "styles": {},
                "type": "#CDDC39"
              },
              {
                "color": "#F44336",
                "id": 1420,
                "label": "acte d’engagement",
                "position": [
                  0,
                  0
                ],
                "properties": {
                  "id": "acte d’engagement",
                  "label": "__Entity__:Document"
                },
                "scale_factor": 1,
                "size": [
                  55,
                  55
                ],
                "styles": {},
                "type": "#F44336"
              },
              {
                "color": "#CDDC39",
                "id": 50,
                "label": "demandes de garanties pécuniaires",
                "position": [
                  0,
                  0
                ],
                "properties": {
                  "id": "demandes de garanties pécuniaires",
                  "label": "__Entity__:Request"
                },
                "scale_factor": 1,
                "size": [
                  55,
                  55
                ],
                "styles": {},
                "type": "#CDDC39"
              },
              {
                "color": "#4CAF50",
                "id": 51,
                "label": "titulaires des marchés publics",
                "position": [
                  0,
                  0
                ],
                "properties": {
                  "id": "titulaires des marchés publics",
                  "label": "Entity:__Entity__"
                },
                "scale_factor": 1,
                "size": [
                  55,
                  55
                ],
                "styles": {},
                "type": "#4CAF50"
              },
              {
                "color": "#F44336",
                "id": 58,
                "label": "titulaire",
                "position": [
                  0,
                  0
                ],
                "properties": {
                  "id": "titulaire",
                  "label": "Person/Company:__Entity__:Person"
                },
                "scale_factor": 1,
                "size": [
                  55,
                  55
                ],
                "styles": {},
                "type": "#F44336"
              },
              {
                "color": "#607D8B",
                "id": 57,
                "label": "cautionnement définitif",
                "position": [
                  0,
                  0
                ],
                "properties": {
                  "id": "cautionnement définitif",
                  "label": "__Entity__:Financial Instrument"
                },
                "scale_factor": 1,
                "size": [
                  55,
                  55
                ],
                "styles": {},
                "type": "#607D8B"
              },
              {
                "color": "#673AB7",
                "id": 263,
                "label": "des engagements contractuels",
                "position": [
                  0,
                  0
                ],
                "properties": {
                  "id": "des engagements contractuels",
                  "label": "Contract:__Entity__"
                },
                "scale_factor": 1,
                "size": [
                  55,
                  55
                ],
                "styles": {},
                "type": "#673AB7"
              },
              {
                "color": "#607D8B",
                "id": 1326,
                "label": "droits",
                "position": [
                  0,
                  0
                ],
                "properties": {
                  "id": "droits",
                  "label": "__Entity__:Concept"
                },
                "scale_factor": 1,
                "size": [
                  55,
                  55
                ],
                "styles": {},
                "type": "#607D8B"
              },
              {
                "color": "#CDDC39",
                "id": 61,
                "label": "marché",
                "position": [
                  0,
                  0
                ],
                "properties": {
                  "id": "marché",
                  "label": "Market:Contract:__Entity__:Concept"
                },
                "scale_factor": 1,
                "size": [
                  55,
                  55
                ],
                "styles": {},
                "type": "#CDDC39"
              },
              {
                "color": "#9E9E9E",
                "id": 128,
                "label": "personne dûment habilitée",
                "position": [
                  0,
                  0
                ],
                "properties": {
                  "id": "personne dûment habilitée",
                  "label": "Organization:__Entity__:Person"
                },
                "scale_factor": 1,
                "size": [
                  55,
                  55
                ],
                "styles": {},
                "type": "#9E9E9E"
              },
              {
                "color": "#9C27B0",
                "id": 212,
                "label": "marque commerciale",
                "position": [
                  0,
                  0
                ],
                "properties": {
                  "id": "marque commerciale",
                  "label": "Product:__Entity__"
                },
                "scale_factor": 1,
                "size": [
                  55,
                  55
                ],
                "styles": {},
                "type": "#9C27B0"
              },
              {
                "color": "#F44336",
                "id": 436,
                "label": "dossier du marché",
                "position": [
                  0,
                  0
                ],
                "properties": {
                  "id": "dossier du marché",
                  "label": "__Entity__:Document"
                },
                "scale_factor": 1,
                "size": [
                  55,
                  55
                ],
                "styles": {},
                "type": "#F44336"
              },
              {
                "color": "#9E9E9E",
                "id": 484,
                "label": "attributaire",
                "position": [
                  0,
                  0
                ],
                "properties": {
                  "id": "attributaire",
                  "label": "Organization:__Entity__:Person"
                },
                "scale_factor": 1,
                "size": [
                  55,
                  55
                ],
                "styles": {},
                "type": "#9E9E9E"
              },
              {
                "color": "#CDDC39",
                "id": 513,
                "label": "other companies",
                "position": [
                  0,
                  0
                ],
                "properties": {
                  "id": "other companies",
                  "label": "__Entity__:Company"
                },
                "scale_factor": 1,
                "size": [
                  55,
                  55
                ],
                "styles": {},
                "type": "#CDDC39"
              },
              {
                "color": "#F44336",
                "id": 558,
                "label": "pli déposé ou reçu",
                "position": [
                  0,
                  0
                ],
                "properties": {
                  "id": "pli déposé ou reçu",
                  "label": "__Entity__:Document"
                },
                "scale_factor": 1,
                "size": [
                  55,
                  55
                ],
                "styles": {},
                "type": "#F44336"
              },
              {
                "color": "#9C27B0",
                "id": 1046,
                "label": "fiscale régulière",
                "position": [
                  0,
                  0
                ],
                "properties": {
                  "id": "fiscale régulière",
                  "label": "__Entity__:Situation"
                },
                "scale_factor": 1,
                "size": [
                  55,
                  55
                ],
                "styles": {},
                "type": "#9C27B0"
              },
              {
                "color": "#F44336",
                "id": 1477,
                "label": "toute pièce justificative",
                "position": [
                  0,
                  0
                ],
                "properties": {
                  "id": "toute pièce justificative",
                  "label": "__Entity__:Document"
                },
                "scale_factor": 1,
                "size": [
                  55,
                  55
                ],
                "styles": {},
                "type": "#F44336"
              },
              {
                "color": "#2196F3",
                "id": 1448,
                "label": "réclamation",
                "position": [
                  0,
                  0
                ],
                "properties": {
                  "id": "réclamation",
                  "label": "__Entity__:Claim"
                },
                "scale_factor": 1,
                "size": [
                  55,
                  55
                ],
                "styles": {},
                "type": "#2196F3"
              },
              {
                "color": "#4CAF50",
                "id": 654,
                "label": "lot",
                "position": [
                  0,
                  0
                ],
                "properties": {
                  "id": "lot",
                  "label": "Lot:__Entity__"
                },
                "scale_factor": 1,
                "size": [
                  55,
                  55
                ],
                "styles": {},
                "type": "#4CAF50"
              },
              {
                "color": "#9C27B0",
                "id": 416,
                "label": "offre économiquement la plus avantageuse",
                "position": [
                  0,
                  0
                ],
                "properties": {
                  "id": "offre économiquement la plus avantageuse",
                  "label": "__Entity__:Offer"
                },
                "scale_factor": 1,
                "size": [
                  55,
                  55
                ],
                "styles": {},
                "type": "#9C27B0"
              },
              {
                "color": "#F44336",
                "id": 378,
                "label": "1.000.000 dirhams",
                "position": [
                  0,
                  0
                ],
                "properties": {
                  "id": "1.000.000 dirhams",
                  "label": "__Entity__:Amount"
                },
                "scale_factor": 1,
                "size": [
                  55,
                  55
                ],
                "styles": {},
                "type": "#F44336"
              },
              {
                "color": "#607D8B",
                "id": 1342,
                "label": "note globale",
                "position": [
                  0,
                  0
                ],
                "properties": {
                  "id": "note globale",
                  "label": "Score:__Entity__"
                },
                "scale_factor": 1,
                "size": [
                  55,
                  55
                ],
                "styles": {},
                "type": "#607D8B"
              },
              {
                "color": "#F44336",
                "id": 64,
                "label": "dossier administratif",
                "position": [
                  0,
                  0
                ],
                "properties": {
                  "id": "dossier administratif",
                  "label": "__Entity__:Document"
                },
                "scale_factor": 1,
                "size": [
                  55,
                  55
                ],
                "styles": {},
                "type": "#F44336"
              },
              {
                "color": "#673AB7",
                "id": 63,
                "label": "paragraphe A)",
                "position": [
                  0,
                  0
                ],
                "properties": {
                  "id": "paragraphe A)",
                  "label": "Section:__Entity__"
                },
                "scale_factor": 1,
                "size": [
                  55,
                  55
                ],
                "styles": {},
                "type": "#673AB7"
              },
              {
                "color": "#9E9E9E",
                "id": 66,
                "label": "confirmation",
                "position": [
                  0,
                  0
                ],
                "properties": {
                  "id": "confirmation",
                  "label": "Process:__Entity__"
                },
                "scale_factor": 1,
                "size": [
                  55,
                  55
                ],
                "styles": {},
                "type": "#9E9E9E"
              },
              {
                "color": "#4CAF50",
                "id": 67,
                "label": "rectifications des erreurs matérielles relevées",
                "position": [
                  0,
                  0
                ],
                "properties": {
                  "id": "rectifications des erreurs matérielles relevées",
                  "label": "Task:__Entity__"
                },
                "scale_factor": 1,
                "size": [
                  55,
                  55
                ],
                "styles": {},
                "type": "#4CAF50"
              },
              {
                "color": "#673AB7",
                "id": 69,
                "label": "BULLETIN OFFICIEL",
                "position": [
                  0,
                  0
                ],
                "properties": {
                  "id": "BULLETIN OFFICIEL",
                  "label": "__Entity__:Publication"
                },
                "scale_factor": 1,
                "size": [
                  55,
                  55
                ],
                "styles": {},
                "type": "#673AB7"
              },
              {
                "color": "#CDDC39",
                "id": 70,
                "label": "17-8-2023",
                "position": [
                  0,
                  0
                ],
                "properties": {
                  "id": "17-8-2023",
                  "label": "__Entity__:Date"
                },
                "scale_factor": 1,
                "size": [
                  55,
                  55
                ],
                "styles": {},
                "type": "#CDDC39"
              },
              {
                "color": "#CDDC39",
                "id": 419,
                "label": "15 ramadan 1444 (6-4-2023)",
                "position": [
                  0,
                  0
                ],
                "properties": {
                  "id": "15 ramadan 1444 (6-4-2023)",
                  "label": "__Entity__:Date"
                },
                "scale_factor": 1,
                "size": [
                  55,
                  55
                ],
                "styles": {},
                "type": "#CDDC39"
              },
              {
                "color": "#9E9E9E",
                "id": 73,
                "label": "Le maître d'ouvrage",
                "position": [
                  0,
                  0
                ],
                "properties": {
                  "id": "Le maître d'ouvrage",
                  "label": "Organization:Person/Company:__Entity__"
                },
                "scale_factor": 1,
                "size": [
                  55,
                  55
                ],
                "styles": {},
                "type": "#9E9E9E"
              },
              {
                "color": "#9C27B0",
                "id": 72,
                "label": "prix du début",
                "position": [
                  0,
                  0
                ],
                "properties": {
                  "id": "prix du début",
                  "label": "__Entity__:Price"
                },
                "scale_factor": 1,
                "size": [
                  55,
                  55
                ],
                "styles": {},
                "type": "#9C27B0"
              },
              {
                "color": "#607D8B",
                "id": 75,
                "label": "minimum bid of each article",
                "position": [
                  0,
                  0
                ],
                "properties": {
                  "id": "minimum bid of each article",
                  "label": "__Entity__:Concept"
                },
                "scale_factor": 1,
                "size": [
                  55,
                  55
                ],
                "styles": {},
                "type": "#607D8B"
              },
              {
                "color": "#F44336",
                "id": 77,
                "label": "montant maximum de révision",
                "position": [
                  0,
                  0
                ],
                "properties": {
                  "id": "montant maximum de révision",
                  "label": "__Entity__:Amount"
                },
                "scale_factor": 1,
                "size": [
                  55,
                  55
                ],
                "styles": {},
                "type": "#F44336"
              },
              {
                "color": "#CDDC39",
                "id": 132,
                "label": "le concurrent ayant présenté l'offre la moins-disante",
                "position": [
                  0,
                  0
                ],
                "properties": {
                  "id": "le concurrent ayant présenté l'offre la moins-disante",
                  "label": "__Entity__:Company"
                },
                "scale_factor": 1,
                "size": [
                  55,
                  55
                ],
                "styles": {},
                "type": "#CDDC39"
              },
              {
                "color": "#2196F3",
                "id": 302,
                "label": "rapport global et détaillé",
                "position": [
                  0,
                  0
                ],
                "properties": {
                  "id": "rapport global et détaillé",
                  "label": "Report:__Entity__"
                },
                "scale_factor": 1,
                "size": [
                  55,
                  55
                ],
                "styles": {},
                "type": "#2196F3"
              },
              {
                "color": "#607D8B",
                "id": 79,
                "label": "le nombre minimum des concurrents",
                "position": [
                  0,
                  0
                ],
                "properties": {
                  "id": "le nombre minimum des concurrents",
                  "label": "__Entity__:Concept"
                },
                "scale_factor": 1,
                "size": [
                  55,
                  55
                ],
                "styles": {},
                "type": "#607D8B"
              },
              {
                "color": "#CDDC39",
                "id": 80,
                "label": "l'enchère électronique inversée",
                "position": [
                  0,
                  0
                ],
                "properties": {
                  "id": "l'enchère électronique inversée",
                  "label": "Event:__Entity__"
                },
                "scale_factor": 1,
                "size": [
                  55,
                  55
                ],
                "styles": {},
                "type": "#CDDC39"
              },
              {
                "color": "#F44336",
                "id": 82,
                "label": "l'article 22 du présent arrêté",
                "position": [
                  0,
                  0
                ],
                "properties": {
                  "id": "l'article 22 du présent arrêté",
                  "label": "__Entity__:Document"
                },
                "scale_factor": 1,
                "size": [
                  55,
                  55
                ],
                "styles": {},
                "type": "#F44336"
              },
              {
                "color": "#F44336",
                "id": 84,
                "label": "présent arrêté",
                "position": [
                  0,
                  0
                ],
                "properties": {
                  "id": "présent arrêté",
                  "label": "__Entity__:Document"
                },
                "scale_factor": 1,
                "size": [
                  55,
                  55
                ],
                "styles": {},
                "type": "#F44336"
              },
              {
                "color": "#4CAF50",
                "id": 85,
                "label": "troisième alinéa de l'article 22",
                "position": [
                  0,
                  0
                ],
                "properties": {
                  "id": "troisième alinéa de l'article 22",
                  "label": "Textual Reference:__Entity__"
                },
                "scale_factor": 1,
                "size": [
                  55,
                  55
                ],
                "styles": {},
                "type": "#4CAF50"
              },
              {
                "color": "#F44336",
                "id": 88,
                "label": "l'exemplaire du cahier des prescriptions spéciales",
                "position": [
                  0,
                  0
                ],
                "properties": {
                  "id": "l'exemplaire du cahier des prescriptions spéciales",
                  "label": "__Entity__:Document"
                },
                "scale_factor": 1,
                "size": [
                  55,
                  55
                ],
                "styles": {},
                "type": "#F44336"
              },
              {
                "color": "#F44336",
                "id": 87,
                "label": "le modèle de la déclaration sur l'honneur",
                "position": [
                  0,
                  0
                ],
                "properties": {
                  "id": "le modèle de la déclaration sur l'honneur",
                  "label": "__Entity__:Form"
                },
                "scale_factor": 1,
                "size": [
                  55,
                  55
                ],
                "styles": {},
                "type": "#F44336"
              },
              {
                "color": "#F44336",
                "id": 91,
                "label": "dans les conditions d’utilisation du portail des marchés publics",
                "position": [
                  0,
                  0
                ],
                "properties": {
                  "id": "dans les conditions d’utilisation du portail des marchés publics",
                  "label": "__Entity__:Document"
                },
                "scale_factor": 1,
                "size": [
                  55,
                  55
                ],
                "styles": {},
                "type": "#F44336"
              },
              {
                "color": "#CDDC39",
                "id": 90,
                "label": "procédure de lancement",
                "position": [
                  0,
                  0
                ],
                "properties": {
                  "id": "procédure de lancement",
                  "label": "Event:__Entity__"
                },
                "scale_factor": 1,
                "size": [
                  55,
                  55
                ],
                "styles": {},
                "type": "#CDDC39"
              },
              {
                "color": "#607D8B",
                "id": 93,
                "label": "les critères d'admissibilité des concurrents",
                "position": [
                  0,
                  0
                ],
                "properties": {
                  "id": "les critères d'admissibilité des concurrents",
                  "label": "Specification:__Entity__"
                },
                "scale_factor": 1,
                "size": [
                  55,
                  55
                ],
                "styles": {},
                "type": "#607D8B"
              },
              {
                "color": "#673AB7",
                "id": 96,
                "label": "dirham marocain",
                "position": [
                  0,
                  0
                ],
                "properties": {
                  "id": "dirham marocain",
                  "label": "__Entity__:Currency"
                },
                "scale_factor": 1,
                "size": [
                  55,
                  55
                ],
                "styles": {},
                "type": "#673AB7"
              },
              {
                "color": "#CDDC39",
                "id": 95,
                "label": "enchère électronique inversée",
                "position": [
                  0,
                  0
                ],
                "properties": {
                  "id": "enchère électronique inversée",
                  "label": "Event:__Entity__"
                },
                "scale_factor": 1,
                "size": [
                  55,
                  55
                ],
                "styles": {},
                "type": "#CDDC39"
              },
              {
                "color": "#CDDC39",
                "id": 98,
                "label": "liste des pièces à fournir",
                "position": [
                  0,
                  0
                ],
                "properties": {
                  "id": "liste des pièces à fournir",
                  "label": "__Entity__:Liste"
                },
                "scale_factor": 1,
                "size": [
                  55,
                  55
                ],
                "styles": {},
                "type": "#CDDC39"
              },
              {
                "color": "#9E9E9E",
                "id": 99,
                "label": "article 27 ci-dessous",
                "position": [
                  0,
                  0
                ],
                "properties": {
                  "id": "article 27 ci-dessous",
                  "label": "__Entity__:Article"
                },
                "scale_factor": 1,
                "size": [
                  55,
                  55
                ],
                "styles": {},
                "type": "#9E9E9E"
              },
              {
                "color": "#CDDC39",
                "id": 834,
                "label": "dossiers du concours",
                "position": [
                  0,
                  0
                ],
                "properties": {
                  "id": "dossiers du concours",
                  "label": "__Entity__:Documents"
                },
                "scale_factor": 1,
                "size": [
                  55,
                  55
                ],
                "styles": {},
                "type": "#CDDC39"
              },
              {
                "color": "#F44336",
                "id": 104,
                "label": "articles 12 et 13 du présent arrêté",
                "position": [
                  0,
                  0
                ],
                "properties": {
                  "id": "articles 12 et 13 du présent arrêté",
                  "label": "__Entity__:Document"
                },
                "scale_factor": 1,
                "size": [
                  55,
                  55
                ],
                "styles": {},
                "type": "#F44336"
              },
              {
                "color": "#9C27B0",
                "id": 1305,
                "label": "portail",
                "position": [
                  0,
                  0
                ],
                "properties": {
                  "id": "portail",
                  "label": "__Entity__:Portal"
                },
                "scale_factor": 1,
                "size": [
                  55,
                  55
                ],
                "styles": {},
                "type": "#9C27B0"
              },
              {
                "color": "#9E9E9E",
                "id": 675,
                "label": "procédure",
                "position": [
                  0,
                  0
                ],
                "properties": {
                  "id": "procédure",
                  "label": "Procedure:Process:__Entity__"
                },
                "scale_factor": 1,
                "size": [
                  55,
                  55
                ],
                "styles": {},
                "type": "#9E9E9E"
              },
              {
                "color": "#CDDC39",
                "id": 107,
                "label": "séance d'ouverture des plis",
                "position": [
                  0,
                  0
                ],
                "properties": {
                  "id": "séance d'ouverture des plis",
                  "label": "Event:__Entity__"
                },
                "scale_factor": 1,
                "size": [
                  55,
                  55
                ],
                "styles": {},
                "type": "#CDDC39"
              },
              {
                "color": "#607D8B",
                "id": 1450,
                "label": "organe délibérant pour les marchés passés par les établissements publics ou les autres personnes morales de droit public",
                "position": [
                  0,
                  0
                ],
                "properties": {
                  "id": "organe délibérant pour les marchés passés par les établissements publics ou les autres personnes morales de droit public",
                  "label": "Organization:__Entity__"
                },
                "scale_factor": 1,
                "size": [
                  55,
                  55
                ],
                "styles": {},
                "type": "#607D8B"
              },
              {
                "color": "#607D8B",
                "id": 111,
                "label": "commission",
                "position": [
                  0,
                  0
                ],
                "properties": {
                  "id": "commission",
                  "label": "Organization:__Entity__"
                },
                "scale_factor": 1,
                "size": [
                  55,
                  55
                ],
                "styles": {},
                "type": "#607D8B"
              },
              {
                "color": "#CDDC39",
                "id": 783,
                "label": "séance d’admission",
                "position": [
                  0,
                  0
                ],
                "properties": {
                  "id": "séance d’admission",
                  "label": "Event:__Entity__"
                },
                "scale_factor": 1,
                "size": [
                  55,
                  55
                ],
                "styles": {},
                "type": "#CDDC39"
              },
              {
                "color": "#2196F3",
                "id": 882,
                "label": "concurrents présents et les membres du jury",
                "position": [
                  0,
                  0
                ],
                "properties": {
                  "id": "concurrents présents et les membres du jury",
                  "label": "Group:__Entity__"
                },
                "scale_factor": 1,
                "size": [
                  55,
                  55
                ],
                "styles": {},
                "type": "#2196F3"
              },
              {
                "color": "#607D8B",
                "id": 1114,
                "label": "bien–fondé des réserves ou des observations formulées",
                "position": [
                  0,
                  0
                ],
                "properties": {
                  "id": "bien–fondé des réserves ou des observations formulées",
                  "label": "__Entity__:Concept"
                },
                "scale_factor": 1,
                "size": [
                  55,
                  55
                ],
                "styles": {},
                "type": "#607D8B"
              },
              {
                "color": "#F44336",
                "id": 292,
                "label": "procès-verbal",
                "position": [
                  0,
                  0
                ],
                "properties": {
                  "id": "procès-verbal",
                  "label": "__Entity__:Document"
                },
                "scale_factor": 1,
                "size": [
                  55,
                  55
                ],
                "styles": {},
                "type": "#F44336"
              },
              {
                "color": "#F44336",
                "id": 109,
                "label": "président de la commission de consultation",
                "position": [
                  0,
                  0
                ],
                "properties": {
                  "id": "président de la commission de consultation",
                  "label": "__Entity__:Person"
                },
                "scale_factor": 1,
                "size": [
                  55,
                  55
                ],
                "styles": {},
                "type": "#F44336"
              },
              {
                "color": "#607D8B",
                "id": 121,
                "label": "revealing the identity of any bidder",
                "position": [
                  0,
                  0
                ],
                "properties": {
                  "id": "revealing the identity of any bidder",
                  "label": "Action:__Entity__"
                },
                "scale_factor": 1,
                "size": [
                  55,
                  55
                ],
                "styles": {},
                "type": "#607D8B"
              },
              {
                "color": "#607D8B",
                "id": 1333,
                "label": "déplacements, la traduction et l’impression des rapports et les frais de secrétariat ainsi que les frais généraux  et bénéfices",
                "position": [
                  0,
                  0
                ],
                "properties": {
                  "id": "déplacements, la traduction et l’impression des rapports et les frais de secrétariat ainsi que les frais généraux  et bénéfices",
                  "label": "__Entity__:Concept"
                },
                "scale_factor": 1,
                "size": [
                  55,
                  55
                ],
                "styles": {},
                "type": "#607D8B"
              },
              {
                "color": "#9C27B0",
                "id": 677,
                "label": "prix de référence",
                "position": [
                  0,
                  0
                ],
                "properties": {
                  "id": "prix de référence",
                  "label": "__Entity__:Price"
                },
                "scale_factor": 1,
                "size": [
                  55,
                  55
                ],
                "styles": {},
                "type": "#9C27B0"
              },
              {
                "color": "#2196F3",
                "id": 818,
                "label": "offres financières",
                "position": [
                  0,
                  0
                ],
                "properties": {
                  "id": "offres financières",
                  "label": "Financial Offer:Financial Offers:__Entity__"
                },
                "scale_factor": 1,
                "size": [
                  55,
                  55
                ],
                "styles": {},
                "type": "#2196F3"
              },
              {
                "color": "#607D8B",
                "id": 118,
                "label": "commission de l'enchère électronique inversée",
                "position": [
                  0,
                  0
                ],
                "properties": {
                  "id": "commission de l'enchère électronique inversée",
                  "label": "Organization:__Entity__"
                },
                "scale_factor": 1,
                "size": [
                  55,
                  55
                ],
                "styles": {},
                "type": "#607D8B"
              },
              {
                "color": "#CDDC39",
                "id": 119,
                "label": "déroulement de la deuxième phase",
                "position": [
                  0,
                  0
                ],
                "properties": {
                  "id": "déroulement de la deuxième phase",
                  "label": "Event:__Entity__"
                },
                "scale_factor": 1,
                "size": [
                  55,
                  55
                ],
                "styles": {},
                "type": "#CDDC39"
              },
              {
                "color": "#F44336",
                "id": 123,
                "label": "concurrent ayant présenté l'offre la moins-disante",
                "position": [
                  0,
                  0
                ],
                "properties": {
                  "id": "concurrent ayant présenté l'offre la moins-disante",
                  "label": "__Entity__:Person"
                },
                "scale_factor": 1,
                "size": [
                  55,
                  55
                ],
                "styles": {},
                "type": "#F44336"
              },
              {
                "color": "#F44336",
                "id": 125,
                "label": "son dossier administratif",
                "position": [
                  0,
                  0
                ],
                "properties": {
                  "id": "son dossier administratif",
                  "label": "__Entity__:Document"
                },
                "scale_factor": 1,
                "size": [
                  55,
                  55
                ],
                "styles": {},
                "type": "#F44336"
              },
              {
                "color": "#673AB7",
                "id": 126,
                "label": "conditions d'utilisation du portail des marchés publics",
                "position": [
                  0,
                  0
                ],
                "properties": {
                  "id": "conditions d'utilisation du portail des marchés publics",
                  "label": "Policy:__Entity__"
                },
                "scale_factor": 1,
                "size": [
                  55,
                  55
                ],
                "styles": {},
                "type": "#673AB7"
              },
              {
                "color": "#9C27B0",
                "id": 134,
                "label": "l'offre",
                "position": [
                  0,
                  0
                ],
                "properties": {
                  "id": "l'offre",
                  "label": "__Entity__:Offer"
                },
                "scale_factor": 1,
                "size": [
                  55,
                  55
                ],
                "styles": {},
                "type": "#9C27B0"
              },
              {
                "color": "#4CAF50",
                "id": 135,
                "label": "cinquième",
                "position": [
                  0,
                  0
                ],
                "properties": {
                  "id": "cinquième",
                  "label": "__Entity__:Rank"
                },
                "scale_factor": 1,
                "size": [
                  55,
                  55
                ],
                "styles": {},
                "type": "#4CAF50"
              },
              {
                "color": "#F44336",
                "id": 1153,
                "label": "deuxième",
                "position": [
                  0,
                  0
                ],
                "properties": {
                  "id": "deuxième",
                  "label": "__Entity__:Ranking"
                },
                "scale_factor": 1,
                "size": [
                  55,
                  55
                ],
                "styles": {},
                "type": "#F44336"
              },
              {
                "color": "#607D8B",
                "id": 137,
                "label": "Chapitre IX",
                "position": [
                  0,
                  0
                ],
                "properties": {
                  "id": "Chapitre IX",
                  "label": "Chapter:__Entity__"
                },
                "scale_factor": 1,
                "size": [
                  55,
                  55
                ],
                "styles": {},
                "type": "#607D8B"
              },
              {
                "color": "#F44336",
                "id": 138,
                "label": "Conditions et modalités de dématérialisation du nantissement des marchés publics",
                "position": [
                  0,
                  0
                ],
                "properties": {
                  "id": "Conditions et modalités de dématérialisation du nantissement des marchés publics",
                  "label": "__Entity__:Document"
                },
                "scale_factor": 1,
                "size": [
                  55,
                  55
                ],
                "styles": {},
                "type": "#F44336"
              },
              {
                "color": "#F44336",
                "id": 140,
                "label": "titulaire du marché",
                "position": [
                  0,
                  0
                ],
                "properties": {
                  "id": "titulaire du marché",
                  "label": "Person/Company:__Entity__:Person"
                },
                "scale_factor": 1,
                "size": [
                  55,
                  55
                ],
                "styles": {},
                "type": "#F44336"
              },
              {
                "color": "#2196F3",
                "id": 141,
                "label": "état sommaire des travaux, des fournitures ou des services",
                "position": [
                  0,
                  0
                ],
                "properties": {
                  "id": "état sommaire des travaux, des fournitures ou des services",
                  "label": "Report:__Entity__"
                },
                "scale_factor": 1,
                "size": [
                  55,
                  55
                ],
                "styles": {},
                "type": "#2196F3"
              },
              {
                "color": "#673AB7",
                "id": 830,
                "label": "prime allouée",
                "position": [
                  0,
                  0
                ],
                "properties": {
                  "id": "prime allouée",
                  "label": "Prize:__Entity__"
                },
                "scale_factor": 1,
                "size": [
                  55,
                  55
                ],
                "styles": {},
                "type": "#673AB7"
              },
              {
                "color": "#F44336",
                "id": 144,
                "label": "attestation",
                "position": [
                  0,
                  0
                ],
                "properties": {
                  "id": "attestation",
                  "label": "__Entity__:Document"
                },
                "scale_factor": 1,
                "size": [
                  55,
                  55
                ],
                "styles": {},
                "type": "#F44336"
              },
              {
                "color": "#673AB7",
                "id": 143,
                "label": "droits constatés et/ou un état des avances consenties et des acomptes mis en paiement au titre du marché nanti",
                "position": [
                  0,
                  0
                ],
                "properties": {
                  "id": "droits constatés et/ou un état des avances consenties et des acomptes mis en paiement au titre du marché nanti",
                  "label": "Contract:__Entity__"
                },
                "scale_factor": 1,
                "size": [
                  55,
                  55
                ],
                "styles": {},
                "type": "#673AB7"
              },
              {
                "color": "#CDDC39",
                "id": 181,
                "label": "prestations",
                "position": [
                  0,
                  0
                ],
                "properties": {
                  "id": "prestations",
                  "label": "Service:__Entity__:Concept"
                },
                "scale_factor": 1,
                "size": [
                  55,
                  55
                ],
                "styles": {},
                "type": "#CDDC39"
              },
              {
                "color": "#F44336",
                "id": 149,
                "label": "propriétaires",
                "position": [
                  0,
                  0
                ],
                "properties": {
                  "id": "propriétaires",
                  "label": "__Entity__:Person"
                },
                "scale_factor": 1,
                "size": [
                  55,
                  55
                ],
                "styles": {},
                "type": "#F44336"
              },
              {
                "color": "#9E9E9E",
                "id": 148,
                "label": "systèmes tiers",
                "position": [
                  0,
                  0
                ],
                "properties": {
                  "id": "systèmes tiers",
                  "label": "System:__Entity__"
                },
                "scale_factor": 1,
                "size": [
                  55,
                  55
                ],
                "styles": {},
                "type": "#9E9E9E"
              },
              {
                "color": "#9C27B0",
                "id": 151,
                "label": "Tout intervenant",
                "position": [
                  0,
                  0
                ],
                "properties": {
                  "id": "Tout intervenant",
                  "label": "__Entity__:Person/Entity"
                },
                "scale_factor": 1,
                "size": [
                  55,
                  55
                ],
                "styles": {},
                "type": "#9C27B0"
              },
              {
                "color": "#607D8B",
                "id": 154,
                "label": "des marchés publics",
                "position": [
                  0,
                  0
                ],
                "properties": {
                  "id": "des marchés publics",
                  "label": "__Entity__:Concept"
                },
                "scale_factor": 1,
                "size": [
                  55,
                  55
                ],
                "styles": {},
                "type": "#607D8B"
              },
              {
                "color": "#9E9E9E",
                "id": 153,
                "label": "signature électronique",
                "position": [
                  0,
                  0
                ],
                "properties": {
                  "id": "signature électronique",
                  "label": "Process:__Entity__"
                },
                "scale_factor": 1,
                "size": [
                  55,
                  55
                ],
                "styles": {},
                "type": "#9E9E9E"
              },
              {
                "color": "#2196F3",
                "id": 157,
                "label": "les dispositions",
                "position": [
                  0,
                  0
                ],
                "properties": {
                  "id": "les dispositions",
                  "label": "Regulation:__Entity__"
                },
                "scale_factor": 1,
                "size": [
                  55,
                  55
                ],
                "styles": {},
                "type": "#2196F3"
              },
              {
                "color": "#CDDC39",
                "id": 156,
                "label": "juillet 2024",
                "position": [
                  0,
                  0
                ],
                "properties": {
                  "id": "juillet 2024",
                  "label": "__Entity__:Date"
                },
                "scale_factor": 1,
                "size": [
                  55,
                  55
                ],
                "styles": {},
                "type": "#CDDC39"
              },
              {
                "color": "#607D8B",
                "id": 160,
                "label": "dispositions",
                "position": [
                  0,
                  0
                ],
                "properties": {
                  "id": "dispositions",
                  "label": "__Entity__:Concept"
                },
                "scale_factor": 1,
                "size": [
                  55,
                  55
                ],
                "styles": {},
                "type": "#607D8B"
              },
              {
                "color": "#F44336",
                "id": 159,
                "label": "arrêté n° 1982-21",
                "position": [
                  0,
                  0
                ],
                "properties": {
                  "id": "arrêté n° 1982-21",
                  "label": "__Entity__:Document"
                },
                "scale_factor": 1,
                "size": [
                  55,
                  55
                ],
                "styles": {},
                "type": "#F44336"
              },
              {
                "color": "#607D8B",
                "id": 162,
                "label": "les conventions",
                "position": [
                  0,
                  0
                ],
                "properties": {
                  "id": "les conventions",
                  "label": "__Entity__:Concept"
                },
                "scale_factor": 1,
                "size": [
                  55,
                  55
                ],
                "styles": {},
                "type": "#607D8B"
              },
              {
                "color": "#4CAF50",
                "id": 163,
                "label": "le paragraphe 7 de l'article 4 du présent décret",
                "position": [
                  0,
                  0
                ],
                "properties": {
                  "id": "le paragraphe 7 de l'article 4 du présent décret",
                  "label": "Legal Document:__Entity__"
                },
                "scale_factor": 1,
                "size": [
                  55,
                  55
                ],
                "styles": {},
                "type": "#4CAF50"
              },
              {
                "color": "#607D8B",
                "id": 165,
                "label": "collectivités territoriales",
                "position": [
                  0,
                  0
                ],
                "properties": {
                  "id": "collectivités territoriales",
                  "label": "Organization:__Entity__"
                },
                "scale_factor": 1,
                "size": [
                  55,
                  55
                ],
                "styles": {},
                "type": "#607D8B"
              },
              {
                "color": "#607D8B",
                "id": 166,
                "label": "organismes publics locaux ou nationaux ou les organismes internationaux",
                "position": [
                  0,
                  0
                ],
                "properties": {
                  "id": "organismes publics locaux ou nationaux ou les organismes internationaux",
                  "label": "Organization:__Entity__"
                },
                "scale_factor": 1,
                "size": [
                  55,
                  55
                ],
                "styles": {},
                "type": "#607D8B"
              },
              {
                "color": "#F44336",
                "id": 468,
                "label": "5,364,050",
                "position": [
                  0,
                  0
                ],
                "properties": {
                  "id": "5,364,050",
                  "label": "__Entity__:Amount"
                },
                "scale_factor": 1,
                "size": [
                  55,
                  55
                ],
                "styles": {},
                "type": "#F44336"
              },
              {
                "color": "#F44336",
                "id": 168,
                "label": "bordereau des prix",
                "position": [
                  0,
                  0
                ],
                "properties": {
                  "id": "bordereau des prix",
                  "label": "__Entity__:Document"
                },
                "scale_factor": 1,
                "size": [
                  55,
                  55
                ],
                "styles": {},
                "type": "#F44336"
              },
              {
                "color": "#F44336",
                "id": 169,
                "label": "décomposition par poste des prestations à exécuter",
                "position": [
                  0,
                  0
                ],
                "properties": {
                  "id": "décomposition par poste des prestations à exécuter",
                  "label": "__Entity__:Information"
                },
                "scale_factor": 1,
                "size": [
                  55,
                  55
                ],
                "styles": {},
                "type": "#F44336"
              },
              {
                "color": "#F44336",
                "id": 172,
                "label": "bordereau des prix des approvisionnements",
                "position": [
                  0,
                  0
                ],
                "properties": {
                  "id": "bordereau des prix des approvisionnements",
                  "label": "__Entity__:Document"
                },
                "scale_factor": 1,
                "size": [
                  55,
                  55
                ],
                "styles": {},
                "type": "#F44336"
              },
              {
                "color": "#607D8B",
                "id": 171,
                "label": "matériaux destinés à approvisionner le chantier",
                "position": [
                  0,
                  0
                ],
                "properties": {
                  "id": "matériaux destinés à approvisionner le chantier",
                  "label": "Materials:__Entity__"
                },
                "scale_factor": 1,
                "size": [
                  55,
                  55
                ],
                "styles": {},
                "type": "#607D8B"
              },
              {
                "color": "#F44336",
                "id": 175,
                "label": "bordereau du prix global",
                "position": [
                  0,
                  0
                ],
                "properties": {
                  "id": "bordereau du prix global",
                  "label": "__Entity__:Document"
                },
                "scale_factor": 1,
                "size": [
                  55,
                  55
                ],
                "styles": {},
                "type": "#F44336"
              },
              {
                "color": "#9C27B0",
                "id": 174,
                "label": "prix forfaitaire",
                "position": [
                  0,
                  0
                ],
                "properties": {
                  "id": "prix forfaitaire",
                  "label": "__Entity__:Price"
                },
                "scale_factor": 1,
                "size": [
                  55,
                  55
                ],
                "styles": {},
                "type": "#9C27B0"
              },
              {
                "color": "#607D8B",
                "id": 178,
                "label": "liste des prestations",
                "position": [
                  0,
                  0
                ],
                "properties": {
                  "id": "liste des prestations",
                  "label": "__Entity__:Concept"
                },
                "scale_factor": 1,
                "size": [
                  55,
                  55
                ],
                "styles": {},
                "type": "#607D8B"
              },
              {
                "color": "#F44336",
                "id": 177,
                "label": "Annexe n° 1",
                "position": [
                  0,
                  0
                ],
                "properties": {
                  "id": "Annexe n° 1",
                  "label": "__Entity__:Document"
                },
                "scale_factor": 1,
                "size": [
                  55,
                  55
                ],
                "styles": {},
                "type": "#F44336"
              },
              {
                "color": "#673AB7",
                "id": 180,
                "label": "poste",
                "position": [
                  0,
                  0
                ],
                "properties": {
                  "id": "poste",
                  "label": "Job:__Entity__"
                },
                "scale_factor": 1,
                "size": [
                  55,
                  55
                ],
                "styles": {},
                "type": "#673AB7"
              },
              {
                "color": "#607D8B",
                "id": 1384,
                "label": "corps d’état principal",
                "position": [
                  0,
                  0
                ],
                "properties": {
                  "id": "corps d’état principal",
                  "label": "__Entity__:Concept"
                },
                "scale_factor": 1,
                "size": [
                  55,
                  55
                ],
                "styles": {},
                "type": "#607D8B"
              },
              {
                "color": "#607D8B",
                "id": 184,
                "label": "Autorité compétente",
                "position": [
                  0,
                  0
                ],
                "properties": {
                  "id": "Autorité compétente",
                  "label": "Organization:__Entity__"
                },
                "scale_factor": 1,
                "size": [
                  55,
                  55
                ],
                "styles": {},
                "type": "#607D8B"
              },
              {
                "color": "#9E9E9E",
                "id": 183,
                "label": "Maître d'ouvrage",
                "position": [
                  0,
                  0
                ],
                "properties": {
                  "id": "Maître d'ouvrage",
                  "label": "Organization:__Entity__:Person"
                },
                "scale_factor": 1,
                "size": [
                  55,
                  55
                ],
                "styles": {},
                "type": "#9E9E9E"
              },
              {
                "color": "#F44336",
                "id": 186,
                "label": "Copie de la décision de désignation du maître d'ouvrage",
                "position": [
                  0,
                  0
                ],
                "properties": {
                  "id": "Copie de la décision de désignation du maître d'ouvrage",
                  "label": "__Entity__:Document"
                },
                "scale_factor": 1,
                "size": [
                  55,
                  55
                ],
                "styles": {},
                "type": "#F44336"
              },
              {
                "color": "#673AB7",
                "id": 187,
                "label": "marché passé par l'un des organismes cités ci-dessus",
                "position": [
                  0,
                  0
                ],
                "properties": {
                  "id": "marché passé par l'un des organismes cités ci-dessus",
                  "label": "Contract:__Entity__"
                },
                "scale_factor": 1,
                "size": [
                  55,
                  55
                ],
                "styles": {},
                "type": "#673AB7"
              },
              {
                "color": "#607D8B",
                "id": 189,
                "label": "publique",
                "position": [
                  0,
                  0
                ],
                "properties": {
                  "id": "publique",
                  "label": "Organization:__Entity__"
                },
                "scale_factor": 1,
                "size": [
                  55,
                  55
                ],
                "styles": {},
                "type": "#607D8B"
              },
              {
                "color": "#CDDC39",
                "id": 190,
                "label": "société de développement régional",
                "position": [
                  0,
                  0
                ],
                "properties": {
                  "id": "société de développement régional",
                  "label": "Type of Organization:__Entity__"
                },
                "scale_factor": 1,
                "size": [
                  55,
                  55
                ],
                "styles": {},
                "type": "#CDDC39"
              },
              {
                "color": "#9E9E9E",
                "id": 192,
                "label": "travaux",
                "position": [
                  0,
                  0
                ],
                "properties": {
                  "id": "travaux",
                  "label": "Project:__Entity__:Concept"
                },
                "scale_factor": 1,
                "size": [
                  55,
                  55
                ],
                "styles": {},
                "type": "#9E9E9E"
              },
              {
                "color": "#9C27B0",
                "id": 978,
                "label": "matériel",
                "position": [
                  0,
                  0
                ],
                "properties": {
                  "id": "matériel",
                  "label": "Equipment:__Entity__"
                },
                "scale_factor": 1,
                "size": [
                  55,
                  55
                ],
                "styles": {},
                "type": "#9C27B0"
              },
              {
                "color": "#607D8B",
                "id": 193,
                "label": "marché de services",
                "position": [
                  0,
                  0
                ],
                "properties": {
                  "id": "marché de services",
                  "label": "__Entity__:Concept"
                },
                "scale_factor": 1,
                "size": [
                  55,
                  55
                ],
                "styles": {},
                "type": "#607D8B"
              },
              {
                "color": "#607D8B",
                "id": 195,
                "label": "marchés de services courants",
                "position": [
                  0,
                  0
                ],
                "properties": {
                  "id": "marchés de services courants",
                  "label": "__Entity__:Concept"
                },
                "scale_factor": 1,
                "size": [
                  55,
                  55
                ],
                "styles": {},
                "type": "#607D8B"
              },
              {
                "color": "#607D8B",
                "id": 199,
                "label": "d’œuvre",
                "position": [
                  0,
                  0
                ],
                "properties": {
                  "id": "d’œuvre",
                  "label": "__Entity__:Concept"
                },
                "scale_factor": 1,
                "size": [
                  55,
                  55
                ],
                "styles": {},
                "type": "#607D8B"
              },
              {
                "color": "#607D8B",
                "id": 198,
                "label": "frais de fonctionnement du matériel",
                "position": [
                  0,
                  0
                ],
                "properties": {
                  "id": "frais de fonctionnement du matériel",
                  "label": "__Entity__:Concept"
                },
                "scale_factor": 1,
                "size": [
                  55,
                  55
                ],
                "styles": {},
                "type": "#607D8B"
              },
              {
                "color": "#CDDC39",
                "id": 202,
                "label": "lancement de la procédure de passation du marché",
                "position": [
                  0,
                  0
                ],
                "properties": {
                  "id": "lancement de la procédure de passation du marché",
                  "label": "Event:__Entity__"
                },
                "scale_factor": 1,
                "size": [
                  55,
                  55
                ],
                "styles": {},
                "type": "#CDDC39"
              },
              {
                "color": "#9C27B0",
                "id": 206,
                "label": "produits d'origine marocaine",
                "position": [
                  0,
                  0
                ],
                "properties": {
                  "id": "produits d'origine marocaine",
                  "label": "Product:__Entity__"
                },
                "scale_factor": 1,
                "size": [
                  55,
                  55
                ],
                "styles": {},
                "type": "#9C27B0"
              },
              {
                "color": "#2196F3",
                "id": 207,
                "label": "normes marocaines homologuées",
                "position": [
                  0,
                  0
                ],
                "properties": {
                  "id": "normes marocaines homologuées",
                  "label": "Standard:__Entity__"
                },
                "scale_factor": 1,
                "size": [
                  55,
                  55
                ],
                "styles": {},
                "type": "#2196F3"
              },
              {
                "color": "#4CAF50",
                "id": 210,
                "label": "Les spécifications techniques",
                "position": [
                  0,
                  0
                ],
                "properties": {
                  "id": "Les spécifications techniques",
                  "label": "Specifications:__Entity__"
                },
                "scale_factor": 1,
                "size": [
                  55,
                  55
                ],
                "styles": {},
                "type": "#4CAF50"
              },
              {
                "color": "#F44336",
                "id": 209,
                "label": "critères de performance, capacité et qualité",
                "position": [
                  0,
                  0
                ],
                "properties": {
                  "id": "critères de performance, capacité et qualité",
                  "label": "__Entity__:Criteria"
                },
                "scale_factor": 1,
                "size": [
                  55,
                  55
                ],
                "styles": {},
                "type": "#F44336"
              },
              {
                "color": "#607D8B",
                "id": 214,
                "label": "quantification",
                "position": [
                  0,
                  0
                ],
                "properties": {
                  "id": "quantification",
                  "label": "__Entity__:Concept"
                },
                "scale_factor": 1,
                "size": [
                  55,
                  55
                ],
                "styles": {},
                "type": "#607D8B"
              },
              {
                "color": "#9E9E9E",
                "id": 215,
                "label": "exécution d'une prestation",
                "position": [
                  0,
                  0
                ],
                "properties": {
                  "id": "exécution d'une prestation",
                  "label": "Process:__Entity__"
                },
                "scale_factor": 1,
                "size": [
                  55,
                  55
                ],
                "styles": {},
                "type": "#9E9E9E"
              },
              {
                "color": "#673AB7",
                "id": 217,
                "label": "marché-cadre",
                "position": [
                  0,
                  0
                ],
                "properties": {
                  "id": "marché-cadre",
                  "label": "Contract:__Entity__"
                },
                "scale_factor": 1,
                "size": [
                  55,
                  55
                ],
                "styles": {},
                "type": "#673AB7"
              },
              {
                "color": "#F44336",
                "id": 218,
                "label": "cahier des prescriptions spéciales",
                "position": [
                  0,
                  0
                ],
                "properties": {
                  "id": "cahier des prescriptions spéciales",
                  "label": "__Entity__:Document"
                },
                "scale_factor": 1,
                "size": [
                  55,
                  55
                ],
                "styles": {},
                "type": "#F44336"
              },
              {
                "color": "#607D8B",
                "id": 221,
                "label": "parties contractantes",
                "position": [
                  0,
                  0
                ],
                "properties": {
                  "id": "parties contractantes",
                  "label": "Organization:__Entity__"
                },
                "scale_factor": 1,
                "size": [
                  55,
                  55
                ],
                "styles": {},
                "type": "#607D8B"
              },
              {
                "color": "#9E9E9E",
                "id": 220,
                "label": "révision des conditions d'exécution du marché",
                "position": [
                  0,
                  0
                ],
                "properties": {
                  "id": "révision des conditions d'exécution du marché",
                  "label": "Process:__Entity__"
                },
                "scale_factor": 1,
                "size": [
                  55,
                  55
                ],
                "styles": {},
                "type": "#9E9E9E"
              },
              {
                "color": "#607D8B",
                "id": 224,
                "label": "Révision",
                "position": [
                  0,
                  0
                ],
                "properties": {
                  "id": "Révision",
                  "label": "__Entity__:Concept"
                },
                "scale_factor": 1,
                "size": [
                  55,
                  55
                ],
                "styles": {},
                "type": "#607D8B"
              },
              {
                "color": "#F44336",
                "id": 223,
                "label": "Avenant",
                "position": [
                  0,
                  0
                ],
                "properties": {
                  "id": "Avenant",
                  "label": "__Entity__:Document"
                },
                "scale_factor": 1,
                "size": [
                  55,
                  55
                ],
                "styles": {},
                "type": "#F44336"
              },
              {
                "color": "#F44336",
                "id": 226,
                "label": "Nº 7184",
                "position": [
                  0,
                  0
                ],
                "properties": {
                  "id": "Nº 7184",
                  "label": "__Entity__:Document"
                },
                "scale_factor": 1,
                "size": [
                  55,
                  55
                ],
                "styles": {},
                "type": "#F44336"
              },
              {
                "color": "#673AB7",
                "id": 1191,
                "label": "BULLETIN OFFICIEL 1025",
                "position": [
                  0,
                  0
                ],
                "properties": {
                  "id": "BULLETIN OFFICIEL 1025",
                  "label": "__Entity__:Publication"
                },
                "scale_factor": 1,
                "size": [
                  55,
                  55
                ],
                "styles": {},
                "type": "#673AB7"
              },
              {
                "color": "#673AB7",
                "id": 1347,
                "label": "BULLETIN OFFICIEL 1043",
                "position": [
                  0,
                  0
                ],
                "properties": {
                  "id": "BULLETIN OFFICIEL 1043",
                  "label": "__Entity__:Publication"
                },
                "scale_factor": 1,
                "size": [
                  55,
                  55
                ],
                "styles": {},
                "type": "#673AB7"
              },
              {
                "color": "#673AB7",
                "id": 227,
                "label": "BULLETIN OFFICIEL 921",
                "position": [
                  0,
                  0
                ],
                "properties": {
                  "id": "BULLETIN OFFICIEL 921",
                  "label": "__Entity__:Publication"
                },
                "scale_factor": 1,
                "size": [
                  55,
                  55
                ],
                "styles": {},
                "type": "#673AB7"
              },
              {
                "color": "#607D8B",
                "id": 229,
                "label": "prévues au A)",
                "position": [
                  0,
                  0
                ],
                "properties": {
                  "id": "prévues au A)",
                  "label": "__Entity__:Concept"
                },
                "scale_factor": 1,
                "size": [
                  55,
                  55
                ],
                "styles": {},
                "type": "#607D8B"
              },
              {
                "color": "#607D8B",
                "id": 230,
                "label": "prévues au B)",
                "position": [
                  0,
                  0
                ],
                "properties": {
                  "id": "prévues au B)",
                  "label": "__Entity__:Concept"
                },
                "scale_factor": 1,
                "size": [
                  55,
                  55
                ],
                "styles": {},
                "type": "#607D8B"
              },
              {
                "color": "#607D8B",
                "id": 232,
                "label": "Marchés reconductibles",
                "position": [
                  0,
                  0
                ],
                "properties": {
                  "id": "Marchés reconductibles",
                  "label": "__Entity__:Concept"
                },
                "scale_factor": 1,
                "size": [
                  55,
                  55
                ],
                "styles": {},
                "type": "#607D8B"
              },
              {
                "color": "#2196F3",
                "id": 233,
                "label": "ART. 8.",
                "position": [
                  0,
                  0
                ],
                "properties": {
                  "id": "ART. 8.",
                  "label": "Regulation:__Entity__"
                },
                "scale_factor": 1,
                "size": [
                  55,
                  55
                ],
                "styles": {},
                "type": "#2196F3"
              },
              {
                "color": "#673AB7",
                "id": 237,
                "label": "marchés reconductibles",
                "position": [
                  0,
                  0
                ],
                "properties": {
                  "id": "marchés reconductibles",
                  "label": "Contract:__Entity__"
                },
                "scale_factor": 1,
                "size": [
                  55,
                  55
                ],
                "styles": {},
                "type": "#673AB7"
              },
              {
                "color": "#607D8B",
                "id": 238,
                "label": "clause de tacite reconduction",
                "position": [
                  0,
                  0
                ],
                "properties": {
                  "id": "clause de tacite reconduction",
                  "label": "Clause:__Entity__"
                },
                "scale_factor": 1,
                "size": [
                  55,
                  55
                ],
                "styles": {},
                "type": "#607D8B"
              },
              {
                "color": "#673AB7",
                "id": 243,
                "label": "première année",
                "position": [
                  0,
                  0
                ],
                "properties": {
                  "id": "première année",
                  "label": "Year:__Entity__"
                },
                "scale_factor": 1,
                "size": [
                  55,
                  55
                ],
                "styles": {},
                "type": "#673AB7"
              },
              {
                "color": "#CDDC39",
                "id": 244,
                "label": "engagement",
                "position": [
                  0,
                  0
                ],
                "properties": {
                  "id": "engagement",
                  "label": "Commitment:__Entity__"
                },
                "scale_factor": 1,
                "size": [
                  55,
                  55
                ],
                "styles": {},
                "type": "#CDDC39"
              },
              {
                "color": "#673AB7",
                "id": 246,
                "label": "marché reconductible",
                "position": [
                  0,
                  0
                ],
                "properties": {
                  "id": "marché reconductible",
                  "label": "Contract:__Entity__"
                },
                "scale_factor": 1,
                "size": [
                  55,
                  55
                ],
                "styles": {},
                "type": "#673AB7"
              },
              {
                "color": "#607D8B",
                "id": 247,
                "label": "résiliation",
                "position": [
                  0,
                  0
                ],
                "properties": {
                  "id": "résiliation",
                  "label": "Action:__Entity__"
                },
                "scale_factor": 1,
                "size": [
                  55,
                  55
                ],
                "styles": {},
                "type": "#607D8B"
              },
              {
                "color": "#CDDC39",
                "id": 250,
                "label": "marchés",
                "position": [
                  0,
                  0
                ],
                "properties": {
                  "id": "marchés",
                  "label": "Market:Contract:__Entity__:Concept"
                },
                "scale_factor": 1,
                "size": [
                  55,
                  55
                ],
                "styles": {},
                "type": "#CDDC39"
              },
              {
                "color": "#607D8B",
                "id": 1303,
                "label": "contrats d'architectes",
                "position": [
                  0,
                  0
                ],
                "properties": {
                  "id": "contrats d'architectes",
                  "label": "__Entity__:Concept"
                },
                "scale_factor": 1,
                "size": [
                  55,
                  55
                ],
                "styles": {},
                "type": "#607D8B"
              },
              {
                "color": "#9E9E9E",
                "id": 249,
                "label": "durée totale du marché reconductible",
                "position": [
                  0,
                  0
                ],
                "properties": {
                  "id": "durée totale du marché reconductible",
                  "label": "Time Period:__Entity__"
                },
                "scale_factor": 1,
                "size": [
                  55,
                  55
                ],
                "styles": {},
                "type": "#9E9E9E"
              },
              {
                "color": "#607D8B",
                "id": 252,
                "label": "totalité de la prestation",
                "position": [
                  0,
                  0
                ],
                "properties": {
                  "id": "totalité de la prestation",
                  "label": "Service:__Entity__"
                },
                "scale_factor": 1,
                "size": [
                  55,
                  55
                ],
                "styles": {},
                "type": "#607D8B"
              },
              {
                "color": "#9E9E9E",
                "id": 376,
                "label": "appel d'offres",
                "position": [
                  0,
                  0
                ],
                "properties": {
                  "id": "appel d'offres",
                  "label": "Procedure:__Entity__"
                },
                "scale_factor": 1,
                "size": [
                  55,
                  55
                ],
                "styles": {},
                "type": "#9E9E9E"
              },
              {
                "color": "#9C27B0",
                "id": 938,
                "label": "bourse",
                "position": [
                  0,
                  0
                ],
                "properties": {
                  "id": "bourse",
                  "label": "Stock Exchange:__Entity__"
                },
                "scale_factor": 1,
                "size": [
                  55,
                  55
                ],
                "styles": {},
                "type": "#9C27B0"
              },
              {
                "color": "#2196F3",
                "id": 940,
                "label": "dispositions de l'article 88 du présent décret",
                "position": [
                  0,
                  0
                ],
                "properties": {
                  "id": "dispositions de l'article 88 du présent décret",
                  "label": "Regulation:__Entity__"
                },
                "scale_factor": 1,
                "size": [
                  55,
                  55
                ],
                "styles": {},
                "type": "#2196F3"
              },
              {
                "color": "#2196F3",
                "id": 1439,
                "label": "contrôles et audits",
                "position": [
                  0,
                  0
                ],
                "properties": {
                  "id": "contrôles et audits",
                  "label": "Audit:__Entity__"
                },
                "scale_factor": 1,
                "size": [
                  55,
                  55
                ],
                "styles": {},
                "type": "#2196F3"
              },
              {
                "color": "#2196F3",
                "id": 1443,
                "label": "contrôle et audit",
                "position": [
                  0,
                  0
                ],
                "properties": {
                  "id": "contrôle et audit",
                  "label": "Regulation:__Entity__"
                },
                "scale_factor": 1,
                "size": [
                  55,
                  55
                ],
                "styles": {},
                "type": "#2196F3"
              },
              {
                "color": "#9E9E9E",
                "id": 254,
                "label": "mode d'attribution des lots",
                "position": [
                  0,
                  0
                ],
                "properties": {
                  "id": "mode d'attribution des lots",
                  "label": "Procedure:__Entity__"
                },
                "scale_factor": 1,
                "size": [
                  55,
                  55
                ],
                "styles": {},
                "type": "#9E9E9E"
              },
              {
                "color": "#4CAF50",
                "id": 477,
                "label": "liste des pièces justificatives",
                "position": [
                  0,
                  0
                ],
                "properties": {
                  "id": "liste des pièces justificatives",
                  "label": "__Entity__:List"
                },
                "scale_factor": 1,
                "size": [
                  55,
                  55
                ],
                "styles": {},
                "type": "#4CAF50"
              },
              {
                "color": "#9E9E9E",
                "id": 1040,
                "label": "article du règlement de consultation",
                "position": [
                  0,
                  0
                ],
                "properties": {
                  "id": "article du règlement de consultation",
                  "label": "__Entity__:Article"
                },
                "scale_factor": 1,
                "size": [
                  55,
                  55
                ],
                "styles": {},
                "type": "#9E9E9E"
              },
              {
                "color": "#607D8B",
                "id": 257,
                "label": "caractère",
                "position": [
                  0,
                  0
                ],
                "properties": {
                  "id": "caractère",
                  "label": "__Entity__:Concept"
                },
                "scale_factor": 1,
                "size": [
                  55,
                  55
                ],
                "styles": {},
                "type": "#607D8B"
              },
              {
                "color": "#F44336",
                "id": 258,
                "label": "homogène",
                "position": [
                  0,
                  0
                ],
                "properties": {
                  "id": "homogène",
                  "label": "Adjective:__Entity__"
                },
                "scale_factor": 1,
                "size": [
                  55,
                  55
                ],
                "styles": {},
                "type": "#F44336"
              },
              {
                "color": "#9C27B0",
                "id": 260,
                "label": "marché de conception-réalisation",
                "position": [
                  0,
                  0
                ],
                "properties": {
                  "id": "marché de conception-réalisation",
                  "label": "__Entity__:Project"
                },
                "scale_factor": 1,
                "size": [
                  55,
                  55
                ],
                "styles": {},
                "type": "#9C27B0"
              },
              {
                "color": "#607D8B",
                "id": 261,
                "label": "amélioration de l'efficacité énergétique",
                "position": [
                  0,
                  0
                ],
                "properties": {
                  "id": "amélioration de l'efficacité énergétique",
                  "label": "__Entity__:Goal"
                },
                "scale_factor": 1,
                "size": [
                  55,
                  55
                ],
                "styles": {},
                "type": "#607D8B"
              },
              {
                "color": "#F44336",
                "id": 265,
                "label": "Chef du gouvernement",
                "position": [
                  0,
                  0
                ],
                "properties": {
                  "id": "Chef du gouvernement",
                  "label": "__Entity__:Person"
                },
                "scale_factor": 1,
                "size": [
                  55,
                  55
                ],
                "styles": {},
                "type": "#F44336"
              },
              {
                "color": "#607D8B",
                "id": 266,
                "label": "Commission nationale",
                "position": [
                  0,
                  0
                ],
                "properties": {
                  "id": "Commission nationale",
                  "label": "Organization:__Entity__"
                },
                "scale_factor": 1,
                "size": [
                  55,
                  55
                ],
                "styles": {},
                "type": "#607D8B"
              },
              {
                "color": "#F44336",
                "id": 337,
                "label": "ministre chargé des finances",
                "position": [
                  0,
                  0
                ],
                "properties": {
                  "id": "ministre chargé des finances",
                  "label": "__Entity__:Person"
                },
                "scale_factor": 1,
                "size": [
                  55,
                  55
                ],
                "styles": {},
                "type": "#F44336"
              },
              {
                "color": "#607D8B",
                "id": 268,
                "label": "commande publique",
                "position": [
                  0,
                  0
                ],
                "properties": {
                  "id": "commande publique",
                  "label": "__Entity__:Concept"
                },
                "scale_factor": 1,
                "size": [
                  55,
                  55
                ],
                "styles": {},
                "type": "#607D8B"
              },
              {
                "color": "#607D8B",
                "id": 269,
                "label": "marchés de l'État, des établissements publics et des autres personnes morales de droit public",
                "position": [
                  0,
                  0
                ],
                "properties": {
                  "id": "marchés de l'État, des établissements publics et des autres personnes morales de droit public",
                  "label": "Organization:__Entity__"
                },
                "scale_factor": 1,
                "size": [
                  55,
                  55
                ],
                "styles": {},
                "type": "#607D8B"
              },
              {
                "color": "#673AB7",
                "id": 271,
                "label": "entreprise",
                "position": [
                  0,
                  0
                ],
                "properties": {
                  "id": "entreprise",
                  "label": "Business:__Entity__:Company"
                },
                "scale_factor": 1,
                "size": [
                  55,
                  55
                ],
                "styles": {},
                "type": "#673AB7"
              },
              {
                "color": "#607D8B",
                "id": 272,
                "label": "conditions techniques de réalisation",
                "position": [
                  0,
                  0
                ],
                "properties": {
                  "id": "conditions techniques de réalisation",
                  "label": "__Entity__:Concept"
                },
                "scale_factor": 1,
                "size": [
                  55,
                  55
                ],
                "styles": {},
                "type": "#607D8B"
              },
              {
                "color": "#9C27B0",
                "id": 1151,
                "label": "pièces exigées ou produits",
                "position": [
                  0,
                  0
                ],
                "properties": {
                  "id": "pièces exigées ou produits",
                  "label": "Product:__Entity__"
                },
                "scale_factor": 1,
                "size": [
                  55,
                  55
                ],
                "styles": {},
                "type": "#9C27B0"
              },
              {
                "color": "#607D8B",
                "id": 275,
                "label": "compétitif",
                "position": [
                  0,
                  0
                ],
                "properties": {
                  "id": "compétitif",
                  "label": "__Entity__:Concept"
                },
                "scale_factor": 1,
                "size": [
                  55,
                  55
                ],
                "styles": {},
                "type": "#607D8B"
              },
              {
                "color": "#9E9E9E",
                "id": 274,
                "label": "processus de sélection",
                "position": [
                  0,
                  0
                ],
                "properties": {
                  "id": "processus de sélection",
                  "label": "Process:__Entity__"
                },
                "scale_factor": 1,
                "size": [
                  55,
                  55
                ],
                "styles": {},
                "type": "#9E9E9E"
              },
              {
                "color": "#CDDC39",
                "id": 284,
                "label": "solutions proposées",
                "position": [
                  0,
                  0
                ],
                "properties": {
                  "id": "solutions proposées",
                  "label": "__Entity__:Proposals"
                },
                "scale_factor": 1,
                "size": [
                  55,
                  55
                ],
                "styles": {},
                "type": "#CDDC39"
              },
              {
                "color": "#9E9E9E",
                "id": 989,
                "label": "offre du concurrent",
                "position": [
                  0,
                  0
                ],
                "properties": {
                  "id": "offre du concurrent",
                  "label": "__Entity__:Competitor's Offer"
                },
                "scale_factor": 1,
                "size": [
                  55,
                  55
                ],
                "styles": {},
                "type": "#9E9E9E"
              },
              {
                "color": "#9C27B0",
                "id": 1337,
                "label": "anormalement basse",
                "position": [
                  0,
                  0
                ],
                "properties": {
                  "id": "anormalement basse",
                  "label": "__Entity__:Description"
                },
                "scale_factor": 1,
                "size": [
                  55,
                  55
                ],
                "styles": {},
                "type": "#9C27B0"
              },
              {
                "color": "#F44336",
                "id": 286,
                "label": "Chaque candidat",
                "position": [
                  0,
                  0
                ],
                "properties": {
                  "id": "Chaque candidat",
                  "label": "__Entity__:Person"
                },
                "scale_factor": 1,
                "size": [
                  55,
                  55
                ],
                "styles": {},
                "type": "#F44336"
              },
              {
                "color": "#607D8B",
                "id": 287,
                "label": "principe d'égalité de traitement des concurrents",
                "position": [
                  0,
                  0
                ],
                "properties": {
                  "id": "principe d'égalité de traitement des concurrents",
                  "label": "__Entity__:Concept"
                },
                "scale_factor": 1,
                "size": [
                  55,
                  55
                ],
                "styles": {},
                "type": "#607D8B"
              },
              {
                "color": "#2196F3",
                "id": 289,
                "label": "Le maître d’ouvrage",
                "position": [
                  0,
                  0
                ],
                "properties": {
                  "id": "Le maître d’ouvrage",
                  "label": "Organization:__Entity__:Person/Organization"
                },
                "scale_factor": 1,
                "size": [
                  55,
                  55
                ],
                "styles": {},
                "type": "#2196F3"
              },
              {
                "color": "#607D8B",
                "id": 329,
                "label": "frais de dédouanement et/ou de transport",
                "position": [
                  0,
                  0
                ],
                "properties": {
                  "id": "frais de dédouanement et/ou de transport",
                  "label": "Service:__Entity__"
                },
                "scale_factor": 1,
                "size": [
                  55,
                  55
                ],
                "styles": {},
                "type": "#607D8B"
              },
              {
                "color": "#F44336",
                "id": 291,
                "label": "candidat",
                "position": [
                  0,
                  0
                ],
                "properties": {
                  "id": "candidat",
                  "label": "__Entity__:Person"
                },
                "scale_factor": 1,
                "size": [
                  55,
                  55
                ],
                "styles": {},
                "type": "#F44336"
              },
              {
                "color": "#CDDC39",
                "id": 1167,
                "label": "séance d’examen des offres",
                "position": [
                  0,
                  0
                ],
                "properties": {
                  "id": "séance d’examen des offres",
                  "label": "Event:__Entity__"
                },
                "scale_factor": 1,
                "size": [
                  55,
                  55
                ],
                "styles": {},
                "type": "#CDDC39"
              },
              {
                "color": "#2196F3",
                "id": 793,
                "label": "président et les membres de la commission",
                "position": [
                  0,
                  0
                ],
                "properties": {
                  "id": "président et les membres de la commission",
                  "label": "Group:__Entity__"
                },
                "scale_factor": 1,
                "size": [
                  55,
                  55
                ],
                "styles": {},
                "type": "#2196F3"
              },
              {
                "color": "#4CAF50",
                "id": 295,
                "label": "dialogue compétitif",
                "position": [
                  0,
                  0
                ],
                "properties": {
                  "id": "dialogue compétitif",
                  "label": "Competition:Event:__Entity__"
                },
                "scale_factor": 1,
                "size": [
                  55,
                  55
                ],
                "styles": {},
                "type": "#4CAF50"
              },
              {
                "color": "#F44336",
                "id": 294,
                "label": "phases du dialogue compétitif",
                "position": [
                  0,
                  0
                ],
                "properties": {
                  "id": "phases du dialogue compétitif",
                  "label": "__Entity__:Phase"
                },
                "scale_factor": 1,
                "size": [
                  55,
                  55
                ],
                "styles": {},
                "type": "#F44336"
              },
              {
                "color": "#CDDC39",
                "id": 1171,
                "label": "pièces contenues dans leurs dossiers",
                "position": [
                  0,
                  0
                ],
                "properties": {
                  "id": "pièces contenues dans leurs dossiers",
                  "label": "__Entity__:Documents"
                },
                "scale_factor": 1,
                "size": [
                  55,
                  55
                ],
                "styles": {},
                "type": "#CDDC39"
              },
              {
                "color": "#607D8B",
                "id": 300,
                "label": "leur offres",
                "position": [
                  0,
                  0
                ],
                "properties": {
                  "id": "leur offres",
                  "label": "Their Offers:__Entity__"
                },
                "scale_factor": 1,
                "size": [
                  55,
                  55
                ],
                "styles": {},
                "type": "#607D8B"
              },
              {
                "color": "#2196F3",
                "id": 1213,
                "label": "au cours de la première moitié du délai de publicité",
                "position": [
                  0,
                  0
                ],
                "properties": {
                  "id": "au cours de la première moitié du délai de publicité",
                  "label": "Timeframe:__Entity__"
                },
                "scale_factor": 1,
                "size": [
                  55,
                  55
                ],
                "styles": {},
                "type": "#2196F3"
              },
              {
                "color": "#673AB7",
                "id": 1482,
                "label": "dirhams",
                "position": [
                  0,
                  0
                ],
                "properties": {
                  "id": "dirhams",
                  "label": "__Entity__:Currency"
                },
                "scale_factor": 1,
                "size": [
                  55,
                  55
                ],
                "styles": {},
                "type": "#673AB7"
              },
              {
                "color": "#F44336",
                "id": 304,
                "label": "Le règlement",
                "position": [
                  0,
                  0
                ],
                "properties": {
                  "id": "Le règlement",
                  "label": "__Entity__:Document"
                },
                "scale_factor": 1,
                "size": [
                  55,
                  55
                ],
                "styles": {},
                "type": "#F44336"
              },
              {
                "color": "#F44336",
                "id": 308,
                "label": "porteur de l'offre spontanée",
                "position": [
                  0,
                  0
                ],
                "properties": {
                  "id": "porteur de l'offre spontanée",
                  "label": "__Entity__:Person"
                },
                "scale_factor": 1,
                "size": [
                  55,
                  55
                ],
                "styles": {},
                "type": "#F44336"
              },
              {
                "color": "#F44336",
                "id": 309,
                "label": "dossier d'appel d'offres",
                "position": [
                  0,
                  0
                ],
                "properties": {
                  "id": "dossier d'appel d'offres",
                  "label": "__Entity__:Document"
                },
                "scale_factor": 1,
                "size": [
                  55,
                  55
                ],
                "styles": {},
                "type": "#F44336"
              },
              {
                "color": "#F44336",
                "id": 737,
                "label": "le requérant",
                "position": [
                  0,
                  0
                ],
                "properties": {
                  "id": "le requérant",
                  "label": "__Entity__:Person"
                },
                "scale_factor": 1,
                "size": [
                  55,
                  55
                ],
                "styles": {},
                "type": "#F44336"
              },
              {
                "color": "#F44336",
                "id": 312,
                "label": "Le porteur de l'offre spontanée",
                "position": [
                  0,
                  0
                ],
                "properties": {
                  "id": "Le porteur de l'offre spontanée",
                  "label": "__Entity__:Person"
                },
                "scale_factor": 1,
                "size": [
                  55,
                  55
                ],
                "styles": {},
                "type": "#F44336"
              },
              {
                "color": "#9E9E9E",
                "id": 311,
                "label": "la procédure d'appel d'offres lancée conformément aux dispositions du présent décret",
                "position": [
                  0,
                  0
                ],
                "properties": {
                  "id": "la procédure d'appel d'offres lancée conformément aux dispositions du présent décret",
                  "label": "Procedure:__Entity__"
                },
                "scale_factor": 1,
                "size": [
                  55,
                  55
                ],
                "styles": {},
                "type": "#9E9E9E"
              },
              {
                "color": "#673AB7",
                "id": 314,
                "label": "bonus",
                "position": [
                  0,
                  0
                ],
                "properties": {
                  "id": "bonus",
                  "label": "__Entity__:Bonus"
                },
                "scale_factor": 1,
                "size": [
                  55,
                  55
                ],
                "styles": {},
                "type": "#673AB7"
              },
              {
                "color": "#CDDC39",
                "id": 315,
                "label": "marge de préférence",
                "position": [
                  0,
                  0
                ],
                "properties": {
                  "id": "marge de préférence",
                  "label": "Preference:__Entity__"
                },
                "scale_factor": 1,
                "size": [
                  55,
                  55
                ],
                "styles": {},
                "type": "#CDDC39"
              },
              {
                "color": "#9E9E9E",
                "id": 317,
                "label": "L'évaluation",
                "position": [
                  0,
                  0
                ],
                "properties": {
                  "id": "L'évaluation",
                  "label": "Process:__Entity__"
                },
                "scale_factor": 1,
                "size": [
                  55,
                  55
                ],
                "styles": {},
                "type": "#9E9E9E"
              },
              {
                "color": "#F44336",
                "id": 318,
                "label": "cohérence globale du projet",
                "position": [
                  0,
                  0
                ],
                "properties": {
                  "id": "cohérence globale du projet",
                  "label": "Characteristic:__Entity__"
                },
                "scale_factor": 1,
                "size": [
                  55,
                  55
                ],
                "styles": {},
                "type": "#F44336"
              },
              {
                "color": "#607D8B",
                "id": 320,
                "label": "qualité",
                "position": [
                  0,
                  0
                ],
                "properties": {
                  "id": "qualité",
                  "label": "__Entity__:Concept"
                },
                "scale_factor": 1,
                "size": [
                  55,
                  55
                ],
                "styles": {},
                "type": "#607D8B"
              },
              {
                "color": "#9C27B0",
                "id": 321,
                "label": "solutions techniques proposées",
                "position": [
                  0,
                  0
                ],
                "properties": {
                  "id": "solutions techniques proposées",
                  "label": "__Entity__:Project"
                },
                "scale_factor": 1,
                "size": [
                  55,
                  55
                ],
                "styles": {},
                "type": "#9C27B0"
              },
              {
                "color": "#607D8B",
                "id": 323,
                "label": "qualité du montage contractuel et financier",
                "position": [
                  0,
                  0
                ],
                "properties": {
                  "id": "qualité du montage contractuel et financier",
                  "label": "__Entity__:Concept"
                },
                "scale_factor": 1,
                "size": [
                  55,
                  55
                ],
                "styles": {},
                "type": "#607D8B"
              },
              {
                "color": "#9E9E9E",
                "id": 324,
                "label": "évaluation et le jugement des offres des concurrents",
                "position": [
                  0,
                  0
                ],
                "properties": {
                  "id": "évaluation et le jugement des offres des concurrents",
                  "label": "Process:__Entity__"
                },
                "scale_factor": 1,
                "size": [
                  55,
                  55
                ],
                "styles": {},
                "type": "#9E9E9E"
              },
              {
                "color": "#F44336",
                "id": 326,
                "label": "Les sommes dues",
                "position": [
                  0,
                  0
                ],
                "properties": {
                  "id": "Les sommes dues",
                  "label": "__Entity__:Amount"
                },
                "scale_factor": 1,
                "size": [
                  55,
                  55
                ],
                "styles": {},
                "type": "#F44336"
              },
              {
                "color": "#9C27B0",
                "id": 327,
                "label": "prix unitaires",
                "position": [
                  0,
                  0
                ],
                "properties": {
                  "id": "prix unitaires",
                  "label": "__Entity__:Price"
                },
                "scale_factor": 1,
                "size": [
                  55,
                  55
                ],
                "styles": {},
                "type": "#9C27B0"
              },
              {
                "color": "#607D8B",
                "id": 332,
                "label": "répercute",
                "position": [
                  0,
                  0
                ],
                "properties": {
                  "id": "répercute",
                  "label": "__Entity__:Concept"
                },
                "scale_factor": 1,
                "size": [
                  55,
                  55
                ],
                "styles": {},
                "type": "#607D8B"
              },
              {
                "color": "#9C27B0",
                "id": 331,
                "label": "prix de règlement prévu au marché",
                "position": [
                  0,
                  0
                ],
                "properties": {
                  "id": "prix de règlement prévu au marché",
                  "label": "__Entity__:Price"
                },
                "scale_factor": 1,
                "size": [
                  55,
                  55
                ],
                "styles": {},
                "type": "#9C27B0"
              },
              {
                "color": "#9E9E9E",
                "id": 334,
                "label": "marchés de fournitures",
                "position": [
                  0,
                  0
                ],
                "properties": {
                  "id": "marchés de fournitures",
                  "label": "Market:__Entity__:Concept"
                },
                "scale_factor": 1,
                "size": [
                  55,
                  55
                ],
                "styles": {},
                "type": "#9E9E9E"
              },
              {
                "color": "#9C27B0",
                "id": 335,
                "label": "prix fermes",
                "position": [
                  0,
                  0
                ],
                "properties": {
                  "id": "prix fermes",
                  "label": "PricingMethod:__Entity__"
                },
                "scale_factor": 1,
                "size": [
                  55,
                  55
                ],
                "styles": {},
                "type": "#9C27B0"
              },
              {
                "color": "#2196F3",
                "id": 339,
                "label": "prescriptions communes",
                "position": [
                  0,
                  0
                ],
                "properties": {
                  "id": "prescriptions communes",
                  "label": "Category:__Entity__"
                },
                "scale_factor": 1,
                "size": [
                  55,
                  55
                ],
                "styles": {},
                "type": "#2196F3"
              },
              {
                "color": "#2196F3",
                "id": 340,
                "label": "cahiers des prescriptions spéciales",
                "position": [
                  0,
                  0
                ],
                "properties": {
                  "id": "cahiers des prescriptions spéciales",
                  "label": "Category:__Entity__"
                },
                "scale_factor": 1,
                "size": [
                  55,
                  55
                ],
                "styles": {},
                "type": "#2196F3"
              },
              {
                "color": "#607D8B",
                "id": 343,
                "label": "organismes",
                "position": [
                  0,
                  0
                ],
                "properties": {
                  "id": "organismes",
                  "label": "Organization:__Entity__"
                },
                "scale_factor": 1,
                "size": [
                  55,
                  55
                ],
                "styles": {},
                "type": "#607D8B"
              },
              {
                "color": "#F44336",
                "id": 342,
                "label": "decret",
                "position": [
                  0,
                  0
                ],
                "properties": {
                  "id": "decret",
                  "label": "__Entity__:Document"
                },
                "scale_factor": 1,
                "size": [
                  55,
                  55
                ],
                "styles": {},
                "type": "#F44336"
              },
              {
                "color": "#F44336",
                "id": 345,
                "label": "cahiers des clauses administratives générales",
                "position": [
                  0,
                  0
                ],
                "properties": {
                  "id": "cahiers des clauses administratives générales",
                  "label": "__Entity__:Document"
                },
                "scale_factor": 1,
                "size": [
                  55,
                  55
                ],
                "styles": {},
                "type": "#F44336"
              },
              {
                "color": "#F44336",
                "id": 346,
                "label": "prescriptions spéciales",
                "position": [
                  0,
                  0
                ],
                "properties": {
                  "id": "prescriptions spéciales",
                  "label": "__Entity__:Document"
                },
                "scale_factor": 1,
                "size": [
                  55,
                  55
                ],
                "styles": {},
                "type": "#F44336"
              },
              {
                "color": "#F44336",
                "id": 349,
                "label": "Les cahiers des prescriptions communes",
                "position": [
                  0,
                  0
                ],
                "properties": {
                  "id": "Les cahiers des prescriptions communes",
                  "label": "__Entity__:Document"
                },
                "scale_factor": 1,
                "size": [
                  55,
                  55
                ],
                "styles": {},
                "type": "#F44336"
              },
              {
                "color": "#4CAF50",
                "id": 348,
                "label": "tous les marchés portant sur une même nature de travaux, de fournitures ou de services",
                "position": [
                  0,
                  0
                ],
                "properties": {
                  "id": "tous les marchés portant sur une même nature de travaux, de fournitures ou de services",
                  "label": "Market:__Entity__"
                },
                "scale_factor": 1,
                "size": [
                  55,
                  55
                ],
                "styles": {},
                "type": "#4CAF50"
              },
              {
                "color": "#607D8B",
                "id": 351,
                "label": "département ministériel",
                "position": [
                  0,
                  0
                ],
                "properties": {
                  "id": "département ministériel",
                  "label": "Organization:__Entity__"
                },
                "scale_factor": 1,
                "size": [
                  55,
                  55
                ],
                "styles": {},
                "type": "#607D8B"
              },
              {
                "color": "#607D8B",
                "id": 352,
                "label": "collectivité territoriale",
                "position": [
                  0,
                  0
                ],
                "properties": {
                  "id": "collectivité territoriale",
                  "label": "Organization:__Entity__"
                },
                "scale_factor": 1,
                "size": [
                  55,
                  55
                ],
                "styles": {},
                "type": "#607D8B"
              },
              {
                "color": "#607D8B",
                "id": 355,
                "label": "d'autres personnes morales",
                "position": [
                  0,
                  0
                ],
                "properties": {
                  "id": "d'autres personnes morales",
                  "label": "Organization:__Entity__"
                },
                "scale_factor": 1,
                "size": [
                  55,
                  55
                ],
                "styles": {},
                "type": "#607D8B"
              },
              {
                "color": "#2196F3",
                "id": 354,
                "label": "personnes morales de droit public",
                "position": [
                  0,
                  0
                ],
                "properties": {
                  "id": "personnes morales de droit public",
                  "label": "Category:__Entity__"
                },
                "scale_factor": 1,
                "size": [
                  55,
                  55
                ],
                "styles": {},
                "type": "#2196F3"
              },
              {
                "color": "#F44336",
                "id": 357,
                "label": "administratives générales",
                "position": [
                  0,
                  0
                ],
                "properties": {
                  "id": "administratives générales",
                  "label": "__Entity__:Document"
                },
                "scale_factor": 1,
                "size": [
                  55,
                  55
                ],
                "styles": {},
                "type": "#F44336"
              },
              {
                "color": "#F44336",
                "id": 358,
                "label": "cahier des clauses administratives générales",
                "position": [
                  0,
                  0
                ],
                "properties": {
                  "id": "cahier des clauses administratives générales",
                  "label": "__Entity__:Document"
                },
                "scale_factor": 1,
                "size": [
                  55,
                  55
                ],
                "styles": {},
                "type": "#F44336"
              },
              {
                "color": "#F44336",
                "id": 361,
                "label": "concerné",
                "position": [
                  0,
                  0
                ],
                "properties": {
                  "id": "concerné",
                  "label": "__Entity__:Person"
                },
                "scale_factor": 1,
                "size": [
                  55,
                  55
                ],
                "styles": {},
                "type": "#F44336"
              },
              {
                "color": "#F44336",
                "id": 360,
                "label": "du cocontractant",
                "position": [
                  0,
                  0
                ],
                "properties": {
                  "id": "du cocontractant",
                  "label": "__Entity__:Person"
                },
                "scale_factor": 1,
                "size": [
                  55,
                  55
                ],
                "styles": {},
                "type": "#F44336"
              },
              {
                "color": "#F44336",
                "id": 759,
                "label": "copie du certificat d'immatriculation au registre de commerce (modèle 9)",
                "position": [
                  0,
                  0
                ],
                "properties": {
                  "id": "copie du certificat d'immatriculation au registre de commerce (modèle 9)",
                  "label": "__Entity__:Document"
                },
                "scale_factor": 1,
                "size": [
                  55,
                  55
                ],
                "styles": {},
                "type": "#F44336"
              },
              {
                "color": "#9C27B0",
                "id": 363,
                "label": "prix",
                "position": [
                  0,
                  0
                ],
                "properties": {
                  "id": "prix",
                  "label": "__Entity__:Price"
                },
                "scale_factor": 1,
                "size": [
                  55,
                  55
                ],
                "styles": {},
                "type": "#9C27B0"
              },
              {
                "color": "#4CAF50",
                "id": 364,
                "label": "marchés à prix provisoires",
                "position": [
                  0,
                  0
                ],
                "properties": {
                  "id": "marchés à prix provisoires",
                  "label": "Market:__Entity__"
                },
                "scale_factor": 1,
                "size": [
                  55,
                  55
                ],
                "styles": {},
                "type": "#4CAF50"
              },
              {
                "color": "#F44336",
                "id": 540,
                "label": "montant total du bordereau du prix global",
                "position": [
                  0,
                  0
                ],
                "properties": {
                  "id": "montant total du bordereau du prix global",
                  "label": "__Entity__:Amount"
                },
                "scale_factor": 1,
                "size": [
                  55,
                  55
                ],
                "styles": {},
                "type": "#F44336"
              },
              {
                "color": "#2196F3",
                "id": 366,
                "label": "les conditions de règlement",
                "position": [
                  0,
                  0
                ],
                "properties": {
                  "id": "les conditions de règlement",
                  "label": "Regulation:__Entity__"
                },
                "scale_factor": 1,
                "size": [
                  55,
                  55
                ],
                "styles": {},
                "type": "#2196F3"
              },
              {
                "color": "#2196F3",
                "id": 367,
                "label": "réglementation en vigueur",
                "position": [
                  0,
                  0
                ],
                "properties": {
                  "id": "réglementation en vigueur",
                  "label": "Law:__Entity__"
                },
                "scale_factor": 1,
                "size": [
                  55,
                  55
                ],
                "styles": {},
                "type": "#2196F3"
              },
              {
                "color": "#F44336",
                "id": 370,
                "label": "Les cahiers des prescriptions spéciales",
                "position": [
                  0,
                  0
                ],
                "properties": {
                  "id": "Les cahiers des prescriptions spéciales",
                  "label": "__Entity__:Document"
                },
                "scale_factor": 1,
                "size": [
                  55,
                  55
                ],
                "styles": {},
                "type": "#F44336"
              },
              {
                "color": "#4CAF50",
                "id": 369,
                "label": "les autres mentions obligatoires prévues par les cahiers des clauses administratives générales",
                "position": [
                  0,
                  0
                ],
                "properties": {
                  "id": "les autres mentions obligatoires prévues par les cahiers des clauses administratives générales",
                  "label": "__Entity__:List"
                },
                "scale_factor": 1,
                "size": [
                  55,
                  55
                ],
                "styles": {},
                "type": "#4CAF50"
              },
              {
                "color": "#F44336",
                "id": 380,
                "label": "présélection",
                "position": [
                  0,
                  0
                ],
                "properties": {
                  "id": "présélection",
                  "label": "Process:__Entity__:Concept"
                },
                "scale_factor": 1,
                "size": [
                  55,
                  55
                ],
                "styles": {},
                "type": "#F44336"
              },
              {
                "color": "#9E9E9E",
                "id": 749,
                "label": "admission process",
                "position": [
                  0,
                  0
                ],
                "properties": {
                  "id": "admission process",
                  "label": "Process:__Entity__"
                },
                "scale_factor": 1,
                "size": [
                  55,
                  55
                ],
                "styles": {},
                "type": "#9E9E9E"
              },
              {
                "color": "#9E9E9E",
                "id": 381,
                "label": "L'appel d'offres",
                "position": [
                  0,
                  0
                ],
                "properties": {
                  "id": "L'appel d'offres",
                  "label": "Procedure:__Entity__"
                },
                "scale_factor": 1,
                "size": [
                  55,
                  55
                ],
                "styles": {},
                "type": "#9E9E9E"
              },
              {
                "color": "#F44336",
                "id": 383,
                "label": "financier",
                "position": [
                  0,
                  0
                ],
                "properties": {
                  "id": "financier",
                  "label": "__Entity__:Person"
                },
                "scale_factor": 1,
                "size": [
                  55,
                  55
                ],
                "styles": {},
                "type": "#F44336"
              },
              {
                "color": "#607D8B",
                "id": 384,
                "label": "financial expert",
                "position": [
                  0,
                  0
                ],
                "properties": {
                  "id": "financial expert",
                  "label": "__Entity__:Profession"
                },
                "scale_factor": 1,
                "size": [
                  55,
                  55
                ],
                "styles": {},
                "type": "#607D8B"
              },
              {
                "color": "#F44336",
                "id": 390,
                "label": "décret",
                "position": [
                  0,
                  0
                ],
                "properties": {
                  "id": "décret",
                  "label": "__Entity__:Document"
                },
                "scale_factor": 1,
                "size": [
                  55,
                  55
                ],
                "styles": {},
                "type": "#F44336"
              },
              {
                "color": "#673AB7",
                "id": 391,
                "label": "monnaies convertibles",
                "position": [
                  0,
                  0
                ],
                "properties": {
                  "id": "monnaies convertibles",
                  "label": "__Entity__:Currency"
                },
                "scale_factor": 1,
                "size": [
                  55,
                  55
                ],
                "styles": {},
                "type": "#673AB7"
              },
              {
                "color": "#607D8B",
                "id": 394,
                "label": "Bank Al-Maghrib",
                "position": [
                  0,
                  0
                ],
                "properties": {
                  "id": "Bank Al-Maghrib",
                  "label": "Organization:__Entity__"
                },
                "scale_factor": 1,
                "size": [
                  55,
                  55
                ],
                "styles": {},
                "type": "#607D8B"
              },
              {
                "color": "#673AB7",
                "id": 393,
                "label": "Dirham",
                "position": [
                  0,
                  0
                ],
                "properties": {
                  "id": "Dirham",
                  "label": "__Entity__:Currency"
                },
                "scale_factor": 1,
                "size": [
                  55,
                  55
                ],
                "styles": {},
                "type": "#673AB7"
              },
              {
                "color": "#607D8B",
                "id": 396,
                "label": "le cas échéant",
                "position": [
                  0,
                  0
                ],
                "properties": {
                  "id": "le cas échéant",
                  "label": "__Entity__:Concept"
                },
                "scale_factor": 1,
                "size": [
                  55,
                  55
                ],
                "styles": {},
                "type": "#607D8B"
              },
              {
                "color": "#2196F3",
                "id": 397,
                "label": "Article 10 du présent décret",
                "position": [
                  0,
                  0
                ],
                "properties": {
                  "id": "Article 10 du présent décret",
                  "label": "Regulation:__Entity__"
                },
                "scale_factor": 1,
                "size": [
                  55,
                  55
                ],
                "styles": {},
                "type": "#2196F3"
              },
              {
                "color": "#673AB7",
                "id": 400,
                "label": "numéro",
                "position": [
                  0,
                  0
                ],
                "properties": {
                  "id": "numéro",
                  "label": "Number:__Entity__"
                },
                "scale_factor": 1,
                "size": [
                  55,
                  55
                ],
                "styles": {},
                "type": "#673AB7"
              },
              {
                "color": "#9C27B0",
                "id": 399,
                "label": "désignation",
                "position": [
                  0,
                  0
                ],
                "properties": {
                  "id": "désignation",
                  "label": "__Entity__:Description"
                },
                "scale_factor": 1,
                "size": [
                  55,
                  55
                ],
                "styles": {},
                "type": "#9C27B0"
              },
              {
                "color": "#CDDC39",
                "id": 404,
                "label": "ressources humaines",
                "position": [
                  0,
                  0
                ],
                "properties": {
                  "id": "ressources humaines",
                  "label": "Resource:__Entity__"
                },
                "scale_factor": 1,
                "size": [
                  55,
                  55
                ],
                "styles": {},
                "type": "#CDDC39"
              },
              {
                "color": "#9C27B0",
                "id": 405,
                "label": "chantier",
                "position": [
                  0,
                  0
                ],
                "properties": {
                  "id": "chantier",
                  "label": "__Entity__:Project"
                },
                "scale_factor": 1,
                "size": [
                  55,
                  55
                ],
                "styles": {},
                "type": "#9C27B0"
              },
              {
                "color": "#F44336",
                "id": 407,
                "label": "Règlement de consultation",
                "position": [
                  0,
                  0
                ],
                "properties": {
                  "id": "Règlement de consultation",
                  "label": "__Entity__:Document"
                },
                "scale_factor": 1,
                "size": [
                  55,
                  55
                ],
                "styles": {},
                "type": "#F44336"
              },
              {
                "color": "#9C27B0",
                "id": 409,
                "label": "produits de l’artisanat marocain",
                "position": [
                  0,
                  0
                ],
                "properties": {
                  "id": "produits de l’artisanat marocain",
                  "label": "Product:__Entity__"
                },
                "scale_factor": 1,
                "size": [
                  55,
                  55
                ],
                "styles": {},
                "type": "#9C27B0"
              },
              {
                "color": "#9E9E9E",
                "id": 410,
                "label": "le recours aux produits de l’artisanat marocain",
                "position": [
                  0,
                  0
                ],
                "properties": {
                  "id": "le recours aux produits de l’artisanat marocain",
                  "label": "Activity:__Entity__"
                },
                "scale_factor": 1,
                "size": [
                  55,
                  55
                ],
                "styles": {},
                "type": "#9E9E9E"
              },
              {
                "color": "#607D8B",
                "id": 412,
                "label": "note technique",
                "position": [
                  0,
                  0
                ],
                "properties": {
                  "id": "note technique",
                  "label": "__Entity__:Concept"
                },
                "scale_factor": 1,
                "size": [
                  55,
                  55
                ],
                "styles": {},
                "type": "#607D8B"
              },
              {
                "color": "#607D8B",
                "id": 413,
                "label": "critère de l'offre technique",
                "position": [
                  0,
                  0
                ],
                "properties": {
                  "id": "critère de l'offre technique",
                  "label": "__Entity__:Concept"
                },
                "scale_factor": 1,
                "size": [
                  55,
                  55
                ],
                "styles": {},
                "type": "#607D8B"
              },
              {
                "color": "#2196F3",
                "id": 1328,
                "label": "critère",
                "position": [
                  0,
                  0
                ],
                "properties": {
                  "id": "critère",
                  "label": "Category:__Entity__"
                },
                "scale_factor": 1,
                "size": [
                  55,
                  55
                ],
                "styles": {},
                "type": "#2196F3"
              },
              {
                "color": "#CDDC39",
                "id": 422,
                "label": "les plans et les documents techniques",
                "position": [
                  0,
                  0
                ],
                "properties": {
                  "id": "les plans et les documents techniques",
                  "label": "__Entity__:Documents"
                },
                "scale_factor": 1,
                "size": [
                  55,
                  55
                ],
                "styles": {},
                "type": "#CDDC39"
              },
              {
                "color": "#F44336",
                "id": 421,
                "label": "le modèle de l’acte d’engagement",
                "position": [
                  0,
                  0
                ],
                "properties": {
                  "id": "le modèle de l’acte d’engagement",
                  "label": "__Entity__:Document"
                },
                "scale_factor": 1,
                "size": [
                  55,
                  55
                ],
                "styles": {},
                "type": "#F44336"
              },
              {
                "color": "#F44336",
                "id": 424,
                "label": "les modèles du bordereau des prix",
                "position": [
                  0,
                  0
                ],
                "properties": {
                  "id": "les modèles du bordereau des prix",
                  "label": "__Entity__:Document"
                },
                "scale_factor": 1,
                "size": [
                  55,
                  55
                ],
                "styles": {},
                "type": "#F44336"
              },
              {
                "color": "#F44336",
                "id": 425,
                "label": "le modèle du bordereau des prix - détail estimatif",
                "position": [
                  0,
                  0
                ],
                "properties": {
                  "id": "le modèle du bordereau des prix - détail estimatif",
                  "label": "__Entity__:Document"
                },
                "scale_factor": 1,
                "size": [
                  55,
                  55
                ],
                "styles": {},
                "type": "#F44336"
              },
              {
                "color": "#F44336",
                "id": 732,
                "label": "le modèle du bordereau des prix – détail estimatif",
                "position": [
                  0,
                  0
                ],
                "properties": {
                  "id": "le modèle du bordereau des prix – détail estimatif",
                  "label": "__Entity__:Document"
                },
                "scale_factor": 1,
                "size": [
                  55,
                  55
                ],
                "styles": {},
                "type": "#F44336"
              },
              {
                "color": "#F44336",
                "id": 427,
                "label": "le modèle du bordereau des prix",
                "position": [
                  0,
                  0
                ],
                "properties": {
                  "id": "le modèle du bordereau des prix",
                  "label": "__Entity__:Document"
                },
                "scale_factor": 1,
                "size": [
                  55,
                  55
                ],
                "styles": {},
                "type": "#F44336"
              },
              {
                "color": "#607D8B",
                "id": 428,
                "label": "approvisionnements",
                "position": [
                  0,
                  0
                ],
                "properties": {
                  "id": "approvisionnements",
                  "label": "__Entity__:Concept"
                },
                "scale_factor": 1,
                "size": [
                  55,
                  55
                ],
                "styles": {},
                "type": "#607D8B"
              },
              {
                "color": "#607D8B",
                "id": 431,
                "label": "marchés à prix global",
                "position": [
                  0,
                  0
                ],
                "properties": {
                  "id": "marchés à prix global",
                  "label": "__Entity__:Concept"
                },
                "scale_factor": 1,
                "size": [
                  55,
                  55
                ],
                "styles": {},
                "type": "#607D8B"
              },
              {
                "color": "#9C27B0",
                "id": 430,
                "label": "modèle du bordereau du prix global et de la décomposition du montant global par poste",
                "position": [
                  0,
                  0
                ],
                "properties": {
                  "id": "modèle du bordereau du prix global et de la décomposition du montant global par poste",
                  "label": "Model:__Entity__:Document"
                },
                "scale_factor": 1,
                "size": [
                  55,
                  55
                ],
                "styles": {},
                "type": "#9C27B0"
              },
              {
                "color": "#F44336",
                "id": 433,
                "label": "le modèle du cadre du sous-détail des prix",
                "position": [
                  0,
                  0
                ],
                "properties": {
                  "id": "le modèle du cadre du sous-détail des prix",
                  "label": "__Entity__:Document"
                },
                "scale_factor": 1,
                "size": [
                  55,
                  55
                ],
                "styles": {},
                "type": "#F44336"
              },
              {
                "color": "#9E9E9E",
                "id": 434,
                "label": "l'article 21",
                "position": [
                  0,
                  0
                ],
                "properties": {
                  "id": "l'article 21",
                  "label": "__Entity__:Article"
                },
                "scale_factor": 1,
                "size": [
                  55,
                  55
                ],
                "styles": {},
                "type": "#9E9E9E"
              },
              {
                "color": "#673AB7",
                "id": 439,
                "label": "Ces modifications",
                "position": [
                  0,
                  0
                ],
                "properties": {
                  "id": "Ces modifications",
                  "label": "__Entity__:Modification"
                },
                "scale_factor": 1,
                "size": [
                  55,
                  55
                ],
                "styles": {},
                "type": "#673AB7"
              },
              {
                "color": "#2196F3",
                "id": 440,
                "label": "à tout moment",
                "position": [
                  0,
                  0
                ],
                "properties": {
                  "id": "à tout moment",
                  "label": "Time:__Entity__"
                },
                "scale_factor": 1,
                "size": [
                  55,
                  55
                ],
                "styles": {},
                "type": "#2196F3"
              },
              {
                "color": "#607D8B",
                "id": 443,
                "label": "le délai de publicité",
                "position": [
                  0,
                  0
                ],
                "properties": {
                  "id": "le délai de publicité",
                  "label": "__Entity__:Concept"
                },
                "scale_factor": 1,
                "size": [
                  55,
                  55
                ],
                "styles": {},
                "type": "#607D8B"
              },
              {
                "color": "#2196F3",
                "id": 442,
                "label": "l'article 23",
                "position": [
                  0,
                  0
                ],
                "properties": {
                  "id": "l'article 23",
                  "label": "Law:__Entity__"
                },
                "scale_factor": 1,
                "size": [
                  55,
                  55
                ],
                "styles": {},
                "type": "#2196F3"
              },
              {
                "color": "#9E9E9E",
                "id": 1074,
                "label": "article",
                "position": [
                  0,
                  0
                ],
                "properties": {
                  "id": "article",
                  "label": "__Entity__:Article"
                },
                "scale_factor": 1,
                "size": [
                  55,
                  55
                ],
                "styles": {},
                "type": "#9E9E9E"
              },
              {
                "color": "#F44336",
                "id": 449,
                "label": "report",
                "position": [
                  0,
                  0
                ],
                "properties": {
                  "id": "report",
                  "label": "__Entity__:Document"
                },
                "scale_factor": 1,
                "size": [
                  55,
                  55
                ],
                "styles": {},
                "type": "#F44336"
              },
              {
                "color": "#CDDC39",
                "id": 450,
                "label": "de la séance d’ouverture des plis",
                "position": [
                  0,
                  0
                ],
                "properties": {
                  "id": "de la séance d’ouverture des plis",
                  "label": "Event:__Entity__"
                },
                "scale_factor": 1,
                "size": [
                  55,
                  55
                ],
                "styles": {},
                "type": "#CDDC39"
              },
              {
                "color": "#CDDC39",
                "id": 452,
                "label": "date de la séance d’ouverture des plis",
                "position": [
                  0,
                  0
                ],
                "properties": {
                  "id": "date de la séance d’ouverture des plis",
                  "label": "Event:__Entity__"
                },
                "scale_factor": 1,
                "size": [
                  55,
                  55
                ],
                "styles": {},
                "type": "#CDDC39"
              },
              {
                "color": "#CDDC39",
                "id": 454,
                "label": "la séance",
                "position": [
                  0,
                  0
                ],
                "properties": {
                  "id": "la séance",
                  "label": "Event:__Entity__"
                },
                "scale_factor": 1,
                "size": [
                  55,
                  55
                ],
                "styles": {},
                "type": "#CDDC39"
              },
              {
                "color": "#CDDC39",
                "id": 455,
                "label": "l'ouverture des plis",
                "position": [
                  0,
                  0
                ],
                "properties": {
                  "id": "l'ouverture des plis",
                  "label": "Event:__Entity__"
                },
                "scale_factor": 1,
                "size": [
                  55,
                  55
                ],
                "styles": {},
                "type": "#CDDC39"
              },
              {
                "color": "#CDDC39",
                "id": 461,
                "label": "jour ouvrable suivant",
                "position": [
                  0,
                  0
                ],
                "properties": {
                  "id": "jour ouvrable suivant",
                  "label": "__Entity__:Date"
                },
                "scale_factor": 1,
                "size": [
                  55,
                  55
                ],
                "styles": {},
                "type": "#CDDC39"
              },
              {
                "color": "#CDDC39",
                "id": 465,
                "label": "séance d’ouverture des plis",
                "position": [
                  0,
                  0
                ],
                "properties": {
                  "id": "séance d’ouverture des plis",
                  "label": "Event:__Entity__"
                },
                "scale_factor": 1,
                "size": [
                  55,
                  55
                ],
                "styles": {},
                "type": "#CDDC39"
              },
              {
                "color": "#2196F3",
                "id": 466,
                "label": "au moins, vingt et un jours avant la date fixée pour la tenue de la séance d’ouverture des plis",
                "position": [
                  0,
                  0
                ],
                "properties": {
                  "id": "au moins, vingt et un jours avant la date fixée pour la tenue de la séance d’ouverture des plis",
                  "label": "Timeframe:__Entity__"
                },
                "scale_factor": 1,
                "size": [
                  55,
                  55
                ],
                "styles": {},
                "type": "#2196F3"
              },
              {
                "color": "#9C27B0",
                "id": 472,
                "label": "l'objet de l'appel d'offres restreint",
                "position": [
                  0,
                  0
                ],
                "properties": {
                  "id": "l'objet de l'appel d'offres restreint",
                  "label": "__Entity__:Project"
                },
                "scale_factor": 1,
                "size": [
                  55,
                  55
                ],
                "styles": {},
                "type": "#9C27B0"
              },
              {
                "color": "#4CAF50",
                "id": 471,
                "label": "le lieu d'exécution des prestations",
                "position": [
                  0,
                  0
                ],
                "properties": {
                  "id": "le lieu d'exécution des prestations",
                  "label": "Location:__Entity__"
                },
                "scale_factor": 1,
                "size": [
                  55,
                  55
                ],
                "styles": {},
                "type": "#4CAF50"
              },
              {
                "color": "#CDDC39",
                "id": 475,
                "label": "la séance publique d'ouverture des plis",
                "position": [
                  0,
                  0
                ],
                "properties": {
                  "id": "la séance publique d'ouverture des plis",
                  "label": "Event:__Entity__"
                },
                "scale_factor": 1,
                "size": [
                  55,
                  55
                ],
                "styles": {},
                "type": "#CDDC39"
              },
              {
                "color": "#CDDC39",
                "id": 474,
                "label": "le lieu, le jour et l'heure fixés",
                "position": [
                  0,
                  0
                ],
                "properties": {
                  "id": "le lieu, le jour et l'heure fixés",
                  "label": "__Entity__:Date"
                },
                "scale_factor": 1,
                "size": [
                  55,
                  55
                ],
                "styles": {},
                "type": "#CDDC39"
              },
              {
                "color": "#CDDC39",
                "id": 482,
                "label": "plans et/ou des documents techniques",
                "position": [
                  0,
                  0
                ],
                "properties": {
                  "id": "plans et/ou des documents techniques",
                  "label": "__Entity__:Documents"
                },
                "scale_factor": 1,
                "size": [
                  55,
                  55
                ],
                "styles": {},
                "type": "#CDDC39"
              },
              {
                "color": "#CDDC39",
                "id": 481,
                "label": "séance",
                "position": [
                  0,
                  0
                ],
                "properties": {
                  "id": "séance",
                  "label": "Event:__Entity__"
                },
                "scale_factor": 1,
                "size": [
                  55,
                  55
                ],
                "styles": {},
                "type": "#CDDC39"
              },
              {
                "color": "#607D8B",
                "id": 1427,
                "label": "collectif de maîtres d'ouvrages",
                "position": [
                  0,
                  0
                ],
                "properties": {
                  "id": "collectif de maîtres d'ouvrages",
                  "label": "Organization:__Entity__"
                },
                "scale_factor": 1,
                "size": [
                  55,
                  55
                ],
                "styles": {},
                "type": "#607D8B"
              },
              {
                "color": "#2196F3",
                "id": 487,
                "label": "règlement",
                "position": [
                  0,
                  0
                ],
                "properties": {
                  "id": "règlement",
                  "label": "Regulation:__Entity__:Document"
                },
                "scale_factor": 1,
                "size": [
                  55,
                  55
                ],
                "styles": {},
                "type": "#2196F3"
              },
              {
                "color": "#2196F3",
                "id": 486,
                "label": "legislation",
                "position": [
                  0,
                  0
                ],
                "properties": {
                  "id": "legislation",
                  "label": "Law:__Entity__"
                },
                "scale_factor": 1,
                "size": [
                  55,
                  55
                ],
                "styles": {},
                "type": "#2196F3"
              },
              {
                "color": "#4CAF50",
                "id": 490,
                "label": "provinces",
                "position": [
                  0,
                  0
                ],
                "properties": {
                  "id": "provinces",
                  "label": "Administrative Division:__Entity__"
                },
                "scale_factor": 1,
                "size": [
                  55,
                  55
                ],
                "styles": {},
                "type": "#4CAF50"
              },
              {
                "color": "#F44336",
                "id": 489,
                "label": "communes",
                "position": [
                  0,
                  0
                ],
                "properties": {
                  "id": "communes",
                  "label": "Municipality:__Entity__"
                },
                "scale_factor": 1,
                "size": [
                  55,
                  55
                ],
                "styles": {},
                "type": "#F44336"
              },
              {
                "color": "#F44336",
                "id": 492,
                "label": "Concurrent",
                "position": [
                  0,
                  0
                ],
                "properties": {
                  "id": "Concurrent",
                  "label": "__Entity__:Person"
                },
                "scale_factor": 1,
                "size": [
                  55,
                  55
                ],
                "styles": {},
                "type": "#F44336"
              },
              {
                "color": "#F44336",
                "id": 493,
                "label": "Dossier administratif",
                "position": [
                  0,
                  0
                ],
                "properties": {
                  "id": "Dossier administratif",
                  "label": "__Entity__:Document"
                },
                "scale_factor": 1,
                "size": [
                  55,
                  55
                ],
                "styles": {},
                "type": "#F44336"
              },
              {
                "color": "#607D8B",
                "id": 496,
                "label": "caution personnelle et solidaire",
                "position": [
                  0,
                  0
                ],
                "properties": {
                  "id": "caution personnelle et solidaire",
                  "label": "__Entity__:Concept"
                },
                "scale_factor": 1,
                "size": [
                  55,
                  55
                ],
                "styles": {},
                "type": "#607D8B"
              },
              {
                "color": "#F44336",
                "id": 499,
                "label": "des copies certifiées conformes",
                "position": [
                  0,
                  0
                ],
                "properties": {
                  "id": "des copies certifiées conformes",
                  "label": "__Entity__:Document"
                },
                "scale_factor": 1,
                "size": [
                  55,
                  55
                ],
                "styles": {},
                "type": "#F44336"
              },
              {
                "color": "#607D8B",
                "id": 498,
                "label": "attestations ou autorisations requises",
                "position": [
                  0,
                  0
                ],
                "properties": {
                  "id": "attestations ou autorisations requises",
                  "label": "Authorization:__Entity__"
                },
                "scale_factor": 1,
                "size": [
                  55,
                  55
                ],
                "styles": {},
                "type": "#607D8B"
              },
              {
                "color": "#F44336",
                "id": 501,
                "label": "les pièces justificatives",
                "position": [
                  0,
                  0
                ],
                "properties": {
                  "id": "les pièces justificatives",
                  "label": "__Entity__:Document"
                },
                "scale_factor": 1,
                "size": [
                  55,
                  55
                ],
                "styles": {},
                "type": "#F44336"
              },
              {
                "color": "#673AB7",
                "id": 502,
                "label": "la nationalité de l'entreprise et de ses dirigeants",
                "position": [
                  0,
                  0
                ],
                "properties": {
                  "id": "la nationalité de l'entreprise et de ses dirigeants",
                  "label": "Identity:__Entity__"
                },
                "scale_factor": 1,
                "size": [
                  55,
                  55
                ],
                "styles": {},
                "type": "#673AB7"
              },
              {
                "color": "#4CAF50",
                "id": 1083,
                "label": "la nationalité de l’architecte ou des dirigeants de la société d’architectes",
                "position": [
                  0,
                  0
                ],
                "properties": {
                  "id": "la nationalité de l’architecte ou des dirigeants de la société d’architectes",
                  "label": "Person/Company:__Entity__"
                },
                "scale_factor": 1,
                "size": [
                  55,
                  55
                ],
                "styles": {},
                "type": "#4CAF50"
              },
              {
                "color": "#F44336",
                "id": 504,
                "label": "attestations",
                "position": [
                  0,
                  0
                ],
                "properties": {
                  "id": "attestations",
                  "label": "__Entity__:Document"
                },
                "scale_factor": 1,
                "size": [
                  55,
                  55
                ],
                "styles": {},
                "type": "#F44336"
              },
              {
                "color": "#607D8B",
                "id": 505,
                "label": "administrations or competent bodies of their countries of origin or origin",
                "position": [
                  0,
                  0
                ],
                "properties": {
                  "id": "administrations or competent bodies of their countries of origin or origin",
                  "label": "Organization:__Entity__"
                },
                "scale_factor": 1,
                "size": [
                  55,
                  55
                ],
                "styles": {},
                "type": "#607D8B"
              },
              {
                "color": "#F44336",
                "id": 508,
                "label": "il",
                "position": [
                  0,
                  0
                ],
                "properties": {
                  "id": "il",
                  "label": "__Entity__:Person"
                },
                "scale_factor": 1,
                "size": [
                  55,
                  55
                ],
                "styles": {},
                "type": "#F44336"
              },
              {
                "color": "#CDDC39",
                "id": 507,
                "label": "prestations qu'il a exécutées ou à l'exécution desquelles il a participées",
                "position": [
                  0,
                  0
                ],
                "properties": {
                  "id": "prestations qu'il a exécutées ou à l'exécution desquelles il a participées",
                  "label": "Event:__Entity__"
                },
                "scale_factor": 1,
                "size": [
                  55,
                  55
                ],
                "styles": {},
                "type": "#CDDC39"
              },
              {
                "color": "#607D8B",
                "id": 510,
                "label": "sa participation",
                "position": [
                  0,
                  0
                ],
                "properties": {
                  "id": "sa participation",
                  "label": "__Entity__:Concept"
                },
                "scale_factor": 1,
                "size": [
                  55,
                  55
                ],
                "styles": {},
                "type": "#607D8B"
              },
              {
                "color": "#9E9E9E",
                "id": 511,
                "label": "b) la déclaration du plan de charge",
                "position": [
                  0,
                  0
                ],
                "properties": {
                  "id": "b) la déclaration du plan de charge",
                  "label": "Procedure:__Entity__"
                },
                "scale_factor": 1,
                "size": [
                  55,
                  55
                ],
                "styles": {},
                "type": "#9E9E9E"
              },
              {
                "color": "#607D8B",
                "id": 517,
                "label": "délivré dans le cadre de ce système",
                "position": [
                  0,
                  0
                ],
                "properties": {
                  "id": "délivré dans le cadre de ce système",
                  "label": "__Entity__:Concept"
                },
                "scale_factor": 1,
                "size": [
                  55,
                  55
                ],
                "styles": {},
                "type": "#607D8B"
              },
              {
                "color": "#607D8B",
                "id": 518,
                "label": "pièces visées au a) du paragraphe 1 du B et aux alinéas a), b) et d) du paragraphe 2 du B",
                "position": [
                  0,
                  0
                ],
                "properties": {
                  "id": "pièces visées au a) du paragraphe 1 du B et aux alinéas a), b) et d) du paragraphe 2 du B",
                  "label": "__Entity__:Concept"
                },
                "scale_factor": 1,
                "size": [
                  55,
                  55
                ],
                "styles": {},
                "type": "#607D8B"
              },
              {
                "color": "#607D8B",
                "id": 523,
                "label": "national",
                "position": [
                  0,
                  0
                ],
                "properties": {
                  "id": "national",
                  "label": "__Entity__:Concept"
                },
                "scale_factor": 1,
                "size": [
                  55,
                  55
                ],
                "styles": {},
                "type": "#607D8B"
              },
              {
                "color": "#607D8B",
                "id": 522,
                "label": "auto-entrepreneur",
                "position": [
                  0,
                  0
                ],
                "properties": {
                  "id": "auto-entrepreneur",
                  "label": "__Entity__:Concept"
                },
                "scale_factor": 1,
                "size": [
                  55,
                  55
                ],
                "styles": {},
                "type": "#607D8B"
              },
              {
                "color": "#CDDC39",
                "id": 526,
                "label": "le concurrent",
                "position": [
                  0,
                  0
                ],
                "properties": {
                  "id": "le concurrent",
                  "label": "Person/Company:__Entity__:Company"
                },
                "scale_factor": 1,
                "size": [
                  55,
                  55
                ],
                "styles": {},
                "type": "#CDDC39"
              },
              {
                "color": "#F44336",
                "id": 525,
                "label": "la déclaration sur l'honneur",
                "position": [
                  0,
                  0
                ],
                "properties": {
                  "id": "la déclaration sur l'honneur",
                  "label": "__Entity__:Document"
                },
                "scale_factor": 1,
                "size": [
                  55,
                  55
                ],
                "styles": {},
                "type": "#F44336"
              },
              {
                "color": "#2196F3",
                "id": 687,
                "label": "la réclamation",
                "position": [
                  0,
                  0
                ],
                "properties": {
                  "id": "la réclamation",
                  "label": "__Entity__:Claim"
                },
                "scale_factor": 1,
                "size": [
                  55,
                  55
                ],
                "styles": {},
                "type": "#2196F3"
              },
              {
                "color": "#607D8B",
                "id": 1048,
                "label": "cet organisme",
                "position": [
                  0,
                  0
                ],
                "properties": {
                  "id": "cet organisme",
                  "label": "Organization:__Entity__"
                },
                "scale_factor": 1,
                "size": [
                  55,
                  55
                ],
                "styles": {},
                "type": "#607D8B"
              },
              {
                "color": "#F44336",
                "id": 529,
                "label": "atteste",
                "position": [
                  0,
                  0
                ],
                "properties": {
                  "id": "atteste",
                  "label": "__Entity__:Person"
                },
                "scale_factor": 1,
                "size": [
                  55,
                  55
                ],
                "styles": {},
                "type": "#F44336"
              },
              {
                "color": "#2196F3",
                "id": 528,
                "label": "l'exécution des prestations telles que prévues par la législation et la réglementation en vigueur",
                "position": [
                  0,
                  0
                ],
                "properties": {
                  "id": "l'exécution des prestations telles que prévues par la législation et la réglementation en vigueur",
                  "label": "Regulation:__Entity__"
                },
                "scale_factor": 1,
                "size": [
                  55,
                  55
                ],
                "styles": {},
                "type": "#2196F3"
              },
              {
                "color": "#F44336",
                "id": 532,
                "label": "montant",
                "position": [
                  0,
                  0
                ],
                "properties": {
                  "id": "montant",
                  "label": "__Entity__:Amount"
                },
                "scale_factor": 1,
                "size": [
                  55,
                  55
                ],
                "styles": {},
                "type": "#F44336"
              },
              {
                "color": "#673AB7",
                "id": 531,
                "label": "montant écrit en chiffres",
                "position": [
                  0,
                  0
                ],
                "properties": {
                  "id": "montant écrit en chiffres",
                  "label": "Number:__Entity__"
                },
                "scale_factor": 1,
                "size": [
                  55,
                  55
                ],
                "styles": {},
                "type": "#673AB7"
              },
              {
                "color": "#607D8B",
                "id": 534,
                "label": "appels d'offres",
                "position": [
                  0,
                  0
                ],
                "properties": {
                  "id": "appels d'offres",
                  "label": "__Entity__:Concept"
                },
                "scale_factor": 1,
                "size": [
                  55,
                  55
                ],
                "styles": {},
                "type": "#607D8B"
              },
              {
                "color": "#607D8B",
                "id": 535,
                "label": "rabais ou majoration",
                "position": [
                  0,
                  0
                ],
                "properties": {
                  "id": "rabais ou majoration",
                  "label": "__Entity__:Concept"
                },
                "scale_factor": 1,
                "size": [
                  55,
                  55
                ],
                "styles": {},
                "type": "#607D8B"
              },
              {
                "color": "#F44336",
                "id": 538,
                "label": "forme de procurations légalisées",
                "position": [
                  0,
                  0
                ],
                "properties": {
                  "id": "forme de procurations légalisées",
                  "label": "__Entity__:Document"
                },
                "scale_factor": 1,
                "size": [
                  55,
                  55
                ],
                "styles": {},
                "type": "#F44336"
              },
              {
                "color": "#F44336",
                "id": 537,
                "label": "acte d'engagement du groupement concerné",
                "position": [
                  0,
                  0
                ],
                "properties": {
                  "id": "acte d'engagement du groupement concerné",
                  "label": "__Entity__:Document"
                },
                "scale_factor": 1,
                "size": [
                  55,
                  55
                ],
                "styles": {},
                "type": "#F44336"
              },
              {
                "color": "#607D8B",
                "id": 543,
                "label": "nature particulière",
                "position": [
                  0,
                  0
                ],
                "properties": {
                  "id": "nature particulière",
                  "label": "__Entity__:Concept"
                },
                "scale_factor": 1,
                "size": [
                  55,
                  55
                ],
                "styles": {},
                "type": "#607D8B"
              },
              {
                "color": "#4CAF50",
                "id": 542,
                "label": "prestations à exécuter",
                "position": [
                  0,
                  0
                ],
                "properties": {
                  "id": "prestations à exécuter",
                  "label": "Task:__Entity__"
                },
                "scale_factor": 1,
                "size": [
                  55,
                  55
                ],
                "styles": {},
                "type": "#4CAF50"
              },
              {
                "color": "#9E9E9E",
                "id": 545,
                "label": "spéciales",
                "position": [
                  0,
                  0
                ],
                "properties": {
                  "id": "spéciales",
                  "label": "Regulation:__Entity__:Person"
                },
                "scale_factor": 1,
                "size": [
                  55,
                  55
                ],
                "styles": {},
                "type": "#9E9E9E"
              },
              {
                "color": "#F44336",
                "id": 546,
                "label": "règlement de consultation paraphés et signés",
                "position": [
                  0,
                  0
                ],
                "properties": {
                  "id": "règlement de consultation paraphés et signés",
                  "label": "__Entity__:Document"
                },
                "scale_factor": 1,
                "size": [
                  55,
                  55
                ],
                "styles": {},
                "type": "#F44336"
              },
              {
                "color": "#9C27B0",
                "id": 669,
                "label": "concurrence",
                "position": [
                  0,
                  0
                ],
                "properties": {
                  "id": "concurrence",
                  "label": "Competition:__Entity__:Concept"
                },
                "scale_factor": 1,
                "size": [
                  55,
                  55
                ],
                "styles": {},
                "type": "#9C27B0"
              },
              {
                "color": "#2196F3",
                "id": 549,
                "label": "enveloppe",
                "position": [
                  0,
                  0
                ],
                "properties": {
                  "id": "enveloppe",
                  "label": "__Entity__:Object"
                },
                "scale_factor": 1,
                "size": [
                  55,
                  55
                ],
                "styles": {},
                "type": "#2196F3"
              },
              {
                "color": "#4CAF50",
                "id": 548,
                "label": "mention",
                "position": [
                  0,
                  0
                ],
                "properties": {
                  "id": "mention",
                  "label": "__Entity__:Text"
                },
                "scale_factor": 1,
                "size": [
                  55,
                  55
                ],
                "styles": {},
                "type": "#4CAF50"
              },
              {
                "color": "#F44336",
                "id": 551,
                "label": "troisième enveloppe",
                "position": [
                  0,
                  0
                ],
                "properties": {
                  "id": "troisième enveloppe",
                  "label": "__Entity__:Envelope"
                },
                "scale_factor": 1,
                "size": [
                  55,
                  55
                ],
                "styles": {},
                "type": "#F44336"
              },
              {
                "color": "#9C27B0",
                "id": 552,
                "label": "offre technique",
                "position": [
                  0,
                  0
                ],
                "properties": {
                  "id": "offre technique",
                  "label": "__Entity__:Offer"
                },
                "scale_factor": 1,
                "size": [
                  55,
                  55
                ],
                "styles": {},
                "type": "#9C27B0"
              },
              {
                "color": "#9C27B0",
                "id": 555,
                "label": "ces offres",
                "position": [
                  0,
                  0
                ],
                "properties": {
                  "id": "ces offres",
                  "label": "__Entity__:Offer"
                },
                "scale_factor": 1,
                "size": [
                  55,
                  55
                ],
                "styles": {},
                "type": "#9C27B0"
              },
              {
                "color": "#607D8B",
                "id": 554,
                "label": "conditions et modalités de leur examen et évaluation",
                "position": [
                  0,
                  0
                ],
                "properties": {
                  "id": "conditions et modalités de leur examen et évaluation",
                  "label": "__Entity__:EvaluationCriteria"
                },
                "scale_factor": 1,
                "size": [
                  55,
                  55
                ],
                "styles": {},
                "type": "#607D8B"
              },
              {
                "color": "#F44336",
                "id": 561,
                "label": "compter",
                "position": [
                  0,
                  0
                ],
                "properties": {
                  "id": "compter",
                  "label": "__Entity__:Person"
                },
                "scale_factor": 1,
                "size": [
                  55,
                  55
                ],
                "styles": {},
                "type": "#F44336"
              },
              {
                "color": "#CDDC39",
                "id": 560,
                "label": "date de la séance d’ouverture des plis ou de la date de signature du marché par l’attributaire dans le cas  d’un marché négocié",
                "position": [
                  0,
                  0
                ],
                "properties": {
                  "id": "date de la séance d’ouverture des plis ou de la date de signature du marché par l’attributaire dans le cas  d’un marché négocié",
                  "label": "Event:__Entity__"
                },
                "scale_factor": 1,
                "size": [
                  55,
                  55
                ],
                "styles": {},
                "type": "#CDDC39"
              },
              {
                "color": "#673AB7",
                "id": 563,
                "label": "délai",
                "position": [
                  0,
                  0
                ],
                "properties": {
                  "id": "délai",
                  "label": "Deadline:__Entity__"
                },
                "scale_factor": 1,
                "size": [
                  55,
                  55
                ],
                "styles": {},
                "type": "#673AB7"
              },
              {
                "color": "#9C27B0",
                "id": 564,
                "label": "validité des offres",
                "position": [
                  0,
                  0
                ],
                "properties": {
                  "id": "validité des offres",
                  "label": "__Entity__:Offer"
                },
                "scale_factor": 1,
                "size": [
                  55,
                  55
                ],
                "styles": {},
                "type": "#9C27B0"
              },
              {
                "color": "#4CAF50",
                "id": 569,
                "label": "Le concurrent",
                "position": [
                  0,
                  0
                ],
                "properties": {
                  "id": "Le concurrent",
                  "label": "Person/Company:__Entity__"
                },
                "scale_factor": 1,
                "size": [
                  55,
                  55
                ],
                "styles": {},
                "type": "#4CAF50"
              },
              {
                "color": "#607D8B",
                "id": 568,
                "label": "le retrait des prospectus, notices ou autres documents techniques",
                "position": [
                  0,
                  0
                ],
                "properties": {
                  "id": "le retrait des prospectus, notices ou autres documents techniques",
                  "label": "Action:__Entity__"
                },
                "scale_factor": 1,
                "size": [
                  55,
                  55
                ],
                "styles": {},
                "type": "#607D8B"
              },
              {
                "color": "#F44336",
                "id": 572,
                "label": "leurs prospectus",
                "position": [
                  0,
                  0
                ],
                "properties": {
                  "id": "leurs prospectus",
                  "label": "__Entity__:Document"
                },
                "scale_factor": 1,
                "size": [
                  55,
                  55
                ],
                "styles": {},
                "type": "#F44336"
              },
              {
                "color": "#F44336",
                "id": 571,
                "label": "nouveaux prospectus",
                "position": [
                  0,
                  0
                ],
                "properties": {
                  "id": "nouveaux prospectus",
                  "label": "__Entity__:Document"
                },
                "scale_factor": 1,
                "size": [
                  55,
                  55
                ],
                "styles": {},
                "type": "#F44336"
              },
              {
                "color": "#9E9E9E",
                "id": 575,
                "label": "Le dépôt et le retrait",
                "position": [
                  0,
                  0
                ],
                "properties": {
                  "id": "Le dépôt et le retrait",
                  "label": "Process:__Entity__"
                },
                "scale_factor": 1,
                "size": [
                  55,
                  55
                ],
                "styles": {},
                "type": "#9E9E9E"
              },
              {
                "color": "#CDDC39",
                "id": 574,
                "label": "voie électronique",
                "position": [
                  0,
                  0
                ],
                "properties": {
                  "id": "voie électronique",
                  "label": "Method:__Entity__"
                },
                "scale_factor": 1,
                "size": [
                  55,
                  55
                ],
                "styles": {},
                "type": "#CDDC39"
              },
              {
                "color": "#F44336",
                "id": 578,
                "label": "directeur general des services",
                "position": [
                  0,
                  0
                ],
                "properties": {
                  "id": "directeur general des services",
                  "label": "__Entity__:Person"
                },
                "scale_factor": 1,
                "size": [
                  55,
                  55
                ],
                "styles": {},
                "type": "#F44336"
              },
              {
                "color": "#2196F3",
                "id": 577,
                "label": "regions et leurs groupements",
                "position": [
                  0,
                  0
                ],
                "properties": {
                  "id": "regions et leurs groupements",
                  "label": "Group:__Entity__"
                },
                "scale_factor": 1,
                "size": [
                  55,
                  55
                ],
                "styles": {},
                "type": "#2196F3"
              },
              {
                "color": "#607D8B",
                "id": 580,
                "label": "services",
                "position": [
                  0,
                  0
                ],
                "properties": {
                  "id": "services",
                  "label": "Organization:__Entity__"
                },
                "scale_factor": 1,
                "size": [
                  55,
                  55
                ],
                "styles": {},
                "type": "#607D8B"
              },
              {
                "color": "#F44336",
                "id": 582,
                "label": "chef du service",
                "position": [
                  0,
                  0
                ],
                "properties": {
                  "id": "chef du service",
                  "label": "__Entity__:Person"
                },
                "scale_factor": 1,
                "size": [
                  55,
                  55
                ],
                "styles": {},
                "type": "#F44336"
              },
              {
                "color": "#F44336",
                "id": 583,
                "label": "comptable public assignataire",
                "position": [
                  0,
                  0
                ],
                "properties": {
                  "id": "comptable public assignataire",
                  "label": "__Entity__:Person"
                },
                "scale_factor": 1,
                "size": [
                  55,
                  55
                ],
                "styles": {},
                "type": "#F44336"
              },
              {
                "color": "#F44336",
                "id": 586,
                "label": "le directeur général des services",
                "position": [
                  0,
                  0
                ],
                "properties": {
                  "id": "le directeur général des services",
                  "label": "__Entity__:Person"
                },
                "scale_factor": 1,
                "size": [
                  55,
                  55
                ],
                "styles": {},
                "type": "#F44336"
              },
              {
                "color": "#607D8B",
                "id": 585,
                "label": "les services",
                "position": [
                  0,
                  0
                ],
                "properties": {
                  "id": "les services",
                  "label": "Service:__Entity__"
                },
                "scale_factor": 1,
                "size": [
                  55,
                  55
                ],
                "styles": {},
                "type": "#607D8B"
              },
              {
                "color": "#607D8B",
                "id": 588,
                "label": "la commission",
                "position": [
                  0,
                  0
                ],
                "properties": {
                  "id": "la commission",
                  "label": "Organization:__Entity__"
                },
                "scale_factor": 1,
                "size": [
                  55,
                  55
                ],
                "styles": {},
                "type": "#607D8B"
              },
              {
                "color": "#9E9E9E",
                "id": 589,
                "label": "toute personne, expert ou technicien",
                "position": [
                  0,
                  0
                ],
                "properties": {
                  "id": "toute personne, expert ou technicien",
                  "label": "Person/Expert:__Entity__"
                },
                "scale_factor": 1,
                "size": [
                  55,
                  55
                ],
                "styles": {},
                "type": "#9E9E9E"
              },
              {
                "color": "#F44336",
                "id": 591,
                "label": "Il",
                "position": [
                  0,
                  0
                ],
                "properties": {
                  "id": "Il",
                  "label": "__Entity__:Person"
                },
                "scale_factor": 1,
                "size": [
                  55,
                  55
                ],
                "styles": {},
                "type": "#F44336"
              },
              {
                "color": "#2196F3",
                "id": 592,
                "label": "concurrents présents qui n’auraient pas déposé leurs plis",
                "position": [
                  0,
                  0
                ],
                "properties": {
                  "id": "concurrents présents qui n’auraient pas déposé leurs plis",
                  "label": "Group:__Entity__"
                },
                "scale_factor": 1,
                "size": [
                  55,
                  55
                ],
                "styles": {},
                "type": "#2196F3"
              },
              {
                "color": "#9C27B0",
                "id": 1135,
                "label": "calculs de la proposition financière",
                "position": [
                  0,
                  0
                ],
                "properties": {
                  "id": "calculs de la proposition financière",
                  "label": "__Entity__:Financial Proposal"
                },
                "scale_factor": 1,
                "size": [
                  55,
                  55
                ],
                "styles": {},
                "type": "#9C27B0"
              },
              {
                "color": "#CDDC39",
                "id": 812,
                "label": "les pièces contenues dans chaque enveloppe",
                "position": [
                  0,
                  0
                ],
                "properties": {
                  "id": "les pièces contenues dans chaque enveloppe",
                  "label": "__Entity__:Documents"
                },
                "scale_factor": 1,
                "size": [
                  55,
                  55
                ],
                "styles": {},
                "type": "#CDDC39"
              },
              {
                "color": "#2196F3",
                "id": 595,
                "label": "manquantes sous enveloppe fermée portant la mention",
                "position": [
                  0,
                  0
                ],
                "properties": {
                  "id": "manquantes sous enveloppe fermée portant la mention",
                  "label": "Package:__Entity__:Document"
                },
                "scale_factor": 1,
                "size": [
                  55,
                  55
                ],
                "styles": {},
                "type": "#2196F3"
              },
              {
                "color": "#4CAF50",
                "id": 594,
                "label": "pièces manquantes",
                "position": [
                  0,
                  0
                ],
                "properties": {
                  "id": "pièces manquantes",
                  "label": "Concept:__Entity__:Information:Document"
                },
                "scale_factor": 1,
                "size": [
                  55,
                  55
                ],
                "styles": {},
                "type": "#4CAF50"
              },
              {
                "color": "#F44336",
                "id": 597,
                "label": "président de la commission",
                "position": [
                  0,
                  0
                ],
                "properties": {
                  "id": "président de la commission",
                  "label": "__Entity__:Person"
                },
                "scale_factor": 1,
                "size": [
                  55,
                  55
                ],
                "styles": {},
                "type": "#F44336"
              },
              {
                "color": "#CDDC39",
                "id": 599,
                "label": "la séance d'ouverture",
                "position": [
                  0,
                  0
                ],
                "properties": {
                  "id": "la séance d'ouverture",
                  "label": "Event:__Entity__"
                },
                "scale_factor": 1,
                "size": [
                  55,
                  55
                ],
                "styles": {},
                "type": "#CDDC39"
              },
              {
                "color": "#F44336",
                "id": 600,
                "label": "les plis à parapher",
                "position": [
                  0,
                  0
                ],
                "properties": {
                  "id": "les plis à parapher",
                  "label": "__Entity__:Document"
                },
                "scale_factor": 1,
                "size": [
                  55,
                  55
                ],
                "styles": {},
                "type": "#F44336"
              },
              {
                "color": "#F44336",
                "id": 602,
                "label": "membres",
                "position": [
                  0,
                  0
                ],
                "properties": {
                  "id": "membres",
                  "label": "__Entity__:Person"
                },
                "scale_factor": 1,
                "size": [
                  55,
                  55
                ],
                "styles": {},
                "type": "#F44336"
              },
              {
                "color": "#F44336",
                "id": 603,
                "label": "lettre",
                "position": [
                  0,
                  0
                ],
                "properties": {
                  "id": "lettre",
                  "label": "__Entity__:Document"
                },
                "scale_factor": 1,
                "size": [
                  55,
                  55
                ],
                "styles": {},
                "type": "#F44336"
              },
              {
                "color": "#F44336",
                "id": 926,
                "label": "observations formulées",
                "position": [
                  0,
                  0
                ],
                "properties": {
                  "id": "observations formulées",
                  "label": "Statement:__Entity__"
                },
                "scale_factor": 1,
                "size": [
                  55,
                  55
                ],
                "styles": {},
                "type": "#F44336"
              },
              {
                "color": "#607D8B",
                "id": 605,
                "label": "dossiers administratif et technique",
                "position": [
                  0,
                  0
                ],
                "properties": {
                  "id": "dossiers administratif et technique",
                  "label": "Concept:__Entity__:Document"
                },
                "scale_factor": 1,
                "size": [
                  55,
                  55
                ],
                "styles": {},
                "type": "#607D8B"
              },
              {
                "color": "#607D8B",
                "id": 606,
                "label": "pièces contenues dans chaque dossier",
                "position": [
                  0,
                  0
                ],
                "properties": {
                  "id": "pièces contenues dans chaque dossier",
                  "label": "__Entity__:Concept"
                },
                "scale_factor": 1,
                "size": [
                  55,
                  55
                ],
                "styles": {},
                "type": "#607D8B"
              },
              {
                "color": "#607D8B",
                "id": 608,
                "label": "La commission",
                "position": [
                  0,
                  0
                ],
                "properties": {
                  "id": "La commission",
                  "label": "Organization:__Entity__"
                },
                "scale_factor": 1,
                "size": [
                  55,
                  55
                ],
                "styles": {},
                "type": "#607D8B"
              },
              {
                "color": "#4CAF50",
                "id": 650,
                "label": "le concurrent ayant présenté l'offre économiquement la plus avantageuse",
                "position": [
                  0,
                  0
                ],
                "properties": {
                  "id": "le concurrent ayant présenté l'offre économiquement la plus avantageuse",
                  "label": "Person/Company:__Entity__"
                },
                "scale_factor": 1,
                "size": [
                  55,
                  55
                ],
                "styles": {},
                "type": "#4CAF50"
              },
              {
                "color": "#CDDC39",
                "id": 632,
                "label": "les prospectus, notices ou autres documents techniques",
                "position": [
                  0,
                  0
                ],
                "properties": {
                  "id": "les prospectus, notices ou autres documents techniques",
                  "label": "__Entity__:Documents"
                },
                "scale_factor": 1,
                "size": [
                  55,
                  55
                ],
                "styles": {},
                "type": "#CDDC39"
              },
              {
                "color": "#F44336",
                "id": 663,
                "label": "la lettre ayant servi de moyen d'invitation du concurrent concerné",
                "position": [
                  0,
                  0
                ],
                "properties": {
                  "id": "la lettre ayant servi de moyen d'invitation du concurrent concerné",
                  "label": "__Entity__:Document"
                },
                "scale_factor": 1,
                "size": [
                  55,
                  55
                ],
                "styles": {},
                "type": "#F44336"
              },
              {
                "color": "#4CAF50",
                "id": 661,
                "label": "le lieu",
                "position": [
                  0,
                  0
                ],
                "properties": {
                  "id": "le lieu",
                  "label": "Location:__Entity__"
                },
                "scale_factor": 1,
                "size": [
                  55,
                  55
                ],
                "styles": {},
                "type": "#4CAF50"
              },
              {
                "color": "#673AB7",
                "id": 679,
                "label": "offres des concurrents",
                "position": [
                  0,
                  0
                ],
                "properties": {
                  "id": "offres des concurrents",
                  "label": "Offers:__Entity__"
                },
                "scale_factor": 1,
                "size": [
                  55,
                  55
                ],
                "styles": {},
                "type": "#673AB7"
              },
              {
                "color": "#F44336",
                "id": 612,
                "label": "prospectus",
                "position": [
                  0,
                  0
                ],
                "properties": {
                  "id": "prospectus",
                  "label": "__Entity__:Document"
                },
                "scale_factor": 1,
                "size": [
                  55,
                  55
                ],
                "styles": {},
                "type": "#F44336"
              },
              {
                "color": "#2196F3",
                "id": 613,
                "label": "notices et documents techniques",
                "position": [
                  0,
                  0
                ],
                "properties": {
                  "id": "notices et documents techniques",
                  "label": "Category:__Entity__"
                },
                "scale_factor": 1,
                "size": [
                  55,
                  55
                ],
                "styles": {},
                "type": "#2196F3"
              },
              {
                "color": "#9E9E9E",
                "id": 616,
                "label": "dépôt",
                "position": [
                  0,
                  0
                ],
                "properties": {
                  "id": "dépôt",
                  "label": "Process:__Entity__"
                },
                "scale_factor": 1,
                "size": [
                  55,
                  55
                ],
                "styles": {},
                "type": "#9E9E9E"
              },
              {
                "color": "#F44336",
                "id": 615,
                "label": "des prospectus, notices ou autres documents techniques et/ou la présentation d’une offre technique comportant ou non une offre variante",
                "position": [
                  0,
                  0
                ],
                "properties": {
                  "id": "des prospectus, notices ou autres documents techniques et/ou la présentation d’une offre technique comportant ou non une offre variante",
                  "label": "__Entity__:Document"
                },
                "scale_factor": 1,
                "size": [
                  55,
                  55
                ],
                "styles": {},
                "type": "#F44336"
              },
              {
                "color": "#CDDC39",
                "id": 618,
                "label": "membres de la commission",
                "position": [
                  0,
                  0
                ],
                "properties": {
                  "id": "membres de la commission",
                  "label": "Person/Group:__Entity__"
                },
                "scale_factor": 1,
                "size": [
                  55,
                  55
                ],
                "styles": {},
                "type": "#CDDC39"
              },
              {
                "color": "#9C27B0",
                "id": 619,
                "label": "offres financières des concurrents",
                "position": [
                  0,
                  0
                ],
                "properties": {
                  "id": "offres financières des concurrents",
                  "label": "__Entity__:Offer"
                },
                "scale_factor": 1,
                "size": [
                  55,
                  55
                ],
                "styles": {},
                "type": "#9C27B0"
              },
              {
                "color": "#9E9E9E",
                "id": 623,
                "label": "articles 40 et 41",
                "position": [
                  0,
                  0
                ],
                "properties": {
                  "id": "articles 40 et 41",
                  "label": "__Entity__:Legislation"
                },
                "scale_factor": 1,
                "size": [
                  55,
                  55
                ],
                "styles": {},
                "type": "#9E9E9E"
              },
              {
                "color": "#9C27B0",
                "id": 622,
                "label": "present décret",
                "position": [
                  0,
                  0
                ],
                "properties": {
                  "id": "present décret",
                  "label": "__Entity__:Legislation:Document"
                },
                "scale_factor": 1,
                "size": [
                  55,
                  55
                ],
                "styles": {},
                "type": "#9C27B0"
              },
              {
                "color": "#607D8B",
                "id": 626,
                "label": "La commission d'appel d'offres",
                "position": [
                  0,
                  0
                ],
                "properties": {
                  "id": "La commission d'appel d'offres",
                  "label": "Organization:__Entity__"
                },
                "scale_factor": 1,
                "size": [
                  55,
                  55
                ],
                "styles": {},
                "type": "#607D8B"
              },
              {
                "color": "#F44336",
                "id": 625,
                "label": "expert or technicien",
                "position": [
                  0,
                  0
                ],
                "properties": {
                  "id": "expert or technicien",
                  "label": "__Entity__:Person"
                },
                "scale_factor": 1,
                "size": [
                  55,
                  55
                ],
                "styles": {},
                "type": "#F44336"
              },
              {
                "color": "#F44336",
                "id": 628,
                "label": "experts",
                "position": [
                  0,
                  0
                ],
                "properties": {
                  "id": "experts",
                  "label": "__Entity__:Person"
                },
                "scale_factor": 1,
                "size": [
                  55,
                  55
                ],
                "styles": {},
                "type": "#F44336"
              },
              {
                "color": "#2196F3",
                "id": 629,
                "label": "rapports",
                "position": [
                  0,
                  0
                ],
                "properties": {
                  "id": "rapports",
                  "label": "Report:__Entity__"
                },
                "scale_factor": 1,
                "size": [
                  55,
                  55
                ],
                "styles": {},
                "type": "#2196F3"
              },
              {
                "color": "#F44336",
                "id": 634,
                "label": "Elle",
                "position": [
                  0,
                  0
                ],
                "properties": {
                  "id": "Elle",
                  "label": "__Entity__:Person"
                },
                "scale_factor": 1,
                "size": [
                  55,
                  55
                ],
                "styles": {},
                "type": "#F44336"
              },
              {
                "color": "#4CAF50",
                "id": 1229,
                "label": "lieu",
                "position": [
                  0,
                  0
                ],
                "properties": {
                  "id": "lieu",
                  "label": "Location:__Entity__"
                },
                "scale_factor": 1,
                "size": [
                  55,
                  55
                ],
                "styles": {},
                "type": "#4CAF50"
              },
              {
                "color": "#CDDC39",
                "id": 637,
                "label": "leurs dossiers",
                "position": [
                  0,
                  0
                ],
                "properties": {
                  "id": "leurs dossiers",
                  "label": "__Entity__:Documents"
                },
                "scale_factor": 1,
                "size": [
                  55,
                  55
                ],
                "styles": {},
                "type": "#CDDC39"
              },
              {
                "color": "#2196F3",
                "id": 638,
                "label": "les offres financières",
                "position": [
                  0,
                  0
                ],
                "properties": {
                  "id": "les offres financières",
                  "label": "Financial Offers:__Entity__"
                },
                "scale_factor": 1,
                "size": [
                  55,
                  55
                ],
                "styles": {},
                "type": "#2196F3"
              },
              {
                "color": "#2196F3",
                "id": 641,
                "label": "public",
                "position": [
                  0,
                  0
                ],
                "properties": {
                  "id": "public",
                  "label": "Group:__Entity__"
                },
                "scale_factor": 1,
                "size": [
                  55,
                  55
                ],
                "styles": {},
                "type": "#2196F3"
              },
              {
                "color": "#4CAF50",
                "id": 640,
                "label": "salle",
                "position": [
                  0,
                  0
                ],
                "properties": {
                  "id": "salle",
                  "label": "Location:__Entity__"
                },
                "scale_factor": 1,
                "size": [
                  55,
                  55
                ],
                "styles": {},
                "type": "#4CAF50"
              },
              {
                "color": "#F44336",
                "id": 644,
                "label": "descriptif technique",
                "position": [
                  0,
                  0
                ],
                "properties": {
                  "id": "descriptif technique",
                  "label": "__Entity__:Document"
                },
                "scale_factor": 1,
                "size": [
                  55,
                  55
                ],
                "styles": {},
                "type": "#F44336"
              },
              {
                "color": "#F44336",
                "id": 643,
                "label": "bordereau des prix et le détail estimatif",
                "position": [
                  0,
                  0
                ],
                "properties": {
                  "id": "bordereau des prix et le détail estimatif",
                  "label": "__Entity__:Document"
                },
                "scale_factor": 1,
                "size": [
                  55,
                  55
                ],
                "styles": {},
                "type": "#F44336"
              },
              {
                "color": "#4CAF50",
                "id": 647,
                "label": "tenant",
                "position": [
                  0,
                  0
                ],
                "properties": {
                  "id": "tenant",
                  "label": "Person/Company:__Entity__"
                },
                "scale_factor": 1,
                "size": [
                  55,
                  55
                ],
                "styles": {},
                "type": "#4CAF50"
              },
              {
                "color": "#4CAF50",
                "id": 646,
                "label": "rabais éventuels consentis dans lesdites offres",
                "position": [
                  0,
                  0
                ],
                "properties": {
                  "id": "rabais éventuels consentis dans lesdites offres",
                  "label": "__Entity__:Discounts"
                },
                "scale_factor": 1,
                "size": [
                  55,
                  55
                ],
                "styles": {},
                "type": "#4CAF50"
              },
              {
                "color": "#9C27B0",
                "id": 652,
                "label": "échantillons",
                "position": [
                  0,
                  0
                ],
                "properties": {
                  "id": "échantillons",
                  "label": "Product:__Entity__"
                },
                "scale_factor": 1,
                "size": [
                  55,
                  55
                ],
                "styles": {},
                "type": "#9C27B0"
              },
              {
                "color": "#F44336",
                "id": 658,
                "label": "Les échantillons ou les prototypes",
                "position": [
                  0,
                  0
                ],
                "properties": {
                  "id": "Les échantillons ou les prototypes",
                  "label": "Things:__Entity__"
                },
                "scale_factor": 1,
                "size": [
                  55,
                  55
                ],
                "styles": {},
                "type": "#F44336"
              },
              {
                "color": "#607D8B",
                "id": 659,
                "label": "le bureau du maître d'ouvrage",
                "position": [
                  0,
                  0
                ],
                "properties": {
                  "id": "le bureau du maître d'ouvrage",
                  "label": "Organization:__Entity__"
                },
                "scale_factor": 1,
                "size": [
                  55,
                  55
                ],
                "styles": {},
                "type": "#607D8B"
              },
              {
                "color": "#CDDC39",
                "id": 704,
                "label": "la séance d'admission",
                "position": [
                  0,
                  0
                ],
                "properties": {
                  "id": "la séance d'admission",
                  "label": "Event:__Entity__"
                },
                "scale_factor": 1,
                "size": [
                  55,
                  55
                ],
                "styles": {},
                "type": "#CDDC39"
              },
              {
                "color": "#607D8B",
                "id": 667,
                "label": "les justifications du prix",
                "position": [
                  0,
                  0
                ],
                "properties": {
                  "id": "les justifications du prix",
                  "label": "Justification:__Entity__"
                },
                "scale_factor": 1,
                "size": [
                  55,
                  55
                ],
                "styles": {},
                "type": "#607D8B"
              },
              {
                "color": "#F44336",
                "id": 666,
                "label": "caractéristiques exigées",
                "position": [
                  0,
                  0
                ],
                "properties": {
                  "id": "caractéristiques exigées",
                  "label": "Characteristic:__Entity__"
                },
                "scale_factor": 1,
                "size": [
                  55,
                  55
                ],
                "styles": {},
                "type": "#F44336"
              },
              {
                "color": "#607D8B",
                "id": 672,
                "label": "anormalement bas",
                "position": [
                  0,
                  0
                ],
                "properties": {
                  "id": "anormalement bas",
                  "label": "__Entity__:Concept"
                },
                "scale_factor": 1,
                "size": [
                  55,
                  55
                ],
                "styles": {},
                "type": "#607D8B"
              },
              {
                "color": "#F44336",
                "id": 671,
                "label": "caractéristiques exigées par le cahier des prescriptions spéciales",
                "position": [
                  0,
                  0
                ],
                "properties": {
                  "id": "caractéristiques exigées par le cahier des prescriptions spéciales",
                  "label": "__Entity__:Document"
                },
                "scale_factor": 1,
                "size": [
                  55,
                  55
                ],
                "styles": {},
                "type": "#F44336"
              },
              {
                "color": "#673AB7",
                "id": 674,
                "label": "les pièces",
                "position": [
                  0,
                  0
                ],
                "properties": {
                  "id": "les pièces",
                  "label": "__Entity__:Object:Pieces"
                },
                "scale_factor": 1,
                "size": [
                  55,
                  55
                ],
                "styles": {},
                "type": "#673AB7"
              },
              {
                "color": "#607D8B",
                "id": 1454,
                "label": "rejeter",
                "position": [
                  0,
                  0
                ],
                "properties": {
                  "id": "rejeter",
                  "label": "Action:__Entity__"
                },
                "scale_factor": 1,
                "size": [
                  55,
                  55
                ],
                "styles": {},
                "type": "#607D8B"
              },
              {
                "color": "#CDDC39",
                "id": 1285,
                "label": "avis de la consultation architecturale négociée",
                "position": [
                  0,
                  0
                ],
                "properties": {
                  "id": "avis de la consultation architecturale négociée",
                  "label": "Consultation:__Entity__"
                },
                "scale_factor": 1,
                "size": [
                  55,
                  55
                ],
                "styles": {},
                "type": "#CDDC39"
              },
              {
                "color": "#9C27B0",
                "id": 681,
                "label": "prix unitaire principal",
                "position": [
                  0,
                  0
                ],
                "properties": {
                  "id": "prix unitaire principal",
                  "label": "__Entity__:Price"
                },
                "scale_factor": 1,
                "size": [
                  55,
                  55
                ],
                "styles": {},
                "type": "#9C27B0"
              },
              {
                "color": "#9E9E9E",
                "id": 684,
                "label": "L'autorité compétente",
                "position": [
                  0,
                  0
                ],
                "properties": {
                  "id": "L'autorité compétente",
                  "label": "Authority:__Entity__"
                },
                "scale_factor": 1,
                "size": [
                  55,
                  55
                ],
                "styles": {},
                "type": "#9E9E9E"
              },
              {
                "color": "#9E9E9E",
                "id": 685,
                "label": "tender process",
                "position": [
                  0,
                  0
                ],
                "properties": {
                  "id": "tender process",
                  "label": "Process:__Entity__"
                },
                "scale_factor": 1,
                "size": [
                  55,
                  55
                ],
                "styles": {},
                "type": "#9E9E9E"
              },
              {
                "color": "#9E9E9E",
                "id": 924,
                "label": "procédure négociée",
                "position": [
                  0,
                  0
                ],
                "properties": {
                  "id": "procédure négociée",
                  "label": "Procedure:__Entity__"
                },
                "scale_factor": 1,
                "size": [
                  55,
                  55
                ],
                "styles": {},
                "type": "#9E9E9E"
              },
              {
                "color": "#4CAF50",
                "id": 690,
                "label": "Attributaire",
                "position": [
                  0,
                  0
                ],
                "properties": {
                  "id": "Attributaire",
                  "label": "Person/Company:__Entity__"
                },
                "scale_factor": 1,
                "size": [
                  55,
                  55
                ],
                "styles": {},
                "type": "#4CAF50"
              },
              {
                "color": "#673AB7",
                "id": 691,
                "label": "Marché",
                "position": [
                  0,
                  0
                ],
                "properties": {
                  "id": "Marché",
                  "label": "Contract:__Entity__"
                },
                "scale_factor": 1,
                "size": [
                  55,
                  55
                ],
                "styles": {},
                "type": "#673AB7"
              },
              {
                "color": "#F44336",
                "id": 693,
                "label": "l'attributaire",
                "position": [
                  0,
                  0
                ],
                "properties": {
                  "id": "l'attributaire",
                  "label": "__Entity__:Person"
                },
                "scale_factor": 1,
                "size": [
                  55,
                  55
                ],
                "styles": {},
                "type": "#F44336"
              },
              {
                "color": "#9C27B0",
                "id": 694,
                "label": "l'approbation du marché",
                "position": [
                  0,
                  0
                ],
                "properties": {
                  "id": "l'approbation du marché",
                  "label": "__Entity__:Market Approval"
                },
                "scale_factor": 1,
                "size": [
                  55,
                  55
                ],
                "styles": {},
                "type": "#9C27B0"
              },
              {
                "color": "#2196F3",
                "id": 1318,
                "label": "le nouveau délai proposé",
                "position": [
                  0,
                  0
                ],
                "properties": {
                  "id": "le nouveau délai proposé",
                  "label": "Delay:__Entity__"
                },
                "scale_factor": 1,
                "size": [
                  55,
                  55
                ],
                "styles": {},
                "type": "#2196F3"
              },
              {
                "color": "#607D8B",
                "id": 697,
                "label": "Commission",
                "position": [
                  0,
                  0
                ],
                "properties": {
                  "id": "Commission",
                  "label": "Organization:__Entity__"
                },
                "scale_factor": 1,
                "size": [
                  55,
                  55
                ],
                "styles": {},
                "type": "#607D8B"
              },
              {
                "color": "#9C27B0",
                "id": 696,
                "label": "most economically advantageous offer",
                "position": [
                  0,
                  0
                ],
                "properties": {
                  "id": "most economically advantageous offer",
                  "label": "__Entity__:Offer"
                },
                "scale_factor": 1,
                "size": [
                  55,
                  55
                ],
                "styles": {},
                "type": "#9C27B0"
              },
              {
                "color": "#4CAF50",
                "id": 699,
                "label": "province ou de la préfecture et de la région concernées",
                "position": [
                  0,
                  0
                ],
                "properties": {
                  "id": "province ou de la préfecture et de la région concernées",
                  "label": "Location:__Entity__"
                },
                "scale_factor": 1,
                "size": [
                  55,
                  55
                ],
                "styles": {},
                "type": "#4CAF50"
              },
              {
                "color": "#607D8B",
                "id": 701,
                "label": "bureau",
                "position": [
                  0,
                  0
                ],
                "properties": {
                  "id": "bureau",
                  "label": "Organization:__Entity__"
                },
                "scale_factor": 1,
                "size": [
                  55,
                  55
                ],
                "styles": {},
                "type": "#607D8B"
              },
              {
                "color": "#F44336",
                "id": 709,
                "label": "présent décret",
                "position": [
                  0,
                  0
                ],
                "properties": {
                  "id": "présent décret",
                  "label": "__Entity__:Document"
                },
                "scale_factor": 1,
                "size": [
                  55,
                  55
                ],
                "styles": {},
                "type": "#F44336"
              },
              {
                "color": "#9E9E9E",
                "id": 710,
                "label": "critères de présélection des concurrents",
                "position": [
                  0,
                  0
                ],
                "properties": {
                  "id": "critères de présélection des concurrents",
                  "label": "Process:__Entity__"
                },
                "scale_factor": 1,
                "size": [
                  55,
                  55
                ],
                "styles": {},
                "type": "#9E9E9E"
              },
              {
                "color": "#F44336",
                "id": 1470,
                "label": "bon de commande",
                "position": [
                  0,
                  0
                ],
                "properties": {
                  "id": "bon de commande",
                  "label": "__Entity__:Document"
                },
                "scale_factor": 1,
                "size": [
                  55,
                  55
                ],
                "styles": {},
                "type": "#F44336"
              },
              {
                "color": "#F44336",
                "id": 713,
                "label": "La liste des pièces",
                "position": [
                  0,
                  0
                ],
                "properties": {
                  "id": "La liste des pièces",
                  "label": "__Entity__:Document"
                },
                "scale_factor": 1,
                "size": [
                  55,
                  55
                ],
                "styles": {},
                "type": "#F44336"
              },
              {
                "color": "#2196F3",
                "id": 712,
                "label": "les concurrents admis",
                "position": [
                  0,
                  0
                ],
                "properties": {
                  "id": "les concurrents admis",
                  "label": "Group:__Entity__"
                },
                "scale_factor": 1,
                "size": [
                  55,
                  55
                ],
                "styles": {},
                "type": "#2196F3"
              },
              {
                "color": "#F44336",
                "id": 715,
                "label": "Les critères d'évaluation",
                "position": [
                  0,
                  0
                ],
                "properties": {
                  "id": "Les critères d'évaluation",
                  "label": "__Entity__:Criteria"
                },
                "scale_factor": 1,
                "size": [
                  55,
                  55
                ],
                "styles": {},
                "type": "#F44336"
              },
              {
                "color": "#9E9E9E",
                "id": 717,
                "label": "offres des concurrents et attribution du marché",
                "position": [
                  0,
                  0
                ],
                "properties": {
                  "id": "offres des concurrents et attribution du marché",
                  "label": "Process:__Entity__"
                },
                "scale_factor": 1,
                "size": [
                  55,
                  55
                ],
                "styles": {},
                "type": "#9E9E9E"
              },
              {
                "color": "#607D8B",
                "id": 719,
                "label": "marchés de travaux",
                "position": [
                  0,
                  0
                ],
                "properties": {
                  "id": "marchés de travaux",
                  "label": "__Entity__:Concept"
                },
                "scale_factor": 1,
                "size": [
                  55,
                  55
                ],
                "styles": {},
                "type": "#607D8B"
              },
              {
                "color": "#9E9E9E",
                "id": 720,
                "label": "présentation d'une offre technique",
                "position": [
                  0,
                  0
                ],
                "properties": {
                  "id": "présentation d'une offre technique",
                  "label": "Process:__Entity__"
                },
                "scale_factor": 1,
                "size": [
                  55,
                  55
                ],
                "styles": {},
                "type": "#9E9E9E"
              },
              {
                "color": "#CDDC39",
                "id": 723,
                "label": "artisans",
                "position": [
                  0,
                  0
                ],
                "properties": {
                  "id": "artisans",
                  "label": "Person/Group:__Entity__"
                },
                "scale_factor": 1,
                "size": [
                  55,
                  55
                ],
                "styles": {},
                "type": "#CDDC39"
              },
              {
                "color": "#9E9E9E",
                "id": 722,
                "label": "sauvegarde des médinas et de restauration des ouvrages traditionnels, historiques et anciens",
                "position": [
                  0,
                  0
                ],
                "properties": {
                  "id": "sauvegarde des médinas et de restauration des ouvrages traditionnels, historiques et anciens",
                  "label": "Activity:__Entity__"
                },
                "scale_factor": 1,
                "size": [
                  55,
                  55
                ],
                "styles": {},
                "type": "#9E9E9E"
              },
              {
                "color": "#CDDC39",
                "id": 725,
                "label": "ressources hydriques",
                "position": [
                  0,
                  0
                ],
                "properties": {
                  "id": "ressources hydriques",
                  "label": "Resource:__Entity__"
                },
                "scale_factor": 1,
                "size": [
                  55,
                  55
                ],
                "styles": {},
                "type": "#CDDC39"
              },
              {
                "color": "#607D8B",
                "id": 726,
                "label": "préservation",
                "position": [
                  0,
                  0
                ],
                "properties": {
                  "id": "préservation",
                  "label": "__Entity__:Concept"
                },
                "scale_factor": 1,
                "size": [
                  55,
                  55
                ],
                "styles": {},
                "type": "#607D8B"
              },
              {
                "color": "#9E9E9E",
                "id": 729,
                "label": "Appel d'Offres",
                "position": [
                  0,
                  0
                ],
                "properties": {
                  "id": "Appel d'Offres",
                  "label": "Procedure:__Entity__"
                },
                "scale_factor": 1,
                "size": [
                  55,
                  55
                ],
                "styles": {},
                "type": "#9E9E9E"
              },
              {
                "color": "#607D8B",
                "id": 730,
                "label": "Maître d'Ouvrage",
                "position": [
                  0,
                  0
                ],
                "properties": {
                  "id": "Maître d'Ouvrage",
                  "label": "Organization:__Entity__"
                },
                "scale_factor": 1,
                "size": [
                  55,
                  55
                ],
                "styles": {},
                "type": "#607D8B"
              },
              {
                "color": "#F44336",
                "id": 735,
                "label": "dossier de l'appel d'offres",
                "position": [
                  0,
                  0
                ],
                "properties": {
                  "id": "dossier de l'appel d'offres",
                  "label": "__Entity__:Document"
                },
                "scale_factor": 1,
                "size": [
                  55,
                  55
                ],
                "styles": {},
                "type": "#F44336"
              },
              {
                "color": "#CDDC39",
                "id": 739,
                "label": "demande",
                "position": [
                  0,
                  0
                ],
                "properties": {
                  "id": "demande",
                  "label": "__Entity__:Request"
                },
                "scale_factor": 1,
                "size": [
                  55,
                  55
                ],
                "styles": {},
                "type": "#CDDC39"
              },
              {
                "color": "#CDDC39",
                "id": 740,
                "label": "date de présentation de la demande",
                "position": [
                  0,
                  0
                ],
                "properties": {
                  "id": "date de présentation de la demande",
                  "label": "__Entity__:Date"
                },
                "scale_factor": 1,
                "size": [
                  55,
                  55
                ],
                "styles": {},
                "type": "#CDDC39"
              },
              {
                "color": "#F44336",
                "id": 742,
                "label": "dossier au requérant",
                "position": [
                  0,
                  0
                ],
                "properties": {
                  "id": "dossier au requérant",
                  "label": "__Entity__:Document"
                },
                "scale_factor": 1,
                "size": [
                  55,
                  55
                ],
                "styles": {},
                "type": "#F44336"
              },
              {
                "color": "#F44336",
                "id": 745,
                "label": "rectificatif",
                "position": [
                  0,
                  0
                ],
                "properties": {
                  "id": "rectificatif",
                  "label": "__Entity__:Document"
                },
                "scale_factor": 1,
                "size": [
                  55,
                  55
                ],
                "styles": {},
                "type": "#F44336"
              },
              {
                "color": "#F44336",
                "id": 752,
                "label": "la ou les pièces",
                "position": [
                  0,
                  0
                ],
                "properties": {
                  "id": "la ou les pièces",
                  "label": "__Entity__:Document"
                },
                "scale_factor": 1,
                "size": [
                  55,
                  55
                ],
                "styles": {},
                "type": "#F44336"
              },
              {
                "color": "#F44336",
                "id": 751,
                "label": "la personne agissant au nom du concurrent",
                "position": [
                  0,
                  0
                ],
                "properties": {
                  "id": "la personne agissant au nom du concurrent",
                  "label": "__Entity__:Person"
                },
                "scale_factor": 1,
                "size": [
                  55,
                  55
                ],
                "styles": {},
                "type": "#F44336"
              },
              {
                "color": "#CDDC39",
                "id": 754,
                "label": "société",
                "position": [
                  0,
                  0
                ],
                "properties": {
                  "id": "société",
                  "label": "__Entity__:Company"
                },
                "scale_factor": 1,
                "size": [
                  55,
                  55
                ],
                "styles": {},
                "type": "#CDDC39"
              },
              {
                "color": "#F44336",
                "id": 755,
                "label": "procès-verbal de l'organe compétent",
                "position": [
                  0,
                  0
                ],
                "properties": {
                  "id": "procès-verbal de l'organe compétent",
                  "label": "__Entity__:Document"
                },
                "scale_factor": 1,
                "size": [
                  55,
                  55
                ],
                "styles": {},
                "type": "#F44336"
              },
              {
                "color": "#CDDC39",
                "id": 762,
                "label": "les hommes de l'art",
                "position": [
                  0,
                  0
                ],
                "properties": {
                  "id": "les hommes de l'art",
                  "label": "Person/Group:__Entity__"
                },
                "scale_factor": 1,
                "size": [
                  55,
                  55
                ],
                "styles": {},
                "type": "#CDDC39"
              },
              {
                "color": "#4CAF50",
                "id": 765,
                "label": "plan de charge",
                "position": [
                  0,
                  0
                ],
                "properties": {
                  "id": "plan de charge",
                  "label": "Plan:__Entity__"
                },
                "scale_factor": 1,
                "size": [
                  55,
                  55
                ],
                "styles": {},
                "type": "#4CAF50"
              },
              {
                "color": "#2196F3",
                "id": 766,
                "label": "règlement de présélection",
                "position": [
                  0,
                  0
                ],
                "properties": {
                  "id": "règlement de présélection",
                  "label": "Regulation:__Entity__"
                },
                "scale_factor": 1,
                "size": [
                  55,
                  55
                ],
                "styles": {},
                "type": "#2196F3"
              },
              {
                "color": "#CDDC39",
                "id": 768,
                "label": "les concurrents",
                "position": [
                  0,
                  0
                ],
                "properties": {
                  "id": "les concurrents",
                  "label": "__Entity__:Company"
                },
                "scale_factor": 1,
                "size": [
                  55,
                  55
                ],
                "styles": {},
                "type": "#CDDC39"
              },
              {
                "color": "#9C27B0",
                "id": 912,
                "label": "le complément des pièces",
                "position": [
                  0,
                  0
                ],
                "properties": {
                  "id": "le complément des pièces",
                  "label": "Product:__Entity__"
                },
                "scale_factor": 1,
                "size": [
                  55,
                  55
                ],
                "styles": {},
                "type": "#9C27B0"
              },
              {
                "color": "#2196F3",
                "id": 770,
                "label": "ART. 54",
                "position": [
                  0,
                  0
                ],
                "properties": {
                  "id": "ART. 54",
                  "label": "Regulation:__Entity__"
                },
                "scale_factor": 1,
                "size": [
                  55,
                  55
                ],
                "styles": {},
                "type": "#2196F3"
              },
              {
                "color": "#F44336",
                "id": 771,
                "label": "dossiers d’admission",
                "position": [
                  0,
                  0
                ],
                "properties": {
                  "id": "dossiers d’admission",
                  "label": "__Entity__:Document"
                },
                "scale_factor": 1,
                "size": [
                  55,
                  55
                ],
                "styles": {},
                "type": "#F44336"
              },
              {
                "color": "#F44336",
                "id": 774,
                "label": "convention constitutive",
                "position": [
                  0,
                  0
                ],
                "properties": {
                  "id": "convention constitutive",
                  "label": "__Entity__:Document"
                },
                "scale_factor": 1,
                "size": [
                  55,
                  55
                ],
                "styles": {},
                "type": "#F44336"
              },
              {
                "color": "#9E9E9E",
                "id": 773,
                "label": "article 150",
                "position": [
                  0,
                  0
                ],
                "properties": {
                  "id": "article 150",
                  "label": "__Entity__:Legislation"
                },
                "scale_factor": 1,
                "size": [
                  55,
                  55
                ],
                "styles": {},
                "type": "#9E9E9E"
              },
              {
                "color": "#F44336",
                "id": 776,
                "label": "Ce pli",
                "position": [
                  0,
                  0
                ],
                "properties": {
                  "id": "Ce pli",
                  "label": "Package:__Entity__"
                },
                "scale_factor": 1,
                "size": [
                  55,
                  55
                ],
                "styles": {},
                "type": "#F44336"
              },
              {
                "color": "#F44336",
                "id": 777,
                "label": "le nom et l’adresse du concurrent",
                "position": [
                  0,
                  0
                ],
                "properties": {
                  "id": "le nom et l’adresse du concurrent",
                  "label": "__Entity__:Information"
                },
                "scale_factor": 1,
                "size": [
                  55,
                  55
                ],
                "styles": {},
                "type": "#F44336"
              },
              {
                "color": "#F44336",
                "id": 780,
                "label": "président de la commission d'appel d'offres",
                "position": [
                  0,
                  0
                ],
                "properties": {
                  "id": "président de la commission d'appel d'offres",
                  "label": "__Entity__:Person"
                },
                "scale_factor": 1,
                "size": [
                  55,
                  55
                ],
                "styles": {},
                "type": "#F44336"
              },
              {
                "color": "#607D8B",
                "id": 779,
                "label": "commission d'appel d'offres",
                "position": [
                  0,
                  0
                ],
                "properties": {
                  "id": "commission d'appel d'offres",
                  "label": "Organization:__Entity__"
                },
                "scale_factor": 1,
                "size": [
                  55,
                  55
                ],
                "styles": {},
                "type": "#607D8B"
              },
              {
                "color": "#F44336",
                "id": 787,
                "label": "Le président",
                "position": [
                  0,
                  0
                ],
                "properties": {
                  "id": "Le président",
                  "label": "__Entity__:Person"
                },
                "scale_factor": 1,
                "size": [
                  55,
                  55
                ],
                "styles": {},
                "type": "#F44336"
              },
              {
                "color": "#4CAF50",
                "id": 810,
                "label": "liste des offres des concurrents admis, déposées ou reçues",
                "position": [
                  0,
                  0
                ],
                "properties": {
                  "id": "liste des offres des concurrents admis, déposées ou reçues",
                  "label": "__Entity__:List"
                },
                "scale_factor": 1,
                "size": [
                  55,
                  55
                ],
                "styles": {},
                "type": "#4CAF50"
              },
              {
                "color": "#F44336",
                "id": 788,
                "label": "les références",
                "position": [
                  0,
                  0
                ],
                "properties": {
                  "id": "les références",
                  "label": "__Entity__:Information"
                },
                "scale_factor": 1,
                "size": [
                  55,
                  55
                ],
                "styles": {},
                "type": "#F44336"
              },
              {
                "color": "#2196F3",
                "id": 880,
                "label": "des concurrents admis",
                "position": [
                  0,
                  0
                ],
                "properties": {
                  "id": "des concurrents admis",
                  "label": "Group:__Entity__"
                },
                "scale_factor": 1,
                "size": [
                  55,
                  55
                ],
                "styles": {},
                "type": "#2196F3"
              },
              {
                "color": "#F44336",
                "id": 1117,
                "label": "les enveloppes prévues à l'article 104 du présent décret",
                "position": [
                  0,
                  0
                ],
                "properties": {
                  "id": "les enveloppes prévues à l'article 104 du présent décret",
                  "label": "__Entity__:Document"
                },
                "scale_factor": 1,
                "size": [
                  55,
                  55
                ],
                "styles": {},
                "type": "#F44336"
              },
              {
                "color": "#4CAF50",
                "id": 1247,
                "label": "la liste des architectes",
                "position": [
                  0,
                  0
                ],
                "properties": {
                  "id": "la liste des architectes",
                  "label": "__Entity__:List"
                },
                "scale_factor": 1,
                "size": [
                  55,
                  55
                ],
                "styles": {},
                "type": "#4CAF50"
              },
              {
                "color": "#2196F3",
                "id": 1249,
                "label": "architectes écartés",
                "position": [
                  0,
                  0
                ],
                "properties": {
                  "id": "architectes écartés",
                  "label": "Group:__Entity__"
                },
                "scale_factor": 1,
                "size": [
                  55,
                  55
                ],
                "styles": {},
                "type": "#2196F3"
              },
              {
                "color": "#607D8B",
                "id": 800,
                "label": "Les dispositions",
                "position": [
                  0,
                  0
                ],
                "properties": {
                  "id": "Les dispositions",
                  "label": "Provision:__Entity__"
                },
                "scale_factor": 1,
                "size": [
                  55,
                  55
                ],
                "styles": {},
                "type": "#607D8B"
              },
              {
                "color": "#CDDC39",
                "id": 801,
                "label": "demandes d’éclaircissement et de renseignement",
                "position": [
                  0,
                  0
                ],
                "properties": {
                  "id": "demandes d’éclaircissement et de renseignement",
                  "label": "__Entity__:Request"
                },
                "scale_factor": 1,
                "size": [
                  55,
                  55
                ],
                "styles": {},
                "type": "#CDDC39"
              },
              {
                "color": "#CDDC39",
                "id": 803,
                "label": "Séance d'ouverture des plis",
                "position": [
                  0,
                  0
                ],
                "properties": {
                  "id": "Séance d'ouverture des plis",
                  "label": "Event:__Entity__"
                },
                "scale_factor": 1,
                "size": [
                  55,
                  55
                ],
                "styles": {},
                "type": "#CDDC39"
              },
              {
                "color": "#CDDC39",
                "id": 804,
                "label": "date de la séance d’ouverture des plis prévue",
                "position": [
                  0,
                  0
                ],
                "properties": {
                  "id": "date de la séance d’ouverture des plis prévue",
                  "label": "__Entity__:Date"
                },
                "scale_factor": 1,
                "size": [
                  55,
                  55
                ],
                "styles": {},
                "type": "#CDDC39"
              },
              {
                "color": "#CDDC39",
                "id": 815,
                "label": "Les membres de la commission",
                "position": [
                  0,
                  0
                ],
                "properties": {
                  "id": "Les membres de la commission",
                  "label": "Person/Group:__Entity__"
                },
                "scale_factor": 1,
                "size": [
                  55,
                  55
                ],
                "styles": {},
                "type": "#CDDC39"
              },
              {
                "color": "#F44336",
                "id": 814,
                "label": "enveloppes contenant les offres financières des concurrents",
                "position": [
                  0,
                  0
                ],
                "properties": {
                  "id": "enveloppes contenant les offres financières des concurrents",
                  "label": "__Entity__:Document"
                },
                "scale_factor": 1,
                "size": [
                  55,
                  55
                ],
                "styles": {},
                "type": "#F44336"
              },
              {
                "color": "#F44336",
                "id": 817,
                "label": "Les enveloppes",
                "position": [
                  0,
                  0
                ],
                "properties": {
                  "id": "Les enveloppes",
                  "label": "Package:__Entity__"
                },
                "scale_factor": 1,
                "size": [
                  55,
                  55
                ],
                "styles": {},
                "type": "#F44336"
              },
              {
                "color": "#9C27B0",
                "id": 822,
                "label": "projet",
                "position": [
                  0,
                  0
                ],
                "properties": {
                  "id": "projet",
                  "label": "__Entity__:Project"
                },
                "scale_factor": 1,
                "size": [
                  55,
                  55
                ],
                "styles": {},
                "type": "#9C27B0"
              },
              {
                "color": "#673AB7",
                "id": 1409,
                "label": "délégation de maîtrise d’ouvrage",
                "position": [
                  0,
                  0
                ],
                "properties": {
                  "id": "délégation de maîtrise d’ouvrage",
                  "label": "Contract:__Entity__"
                },
                "scale_factor": 1,
                "size": [
                  55,
                  55
                ],
                "styles": {},
                "type": "#673AB7"
              },
              {
                "color": "#F44336",
                "id": 1271,
                "label": "observations formulées par les membres du jury au cours des opérations d’examen des offres et",
                "position": [
                  0,
                  0
                ],
                "properties": {
                  "id": "observations formulées par les membres du jury au cours des opérations d’examen des offres et",
                  "label": "Statement:__Entity__"
                },
                "scale_factor": 1,
                "size": [
                  55,
                  55
                ],
                "styles": {},
                "type": "#F44336"
              },
              {
                "color": "#673AB7",
                "id": 1056,
                "label": "ratios de surfaces",
                "position": [
                  0,
                  0
                ],
                "properties": {
                  "id": "ratios de surfaces",
                  "label": "__Entity__:Measure"
                },
                "scale_factor": 1,
                "size": [
                  55,
                  55
                ],
                "styles": {},
                "type": "#673AB7"
              },
              {
                "color": "#CDDC39",
                "id": 821,
                "label": "conception et la réalisation du projet",
                "position": [
                  0,
                  0
                ],
                "properties": {
                  "id": "conception et la réalisation du projet",
                  "label": "__Entity__:Conceptualization and Realization Process"
                },
                "scale_factor": 1,
                "size": [
                  55,
                  55
                ],
                "styles": {},
                "type": "#CDDC39"
              },
              {
                "color": "#607D8B",
                "id": 825,
                "label": "Les prestations qui peuvent faire l'objet de concours",
                "position": [
                  0,
                  0
                ],
                "properties": {
                  "id": "Les prestations qui peuvent faire l'objet de concours",
                  "label": "__Entity__:Concept"
                },
                "scale_factor": 1,
                "size": [
                  55,
                  55
                ],
                "styles": {},
                "type": "#607D8B"
              },
              {
                "color": "#9E9E9E",
                "id": 824,
                "label": "l'aménagement du territoire national, de l'urbanisme ou de l'ingénierie",
                "position": [
                  0,
                  0
                ],
                "properties": {
                  "id": "l'aménagement du territoire national, de l'urbanisme ou de l'ingénierie",
                  "label": "Domain:__Entity__"
                },
                "scale_factor": 1,
                "size": [
                  55,
                  55
                ],
                "styles": {},
                "type": "#9E9E9E"
              },
              {
                "color": "#CDDC39",
                "id": 827,
                "label": "concours",
                "position": [
                  0,
                  0
                ],
                "properties": {
                  "id": "concours",
                  "label": "Event:__Entity__"
                },
                "scale_factor": 1,
                "size": [
                  55,
                  55
                ],
                "styles": {},
                "type": "#CDDC39"
              },
              {
                "color": "#607D8B",
                "id": 832,
                "label": "d'admission",
                "position": [
                  0,
                  0
                ],
                "properties": {
                  "id": "d'admission",
                  "label": "__Entity__:Concept"
                },
                "scale_factor": 1,
                "size": [
                  55,
                  55
                ],
                "styles": {},
                "type": "#607D8B"
              },
              {
                "color": "#607D8B",
                "id": 1182,
                "label": "aspects techniques, fonctionnels, esthétiques et financiers",
                "position": [
                  0,
                  0
                ],
                "properties": {
                  "id": "aspects techniques, fonctionnels, esthétiques et financiers",
                  "label": "__Entity__:Concept"
                },
                "scale_factor": 1,
                "size": [
                  55,
                  55
                ],
                "styles": {},
                "type": "#607D8B"
              },
              {
                "color": "#F44336",
                "id": 836,
                "label": "pièces justificatives prévues",
                "position": [
                  0,
                  0
                ],
                "properties": {
                  "id": "pièces justificatives prévues",
                  "label": "__Entity__:Document"
                },
                "scale_factor": 1,
                "size": [
                  55,
                  55
                ],
                "styles": {},
                "type": "#F44336"
              },
              {
                "color": "#F44336",
                "id": 862,
                "label": "lettre d'admission",
                "position": [
                  0,
                  0
                ],
                "properties": {
                  "id": "lettre d'admission",
                  "label": "__Entity__:Document"
                },
                "scale_factor": 1,
                "size": [
                  55,
                  55
                ],
                "styles": {},
                "type": "#F44336"
              },
              {
                "color": "#9C27B0",
                "id": 828,
                "label": "l’objectif recherché par le concours",
                "position": [
                  0,
                  0
                ],
                "properties": {
                  "id": "l’objectif recherché par le concours",
                  "label": "Objective:__Entity__"
                },
                "scale_factor": 1,
                "size": [
                  55,
                  55
                ],
                "styles": {},
                "type": "#9C27B0"
              },
              {
                "color": "#2196F3",
                "id": 934,
                "label": "article 48 du présent décret",
                "position": [
                  0,
                  0
                ],
                "properties": {
                  "id": "article 48 du présent décret",
                  "label": "Regulation:__Entity__"
                },
                "scale_factor": 1,
                "size": [
                  55,
                  55
                ],
                "styles": {},
                "type": "#2196F3"
              },
              {
                "color": "#CDDC39",
                "id": 838,
                "label": "Concours",
                "position": [
                  0,
                  0
                ],
                "properties": {
                  "id": "Concours",
                  "label": "Event:__Entity__"
                },
                "scale_factor": 1,
                "size": [
                  55,
                  55
                ],
                "styles": {},
                "type": "#CDDC39"
              },
              {
                "color": "#607D8B",
                "id": 840,
                "label": "critères",
                "position": [
                  0,
                  0
                ],
                "properties": {
                  "id": "critères",
                  "label": "__Entity__:Concept"
                },
                "scale_factor": 1,
                "size": [
                  55,
                  55
                ],
                "styles": {},
                "type": "#607D8B"
              },
              {
                "color": "#2196F3",
                "id": 843,
                "label": "qualités esthétiques et fonctionnelles",
                "position": [
                  0,
                  0
                ],
                "properties": {
                  "id": "qualités esthétiques et fonctionnelles",
                  "label": "Qualities:__Entity__"
                },
                "scale_factor": 1,
                "size": [
                  55,
                  55
                ],
                "styles": {},
                "type": "#2196F3"
              },
              {
                "color": "#4CAF50",
                "id": 842,
                "label": "performances liées à la protection de l’environnement et au développement durable",
                "position": [
                  0,
                  0
                ],
                "properties": {
                  "id": "performances liées à la protection de l’environnement et au développement durable",
                  "label": "Performances:__Entity__"
                },
                "scale_factor": 1,
                "size": [
                  55,
                  55
                ],
                "styles": {},
                "type": "#4CAF50"
              },
              {
                "color": "#9C27B0",
                "id": 845,
                "label": "pas",
                "position": [
                  0,
                  0
                ],
                "properties": {
                  "id": "pas",
                  "label": "Product:__Entity__"
                },
                "scale_factor": 1,
                "size": [
                  55,
                  55
                ],
                "styles": {},
                "type": "#9C27B0"
              },
              {
                "color": "#F44336",
                "id": 846,
                "label": "Maroc",
                "position": [
                  0,
                  0
                ],
                "properties": {
                  "id": "Maroc",
                  "label": "__Entity__:Country"
                },
                "scale_factor": 1,
                "size": [
                  55,
                  55
                ],
                "styles": {},
                "type": "#F44336"
              },
              {
                "color": "#9C27B0",
                "id": 853,
                "label": "Les pièces à produire",
                "position": [
                  0,
                  0
                ],
                "properties": {
                  "id": "Les pièces à produire",
                  "label": "Product:__Entity__"
                },
                "scale_factor": 1,
                "size": [
                  55,
                  55
                ],
                "styles": {},
                "type": "#9C27B0"
              },
              {
                "color": "#607D8B",
                "id": 852,
                "label": "celles prévues au paragraphe II) de l'article 53",
                "position": [
                  0,
                  0
                ],
                "properties": {
                  "id": "celles prévues au paragraphe II) de l'article 53",
                  "label": "Specification:__Entity__"
                },
                "scale_factor": 1,
                "size": [
                  55,
                  55
                ],
                "styles": {},
                "type": "#607D8B"
              },
              {
                "color": "#9E9E9E",
                "id": 855,
                "label": "ART",
                "position": [
                  0,
                  0
                ],
                "properties": {
                  "id": "ART",
                  "label": "__Entity__:Article"
                },
                "scale_factor": 1,
                "size": [
                  55,
                  55
                ],
                "styles": {},
                "type": "#9E9E9E"
              },
              {
                "color": "#9E9E9E",
                "id": 856,
                "label": "article 54",
                "position": [
                  0,
                  0
                ],
                "properties": {
                  "id": "article 54",
                  "label": "__Entity__:Article"
                },
                "scale_factor": 1,
                "size": [
                  55,
                  55
                ],
                "styles": {},
                "type": "#9E9E9E"
              },
              {
                "color": "#F44336",
                "id": 859,
                "label": "Cette lettre",
                "position": [
                  0,
                  0
                ],
                "properties": {
                  "id": "Cette lettre",
                  "label": "__Entity__:Document"
                },
                "scale_factor": 1,
                "size": [
                  55,
                  55
                ],
                "styles": {},
                "type": "#F44336"
              },
              {
                "color": "#607D8B",
                "id": 860,
                "label": "motifs d’éviction",
                "position": [
                  0,
                  0
                ],
                "properties": {
                  "id": "motifs d’éviction",
                  "label": "__Entity__:Concept"
                },
                "scale_factor": 1,
                "size": [
                  55,
                  55
                ],
                "styles": {},
                "type": "#607D8B"
              },
              {
                "color": "#9E9E9E",
                "id": 865,
                "label": "Le report de la date de la séance d’ouverture des plis",
                "position": [
                  0,
                  0
                ],
                "properties": {
                  "id": "Le report de la date de la séance d’ouverture des plis",
                  "label": "Procedure:__Entity__"
                },
                "scale_factor": 1,
                "size": [
                  55,
                  55
                ],
                "styles": {},
                "type": "#9E9E9E"
              },
              {
                "color": "#F44336",
                "id": 864,
                "label": "Documents et informations à fournir aux concurrents admis",
                "position": [
                  0,
                  0
                ],
                "properties": {
                  "id": "Documents et informations à fournir aux concurrents admis",
                  "label": "__Entity__:Document"
                },
                "scale_factor": 1,
                "size": [
                  55,
                  55
                ],
                "styles": {},
                "type": "#F44336"
              },
              {
                "color": "#F44336",
                "id": 867,
                "label": "le modèle de l'acte d'engagement",
                "position": [
                  0,
                  0
                ],
                "properties": {
                  "id": "le modèle de l'acte d'engagement",
                  "label": "__Entity__:Document"
                },
                "scale_factor": 1,
                "size": [
                  55,
                  55
                ],
                "styles": {},
                "type": "#F44336"
              },
              {
                "color": "#607D8B",
                "id": 868,
                "label": "acte d'engagement",
                "position": [
                  0,
                  0
                ],
                "properties": {
                  "id": "acte d'engagement",
                  "label": "__Entity__:Concept"
                },
                "scale_factor": 1,
                "size": [
                  55,
                  55
                ],
                "styles": {},
                "type": "#607D8B"
              },
              {
                "color": "#CDDC39",
                "id": 870,
                "label": "Les concurrents admis",
                "position": [
                  0,
                  0
                ],
                "properties": {
                  "id": "Les concurrents admis",
                  "label": "Person/Group:__Entity__"
                },
                "scale_factor": 1,
                "size": [
                  55,
                  55
                ],
                "styles": {},
                "type": "#CDDC39"
              },
              {
                "color": "#CDDC39",
                "id": 871,
                "label": "les projets et les pièces exigés par la lettre d’admission prévue à l’article 76 du présent décret",
                "position": [
                  0,
                  0
                ],
                "properties": {
                  "id": "les projets et les pièces exigés par la lettre d’admission prévue à l’article 76 du présent décret",
                  "label": "__Entity__:Documents"
                },
                "scale_factor": 1,
                "size": [
                  55,
                  55
                ],
                "styles": {},
                "type": "#CDDC39"
              },
              {
                "color": "#F44336",
                "id": 873,
                "label": "manquantes sous enveloppe fermée portant la mention « pièces manquantes »",
                "position": [
                  0,
                  0
                ],
                "properties": {
                  "id": "manquantes sous enveloppe fermée portant la mention « pièces manquantes »",
                  "label": "__Entity__:Document"
                },
                "scale_factor": 1,
                "size": [
                  55,
                  55
                ],
                "styles": {},
                "type": "#F44336"
              },
              {
                "color": "#CDDC39",
                "id": 876,
                "label": "la séance d'ouverture des plis",
                "position": [
                  0,
                  0
                ],
                "properties": {
                  "id": "la séance d'ouverture des plis",
                  "label": "Event:__Entity__"
                },
                "scale_factor": 1,
                "size": [
                  55,
                  55
                ],
                "styles": {},
                "type": "#CDDC39"
              },
              {
                "color": "#CDDC39",
                "id": 875,
                "label": "les plis reçus à cheval sur les rabats et sur les parties sur lesquelles ils s’appliquent",
                "position": [
                  0,
                  0
                ],
                "properties": {
                  "id": "les plis reçus à cheval sur les rabats et sur les parties sur lesquelles ils s’appliquent",
                  "label": "__Entity__:Documents"
                },
                "scale_factor": 1,
                "size": [
                  55,
                  55
                ],
                "styles": {},
                "type": "#CDDC39"
              },
              {
                "color": "#F44336",
                "id": 885,
                "label": "expert",
                "position": [
                  0,
                  0
                ],
                "properties": {
                  "id": "expert",
                  "label": "__Entity__:Person"
                },
                "scale_factor": 1,
                "size": [
                  55,
                  55
                ],
                "styles": {},
                "type": "#F44336"
              },
              {
                "color": "#9C27B0",
                "id": 884,
                "label": "project",
                "position": [
                  0,
                  0
                ],
                "properties": {
                  "id": "project",
                  "label": "__Entity__:Project"
                },
                "scale_factor": 1,
                "size": [
                  55,
                  55
                ],
                "styles": {},
                "type": "#9C27B0"
              },
              {
                "color": "#607D8B",
                "id": 888,
                "label": "jury de concours",
                "position": [
                  0,
                  0
                ],
                "properties": {
                  "id": "jury de concours",
                  "label": "Organization:__Entity__"
                },
                "scale_factor": 1,
                "size": [
                  55,
                  55
                ],
                "styles": {},
                "type": "#607D8B"
              },
              {
                "color": "#607D8B",
                "id": 887,
                "label": "expert et/ou un technicien",
                "position": [
                  0,
                  0
                ],
                "properties": {
                  "id": "expert et/ou un technicien",
                  "label": "__Entity__:Personnel"
                },
                "scale_factor": 1,
                "size": [
                  55,
                  55
                ],
                "styles": {},
                "type": "#607D8B"
              },
              {
                "color": "#607D8B",
                "id": 891,
                "label": "appréciations",
                "position": [
                  0,
                  0
                ],
                "properties": {
                  "id": "appréciations",
                  "label": "__Entity__:Concept"
                },
                "scale_factor": 1,
                "size": [
                  55,
                  55
                ],
                "styles": {},
                "type": "#607D8B"
              },
              {
                "color": "#9C27B0",
                "id": 890,
                "label": "discriminatoires, vérifiables et dûment motivées",
                "position": [
                  0,
                  0
                ],
                "properties": {
                  "id": "discriminatoires, vérifiables et dûment motivées",
                  "label": "__Entity__:Description"
                },
                "scale_factor": 1,
                "size": [
                  55,
                  55
                ],
                "styles": {},
                "type": "#9C27B0"
              },
              {
                "color": "#CDDC39",
                "id": 1145,
                "label": "day and time fixed",
                "position": [
                  0,
                  0
                ],
                "properties": {
                  "id": "day and time fixed",
                  "label": "Event:__Entity__"
                },
                "scale_factor": 1,
                "size": [
                  55,
                  55
                ],
                "styles": {},
                "type": "#CDDC39"
              },
              {
                "color": "#607D8B",
                "id": 901,
                "label": "offers",
                "position": [
                  0,
                  0
                ],
                "properties": {
                  "id": "offers",
                  "label": "__Entity__:Concept"
                },
                "scale_factor": 1,
                "size": [
                  55,
                  55
                ],
                "styles": {},
                "type": "#607D8B"
              },
              {
                "color": "#CDDC39",
                "id": 903,
                "label": "evaluation",
                "position": [
                  0,
                  0
                ],
                "properties": {
                  "id": "evaluation",
                  "label": "Event:__Entity__"
                },
                "scale_factor": 1,
                "size": [
                  55,
                  55
                ],
                "styles": {},
                "type": "#CDDC39"
              },
              {
                "color": "#673AB7",
                "id": 1260,
                "label": "architects",
                "position": [
                  0,
                  0
                ],
                "properties": {
                  "id": "architects",
                  "label": "Group:__Entity__:Profession"
                },
                "scale_factor": 1,
                "size": [
                  55,
                  55
                ],
                "styles": {},
                "type": "#673AB7"
              },
              {
                "color": "#2196F3",
                "id": 1143,
                "label": "seven days",
                "position": [
                  0,
                  0
                ],
                "properties": {
                  "id": "seven days",
                  "label": "Timeframe:__Entity__"
                },
                "scale_factor": 1,
                "size": [
                  55,
                  55
                ],
                "styles": {},
                "type": "#2196F3"
              },
              {
                "color": "#2196F3",
                "id": 1147,
                "label": "support having served as invitation of architect",
                "position": [
                  0,
                  0
                ],
                "properties": {
                  "id": "support having served as invitation of architect",
                  "label": "__Entity__:Object"
                },
                "scale_factor": 1,
                "size": [
                  55,
                  55
                ],
                "styles": {},
                "type": "#2196F3"
              },
              {
                "color": "#CDDC39",
                "id": 1161,
                "label": "consultation architecturale infructueuse",
                "position": [
                  0,
                  0
                ],
                "properties": {
                  "id": "consultation architecturale infructueuse",
                  "label": "Event:__Entity__"
                },
                "scale_factor": 1,
                "size": [
                  55,
                  55
                ],
                "styles": {},
                "type": "#CDDC39"
              },
              {
                "color": "#9E9E9E",
                "id": 896,
                "label": "procédés",
                "position": [
                  0,
                  0
                ],
                "properties": {
                  "id": "procédés",
                  "label": "Procedure:__Entity__"
                },
                "scale_factor": 1,
                "size": [
                  55,
                  55
                ],
                "styles": {},
                "type": "#9E9E9E"
              },
              {
                "color": "#607D8B",
                "id": 898,
                "label": "Le jury",
                "position": [
                  0,
                  0
                ],
                "properties": {
                  "id": "Le jury",
                  "label": "Organization:__Entity__"
                },
                "scale_factor": 1,
                "size": [
                  55,
                  55
                ],
                "styles": {},
                "type": "#607D8B"
              },
              {
                "color": "#607D8B",
                "id": 899,
                "label": "le coût de réalisation",
                "position": [
                  0,
                  0
                ],
                "properties": {
                  "id": "le coût de réalisation",
                  "label": "__Entity__:Concept"
                },
                "scale_factor": 1,
                "size": [
                  55,
                  55
                ],
                "styles": {},
                "type": "#607D8B"
              },
              {
                "color": "#F44336",
                "id": 1255,
                "label": "actes d'engagement",
                "position": [
                  0,
                  0
                ],
                "properties": {
                  "id": "actes d'engagement",
                  "label": "__Entity__:Document"
                },
                "scale_factor": 1,
                "size": [
                  55,
                  55
                ],
                "styles": {},
                "type": "#F44336"
              },
              {
                "color": "#CDDC39",
                "id": 909,
                "label": "projets des concurrents",
                "position": [
                  0,
                  0
                ],
                "properties": {
                  "id": "projets des concurrents",
                  "label": "Projects:__Entity__"
                },
                "scale_factor": 1,
                "size": [
                  55,
                  55
                ],
                "styles": {},
                "type": "#CDDC39"
              },
              {
                "color": "#CDDC39",
                "id": 907,
                "label": "à la pondération",
                "position": [
                  0,
                  0
                ],
                "properties": {
                  "id": "à la pondération",
                  "label": "Method:__Entity__"
                },
                "scale_factor": 1,
                "size": [
                  55,
                  55
                ],
                "styles": {},
                "type": "#CDDC39"
              },
              {
                "color": "#607D8B",
                "id": 906,
                "label": "notes obtenues par chaque concurrent",
                "position": [
                  0,
                  0
                ],
                "properties": {
                  "id": "notes obtenues par chaque concurrent",
                  "label": "Score:__Entity__"
                },
                "scale_factor": 1,
                "size": [
                  55,
                  55
                ],
                "styles": {},
                "type": "#607D8B"
              },
              {
                "color": "#F44336",
                "id": 914,
                "label": "Le président du jury",
                "position": [
                  0,
                  0
                ],
                "properties": {
                  "id": "Le président du jury",
                  "label": "__Entity__:Person"
                },
                "scale_factor": 1,
                "size": [
                  55,
                  55
                ],
                "styles": {},
                "type": "#F44336"
              },
              {
                "color": "#CDDC39",
                "id": 915,
                "label": "la séance d’évaluation et  de classement des projets",
                "position": [
                  0,
                  0
                ],
                "properties": {
                  "id": "la séance d’évaluation et  de classement des projets",
                  "label": "Event:__Entity__"
                },
                "scale_factor": 1,
                "size": [
                  55,
                  55
                ],
                "styles": {},
                "type": "#CDDC39"
              },
              {
                "color": "#F44336",
                "id": 917,
                "label": "le président du jury",
                "position": [
                  0,
                  0
                ],
                "properties": {
                  "id": "le président du jury",
                  "label": "__Entity__:Person"
                },
                "scale_factor": 1,
                "size": [
                  55,
                  55
                ],
                "styles": {},
                "type": "#F44336"
              },
              {
                "color": "#F44336",
                "id": 919,
                "label": "ne régularise pas",
                "position": [
                  0,
                  0
                ],
                "properties": {
                  "id": "ne régularise pas",
                  "label": "__Entity__:Person"
                },
                "scale_factor": 1,
                "size": [
                  55,
                  55
                ],
                "styles": {},
                "type": "#F44336"
              },
              {
                "color": "#607D8B",
                "id": 920,
                "label": "discordances",
                "position": [
                  0,
                  0
                ],
                "properties": {
                  "id": "discordances",
                  "label": "__Entity__:Concept"
                },
                "scale_factor": 1,
                "size": [
                  55,
                  55
                ],
                "styles": {},
                "type": "#607D8B"
              },
              {
                "color": "#4CAF50",
                "id": 922,
                "label": "liste définitive",
                "position": [
                  0,
                  0
                ],
                "properties": {
                  "id": "liste définitive",
                  "label": "__Entity__:List"
                },
                "scale_factor": 1,
                "size": [
                  55,
                  55
                ],
                "styles": {},
                "type": "#4CAF50"
              },
              {
                "color": "#607D8B",
                "id": 942,
                "label": "recours à la procédure négociée",
                "position": [
                  0,
                  0
                ],
                "properties": {
                  "id": "recours à la procédure négociée",
                  "label": "Action:__Entity__"
                },
                "scale_factor": 1,
                "size": [
                  55,
                  55
                ],
                "styles": {},
                "type": "#607D8B"
              },
              {
                "color": "#F44336",
                "id": 928,
                "label": "procès–verbal",
                "position": [
                  0,
                  0
                ],
                "properties": {
                  "id": "procès–verbal",
                  "label": "__Entity__:Document"
                },
                "scale_factor": 1,
                "size": [
                  55,
                  55
                ],
                "styles": {},
                "type": "#F44336"
              },
              {
                "color": "#2196F3",
                "id": 929,
                "label": "président et les membres du jury",
                "position": [
                  0,
                  0
                ],
                "properties": {
                  "id": "président et les membres du jury",
                  "label": "Group:__Entity__"
                },
                "scale_factor": 1,
                "size": [
                  55,
                  55
                ],
                "styles": {},
                "type": "#2196F3"
              },
              {
                "color": "#9E9E9E",
                "id": 931,
                "label": "les vingt-quatre heures",
                "position": [
                  0,
                  0
                ],
                "properties": {
                  "id": "les vingt-quatre heures",
                  "label": "Time Period:__Entity__"
                },
                "scale_factor": 1,
                "size": [
                  55,
                  55
                ],
                "styles": {},
                "type": "#9E9E9E"
              },
              {
                "color": "#9E9E9E",
                "id": 932,
                "label": "quinze jours",
                "position": [
                  0,
                  0
                ],
                "properties": {
                  "id": "quinze jours",
                  "label": "Duration:__Entity__"
                },
                "scale_factor": 1,
                "size": [
                  55,
                  55
                ],
                "styles": {},
                "type": "#9E9E9E"
              },
              {
                "color": "#607D8B",
                "id": 936,
                "label": "commission de négociation",
                "position": [
                  0,
                  0
                ],
                "properties": {
                  "id": "commission de négociation",
                  "label": "Organization:__Entity__"
                },
                "scale_factor": 1,
                "size": [
                  55,
                  55
                ],
                "styles": {},
                "type": "#607D8B"
              },
              {
                "color": "#9E9E9E",
                "id": 945,
                "label": "Procédure négociée",
                "position": [
                  0,
                  0
                ],
                "properties": {
                  "id": "Procédure négociée",
                  "label": "Procedure:__Entity__"
                },
                "scale_factor": 1,
                "size": [
                  55,
                  55
                ],
                "styles": {},
                "type": "#9E9E9E"
              },
              {
                "color": "#607D8B",
                "id": 946,
                "label": "publicité préalable et mise en concurrence",
                "position": [
                  0,
                  0
                ],
                "properties": {
                  "id": "publicité préalable et mise en concurrence",
                  "label": "__Entity__:Concept"
                },
                "scale_factor": 1,
                "size": [
                  55,
                  55
                ],
                "styles": {},
                "type": "#607D8B"
              },
              {
                "color": "#4CAF50",
                "id": 949,
                "label": "l'objet du marché",
                "position": [
                  0,
                  0
                ],
                "properties": {
                  "id": "l'objet du marché",
                  "label": "Market:__Entity__"
                },
                "scale_factor": 1,
                "size": [
                  55,
                  55
                ],
                "styles": {},
                "type": "#4CAF50"
              },
              {
                "color": "#9C27B0",
                "id": 948,
                "label": "le maître d'ouvrage",
                "position": [
                  0,
                  0
                ],
                "properties": {
                  "id": "le maître d'ouvrage",
                  "label": "Organization:Client:__Entity__:Person"
                },
                "scale_factor": 1,
                "size": [
                  55,
                  55
                ],
                "styles": {},
                "type": "#9C27B0"
              },
              {
                "color": "#CDDC39",
                "id": 951,
                "label": "date limite de dépôt des candidatures",
                "position": [
                  0,
                  0
                ],
                "properties": {
                  "id": "date limite de dépôt des candidatures",
                  "label": "Event:__Entity__"
                },
                "scale_factor": 1,
                "size": [
                  55,
                  55
                ],
                "styles": {},
                "type": "#CDDC39"
              },
              {
                "color": "#2196F3",
                "id": 952,
                "label": "dix jours",
                "position": [
                  0,
                  0
                ],
                "properties": {
                  "id": "dix jours",
                  "label": "Timeframe:__Entity__"
                },
                "scale_factor": 1,
                "size": [
                  55,
                  55
                ],
                "styles": {},
                "type": "#2196F3"
              },
              {
                "color": "#2196F3",
                "id": 955,
                "label": "le modèle",
                "position": [
                  0,
                  0
                ],
                "properties": {
                  "id": "le modèle",
                  "label": "Model:__Entity__"
                },
                "scale_factor": 1,
                "size": [
                  55,
                  55
                ],
                "styles": {},
                "type": "#2196F3"
              },
              {
                "color": "#F44336",
                "id": 954,
                "label": "bordereau des prix pour approvisionnements",
                "position": [
                  0,
                  0
                ],
                "properties": {
                  "id": "bordereau des prix pour approvisionnements",
                  "label": "__Entity__:Document"
                },
                "scale_factor": 1,
                "size": [
                  55,
                  55
                ],
                "styles": {},
                "type": "#F44336"
              },
              {
                "color": "#F44336",
                "id": 958,
                "label": "Le dossier de candidature",
                "position": [
                  0,
                  0
                ],
                "properties": {
                  "id": "Le dossier de candidature",
                  "label": "__Entity__:Document"
                },
                "scale_factor": 1,
                "size": [
                  55,
                  55
                ],
                "styles": {},
                "type": "#F44336"
              },
              {
                "color": "#CDDC39",
                "id": 961,
                "label": "Les négociations",
                "position": [
                  0,
                  0
                ],
                "properties": {
                  "id": "Les négociations",
                  "label": "Event:__Entity__"
                },
                "scale_factor": 1,
                "size": [
                  55,
                  55
                ],
                "styles": {},
                "type": "#CDDC39"
              },
              {
                "color": "#2196F3",
                "id": 960,
                "label": "le président et les membres de la commission de négociation",
                "position": [
                  0,
                  0
                ],
                "properties": {
                  "id": "le président et les membres de la commission de négociation",
                  "label": "Group:__Entity__"
                },
                "scale_factor": 1,
                "size": [
                  55,
                  55
                ],
                "styles": {},
                "type": "#2196F3"
              },
              {
                "color": "#673AB7",
                "id": 964,
                "label": "marché négocié",
                "position": [
                  0,
                  0
                ],
                "properties": {
                  "id": "marché négocié",
                  "label": "Contract:__Entity__"
                },
                "scale_factor": 1,
                "size": [
                  55,
                  55
                ],
                "styles": {},
                "type": "#673AB7"
              },
              {
                "color": "#4CAF50",
                "id": 963,
                "label": "cas prévu aux paragraphes I) et II)",
                "position": [
                  0,
                  0
                ],
                "properties": {
                  "id": "cas prévu aux paragraphes I) et II)",
                  "label": "Legal Provision:__Entity__"
                },
                "scale_factor": 1,
                "size": [
                  55,
                  55
                ],
                "styles": {},
                "type": "#4CAF50"
              },
              {
                "color": "#607D8B",
                "id": 969,
                "label": "Les objets dont la fabrication est exclusivement réservée à des porteurs de brevets d’invention",
                "position": [
                  0,
                  0
                ],
                "properties": {
                  "id": "Les objets dont la fabrication est exclusivement réservée à des porteurs de brevets d’invention",
                  "label": "__Entity__:Concept"
                },
                "scale_factor": 1,
                "size": [
                  55,
                  55
                ],
                "styles": {},
                "type": "#607D8B"
              },
              {
                "color": "#607D8B",
                "id": 970,
                "label": "Brevets d'invention",
                "position": [
                  0,
                  0
                ],
                "properties": {
                  "id": "Brevets d'invention",
                  "label": "__Entity__:Concept"
                },
                "scale_factor": 1,
                "size": [
                  55,
                  55
                ],
                "styles": {},
                "type": "#607D8B"
              },
              {
                "color": "#607D8B",
                "id": 972,
                "label": "commencer",
                "position": [
                  0,
                  0
                ],
                "properties": {
                  "id": "commencer",
                  "label": "__Entity__:Concept"
                },
                "scale_factor": 1,
                "size": [
                  55,
                  55
                ],
                "styles": {},
                "type": "#607D8B"
              },
              {
                "color": "#4CAF50",
                "id": 973,
                "label": "conditions du marché",
                "position": [
                  0,
                  0
                ],
                "properties": {
                  "id": "conditions du marché",
                  "label": "Market:__Entity__"
                },
                "scale_factor": 1,
                "size": [
                  55,
                  55
                ],
                "styles": {},
                "type": "#4CAF50"
              },
              {
                "color": "#607D8B",
                "id": 975,
                "label": "Les prestations",
                "position": [
                  0,
                  0
                ],
                "properties": {
                  "id": "Les prestations",
                  "label": "Service:__Entity__"
                },
                "scale_factor": 1,
                "size": [
                  55,
                  55
                ],
                "styles": {},
                "type": "#607D8B"
              },
              {
                "color": "#CDDC39",
                "id": 976,
                "label": "l'organisation de cérémonies ou visites officielles",
                "position": [
                  0,
                  0
                ],
                "properties": {
                  "id": "l'organisation de cérémonies ou visites officielles",
                  "label": "Event:__Entity__"
                },
                "scale_factor": 1,
                "size": [
                  55,
                  55
                ],
                "styles": {},
                "type": "#CDDC39"
              },
              {
                "color": "#F44336",
                "id": 980,
                "label": "personne habilitée",
                "position": [
                  0,
                  0
                ],
                "properties": {
                  "id": "personne habilitée",
                  "label": "__Entity__:Person"
                },
                "scale_factor": 1,
                "size": [
                  55,
                  55
                ],
                "styles": {},
                "type": "#F44336"
              },
              {
                "color": "#607D8B",
                "id": 981,
                "label": "établir un certificat administratif",
                "position": [
                  0,
                  0
                ],
                "properties": {
                  "id": "établir un certificat administratif",
                  "label": "Action:__Entity__"
                },
                "scale_factor": 1,
                "size": [
                  55,
                  55
                ],
                "styles": {},
                "type": "#607D8B"
              },
              {
                "color": "#F44336",
                "id": 994,
                "label": "paragraphe 4",
                "position": [
                  0,
                  0
                ],
                "properties": {
                  "id": "paragraphe 4",
                  "label": "Paragraph:__Entity__"
                },
                "scale_factor": 1,
                "size": [
                  55,
                  55
                ],
                "styles": {},
                "type": "#F44336"
              },
              {
                "color": "#9E9E9E",
                "id": 993,
                "label": "article 14",
                "position": [
                  0,
                  0
                ],
                "properties": {
                  "id": "article 14",
                  "label": "__Entity__:Article"
                },
                "scale_factor": 1,
                "size": [
                  55,
                  55
                ],
                "styles": {},
                "type": "#9E9E9E"
              },
              {
                "color": "#F44336",
                "id": 996,
                "label": "l'architecte",
                "position": [
                  0,
                  0
                ],
                "properties": {
                  "id": "l'architecte",
                  "label": "__Entity__:Person"
                },
                "scale_factor": 1,
                "size": [
                  55,
                  55
                ],
                "styles": {},
                "type": "#F44336"
              },
              {
                "color": "#607D8B",
                "id": 997,
                "label": "l'organisme dont relève le maître d'ouvrage",
                "position": [
                  0,
                  0
                ],
                "properties": {
                  "id": "l'organisme dont relève le maître d'ouvrage",
                  "label": "Organization:__Entity__"
                },
                "scale_factor": 1,
                "size": [
                  55,
                  55
                ],
                "styles": {},
                "type": "#607D8B"
              },
              {
                "color": "#607D8B",
                "id": 1139,
                "label": "la meilleure note de la proposition technique",
                "position": [
                  0,
                  0
                ],
                "properties": {
                  "id": "la meilleure note de la proposition technique",
                  "label": "__Entity__:Grade"
                },
                "scale_factor": 1,
                "size": [
                  55,
                  55
                ],
                "styles": {},
                "type": "#607D8B"
              },
              {
                "color": "#F44336",
                "id": 1141,
                "label": "l'architecte concurrent",
                "position": [
                  0,
                  0
                ],
                "properties": {
                  "id": "l'architecte concurrent",
                  "label": "__Entity__:Person"
                },
                "scale_factor": 1,
                "size": [
                  55,
                  55
                ],
                "styles": {},
                "type": "#F44336"
              },
              {
                "color": "#9C27B0",
                "id": 1000,
                "label": "travaux réellement exécutés",
                "position": [
                  0,
                  0
                ],
                "properties": {
                  "id": "travaux réellement exécutés",
                  "label": "__Entity__:Project"
                },
                "scale_factor": 1,
                "size": [
                  55,
                  55
                ],
                "styles": {},
                "type": "#9C27B0"
              },
              {
                "color": "#673AB7",
                "id": 999,
                "label": "montant hors taxes des travaux visé ci–dessus",
                "position": [
                  0,
                  0
                ],
                "properties": {
                  "id": "montant hors taxes des travaux visé ci–dessus",
                  "label": "FinancialAmount:__Entity__"
                },
                "scale_factor": 1,
                "size": [
                  55,
                  55
                ],
                "styles": {},
                "type": "#673AB7"
              },
              {
                "color": "#F44336",
                "id": 1002,
                "label": "consultation architecturale ouverte",
                "position": [
                  0,
                  0
                ],
                "properties": {
                  "id": "consultation architecturale ouverte",
                  "label": "Process:__Entity__:Concept"
                },
                "scale_factor": 1,
                "size": [
                  55,
                  55
                ],
                "styles": {},
                "type": "#F44336"
              },
              {
                "color": "#9C27B0",
                "id": 1484,
                "label": "projets",
                "position": [
                  0,
                  0
                ],
                "properties": {
                  "id": "projets",
                  "label": "__Entity__:Project"
                },
                "scale_factor": 1,
                "size": [
                  55,
                  55
                ],
                "styles": {},
                "type": "#9C27B0"
              },
              {
                "color": "#F44336",
                "id": 1128,
                "label": "propositions techniques",
                "position": [
                  0,
                  0
                ],
                "properties": {
                  "id": "propositions techniques",
                  "label": "__Entity__:Document"
                },
                "scale_factor": 1,
                "size": [
                  55,
                  55
                ],
                "styles": {},
                "type": "#F44336"
              },
              {
                "color": "#F44336",
                "id": 1050,
                "label": "capacités juridiques",
                "position": [
                  0,
                  0
                ],
                "properties": {
                  "id": "capacités juridiques",
                  "label": "Characteristic:__Entity__"
                },
                "scale_factor": 1,
                "size": [
                  55,
                  55
                ],
                "styles": {},
                "type": "#F44336"
              },
              {
                "color": "#673AB7",
                "id": 1297,
                "label": "three",
                "position": [
                  0,
                  0
                ],
                "properties": {
                  "id": "three",
                  "label": "Number:__Entity__"
                },
                "scale_factor": 1,
                "size": [
                  55,
                  55
                ],
                "styles": {},
                "type": "#673AB7"
              },
              {
                "color": "#F44336",
                "id": 1008,
                "label": "avantageuse",
                "position": [
                  0,
                  0
                ],
                "properties": {
                  "id": "avantageuse",
                  "label": "__Entity__:Person"
                },
                "scale_factor": 1,
                "size": [
                  55,
                  55
                ],
                "styles": {},
                "type": "#F44336"
              },
              {
                "color": "#2196F3",
                "id": 1007,
                "label": "jury de la consultation",
                "position": [
                  0,
                  0
                ],
                "properties": {
                  "id": "jury de la consultation",
                  "label": "Group:__Entity__"
                },
                "scale_factor": 1,
                "size": [
                  55,
                  55
                ],
                "styles": {},
                "type": "#2196F3"
              },
              {
                "color": "#CDDC39",
                "id": 1010,
                "label": "Le concours architectural",
                "position": [
                  0,
                  0
                ],
                "properties": {
                  "id": "Le concours architectural",
                  "label": "Event:__Entity__"
                },
                "scale_factor": 1,
                "size": [
                  55,
                  55
                ],
                "styles": {},
                "type": "#CDDC39"
              },
              {
                "color": "#9E9E9E",
                "id": 1016,
                "label": "consultation architecturale groupée",
                "position": [
                  0,
                  0
                ],
                "properties": {
                  "id": "consultation architecturale groupée",
                  "label": "Process:__Entity__"
                },
                "scale_factor": 1,
                "size": [
                  55,
                  55
                ],
                "styles": {},
                "type": "#9E9E9E"
              },
              {
                "color": "#673AB7",
                "id": 1015,
                "label": "sous-section I du présent chapitre",
                "position": [
                  0,
                  0
                ],
                "properties": {
                  "id": "sous-section I du présent chapitre",
                  "label": "Section:__Entity__"
                },
                "scale_factor": 1,
                "size": [
                  55,
                  55
                ],
                "styles": {},
                "type": "#673AB7"
              },
              {
                "color": "#CDDC39",
                "id": 1019,
                "label": "contexte d'intervention",
                "position": [
                  0,
                  0
                ],
                "properties": {
                  "id": "contexte d'intervention",
                  "label": "__Entity__:Context"
                },
                "scale_factor": 1,
                "size": [
                  55,
                  55
                ],
                "styles": {},
                "type": "#CDDC39"
              },
              {
                "color": "#2196F3",
                "id": 1020,
                "label": "dispositions législatives et réglementaires en matière d'urbanisme",
                "position": [
                  0,
                  0
                ],
                "properties": {
                  "id": "dispositions législatives et réglementaires en matière d'urbanisme",
                  "label": "Regulation:__Entity__"
                },
                "scale_factor": 1,
                "size": [
                  55,
                  55
                ],
                "styles": {},
                "type": "#2196F3"
              },
              {
                "color": "#2196F3",
                "id": 1024,
                "label": "Sous réserve des dispositions de l'article 134 du présent décret",
                "position": [
                  0,
                  0
                ],
                "properties": {
                  "id": "Sous réserve des dispositions de l'article 134 du présent décret",
                  "label": "Regulation:__Entity__"
                },
                "scale_factor": 1,
                "size": [
                  55,
                  55
                ],
                "styles": {},
                "type": "#2196F3"
              },
              {
                "color": "#9E9E9E",
                "id": 1027,
                "label": "budget prévisionnel maximum",
                "position": [
                  0,
                  0
                ],
                "properties": {
                  "id": "budget prévisionnel maximum",
                  "label": "Budget:__Entity__"
                },
                "scale_factor": 1,
                "size": [
                  55,
                  55
                ],
                "styles": {},
                "type": "#9E9E9E"
              },
              {
                "color": "#9C27B0",
                "id": 1026,
                "label": "travaux à réaliser",
                "position": [
                  0,
                  0
                ],
                "properties": {
                  "id": "travaux à réaliser",
                  "label": "__Entity__:Project"
                },
                "scale_factor": 1,
                "size": [
                  55,
                  55
                ],
                "styles": {},
                "type": "#9C27B0"
              },
              {
                "color": "#4CAF50",
                "id": 1038,
                "label": "lieu d'exécution des prestations, commune, province ou préfecture et région concernées",
                "position": [
                  0,
                  0
                ],
                "properties": {
                  "id": "lieu d'exécution des prestations, commune, province ou préfecture et région concernées",
                  "label": "Location:__Entity__"
                },
                "scale_factor": 1,
                "size": [
                  55,
                  55
                ],
                "styles": {},
                "type": "#4CAF50"
              },
              {
                "color": "#9E9E9E",
                "id": 1032,
                "label": "diffusion nationale",
                "position": [
                  0,
                  0
                ],
                "properties": {
                  "id": "diffusion nationale",
                  "label": "Process:__Entity__"
                },
                "scale_factor": 1,
                "size": [
                  55,
                  55
                ],
                "styles": {},
                "type": "#9E9E9E"
              },
              {
                "color": "#CDDC39",
                "id": 1035,
                "label": "publics",
                "position": [
                  0,
                  0
                ],
                "properties": {
                  "id": "publics",
                  "label": "Event:__Entity__"
                },
                "scale_factor": 1,
                "size": [
                  55,
                  55
                ],
                "styles": {},
                "type": "#CDDC39"
              },
              {
                "color": "#2196F3",
                "id": 1034,
                "label": "21 jours",
                "position": [
                  0,
                  0
                ],
                "properties": {
                  "id": "21 jours",
                  "label": "Time:__Entity__"
                },
                "scale_factor": 1,
                "size": [
                  55,
                  55
                ],
                "styles": {},
                "type": "#2196F3"
              },
              {
                "color": "#CDDC39",
                "id": 1043,
                "label": "retrait définitif",
                "position": [
                  0,
                  0
                ],
                "properties": {
                  "id": "retrait définitif",
                  "label": "Event:__Entity__"
                },
                "scale_factor": 1,
                "size": [
                  55,
                  55
                ],
                "styles": {},
                "type": "#CDDC39"
              },
              {
                "color": "#607D8B",
                "id": 1044,
                "label": "suspension de l'exercice de la profession",
                "position": [
                  0,
                  0
                ],
                "properties": {
                  "id": "suspension de l'exercice de la profession",
                  "label": "Action:__Entity__"
                },
                "scale_factor": 1,
                "size": [
                  55,
                  55
                ],
                "styles": {},
                "type": "#607D8B"
              },
              {
                "color": "#F44336",
                "id": 1052,
                "label": "les critères de choix et de classement des offres",
                "position": [
                  0,
                  0
                ],
                "properties": {
                  "id": "les critères de choix et de classement des offres",
                  "label": "__Entity__:Criteria"
                },
                "scale_factor": 1,
                "size": [
                  55,
                  55
                ],
                "styles": {},
                "type": "#F44336"
              },
              {
                "color": "#673AB7",
                "id": 1053,
                "label": "le contrat à l’architecte qui a présenté l’offre la plus avantageuse",
                "position": [
                  0,
                  0
                ],
                "properties": {
                  "id": "le contrat à l’architecte qui a présenté l’offre la plus avantageuse",
                  "label": "Contract:__Entity__"
                },
                "scale_factor": 1,
                "size": [
                  55,
                  55
                ],
                "styles": {},
                "type": "#673AB7"
              },
              {
                "color": "#2196F3",
                "id": 1059,
                "label": "Les membres",
                "position": [
                  0,
                  0
                ],
                "properties": {
                  "id": "Les membres",
                  "label": "Group:__Entity__"
                },
                "scale_factor": 1,
                "size": [
                  55,
                  55
                ],
                "styles": {},
                "type": "#2196F3"
              },
              {
                "color": "#2196F3",
                "id": 1060,
                "label": "huit jours",
                "position": [
                  0,
                  0
                ],
                "properties": {
                  "id": "huit jours",
                  "label": "Timeframe:__Entity__"
                },
                "scale_factor": 1,
                "size": [
                  55,
                  55
                ],
                "styles": {},
                "type": "#2196F3"
              },
              {
                "color": "#F44336",
                "id": 1062,
                "label": "motif de non remise du dossier",
                "position": [
                  0,
                  0
                ],
                "properties": {
                  "id": "motif de non remise du dossier",
                  "label": "__Entity__:Document"
                },
                "scale_factor": 1,
                "size": [
                  55,
                  55
                ],
                "styles": {},
                "type": "#F44336"
              },
              {
                "color": "#673AB7",
                "id": 1063,
                "label": "dossier du contrat",
                "position": [
                  0,
                  0
                ],
                "properties": {
                  "id": "dossier du contrat",
                  "label": "Contract:__Entity__"
                },
                "scale_factor": 1,
                "size": [
                  55,
                  55
                ],
                "styles": {},
                "type": "#673AB7"
              },
              {
                "color": "#F44336",
                "id": 1066,
                "label": "requérant",
                "position": [
                  0,
                  0
                ],
                "properties": {
                  "id": "requérant",
                  "label": "__Entity__:Person"
                },
                "scale_factor": 1,
                "size": [
                  55,
                  55
                ],
                "styles": {},
                "type": "#F44336"
              },
              {
                "color": "#2196F3",
                "id": 1460,
                "label": "ils",
                "position": [
                  0,
                  0
                ],
                "properties": {
                  "id": "ils",
                  "label": "Group:__Entity__"
                },
                "scale_factor": 1,
                "size": [
                  55,
                  55
                ],
                "styles": {},
                "type": "#2196F3"
              },
              {
                "color": "#F44336",
                "id": 1070,
                "label": "dossier",
                "position": [
                  0,
                  0
                ],
                "properties": {
                  "id": "dossier",
                  "label": "__Entity__:Document"
                },
                "scale_factor": 1,
                "size": [
                  55,
                  55
                ],
                "styles": {},
                "type": "#F44336"
              },
              {
                "color": "#F44336",
                "id": 1080,
                "label": "l'attestation d'inscription au tableau de l'Ordre national des architectes",
                "position": [
                  0,
                  0
                ],
                "properties": {
                  "id": "l'attestation d'inscription au tableau de l'Ordre national des architectes",
                  "label": "__Entity__:Document"
                },
                "scale_factor": 1,
                "size": [
                  55,
                  55
                ],
                "styles": {},
                "type": "#F44336"
              },
              {
                "color": "#9C27B0",
                "id": 1081,
                "label": "sa  copie certifiée conforme à l'original",
                "position": [
                  0,
                  0
                ],
                "properties": {
                  "id": "sa  copie certifiée conforme à l'original",
                  "label": "__Entity__:Copy"
                },
                "scale_factor": 1,
                "size": [
                  55,
                  55
                ],
                "styles": {},
                "type": "#9C27B0"
              },
              {
                "color": "#F44336",
                "id": 1086,
                "label": "RIB",
                "position": [
                  0,
                  0
                ],
                "properties": {
                  "id": "RIB",
                  "label": "__Entity__:Document"
                },
                "scale_factor": 1,
                "size": [
                  55,
                  55
                ],
                "styles": {},
                "type": "#F44336"
              },
              {
                "color": "#9E9E9E",
                "id": 1085,
                "label": "indications",
                "position": [
                  0,
                  0
                ],
                "properties": {
                  "id": "indications",
                  "label": "Process:__Entity__"
                },
                "scale_factor": 1,
                "size": [
                  55,
                  55
                ],
                "styles": {},
                "type": "#9E9E9E"
              },
              {
                "color": "#F44336",
                "id": 1088,
                "label": "règlement de consultation architecturale",
                "position": [
                  0,
                  0
                ],
                "properties": {
                  "id": "règlement de consultation architecturale",
                  "label": "__Entity__:Document"
                },
                "scale_factor": 1,
                "size": [
                  55,
                  55
                ],
                "styles": {},
                "type": "#F44336"
              },
              {
                "color": "#9E9E9E",
                "id": 1091,
                "label": "ouverte",
                "position": [
                  0,
                  0
                ],
                "properties": {
                  "id": "ouverte",
                  "label": "Process:__Entity__"
                },
                "scale_factor": 1,
                "size": [
                  55,
                  55
                ],
                "styles": {},
                "type": "#9E9E9E"
              },
              {
                "color": "#9C27B0",
                "id": 1090,
                "label": "consultation architecturale restreinte",
                "position": [
                  0,
                  0
                ],
                "properties": {
                  "id": "consultation architecturale restreinte",
                  "label": "__Entity__:Project"
                },
                "scale_factor": 1,
                "size": [
                  55,
                  55
                ],
                "styles": {},
                "type": "#9C27B0"
              },
              {
                "color": "#F44336",
                "id": 1093,
                "label": "les plis",
                "position": [
                  0,
                  0
                ],
                "properties": {
                  "id": "les plis",
                  "label": "Package:__Entity__"
                },
                "scale_factor": 1,
                "size": [
                  55,
                  55
                ],
                "styles": {},
                "type": "#F44336"
              },
              {
                "color": "#2196F3",
                "id": 1094,
                "label": "le registre spécial",
                "position": [
                  0,
                  0
                ],
                "properties": {
                  "id": "le registre spécial",
                  "label": "__Entity__:Register"
                },
                "scale_factor": 1,
                "size": [
                  55,
                  55
                ],
                "styles": {},
                "type": "#2196F3"
              },
              {
                "color": "#CDDC39",
                "id": 1096,
                "label": "Les plis",
                "position": [
                  0,
                  0
                ],
                "properties": {
                  "id": "Les plis",
                  "label": "__Entity__:Documents"
                },
                "scale_factor": 1,
                "size": [
                  55,
                  55
                ],
                "styles": {},
                "type": "#CDDC39"
              },
              {
                "color": "#607D8B",
                "id": 1098,
                "label": "Jury",
                "position": [
                  0,
                  0
                ],
                "properties": {
                  "id": "Jury",
                  "label": "Organization:__Entity__"
                },
                "scale_factor": 1,
                "size": [
                  55,
                  55
                ],
                "styles": {},
                "type": "#607D8B"
              },
              {
                "color": "#2196F3",
                "id": 1099,
                "label": "members",
                "position": [
                  0,
                  0
                ],
                "properties": {
                  "id": "members",
                  "label": "Group:__Entity__"
                },
                "scale_factor": 1,
                "size": [
                  55,
                  55
                ],
                "styles": {},
                "type": "#2196F3"
              },
              {
                "color": "#607D8B",
                "id": 1137,
                "label": "notes obtenues par chaque architecte",
                "position": [
                  0,
                  0
                ],
                "properties": {
                  "id": "notes obtenues par chaque architecte",
                  "label": "Score:__Entity__"
                },
                "scale_factor": 1,
                "size": [
                  55,
                  55
                ],
                "styles": {},
                "type": "#607D8B"
              },
              {
                "color": "#4CAF50",
                "id": 1173,
                "label": "indemnité",
                "position": [
                  0,
                  0
                ],
                "properties": {
                  "id": "indemnité",
                  "label": "__Entity__:Compensation"
                },
                "scale_factor": 1,
                "size": [
                  55,
                  55
                ],
                "styles": {},
                "type": "#4CAF50"
              },
              {
                "color": "#2196F3",
                "id": 1276,
                "label": "jury ou de la sous–commission",
                "position": [
                  0,
                  0
                ],
                "properties": {
                  "id": "jury ou de la sous–commission",
                  "label": "Group:__Entity__"
                },
                "scale_factor": 1,
                "size": [
                  55,
                  55
                ],
                "styles": {},
                "type": "#2196F3"
              },
              {
                "color": "#607D8B",
                "id": 1103,
                "label": "sous-commission",
                "position": [
                  0,
                  0
                ],
                "properties": {
                  "id": "sous-commission",
                  "label": "Organization:__Entity__"
                },
                "scale_factor": 1,
                "size": [
                  55,
                  55
                ],
                "styles": {},
                "type": "#607D8B"
              },
              {
                "color": "#2196F3",
                "id": 1106,
                "label": "architectes concurrents",
                "position": [
                  0,
                  0
                ],
                "properties": {
                  "id": "architectes concurrents",
                  "label": "Group:__Entity__"
                },
                "scale_factor": 1,
                "size": [
                  55,
                  55
                ],
                "styles": {},
                "type": "#2196F3"
              },
              {
                "color": "#F44336",
                "id": 1105,
                "label": "dossiers incomplets",
                "position": [
                  0,
                  0
                ],
                "properties": {
                  "id": "dossiers incomplets",
                  "label": "Files:__Entity__"
                },
                "scale_factor": 1,
                "size": [
                  55,
                  55
                ],
                "styles": {},
                "type": "#F44336"
              },
              {
                "color": "#F44336",
                "id": 1108,
                "label": "président du jury",
                "position": [
                  0,
                  0
                ],
                "properties": {
                  "id": "président du jury",
                  "label": "__Entity__:Person"
                },
                "scale_factor": 1,
                "size": [
                  55,
                  55
                ],
                "styles": {},
                "type": "#F44336"
              },
              {
                "color": "#CDDC39",
                "id": 1234,
                "label": "son ouverture",
                "position": [
                  0,
                  0
                ],
                "properties": {
                  "id": "son ouverture",
                  "label": "Event:__Entity__"
                },
                "scale_factor": 1,
                "size": [
                  55,
                  55
                ],
                "styles": {},
                "type": "#CDDC39"
              },
              {
                "color": "#CDDC39",
                "id": 1133,
                "label": "date et à l'heure annoncées",
                "position": [
                  0,
                  0
                ],
                "properties": {
                  "id": "date et à l'heure annoncées",
                  "label": "Event:__Entity__"
                },
                "scale_factor": 1,
                "size": [
                  55,
                  55
                ],
                "styles": {},
                "type": "#CDDC39"
              },
              {
                "color": "#CDDC39",
                "id": 1110,
                "label": "séance d'ouverture",
                "position": [
                  0,
                  0
                ],
                "properties": {
                  "id": "séance d'ouverture",
                  "label": "Event:__Entity__"
                },
                "scale_factor": 1,
                "size": [
                  55,
                  55
                ],
                "styles": {},
                "type": "#CDDC39"
              },
              {
                "color": "#F44336",
                "id": 1111,
                "label": "plis à parapher",
                "position": [
                  0,
                  0
                ],
                "properties": {
                  "id": "plis à parapher",
                  "label": "__Entity__:Document"
                },
                "scale_factor": 1,
                "size": [
                  55,
                  55
                ],
                "styles": {},
                "type": "#F44336"
              },
              {
                "color": "#F44336",
                "id": 1119,
                "label": "le président",
                "position": [
                  0,
                  0
                ],
                "properties": {
                  "id": "le président",
                  "label": "__Entity__:Person"
                },
                "scale_factor": 1,
                "size": [
                  55,
                  55
                ],
                "styles": {},
                "type": "#F44336"
              },
              {
                "color": "#2196F3",
                "id": 1236,
                "label": "les emballages",
                "position": [
                  0,
                  0
                ],
                "properties": {
                  "id": "les emballages",
                  "label": "__Entity__:Object"
                },
                "scale_factor": 1,
                "size": [
                  55,
                  55
                ],
                "styles": {},
                "type": "#2196F3"
              },
              {
                "color": "#2196F3",
                "id": 1121,
                "label": "chacune d'elles",
                "position": [
                  0,
                  0
                ],
                "properties": {
                  "id": "chacune d'elles",
                  "label": "Group:__Entity__"
                },
                "scale_factor": 1,
                "size": [
                  55,
                  55
                ],
                "styles": {},
                "type": "#2196F3"
              },
              {
                "color": "#9C27B0",
                "id": 1122,
                "label": "global des travaux du projet",
                "position": [
                  0,
                  0
                ],
                "properties": {
                  "id": "global des travaux du projet",
                  "label": "__Entity__:Project"
                },
                "scale_factor": 1,
                "size": [
                  55,
                  55
                ],
                "styles": {},
                "type": "#9C27B0"
              },
              {
                "color": "#2196F3",
                "id": 1126,
                "label": "sous-commission technique",
                "position": [
                  0,
                  0
                ],
                "properties": {
                  "id": "sous-commission technique",
                  "label": "Group:__Entity__"
                },
                "scale_factor": 1,
                "size": [
                  55,
                  55
                ],
                "styles": {},
                "type": "#2196F3"
              },
              {
                "color": "#F44336",
                "id": 1131,
                "label": "Les appréciations des experts",
                "position": [
                  0,
                  0
                ],
                "properties": {
                  "id": "Les appréciations des experts",
                  "label": "Statement:__Entity__"
                },
                "scale_factor": 1,
                "size": [
                  55,
                  55
                ],
                "styles": {},
                "type": "#F44336"
              },
              {
                "color": "#F44336",
                "id": 1130,
                "label": "des éléments objectifs",
                "position": [
                  0,
                  0
                ],
                "properties": {
                  "id": "des éléments objectifs",
                  "label": "__Entity__:Criteria"
                },
                "scale_factor": 1,
                "size": [
                  55,
                  55
                ],
                "styles": {},
                "type": "#F44336"
              },
              {
                "color": "#9E9E9E",
                "id": 1156,
                "label": "réponses",
                "position": [
                  0,
                  0
                ],
                "properties": {
                  "id": "réponses",
                  "label": "Procedure:__Entity__"
                },
                "scale_factor": 1,
                "size": [
                  55,
                  55
                ],
                "styles": {},
                "type": "#9E9E9E"
              },
              {
                "color": "#CDDC39",
                "id": 1155,
                "label": "pièces",
                "position": [
                  0,
                  0
                ],
                "properties": {
                  "id": "pièces",
                  "label": "__Entity__:Documents"
                },
                "scale_factor": 1,
                "size": [
                  55,
                  55
                ],
                "styles": {},
                "type": "#CDDC39"
              },
              {
                "color": "#F44336",
                "id": 1158,
                "label": "recommandée avec accusé de réception",
                "position": [
                  0,
                  0
                ],
                "properties": {
                  "id": "recommandée avec accusé de réception",
                  "label": "__Entity__:Document"
                },
                "scale_factor": 1,
                "size": [
                  55,
                  55
                ],
                "styles": {},
                "type": "#F44336"
              },
              {
                "color": "#2196F3",
                "id": 1159,
                "label": "les architectes concurrents",
                "position": [
                  0,
                  0
                ],
                "properties": {
                  "id": "les architectes concurrents",
                  "label": "Group:__Entity__"
                },
                "scale_factor": 1,
                "size": [
                  55,
                  55
                ],
                "styles": {},
                "type": "#2196F3"
              },
              {
                "color": "#F44336",
                "id": 1164,
                "label": "prévisionnel maximum",
                "position": [
                  0,
                  0
                ],
                "properties": {
                  "id": "prévisionnel maximum",
                  "label": "__Entity__:Document"
                },
                "scale_factor": 1,
                "size": [
                  55,
                  55
                ],
                "styles": {},
                "type": "#F44336"
              },
              {
                "color": "#CDDC39",
                "id": 1175,
                "label": "L'annulation de la consultation architecturale",
                "position": [
                  0,
                  0
                ],
                "properties": {
                  "id": "L'annulation de la consultation architecturale",
                  "label": "Event:__Entity__"
                },
                "scale_factor": 1,
                "size": [
                  55,
                  55
                ],
                "styles": {},
                "type": "#CDDC39"
              },
              {
                "color": "#2196F3",
                "id": 1176,
                "label": "Article 48 du présent décret",
                "position": [
                  0,
                  0
                ],
                "properties": {
                  "id": "Article 48 du présent décret",
                  "label": "Law:__Entity__"
                },
                "scale_factor": 1,
                "size": [
                  55,
                  55
                ],
                "styles": {},
                "type": "#2196F3"
              },
              {
                "color": "#607D8B",
                "id": 1179,
                "label": "consistance prévisionnelle",
                "position": [
                  0,
                  0
                ],
                "properties": {
                  "id": "consistance prévisionnelle",
                  "label": "__Entity__:Concept"
                },
                "scale_factor": 1,
                "size": [
                  55,
                  55
                ],
                "styles": {},
                "type": "#607D8B"
              },
              {
                "color": "#607D8B",
                "id": 1180,
                "label": "budget maximum prévisionnel",
                "position": [
                  0,
                  0
                ],
                "properties": {
                  "id": "budget maximum prévisionnel",
                  "label": "Financial Concept:__Entity__"
                },
                "scale_factor": 1,
                "size": [
                  55,
                  55
                ],
                "styles": {},
                "type": "#607D8B"
              },
              {
                "color": "#CDDC39",
                "id": 1184,
                "label": "concours architectural",
                "position": [
                  0,
                  0
                ],
                "properties": {
                  "id": "concours architectural",
                  "label": "Event:__Entity__"
                },
                "scale_factor": 1,
                "size": [
                  55,
                  55
                ],
                "styles": {},
                "type": "#CDDC39"
              },
              {
                "color": "#9E9E9E",
                "id": 1185,
                "label": "article 96",
                "position": [
                  0,
                  0
                ],
                "properties": {
                  "id": "article 96",
                  "label": "__Entity__:Article"
                },
                "scale_factor": 1,
                "size": [
                  55,
                  55
                ],
                "styles": {},
                "type": "#9E9E9E"
              },
              {
                "color": "#673AB7",
                "id": 1187,
                "label": "le parti architectural",
                "position": [
                  0,
                  0
                ],
                "properties": {
                  "id": "le parti architectural",
                  "label": "Party:__Entity__"
                },
                "scale_factor": 1,
                "size": [
                  55,
                  55
                ],
                "styles": {},
                "type": "#673AB7"
              },
              {
                "color": "#F44336",
                "id": 1188,
                "label": "originalité, pertinence et intelligence créative",
                "position": [
                  0,
                  0
                ],
                "properties": {
                  "id": "originalité, pertinence et intelligence créative",
                  "label": "Characteristic:__Entity__"
                },
                "scale_factor": 1,
                "size": [
                  55,
                  55
                ],
                "styles": {},
                "type": "#F44336"
              },
              {
                "color": "#607D8B",
                "id": 1194,
                "label": "qualité du parti constructif",
                "position": [
                  0,
                  0
                ],
                "properties": {
                  "id": "qualité du parti constructif",
                  "label": "__Entity__:Concept"
                },
                "scale_factor": 1,
                "size": [
                  55,
                  55
                ],
                "styles": {},
                "type": "#607D8B"
              },
              {
                "color": "#607D8B",
                "id": 1193,
                "label": "faisabilité technique",
                "position": [
                  0,
                  0
                ],
                "properties": {
                  "id": "faisabilité technique",
                  "label": "__Entity__:Concept"
                },
                "scale_factor": 1,
                "size": [
                  55,
                  55
                ],
                "styles": {},
                "type": "#607D8B"
              },
              {
                "color": "#9C27B0",
                "id": 1196,
                "label": "B",
                "position": [
                  0,
                  0
                ],
                "properties": {
                  "id": "B",
                  "label": "__Entity__:Project"
                },
                "scale_factor": 1,
                "size": [
                  55,
                  55
                ],
                "styles": {},
                "type": "#9C27B0"
              },
              {
                "color": "#F44336",
                "id": 1197,
                "label": "cost global du projet à réaliser",
                "position": [
                  0,
                  0
                ],
                "properties": {
                  "id": "cost global du projet à réaliser",
                  "label": "Cost:__Entity__"
                },
                "scale_factor": 1,
                "size": [
                  55,
                  55
                ],
                "styles": {},
                "type": "#F44336"
              },
              {
                "color": "#F44336",
                "id": 1200,
                "label": "contrat d'architecte",
                "position": [
                  0,
                  0
                ],
                "properties": {
                  "id": "contrat d'architecte",
                  "label": "__Entity__:Document"
                },
                "scale_factor": 1,
                "size": [
                  55,
                  55
                ],
                "styles": {},
                "type": "#F44336"
              },
              {
                "color": "#CDDC39",
                "id": 1201,
                "label": "plans et les documents techniques",
                "position": [
                  0,
                  0
                ],
                "properties": {
                  "id": "plans et les documents techniques",
                  "label": "__Entity__:Documents"
                },
                "scale_factor": 1,
                "size": [
                  55,
                  55
                ],
                "styles": {},
                "type": "#CDDC39"
              },
              {
                "color": "#CDDC39",
                "id": 1204,
                "label": "Les dossiers de concours",
                "position": [
                  0,
                  0
                ],
                "properties": {
                  "id": "Les dossiers de concours",
                  "label": "__Entity__:Documents"
                },
                "scale_factor": 1,
                "size": [
                  55,
                  55
                ],
                "styles": {},
                "type": "#CDDC39"
              },
              {
                "color": "#4CAF50",
                "id": 1206,
                "label": "paragraphs 5 and 6 of article 102",
                "position": [
                  0,
                  0
                ],
                "properties": {
                  "id": "paragraphs 5 and 6 of article 102",
                  "label": "Textual Reference:__Entity__"
                },
                "scale_factor": 1,
                "size": [
                  55,
                  55
                ],
                "styles": {},
                "type": "#4CAF50"
              },
              {
                "color": "#2196F3",
                "id": 1203,
                "label": "membres du jury de concours",
                "position": [
                  0,
                  0
                ],
                "properties": {
                  "id": "membres du jury de concours",
                  "label": "Group:__Entity__"
                },
                "scale_factor": 1,
                "size": [
                  55,
                  55
                ],
                "styles": {},
                "type": "#2196F3"
              },
              {
                "color": "#CDDC39",
                "id": 1208,
                "label": "Candidats",
                "position": [
                  0,
                  0
                ],
                "properties": {
                  "id": "Candidats",
                  "label": "Person/Group:__Entity__"
                },
                "scale_factor": 1,
                "size": [
                  55,
                  55
                ],
                "styles": {},
                "type": "#CDDC39"
              },
              {
                "color": "#673AB7",
                "id": 1211,
                "label": "les modifications",
                "position": [
                  0,
                  0
                ],
                "properties": {
                  "id": "les modifications",
                  "label": "__Entity__:Modification"
                },
                "scale_factor": 1,
                "size": [
                  55,
                  55
                ],
                "styles": {},
                "type": "#673AB7"
              },
              {
                "color": "#CDDC39",
                "id": 1210,
                "label": "le report de la date prévue pour la tenue de la séance d’ouverture des plis",
                "position": [
                  0,
                  0
                ],
                "properties": {
                  "id": "le report de la date prévue pour la tenue de la séance d’ouverture des plis",
                  "label": "Event:__Entity__"
                },
                "scale_factor": 1,
                "size": [
                  55,
                  55
                ],
                "styles": {},
                "type": "#CDDC39"
              },
              {
                "color": "#607D8B",
                "id": 1217,
                "label": "sauvegarder",
                "position": [
                  0,
                  0
                ],
                "properties": {
                  "id": "sauvegarder",
                  "label": "Action:__Entity__"
                },
                "scale_factor": 1,
                "size": [
                  55,
                  55
                ],
                "styles": {},
                "type": "#607D8B"
              },
              {
                "color": "#607D8B",
                "id": 1216,
                "label": "anonymat des propositions des architectes",
                "position": [
                  0,
                  0
                ],
                "properties": {
                  "id": "anonymat des propositions des architectes",
                  "label": "__Entity__:Concept"
                },
                "scale_factor": 1,
                "size": [
                  55,
                  55
                ],
                "styles": {},
                "type": "#607D8B"
              },
              {
                "color": "#9E9E9E",
                "id": 1221,
                "label": "l'article 120",
                "position": [
                  0,
                  0
                ],
                "properties": {
                  "id": "l'article 120",
                  "label": "__Entity__:Article"
                },
                "scale_factor": 1,
                "size": [
                  55,
                  55
                ],
                "styles": {},
                "type": "#9E9E9E"
              },
              {
                "color": "#4CAF50",
                "id": 1220,
                "label": "le présent décret",
                "position": [
                  0,
                  0
                ],
                "properties": {
                  "id": "le présent décret",
                  "label": "Decree:__Entity__"
                },
                "scale_factor": 1,
                "size": [
                  55,
                  55
                ],
                "styles": {},
                "type": "#4CAF50"
              },
              {
                "color": "#CDDC39",
                "id": 1223,
                "label": "Un code",
                "position": [
                  0,
                  0
                ],
                "properties": {
                  "id": "Un code",
                  "label": "Code:__Entity__"
                },
                "scale_factor": 1,
                "size": [
                  55,
                  55
                ],
                "styles": {},
                "type": "#CDDC39"
              },
              {
                "color": "#F44336",
                "id": 1224,
                "label": "l'emballage et l'enveloppe contenant la déclaration d'identité de l'architecte",
                "position": [
                  0,
                  0
                ],
                "properties": {
                  "id": "l'emballage et l'enveloppe contenant la déclaration d'identité de l'architecte",
                  "label": "__Entity__:Document"
                },
                "scale_factor": 1,
                "size": [
                  55,
                  55
                ],
                "styles": {},
                "type": "#F44336"
              },
              {
                "color": "#2196F3",
                "id": 1227,
                "label": "emballages",
                "position": [
                  0,
                  0
                ],
                "properties": {
                  "id": "emballages",
                  "label": "__Entity__:Object"
                },
                "scale_factor": 1,
                "size": [
                  55,
                  55
                ],
                "styles": {},
                "type": "#2196F3"
              },
              {
                "color": "#607D8B",
                "id": 1226,
                "label": "projets proposés par les architectes concurrents",
                "position": [
                  0,
                  0
                ],
                "properties": {
                  "id": "projets proposés par les architectes concurrents",
                  "label": "__Entity__:Concept"
                },
                "scale_factor": 1,
                "size": [
                  55,
                  55
                ],
                "styles": {},
                "type": "#607D8B"
              },
              {
                "color": "#F44336",
                "id": 1232,
                "label": "les déclarations d'identité",
                "position": [
                  0,
                  0
                ],
                "properties": {
                  "id": "les déclarations d'identité",
                  "label": "__Entity__:Document"
                },
                "scale_factor": 1,
                "size": [
                  55,
                  55
                ],
                "styles": {},
                "type": "#F44336"
              },
              {
                "color": "#607D8B",
                "id": 1240,
                "label": "d'établissement",
                "position": [
                  0,
                  0
                ],
                "properties": {
                  "id": "d'établissement",
                  "label": "Organization:__Entity__"
                },
                "scale_factor": 1,
                "size": [
                  55,
                  55
                ],
                "styles": {},
                "type": "#607D8B"
              },
              {
                "color": "#F44336",
                "id": 1241,
                "label": "règlement du concours",
                "position": [
                  0,
                  0
                ],
                "properties": {
                  "id": "règlement du concours",
                  "label": "__Entity__:Document"
                },
                "scale_factor": 1,
                "size": [
                  55,
                  55
                ],
                "styles": {},
                "type": "#F44336"
              },
              {
                "color": "#CDDC39",
                "id": 1245,
                "label": "La séance publique",
                "position": [
                  0,
                  0
                ],
                "properties": {
                  "id": "La séance publique",
                  "label": "Event:__Entity__"
                },
                "scale_factor": 1,
                "size": [
                  55,
                  55
                ],
                "styles": {},
                "type": "#CDDC39"
              },
              {
                "color": "#4CAF50",
                "id": 1244,
                "label": "paragraphe 9 de l'article 126",
                "position": [
                  0,
                  0
                ],
                "properties": {
                  "id": "paragraphe 9 de l'article 126",
                  "label": "Textual Reference:__Entity__"
                },
                "scale_factor": 1,
                "size": [
                  55,
                  55
                ],
                "styles": {},
                "type": "#4CAF50"
              },
              {
                "color": "#607D8B",
                "id": 1251,
                "label": "voix",
                "position": [
                  0,
                  0
                ],
                "properties": {
                  "id": "voix",
                  "label": "__Entity__:Concept"
                },
                "scale_factor": 1,
                "size": [
                  55,
                  55
                ],
                "styles": {},
                "type": "#607D8B"
              },
              {
                "color": "#2196F3",
                "id": 1252,
                "label": "pièces contenues dans chaque pli",
                "position": [
                  0,
                  0
                ],
                "properties": {
                  "id": "pièces contenues dans chaque pli",
                  "label": "__Entity__:Object"
                },
                "scale_factor": 1,
                "size": [
                  55,
                  55
                ],
                "styles": {},
                "type": "#2196F3"
              },
              {
                "color": "#F44336",
                "id": 1258,
                "label": "expriment",
                "position": [
                  0,
                  0
                ],
                "properties": {
                  "id": "expriment",
                  "label": "__Entity__:Person"
                },
                "scale_factor": 1,
                "size": [
                  55,
                  55
                ],
                "styles": {},
                "type": "#F44336"
              },
              {
                "color": "#607D8B",
                "id": 1257,
                "label": "restrictions ou des réserves",
                "position": [
                  0,
                  0
                ],
                "properties": {
                  "id": "restrictions ou des réserves",
                  "label": "__Entity__:Concept"
                },
                "scale_factor": 1,
                "size": [
                  55,
                  55
                ],
                "styles": {},
                "type": "#607D8B"
              },
              {
                "color": "#F44336",
                "id": 1262,
                "label": "le président du jury de concours",
                "position": [
                  0,
                  0
                ],
                "properties": {
                  "id": "le président du jury de concours",
                  "label": "__Entity__:Person"
                },
                "scale_factor": 1,
                "size": [
                  55,
                  55
                ],
                "styles": {},
                "type": "#F44336"
              },
              {
                "color": "#607D8B",
                "id": 1264,
                "label": "produire",
                "position": [
                  0,
                  0
                ],
                "properties": {
                  "id": "produire",
                  "label": "Action:__Entity__"
                },
                "scale_factor": 1,
                "size": [
                  55,
                  55
                ],
                "styles": {},
                "type": "#607D8B"
              },
              {
                "color": "#F44336",
                "id": 1265,
                "label": "les pièces du dossier administratif prévues à l'article 100 du présent décret",
                "position": [
                  0,
                  0
                ],
                "properties": {
                  "id": "les pièces du dossier administratif prévues à l'article 100 du présent décret",
                  "label": "__Entity__:Document"
                },
                "scale_factor": 1,
                "size": [
                  55,
                  55
                ],
                "styles": {},
                "type": "#F44336"
              },
              {
                "color": "#607D8B",
                "id": 1280,
                "label": "contrats de consultation architecturale",
                "position": [
                  0,
                  0
                ],
                "properties": {
                  "id": "contrats de consultation architecturale",
                  "label": "__Entity__:Concept"
                },
                "scale_factor": 1,
                "size": [
                  55,
                  55
                ],
                "styles": {},
                "type": "#607D8B"
              },
              {
                "color": "#2196F3",
                "id": 1279,
                "label": "types of contracts",
                "position": [
                  0,
                  0
                ],
                "properties": {
                  "id": "types of contracts",
                  "label": "Category:__Entity__"
                },
                "scale_factor": 1,
                "size": [
                  55,
                  55
                ],
                "styles": {},
                "type": "#2196F3"
              },
              {
                "color": "#CDDC39",
                "id": 1283,
                "label": "Les consultations architecturales",
                "position": [
                  0,
                  0
                ],
                "properties": {
                  "id": "Les consultations architecturales",
                  "label": "Event:__Entity__"
                },
                "scale_factor": 1,
                "size": [
                  55,
                  55
                ],
                "styles": {},
                "type": "#CDDC39"
              },
              {
                "color": "#9E9E9E",
                "id": 1282,
                "label": "négociées avec publicité préalable et mise en concurrence",
                "position": [
                  0,
                  0
                ],
                "properties": {
                  "id": "négociées avec publicité préalable et mise en concurrence",
                  "label": "Process:__Entity__"
                },
                "scale_factor": 1,
                "size": [
                  55,
                  55
                ],
                "styles": {},
                "type": "#9E9E9E"
              },
              {
                "color": "#9E9E9E",
                "id": 1289,
                "label": "Les contrats",
                "position": [
                  0,
                  0
                ],
                "properties": {
                  "id": "Les contrats",
                  "label": "__Entity__:Contracts"
                },
                "scale_factor": 1,
                "size": [
                  55,
                  55
                ],
                "styles": {},
                "type": "#9E9E9E"
              },
              {
                "color": "#9C27B0",
                "id": 1290,
                "label": "ces prestations",
                "position": [
                  0,
                  0
                ],
                "properties": {
                  "id": "ces prestations",
                  "label": "Services:__Entity__"
                },
                "scale_factor": 1,
                "size": [
                  55,
                  55
                ],
                "styles": {},
                "type": "#9C27B0"
              },
              {
                "color": "#2196F3",
                "id": 1292,
                "label": "candidature",
                "position": [
                  0,
                  0
                ],
                "properties": {
                  "id": "candidature",
                  "label": "Application:__Entity__"
                },
                "scale_factor": 1,
                "size": [
                  55,
                  55
                ],
                "styles": {},
                "type": "#2196F3"
              },
              {
                "color": "#607D8B",
                "id": 1294,
                "label": "jury de négociation",
                "position": [
                  0,
                  0
                ],
                "properties": {
                  "id": "jury de négociation",
                  "label": "Organization:__Entity__"
                },
                "scale_factor": 1,
                "size": [
                  55,
                  55
                ],
                "styles": {},
                "type": "#607D8B"
              },
              {
                "color": "#F44336",
                "id": 1295,
                "label": "dossiers administratifs",
                "position": [
                  0,
                  0
                ],
                "properties": {
                  "id": "dossiers administratifs",
                  "label": "__Entity__:Document"
                },
                "scale_factor": 1,
                "size": [
                  55,
                  55
                ],
                "styles": {},
                "type": "#F44336"
              },
              {
                "color": "#CDDC39",
                "id": 1301,
                "label": "les dossiers d'appel à la concurrence",
                "position": [
                  0,
                  0
                ],
                "properties": {
                  "id": "les dossiers d'appel à la concurrence",
                  "label": "__Entity__:Documents"
                },
                "scale_factor": 1,
                "size": [
                  55,
                  55
                ],
                "styles": {},
                "type": "#CDDC39"
              },
              {
                "color": "#4CAF50",
                "id": 1300,
                "label": "les modifications y afférentes",
                "position": [
                  0,
                  0
                ],
                "properties": {
                  "id": "les modifications y afférentes",
                  "label": "Changes:__Entity__"
                },
                "scale_factor": 1,
                "size": [
                  55,
                  55
                ],
                "styles": {},
                "type": "#4CAF50"
              },
              {
                "color": "#4CAF50",
                "id": 1308,
                "label": "concourants",
                "position": [
                  0,
                  0
                ],
                "properties": {
                  "id": "concourants",
                  "label": "Person/Company:__Entity__"
                },
                "scale_factor": 1,
                "size": [
                  55,
                  55
                ],
                "styles": {},
                "type": "#4CAF50"
              },
              {
                "color": "#F44336",
                "id": 1307,
                "label": "conditions requises",
                "position": [
                  0,
                  0
                ],
                "properties": {
                  "id": "conditions requises",
                  "label": "Characteristic:__Entity__"
                },
                "scale_factor": 1,
                "size": [
                  55,
                  55
                ],
                "styles": {},
                "type": "#F44336"
              },
              {
                "color": "#F44336",
                "id": 1312,
                "label": "Les marchés passés par l’Etat",
                "position": [
                  0,
                  0
                ],
                "properties": {
                  "id": "Les marchés passés par l’Etat",
                  "label": "Government Entity:__Entity__"
                },
                "scale_factor": 1,
                "size": [
                  55,
                  55
                ],
                "styles": {},
                "type": "#F44336"
              },
              {
                "color": "#9E9E9E",
                "id": 1311,
                "label": "l’autorité compétente",
                "position": [
                  0,
                  0
                ],
                "properties": {
                  "id": "l’autorité compétente",
                  "label": "Authority:__Entity__"
                },
                "scale_factor": 1,
                "size": [
                  55,
                  55
                ],
                "styles": {},
                "type": "#9E9E9E"
              },
              {
                "color": "#9E9E9E",
                "id": 1314,
                "label": "Les marchés",
                "position": [
                  0,
                  0
                ],
                "properties": {
                  "id": "Les marchés",
                  "label": "__Entity__:Contracts"
                },
                "scale_factor": 1,
                "size": [
                  55,
                  55
                ],
                "styles": {},
                "type": "#9E9E9E"
              },
              {
                "color": "#9E9E9E",
                "id": 1315,
                "label": "l'autorité compétente",
                "position": [
                  0,
                  0
                ],
                "properties": {
                  "id": "l'autorité compétente",
                  "label": "Authority:__Entity__"
                },
                "scale_factor": 1,
                "size": [
                  55,
                  55
                ],
                "styles": {},
                "type": "#9E9E9E"
              },
              {
                "color": "#607D8B",
                "id": 1321,
                "label": "étude",
                "position": [
                  0,
                  0
                ],
                "properties": {
                  "id": "étude",
                  "label": "__Entity__:Study"
                },
                "scale_factor": 1,
                "size": [
                  55,
                  55
                ],
                "styles": {},
                "type": "#607D8B"
              },
              {
                "color": "#673AB7",
                "id": 1320,
                "label": "phases",
                "position": [
                  0,
                  0
                ],
                "properties": {
                  "id": "phases",
                  "label": "__Entity__:Phases"
                },
                "scale_factor": 1,
                "size": [
                  55,
                  55
                ],
                "styles": {},
                "type": "#673AB7"
              },
              {
                "color": "#607D8B",
                "id": 1323,
                "label": "L'organisme dont relève le maître d'ouvrage",
                "position": [
                  0,
                  0
                ],
                "properties": {
                  "id": "L'organisme dont relève le maître d'ouvrage",
                  "label": "Organization:__Entity__"
                },
                "scale_factor": 1,
                "size": [
                  55,
                  55
                ],
                "styles": {},
                "type": "#607D8B"
              },
              {
                "color": "#607D8B",
                "id": 1324,
                "label": "l'étude",
                "position": [
                  0,
                  0
                ],
                "properties": {
                  "id": "l'étude",
                  "label": "__Entity__:Study"
                },
                "scale_factor": 1,
                "size": [
                  55,
                  55
                ],
                "styles": {},
                "type": "#607D8B"
              },
              {
                "color": "#F44336",
                "id": 1331,
                "label": "rapport d'évaluation technique",
                "position": [
                  0,
                  0
                ],
                "properties": {
                  "id": "rapport d'évaluation technique",
                  "label": "__Entity__:Document"
                },
                "scale_factor": 1,
                "size": [
                  55,
                  55
                ],
                "styles": {},
                "type": "#F44336"
              },
              {
                "color": "#CDDC39",
                "id": 1330,
                "label": "première phase",
                "position": [
                  0,
                  0
                ],
                "properties": {
                  "id": "première phase",
                  "label": "Event:__Entity__"
                },
                "scale_factor": 1,
                "size": [
                  55,
                  55
                ],
                "styles": {},
                "type": "#CDDC39"
              },
              {
                "color": "#CDDC39",
                "id": 1335,
                "label": "l'estimation du coût des prestations",
                "position": [
                  0,
                  0
                ],
                "properties": {
                  "id": "l'estimation du coût des prestations",
                  "label": "__Entity__:Estimate"
                },
                "scale_factor": 1,
                "size": [
                  55,
                  55
                ],
                "styles": {},
                "type": "#CDDC39"
              },
              {
                "color": "#9E9E9E",
                "id": 1340,
                "label": "notes financières",
                "position": [
                  0,
                  0
                ],
                "properties": {
                  "id": "notes financières",
                  "label": "Financial Statements:__Entity__"
                },
                "scale_factor": 1,
                "size": [
                  55,
                  55
                ],
                "styles": {},
                "type": "#9E9E9E"
              },
              {
                "color": "#9C27B0",
                "id": 1339,
                "label": "other methods",
                "position": [
                  0,
                  0
                ],
                "properties": {
                  "id": "other methods",
                  "label": "__Entity__:Methods"
                },
                "scale_factor": 1,
                "size": [
                  55,
                  55
                ],
                "styles": {},
                "type": "#9C27B0"
              },
              {
                "color": "#9C27B0",
                "id": 1344,
                "label": "La pondération",
                "position": [
                  0,
                  0
                ],
                "properties": {
                  "id": "La pondération",
                  "label": "__Entity__:Offer"
                },
                "scale_factor": 1,
                "size": [
                  55,
                  55
                ],
                "styles": {},
                "type": "#9C27B0"
              },
              {
                "color": "#2196F3",
                "id": 1345,
                "label": "complexité de la mission",
                "position": [
                  0,
                  0
                ],
                "properties": {
                  "id": "complexité de la mission",
                  "label": "__Entity__:Mission"
                },
                "scale_factor": 1,
                "size": [
                  55,
                  55
                ],
                "styles": {},
                "type": "#2196F3"
              },
              {
                "color": "#F44336",
                "id": 1349,
                "label": "Les critères",
                "position": [
                  0,
                  0
                ],
                "properties": {
                  "id": "Les critères",
                  "label": "__Entity__:Criteria"
                },
                "scale_factor": 1,
                "size": [
                  55,
                  55
                ],
                "styles": {},
                "type": "#F44336"
              },
              {
                "color": "#2196F3",
                "id": 1350,
                "label": "le règlement de consultation",
                "position": [
                  0,
                  0
                ],
                "properties": {
                  "id": "le règlement de consultation",
                  "label": "Regulation:__Entity__"
                },
                "scale_factor": 1,
                "size": [
                  55,
                  55
                ],
                "styles": {},
                "type": "#2196F3"
              },
              {
                "color": "#F44336",
                "id": 1352,
                "label": "Royaume du Maroc",
                "position": [
                  0,
                  0
                ],
                "properties": {
                  "id": "Royaume du Maroc",
                  "label": "__Entity__:Country"
                },
                "scale_factor": 1,
                "size": [
                  55,
                  55
                ],
                "styles": {},
                "type": "#F44336"
              },
              {
                "color": "#4CAF50",
                "id": 1353,
                "label": "International Agreements",
                "position": [
                  0,
                  0
                ],
                "properties": {
                  "id": "International Agreements",
                  "label": "Agreement:__Entity__"
                },
                "scale_factor": 1,
                "size": [
                  55,
                  55
                ],
                "styles": {},
                "type": "#4CAF50"
              },
              {
                "color": "#673AB7",
                "id": 1356,
                "label": "Mesures en faveur de la très petite, de la  petite et moyenne entreprise, de la coopérative, de l’union des  coopératives et de l’auto–entrepreneur",
                "position": [
                  0,
                  0
                ],
                "properties": {
                  "id": "Mesures en faveur de la très petite, de la  petite et moyenne entreprise, de la coopérative, de l’union des  coopératives et de l’auto–entrepreneur",
                  "label": "Policy:__Entity__"
                },
                "scale_factor": 1,
                "size": [
                  55,
                  55
                ],
                "styles": {},
                "type": "#673AB7"
              },
              {
                "color": "#607D8B",
                "id": 1358,
                "label": "main d'œuvre locale",
                "position": [
                  0,
                  0
                ],
                "properties": {
                  "id": "main d'œuvre locale",
                  "label": "__Entity__:Concept"
                },
                "scale_factor": 1,
                "size": [
                  55,
                  55
                ],
                "styles": {},
                "type": "#607D8B"
              },
              {
                "color": "#4CAF50",
                "id": 1359,
                "label": "présent article",
                "position": [
                  0,
                  0
                ],
                "properties": {
                  "id": "présent article",
                  "label": "__Entity__:Text"
                },
                "scale_factor": 1,
                "size": [
                  55,
                  55
                ],
                "styles": {},
                "type": "#4CAF50"
              },
              {
                "color": "#F44336",
                "id": 1361,
                "label": "mandataire",
                "position": [
                  0,
                  0
                ],
                "properties": {
                  "id": "mandataire",
                  "label": "__Entity__:Person"
                },
                "scale_factor": 1,
                "size": [
                  55,
                  55
                ],
                "styles": {},
                "type": "#F44336"
              },
              {
                "color": "#2196F3",
                "id": 1362,
                "label": "ensemble des membres",
                "position": [
                  0,
                  0
                ],
                "properties": {
                  "id": "ensemble des membres",
                  "label": "Group:__Entity__"
                },
                "scale_factor": 1,
                "size": [
                  55,
                  55
                ],
                "styles": {},
                "type": "#2196F3"
              },
              {
                "color": "#4CAF50",
                "id": 1365,
                "label": "Le mandataire",
                "position": [
                  0,
                  0
                ],
                "properties": {
                  "id": "Le mandataire",
                  "label": "Person/Company:__Entity__"
                },
                "scale_factor": 1,
                "size": [
                  55,
                  55
                ],
                "styles": {},
                "type": "#4CAF50"
              },
              {
                "color": "#2196F3",
                "id": 1364,
                "label": "chacun des membres du groupement",
                "position": [
                  0,
                  0
                ],
                "properties": {
                  "id": "chacun des membres du groupement",
                  "label": "Group:__Entity__"
                },
                "scale_factor": 1,
                "size": [
                  55,
                  55
                ],
                "styles": {},
                "type": "#2196F3"
              },
              {
                "color": "#F44336",
                "id": 1367,
                "label": "d'engagement",
                "position": [
                  0,
                  0
                ],
                "properties": {
                  "id": "d'engagement",
                  "label": "__Entity__:Document"
                },
                "scale_factor": 1,
                "size": [
                  55,
                  55
                ],
                "styles": {},
                "type": "#F44336"
              },
              {
                "color": "#F44336",
                "id": 1369,
                "label": "qualifications",
                "position": [
                  0,
                  0
                ],
                "properties": {
                  "id": "qualifications",
                  "label": "Requirements:__Entity__"
                },
                "scale_factor": 1,
                "size": [
                  55,
                  55
                ],
                "styles": {},
                "type": "#F44336"
              },
              {
                "color": "#607D8B",
                "id": 1371,
                "label": "classe requises",
                "position": [
                  0,
                  0
                ],
                "properties": {
                  "id": "classe requises",
                  "label": "__Entity__:Qualification"
                },
                "scale_factor": 1,
                "size": [
                  55,
                  55
                ],
                "styles": {},
                "type": "#607D8B"
              },
              {
                "color": "#2196F3",
                "id": 1372,
                "label": "others members of the groupement",
                "position": [
                  0,
                  0
                ],
                "properties": {
                  "id": "others members of the groupement",
                  "label": "Group:__Entity__"
                },
                "scale_factor": 1,
                "size": [
                  55,
                  55
                ],
                "styles": {},
                "type": "#2196F3"
              },
              {
                "color": "#673AB7",
                "id": 1375,
                "label": "du groupement",
                "position": [
                  0,
                  0
                ],
                "properties": {
                  "id": "du groupement",
                  "label": "__Entity__:Groupement"
                },
                "scale_factor": 1,
                "size": [
                  55,
                  55
                ],
                "styles": {},
                "type": "#673AB7"
              },
              {
                "color": "#CDDC39",
                "id": 1374,
                "label": "les attestations de référence",
                "position": [
                  0,
                  0
                ],
                "properties": {
                  "id": "les attestations de référence",
                  "label": "Attestation:__Entity__"
                },
                "scale_factor": 1,
                "size": [
                  55,
                  55
                ],
                "styles": {},
                "type": "#CDDC39"
              },
              {
                "color": "#F44336",
                "id": 1378,
                "label": "procuration légalisée",
                "position": [
                  0,
                  0
                ],
                "properties": {
                  "id": "procuration légalisée",
                  "label": "__Entity__:Document"
                },
                "scale_factor": 1,
                "size": [
                  55,
                  55
                ],
                "styles": {},
                "type": "#F44336"
              },
              {
                "color": "#2196F3",
                "id": 1377,
                "label": "membres du groupement",
                "position": [
                  0,
                  0
                ],
                "properties": {
                  "id": "membres du groupement",
                  "label": "Group:__Entity__"
                },
                "scale_factor": 1,
                "size": [
                  55,
                  55
                ],
                "styles": {},
                "type": "#2196F3"
              },
              {
                "color": "#607D8B",
                "id": 1381,
                "label": "groupement",
                "position": [
                  0,
                  0
                ],
                "properties": {
                  "id": "groupement",
                  "label": "Organization:__Entity__"
                },
                "scale_factor": 1,
                "size": [
                  55,
                  55
                ],
                "styles": {},
                "type": "#607D8B"
              },
              {
                "color": "#607D8B",
                "id": 1380,
                "label": "totality of the cautionnement",
                "position": [
                  0,
                  0
                ],
                "properties": {
                  "id": "totality of the cautionnement",
                  "label": "__Entity__:Concept"
                },
                "scale_factor": 1,
                "size": [
                  55,
                  55
                ],
                "styles": {},
                "type": "#607D8B"
              },
              {
                "color": "#4CAF50",
                "id": 1386,
                "label": "sous-traitants",
                "position": [
                  0,
                  0
                ],
                "properties": {
                  "id": "sous-traitants",
                  "label": "Person/Company:__Entity__"
                },
                "scale_factor": 1,
                "size": [
                  55,
                  55
                ],
                "styles": {},
                "type": "#4CAF50"
              },
              {
                "color": "#CDDC39",
                "id": 1388,
                "label": "entreprises",
                "position": [
                  0,
                  0
                ],
                "properties": {
                  "id": "entreprises",
                  "label": "__Entity__:Company"
                },
                "scale_factor": 1,
                "size": [
                  55,
                  55
                ],
                "styles": {},
                "type": "#CDDC39"
              },
              {
                "color": "#4CAF50",
                "id": 1389,
                "label": "notamment les très petites, petites et moyennes entreprises y compris les jeunes entreprises innovantes, les coopératives, les unions de coopératives et les auto– entrepreneurs.",
                "position": [
                  0,
                  0
                ],
                "properties": {
                  "id": "notamment les très petites, petites et moyennes entreprises y compris les jeunes entreprises innovantes, les coopératives, les unions de coopératives et les auto– entrepreneurs.",
                  "label": "__Entity__:Text"
                },
                "scale_factor": 1,
                "size": [
                  55,
                  55
                ],
                "styles": {},
                "type": "#4CAF50"
              },
              {
                "color": "#607D8B",
                "id": 1392,
                "label": "sanctions",
                "position": [
                  0,
                  0
                ],
                "properties": {
                  "id": "sanctions",
                  "label": "__Entity__:Concept"
                },
                "scale_factor": 1,
                "size": [
                  55,
                  55
                ],
                "styles": {},
                "type": "#607D8B"
              },
              {
                "color": "#4CAF50",
                "id": 1391,
                "label": "competitor",
                "position": [
                  0,
                  0
                ],
                "properties": {
                  "id": "competitor",
                  "label": "Entity:__Entity__"
                },
                "scale_factor": 1,
                "size": [
                  55,
                  55
                ],
                "styles": {},
                "type": "#4CAF50"
              },
              {
                "color": "#9E9E9E",
                "id": 1462,
                "label": "décret n° 2 –14–867 du 7 hija  1436 (21 septembre 2015)",
                "position": [
                  0,
                  0
                ],
                "properties": {
                  "id": "décret n° 2 –14–867 du 7 hija  1436 (21 septembre 2015)",
                  "label": "__Entity__:Legislation"
                },
                "scale_factor": 1,
                "size": [
                  55,
                  55
                ],
                "styles": {},
                "type": "#9E9E9E"
              },
              {
                "color": "#9E9E9E",
                "id": 1394,
                "label": "autorité gouvernementale concernée",
                "position": [
                  0,
                  0
                ],
                "properties": {
                  "id": "autorité gouvernementale concernée",
                  "label": "__Entity__:Government"
                },
                "scale_factor": 1,
                "size": [
                  55,
                  55
                ],
                "styles": {},
                "type": "#9E9E9E"
              },
              {
                "color": "#F44336",
                "id": 1397,
                "label": "ministre chargé de l'intérieur",
                "position": [
                  0,
                  0
                ],
                "properties": {
                  "id": "ministre chargé de l'intérieur",
                  "label": "__Entity__:Person"
                },
                "scale_factor": 1,
                "size": [
                  55,
                  55
                ],
                "styles": {},
                "type": "#F44336"
              },
              {
                "color": "#CDDC39",
                "id": 1401,
                "label": "société de développement",
                "position": [
                  0,
                  0
                ],
                "properties": {
                  "id": "société de développement",
                  "label": "__Entity__:Company"
                },
                "scale_factor": 1,
                "size": [
                  55,
                  55
                ],
                "styles": {},
                "type": "#CDDC39"
              },
              {
                "color": "#607D8B",
                "id": 1402,
                "label": "maîtrise d'ouvrage déléguée",
                "position": [
                  0,
                  0
                ],
                "properties": {
                  "id": "maîtrise d'ouvrage déléguée",
                  "label": "__Entity__:Concept"
                },
                "scale_factor": 1,
                "size": [
                  55,
                  55
                ],
                "styles": {},
                "type": "#607D8B"
              },
              {
                "color": "#CDDC39",
                "id": 1405,
                "label": "La conclusion",
                "position": [
                  0,
                  0
                ],
                "properties": {
                  "id": "La conclusion",
                  "label": "Event:__Entity__"
                },
                "scale_factor": 1,
                "size": [
                  55,
                  55
                ],
                "styles": {},
                "type": "#CDDC39"
              },
              {
                "color": "#F44336",
                "id": 1404,
                "label": "le ministre chargé de l'intérieur",
                "position": [
                  0,
                  0
                ],
                "properties": {
                  "id": "le ministre chargé de l'intérieur",
                  "label": "__Entity__:Person"
                },
                "scale_factor": 1,
                "size": [
                  55,
                  55
                ],
                "styles": {},
                "type": "#F44336"
              },
              {
                "color": "#607D8B",
                "id": 1414,
                "label": "maîtrise d'ouvrage",
                "position": [
                  0,
                  0
                ],
                "properties": {
                  "id": "maîtrise d'ouvrage",
                  "label": "__Entity__:Concept"
                },
                "scale_factor": 1,
                "size": [
                  55,
                  55
                ],
                "styles": {},
                "type": "#607D8B"
              },
              {
                "color": "#2196F3",
                "id": 1413,
                "label": "organismes prévus au deuxième alinéa du paragraphe 1 du",
                "position": [
                  0,
                  0
                ],
                "properties": {
                  "id": "organismes prévus au deuxième alinéa du paragraphe 1 du",
                  "label": "Regulation:__Entity__"
                },
                "scale_factor": 1,
                "size": [
                  55,
                  55
                ],
                "styles": {},
                "type": "#2196F3"
              },
              {
                "color": "#607D8B",
                "id": 1416,
                "label": "collectif",
                "position": [
                  0,
                  0
                ],
                "properties": {
                  "id": "collectif",
                  "label": "Organization:__Entity__"
                },
                "scale_factor": 1,
                "size": [
                  55,
                  55
                ],
                "styles": {},
                "type": "#607D8B"
              },
              {
                "color": "#F44336",
                "id": 1418,
                "label": "membre",
                "position": [
                  0,
                  0
                ],
                "properties": {
                  "id": "membre",
                  "label": "__Entity__:Person"
                },
                "scale_factor": 1,
                "size": [
                  55,
                  55
                ],
                "styles": {},
                "type": "#F44336"
              },
              {
                "color": "#F44336",
                "id": 1425,
                "label": "coordonnateur",
                "position": [
                  0,
                  0
                ],
                "properties": {
                  "id": "coordonnateur",
                  "label": "__Entity__:Person"
                },
                "scale_factor": 1,
                "size": [
                  55,
                  55
                ],
                "styles": {},
                "type": "#F44336"
              },
              {
                "color": "#F44336",
                "id": 1422,
                "label": "Le coordonnateur du collectif de maîtres d’ouvrages",
                "position": [
                  0,
                  0
                ],
                "properties": {
                  "id": "Le coordonnateur du collectif de maîtres d’ouvrages",
                  "label": "__Entity__:Person"
                },
                "scale_factor": 1,
                "size": [
                  55,
                  55
                ],
                "styles": {},
                "type": "#F44336"
              },
              {
                "color": "#2196F3",
                "id": 1423,
                "label": "membres de la commission  d’appel d’offres",
                "position": [
                  0,
                  0
                ],
                "properties": {
                  "id": "membres de la commission  d’appel d’offres",
                  "label": "Group:__Entity__"
                },
                "scale_factor": 1,
                "size": [
                  55,
                  55
                ],
                "styles": {},
                "type": "#2196F3"
              },
              {
                "color": "#2196F3",
                "id": 1429,
                "label": "other members of the collective of project managers",
                "position": [
                  0,
                  0
                ],
                "properties": {
                  "id": "other members of the collective of project managers",
                  "label": "Group:__Entity__"
                },
                "scale_factor": 1,
                "size": [
                  55,
                  55
                ],
                "styles": {},
                "type": "#2196F3"
              },
              {
                "color": "#4CAF50",
                "id": 1431,
                "label": "marchés négociés",
                "position": [
                  0,
                  0
                ],
                "properties": {
                  "id": "marchés négociés",
                  "label": "Market:__Entity__"
                },
                "scale_factor": 1,
                "size": [
                  55,
                  55
                ],
                "styles": {},
                "type": "#4CAF50"
              },
              {
                "color": "#2196F3",
                "id": 1432,
                "label": "rapport visé ci–dessus",
                "position": [
                  0,
                  0
                ],
                "properties": {
                  "id": "rapport visé ci–dessus",
                  "label": "Report:__Entity__"
                },
                "scale_factor": 1,
                "size": [
                  55,
                  55
                ],
                "styles": {},
                "type": "#2196F3"
              },
              {
                "color": "#607D8B",
                "id": 1437,
                "label": "moratoires",
                "position": [
                  0,
                  0
                ],
                "properties": {
                  "id": "moratoires",
                  "label": "__Entity__:Concept"
                },
                "scale_factor": 1,
                "size": [
                  55,
                  55
                ],
                "styles": {},
                "type": "#607D8B"
              },
              {
                "color": "#9E9E9E",
                "id": 1436,
                "label": "appréciation de la réalisation des objectifs assignés au projet ou à la prestation objet du marché et de l’atteinte des indicateurs y relatifs",
                "position": [
                  0,
                  0
                ],
                "properties": {
                  "id": "appréciation de la réalisation des objectifs assignés au projet ou à la prestation objet du marché et de l’atteinte des indicateurs y relatifs",
                  "label": "Process:__Entity__"
                },
                "scale_factor": 1,
                "size": [
                  55,
                  55
                ],
                "styles": {},
                "type": "#9E9E9E"
              },
              {
                "color": "#9E9E9E",
                "id": 1441,
                "label": "contrôle",
                "position": [
                  0,
                  0
                ],
                "properties": {
                  "id": "contrôle",
                  "label": "Process:__Entity__"
                },
                "scale_factor": 1,
                "size": [
                  55,
                  55
                ],
                "styles": {},
                "type": "#9E9E9E"
              },
              {
                "color": "#4CAF50",
                "id": 1445,
                "label": "Tout concurrent",
                "position": [
                  0,
                  0
                ],
                "properties": {
                  "id": "Tout concurrent",
                  "label": "Person/Company:__Entity__"
                },
                "scale_factor": 1,
                "size": [
                  55,
                  55
                ],
                "styles": {},
                "type": "#4CAF50"
              },
              {
                "color": "#607D8B",
                "id": 1446,
                "label": "maître d’ouvrage concerné",
                "position": [
                  0,
                  0
                ],
                "properties": {
                  "id": "maître d’ouvrage concerné",
                  "label": "Organization:__Entity__"
                },
                "scale_factor": 1,
                "size": [
                  55,
                  55
                ],
                "styles": {},
                "type": "#607D8B"
              },
              {
                "color": "#9E9E9E",
                "id": 1452,
                "label": "procédure de l'appel à la concurrence",
                "position": [
                  0,
                  0
                ],
                "properties": {
                  "id": "procédure de l'appel à la concurrence",
                  "label": "Procedure:__Entity__"
                },
                "scale_factor": 1,
                "size": [
                  55,
                  55
                ],
                "styles": {},
                "type": "#9E9E9E"
              },
              {
                "color": "#F44336",
                "id": 1458,
                "label": "ministre concerné",
                "position": [
                  0,
                  0
                ],
                "properties": {
                  "id": "ministre concerné",
                  "label": "__Entity__:Person"
                },
                "scale_factor": 1,
                "size": [
                  55,
                  55
                ],
                "styles": {},
                "type": "#F44336"
              },
              {
                "color": "#9C27B0",
                "id": 1457,
                "label": "décision du présent décret",
                "position": [
                  0,
                  0
                ],
                "properties": {
                  "id": "décision du présent décret",
                  "label": "__Entity__:Decision"
                },
                "scale_factor": 1,
                "size": [
                  55,
                  55
                ],
                "styles": {},
                "type": "#9C27B0"
              },
              {
                "color": "#4CAF50",
                "id": 1465,
                "label": "Les marchés de travaux",
                "position": [
                  0,
                  0
                ],
                "properties": {
                  "id": "Les marchés de travaux",
                  "label": "Market:__Entity__"
                },
                "scale_factor": 1,
                "size": [
                  55,
                  55
                ],
                "styles": {},
                "type": "#4CAF50"
              },
              {
                "color": "#F44336",
                "id": 1468,
                "label": "tenante",
                "position": [
                  0,
                  0
                ],
                "properties": {
                  "id": "tenante",
                  "label": "__Entity__:Person"
                },
                "scale_factor": 1,
                "size": [
                  55,
                  55
                ],
                "styles": {},
                "type": "#F44336"
              },
              {
                "color": "#CDDC39",
                "id": 1467,
                "label": "programme prévisionnel, rapports d’achèvement des marchés et les documents prévus à l’article 134 du présent décret",
                "position": [
                  0,
                  0
                ],
                "properties": {
                  "id": "programme prévisionnel, rapports d’achèvement des marchés et les documents prévus à l’article 134 du présent décret",
                  "label": "__Entity__:Documents"
                },
                "scale_factor": 1,
                "size": [
                  55,
                  55
                ],
                "styles": {},
                "type": "#CDDC39"
              },
              {
                "color": "#9E9E9E",
                "id": 1473,
                "label": "procédures",
                "position": [
                  0,
                  0
                ],
                "properties": {
                  "id": "procédures",
                  "label": "Procedure:__Entity__"
                },
                "scale_factor": 1,
                "size": [
                  55,
                  55
                ],
                "styles": {},
                "type": "#9E9E9E"
              },
              {
                "color": "#9E9E9E",
                "id": 1472,
                "label": "articles 135, 136 et 138 du présent décret",
                "position": [
                  0,
                  0
                ],
                "properties": {
                  "id": "articles 135, 136 et 138 du présent décret",
                  "label": "__Entity__:Legislation"
                },
                "scale_factor": 1,
                "size": [
                  55,
                  55
                ],
                "styles": {},
                "type": "#9E9E9E"
              },
              {
                "color": "#9E9E9E",
                "id": 1475,
                "label": "L'examen et l'évaluation",
                "position": [
                  0,
                  0
                ],
                "properties": {
                  "id": "L'examen et l'évaluation",
                  "label": "Process:__Entity__"
                },
                "scale_factor": 1,
                "size": [
                  55,
                  55
                ],
                "styles": {},
                "type": "#9E9E9E"
              },
              {
                "color": "#2196F3",
                "id": 1479,
                "label": "II) de l'article 89 du présent décret",
                "position": [
                  0,
                  0
                ],
                "properties": {
                  "id": "II) de l'article 89 du présent décret",
                  "label": "Regulation:__Entity__"
                },
                "scale_factor": 1,
                "size": [
                  55,
                  55
                ],
                "styles": {},
                "type": "#2196F3"
              },
              {
                "color": "#607D8B",
                "id": 1480,
                "label": "clause relative à la compensation industrielle",
                "position": [
                  0,
                  0
                ],
                "properties": {
                  "id": "clause relative à la compensation industrielle",
                  "label": "Clause:__Entity__"
                },
                "scale_factor": 1,
                "size": [
                  55,
                  55
                ],
                "styles": {},
                "type": "#607D8B"
              },
              {
                "color": "#607D8B",
                "id": 1486,
                "label": "prestations de restauration",
                "position": [
                  0,
                  0
                ],
                "properties": {
                  "id": "prestations de restauration",
                  "label": "Service:__Entity__"
                },
                "scale_factor": 1,
                "size": [
                  55,
                  55
                ],
                "styles": {},
                "type": "#607D8B"
              },
              {
                "color": "#F44336",
                "id": 1487,
                "label": "cinquante millions (50.000.000) de dirhams hors taxes",
                "position": [
                  0,
                  0
                ],
                "properties": {
                  "id": "cinquante millions (50.000.000) de dirhams hors taxes",
                  "label": "__Entity__:Amount"
                },
                "scale_factor": 1,
                "size": [
                  55,
                  55
                ],
                "styles": {},
                "type": "#F44336"
              },
              {
                "color": "#F44336",
                "id": 1491,
                "label": "comprenant",
                "position": [
                  0,
                  0
                ],
                "properties": {
                  "id": "comprenant",
                  "label": "__Entity__:Document"
                },
                "scale_factor": 1,
                "size": [
                  55,
                  55
                ],
                "styles": {},
                "type": "#F44336"
              },
              {
                "color": "#F44336",
                "id": 1493,
                "label": "AZIZ AKHANNOUCH",
                "position": [
                  0,
                  0
                ],
                "properties": {
                  "id": "AZIZ AKHANNOUCH",
                  "label": "__Entity__:Person"
                },
                "scale_factor": 1,
                "size": [
                  55,
                  55
                ],
                "styles": {},
                "type": "#F44336"
              },
              {
                "color": "#F44336",
                "id": 1494,
                "label": "Fouzi Lekjaa",
                "position": [
                  0,
                  0
                ],
                "properties": {
                  "id": "Fouzi Lekjaa",
                  "label": "__Entity__:Person"
                },
                "scale_factor": 1,
                "size": [
                  55,
                  55
                ],
                "styles": {},
                "type": "#F44336"
              },
              {
                "color": "#607D8B",
                "id": 1497,
                "label": "consultations",
                "position": [
                  0,
                  0
                ],
                "properties": {
                  "id": "consultations",
                  "label": "__Entity__:Concept"
                },
                "scale_factor": 1,
                "size": [
                  55,
                  55
                ],
                "styles": {},
                "type": "#607D8B"
              },
              {
                "color": "#607D8B",
                "id": 1496,
                "label": "recherches juridiques, scientifiques, techniques ou littéraires",
                "position": [
                  0,
                  0
                ],
                "properties": {
                  "id": "recherches juridiques, scientifiques, techniques ou littéraires",
                  "label": "__Entity__:Concept"
                },
                "scale_factor": 1,
                "size": [
                  55,
                  55
                ],
                "styles": {},
                "type": "#607D8B"
              },
              {
                "color": "#607D8B",
                "id": 1499,
                "label": "l'Agence nationale pour la promotion des petites et moyennes entreprises",
                "position": [
                  0,
                  0
                ],
                "properties": {
                  "id": "l'Agence nationale pour la promotion des petites et moyennes entreprises",
                  "label": "Organization:__Entity__"
                },
                "scale_factor": 1,
                "size": [
                  55,
                  55
                ],
                "styles": {},
                "type": "#607D8B"
              },
              {
                "color": "#2196F3",
                "id": 1500,
                "label": "les personnes physiques",
                "position": [
                  0,
                  0
                ],
                "properties": {
                  "id": "les personnes physiques",
                  "label": "Group:__Entity__"
                },
                "scale_factor": 1,
                "size": [
                  55,
                  55
                ],
                "styles": {},
                "type": "#2196F3"
              },
              {
                "color": "#607D8B",
                "id": 1502,
                "label": "Office national marocain de tourisme",
                "position": [
                  0,
                  0
                ],
                "properties": {
                  "id": "Office national marocain de tourisme",
                  "label": "Organization:__Entity__"
                },
                "scale_factor": 1,
                "size": [
                  55,
                  55
                ],
                "styles": {},
                "type": "#607D8B"
              },
              {
                "color": "#2196F3",
                "id": 1503,
                "label": "prestations rentrant dans le cadre de l'exercice des missions imparties à l’Office national marocain de tourisme",
                "position": [
                  0,
                  0
                ],
                "properties": {
                  "id": "prestations rentrant dans le cadre de l'exercice des missions imparties à l’Office national marocain de tourisme",
                  "label": "__Entity__:Mission"
                },
                "scale_factor": 1,
                "size": [
                  55,
                  55
                ],
                "styles": {},
                "type": "#2196F3"
              },
              {
                "color": "#607D8B",
                "id": 1505,
                "label": "Office national de l'électricité et de l'eau potable",
                "position": [
                  0,
                  0
                ],
                "properties": {
                  "id": "Office national de l'électricité et de l'eau potable",
                  "label": "Organization:__Entity__"
                },
                "scale_factor": 1,
                "size": [
                  55,
                  55
                ],
                "styles": {},
                "type": "#607D8B"
              },
              {
                "color": "#2196F3",
                "id": 1506,
                "label": "Régies de distribution d'eau et de l'électricité",
                "position": [
                  0,
                  0
                ],
                "properties": {
                  "id": "Régies de distribution d'eau et de l'électricité",
                  "label": "__Entity__:Government Agency"
                },
                "scale_factor": 1,
                "size": [
                  55,
                  55
                ],
                "styles": {},
                "type": "#2196F3"
              },
              {
                "color": "#4CAF50",
                "id": 1509,
                "label": "prestations de formation continue",
                "position": [
                  0,
                  0
                ],
                "properties": {
                  "id": "prestations de formation continue",
                  "label": "Training:__Entity__"
                },
                "scale_factor": 1,
                "size": [
                  55,
                  55
                ],
                "styles": {},
                "type": "#4CAF50"
              },
              {
                "color": "#2196F3",
                "id": 1508,
                "label": "ministère chargé l'équipement",
                "position": [
                  0,
                  0
                ],
                "properties": {
                  "id": "ministère chargé l'équipement",
                  "label": "__Entity__:Government Agency"
                },
                "scale_factor": 1,
                "size": [
                  55,
                  55
                ],
                "styles": {},
                "type": "#2196F3"
              },
              {
                "color": "#607D8B",
                "id": 1511,
                "label": "de la sécurité publique",
                "position": [
                  0,
                  0
                ],
                "properties": {
                  "id": "de la sécurité publique",
                  "label": "__Entity__:Concept"
                },
                "scale_factor": 1,
                "size": [
                  55,
                  55
                ],
                "styles": {},
                "type": "#607D8B"
              },
              {
                "color": "#607D8B",
                "id": 1512,
                "label": "compétences ou expertises particulières",
                "position": [
                  0,
                  0
                ],
                "properties": {
                  "id": "compétences ou expertises particulières",
                  "label": "__Entity__:Concept"
                },
                "scale_factor": 1,
                "size": [
                  55,
                  55
                ],
                "styles": {},
                "type": "#607D8B"
              },
              {
                "color": "#CDDC39",
                "id": 1515,
                "label": "pélerins marocains",
                "position": [
                  0,
                  0
                ],
                "properties": {
                  "id": "pélerins marocains",
                  "label": "Person/Group:__Entity__"
                },
                "scale_factor": 1,
                "size": [
                  55,
                  55
                ],
                "styles": {},
                "type": "#CDDC39"
              },
              {
                "color": "#F44336",
                "id": 1514,
                "label": "voie aérienne",
                "position": [
                  0,
                  0
                ],
                "properties": {
                  "id": "voie aérienne",
                  "label": "__Entity__:Mode of Transport"
                },
                "scale_factor": 1,
                "size": [
                  55,
                  55
                ],
                "styles": {},
                "type": "#F44336"
              },
              {
                "color": "#9E9E9E",
                "id": 1518,
                "label": "travaux d’entretien",
                "position": [
                  0,
                  0
                ],
                "properties": {
                  "id": "travaux d’entretien",
                  "label": "Activity:__Entity__"
                },
                "scale_factor": 1,
                "size": [
                  55,
                  55
                ],
                "styles": {},
                "type": "#9E9E9E"
              },
              {
                "color": "#607D8B",
                "id": 1517,
                "label": "barrages",
                "position": [
                  0,
                  0
                ],
                "properties": {
                  "id": "barrages",
                  "label": "Infrastructure:__Entity__"
                },
                "scale_factor": 1,
                "size": [
                  55,
                  55
                ],
                "styles": {},
                "type": "#607D8B"
              },
              {
                "color": "#607D8B",
                "id": 1520,
                "label": "fourniture",
                "position": [
                  0,
                  0
                ],
                "properties": {
                  "id": "fourniture",
                  "label": "Service:__Entity__"
                },
                "scale_factor": 1,
                "size": [
                  55,
                  55
                ],
                "styles": {},
                "type": "#607D8B"
              },
              {
                "color": "#9C27B0",
                "id": 1521,
                "label": "bandes magnétiques et de fournitures nécessaires au fonctionnement des équipements de production vidéo",
                "position": [
                  0,
                  0
                ],
                "properties": {
                  "id": "bandes magnétiques et de fournitures nécessaires au fonctionnement des équipements de production vidéo",
                  "label": "Product:__Entity__"
                },
                "scale_factor": 1,
                "size": [
                  55,
                  55
                ],
                "styles": {},
                "type": "#9C27B0"
              },
              {
                "color": "#607D8B",
                "id": 1523,
                "label": "assistance technique en matière de logiciels et site Web",
                "position": [
                  0,
                  0
                ],
                "properties": {
                  "id": "assistance technique en matière de logiciels et site Web",
                  "label": "Service:__Entity__"
                },
                "scale_factor": 1,
                "size": [
                  55,
                  55
                ],
                "styles": {},
                "type": "#607D8B"
              },
              {
                "color": "#9E9E9E",
                "id": 1524,
                "label": "collecte des produits biologiques",
                "position": [
                  0,
                  0
                ],
                "properties": {
                  "id": "collecte des produits biologiques",
                  "label": "Activity:__Entity__"
                },
                "scale_factor": 1,
                "size": [
                  55,
                  55
                ],
                "styles": {},
                "type": "#9E9E9E"
              },
              {
                "color": "#2196F3",
                "id": 1527,
                "label": "panels de voyageurs",
                "position": [
                  0,
                  0
                ],
                "properties": {
                  "id": "panels de voyageurs",
                  "label": "Group:__Entity__"
                },
                "scale_factor": 1,
                "size": [
                  55,
                  55
                ],
                "styles": {},
                "type": "#2196F3"
              },
              {
                "color": "#673AB7",
                "id": 1526,
                "label": "enquête",
                "position": [
                  0,
                  0
                ],
                "properties": {
                  "id": "enquête",
                  "label": "__Entity__:Survey"
                },
                "scale_factor": 1,
                "size": [
                  55,
                  55
                ],
                "styles": {},
                "type": "#673AB7"
              },
              {
                "color": "#607D8B",
                "id": 1530,
                "label": "prestation d'entretien et de maintenance",
                "position": [
                  0,
                  0
                ],
                "properties": {
                  "id": "prestation d'entretien et de maintenance",
                  "label": "Service:__Entity__"
                },
                "scale_factor": 1,
                "size": [
                  55,
                  55
                ],
                "styles": {},
                "type": "#607D8B"
              },
              {
                "color": "#9C27B0",
                "id": 1529,
                "label": "équipements techniques, électriques, électroniques, scientifiques, médicaux et de télécommunication",
                "position": [
                  0,
                  0
                ],
                "properties": {
                  "id": "équipements techniques, électriques, électroniques, scientifiques, médicaux et de télécommunication",
                  "label": "Equipment:__Entity__"
                },
                "scale_factor": 1,
                "size": [
                  55,
                  55
                ],
                "styles": {},
                "type": "#9C27B0"
              },
              {
                "color": "#607D8B",
                "id": 1532,
                "label": "gendarmerie Royale",
                "position": [
                  0,
                  0
                ],
                "properties": {
                  "id": "gendarmerie Royale",
                  "label": "Organization:__Entity__"
                },
                "scale_factor": 1,
                "size": [
                  55,
                  55
                ],
                "styles": {},
                "type": "#607D8B"
              },
              {
                "color": "#607D8B",
                "id": 1533,
                "label": "transports sanitaires par hélicoptère",
                "position": [
                  0,
                  0
                ],
                "properties": {
                  "id": "transports sanitaires par hélicoptère",
                  "label": "Service:__Entity__"
                },
                "scale_factor": 1,
                "size": [
                  55,
                  55
                ],
                "styles": {},
                "type": "#607D8B"
              },
              {
                "color": "#CDDC39",
                "id": 1535,
                "label": "scientifiques",
                "position": [
                  0,
                  0
                ],
                "properties": {
                  "id": "scientifiques",
                  "label": "Field:__Entity__"
                },
                "scale_factor": 1,
                "size": [
                  55,
                  55
                ],
                "styles": {},
                "type": "#CDDC39"
              },
              {
                "color": "#CDDC39",
                "id": 1536,
                "label": "médicaux et de télécommunication",
                "position": [
                  0,
                  0
                ],
                "properties": {
                  "id": "médicaux et de télécommunication",
                  "label": "Field:__Entity__"
                },
                "scale_factor": 1,
                "size": [
                  55,
                  55
                ],
                "styles": {},
                "type": "#CDDC39"
              },
              {
                "color": "#9E9E9E",
                "id": 1538,
                "label": "plantes",
                "position": [
                  0,
                  0
                ],
                "properties": {
                  "id": "plantes",
                  "label": "Plant:__Entity__"
                },
                "scale_factor": 1,
                "size": [
                  55,
                  55
                ],
                "styles": {},
                "type": "#9E9E9E"
              },
              {
                "color": "#9C27B0",
                "id": 1539,
                "label": "travaux d'aménagement et d'entretien des installations militaires",
                "position": [
                  0,
                  0
                ],
                "properties": {
                  "id": "travaux d'aménagement et d'entretien des installations militaires",
                  "label": "__Entity__:Project"
                },
                "scale_factor": 1,
                "size": [
                  55,
                  55
                ],
                "styles": {},
                "type": "#9C27B0"
              },
              {
                "color": "#9C27B0",
                "id": 1541,
                "label": "achat de matériel",
                "position": [
                  0,
                  0
                ],
                "properties": {
                  "id": "achat de matériel",
                  "label": "__Entity__:Purchase"
                },
                "scale_factor": 1,
                "size": [
                  55,
                  55
                ],
                "styles": {},
                "type": "#9C27B0"
              },
              {
                "color": "#9C27B0",
                "id": 1542,
                "label": "matériel, câbles, coffrets de distribution, poteaux et accessoires de branchements moyenne tension et basse tension",
                "position": [
                  0,
                  0
                ],
                "properties": {
                  "id": "matériel, câbles, coffrets de distribution, poteaux et accessoires de branchements moyenne tension et basse tension",
                  "label": "Equipment:__Entity__"
                },
                "scale_factor": 1,
                "size": [
                  55,
                  55
                ],
                "styles": {},
                "type": "#9C27B0"
              },
              {
                "color": "#9E9E9E",
                "id": 1544,
                "label": "achat de matières premières",
                "position": [
                  0,
                  0
                ],
                "properties": {
                  "id": "achat de matières premières",
                  "label": "Activity:__Entity__"
                },
                "scale_factor": 1,
                "size": [
                  55,
                  55
                ],
                "styles": {},
                "type": "#9E9E9E"
              },
              {
                "color": "#CDDC39",
                "id": 1545,
                "label": "laboratoire et enseignement",
                "position": [
                  0,
                  0
                ],
                "properties": {
                  "id": "laboratoire et enseignement",
                  "label": "Field:__Entity__"
                },
                "scale_factor": 1,
                "size": [
                  55,
                  55
                ],
                "styles": {},
                "type": "#CDDC39"
              },
              {
                "color": "#607D8B",
                "id": 1547,
                "label": "fourniture de prothèses et orthèses",
                "position": [
                  0,
                  0
                ],
                "properties": {
                  "id": "fourniture de prothèses et orthèses",
                  "label": "Service:__Entity__"
                },
                "scale_factor": 1,
                "size": [
                  55,
                  55
                ],
                "styles": {},
                "type": "#607D8B"
              },
              {
                "color": "#9C27B0",
                "id": 1548,
                "label": "prothèses et orthèses",
                "position": [
                  0,
                  0
                ],
                "properties": {
                  "id": "prothèses et orthèses",
                  "label": "Product:__Entity__"
                },
                "scale_factor": 1,
                "size": [
                  55,
                  55
                ],
                "styles": {},
                "type": "#9C27B0"
              },
              {
                "color": "#607D8B",
                "id": 1551,
                "label": "études",
                "position": [
                  0,
                  0
                ],
                "properties": {
                  "id": "études",
                  "label": "Service:__Entity__"
                },
                "scale_factor": 1,
                "size": [
                  55,
                  55
                ],
                "styles": {},
                "type": "#607D8B"
              },
              {
                "color": "#607D8B",
                "id": 1552,
                "label": "conseil et formation",
                "position": [
                  0,
                  0
                ],
                "properties": {
                  "id": "conseil et formation",
                  "label": "Service:__Entity__"
                },
                "scale_factor": 1,
                "size": [
                  55,
                  55
                ],
                "styles": {},
                "type": "#607D8B"
              },
              {
                "color": "#CDDC39",
                "id": 1554,
                "label": "centres d'appels",
                "position": [
                  0,
                  0
                ],
                "properties": {
                  "id": "centres d'appels",
                  "label": "__Entity__:Company"
                },
                "scale_factor": 1,
                "size": [
                  55,
                  55
                ],
                "styles": {},
                "type": "#CDDC39"
              },
              {
                "color": "#607D8B",
                "id": 1555,
                "label": "prestations de centres d'appels, de télémarketing et de télé-service",
                "position": [
                  0,
                  0
                ],
                "properties": {
                  "id": "prestations de centres d'appels, de télémarketing et de télé-service",
                  "label": "Service:__Entity__"
                },
                "scale_factor": 1,
                "size": [
                  55,
                  55
                ],
                "styles": {},
                "type": "#607D8B"
              },
              {
                "color": "#607D8B",
                "id": 1557,
                "label": "prestations de contrôle des points de comptage",
                "position": [
                  0,
                  0
                ],
                "properties": {
                  "id": "prestations de contrôle des points de comptage",
                  "label": "Service:__Entity__"
                },
                "scale_factor": 1,
                "size": [
                  55,
                  55
                ],
                "styles": {},
                "type": "#607D8B"
              },
              {
                "color": "#607D8B",
                "id": 1558,
                "label": "Company/Entity",
                "position": [
                  0,
                  0
                ],
                "properties": {
                  "id": "Company/Entity",
                  "label": "Organization:__Entity__"
                },
                "scale_factor": 1,
                "size": [
                  55,
                  55
                ],
                "styles": {},
                "type": "#607D8B"
              },
              {
                "color": "#607D8B",
                "id": 1561,
                "label": "prestations géotechniques et de laboratoire",
                "position": [
                  0,
                  0
                ],
                "properties": {
                  "id": "prestations géotechniques et de laboratoire",
                  "label": "Service:__Entity__"
                },
                "scale_factor": 1,
                "size": [
                  55,
                  55
                ],
                "styles": {},
                "type": "#607D8B"
              },
              {
                "color": "#607D8B",
                "id": 1560,
                "label": "Company/Institution",
                "position": [
                  0,
                  0
                ],
                "properties": {
                  "id": "Company/Institution",
                  "label": "Organization:__Entity__"
                },
                "scale_factor": 1,
                "size": [
                  55,
                  55
                ],
                "styles": {},
                "type": "#607D8B"
              },
              {
                "color": "#607D8B",
                "id": 1564,
                "label": "traduction simultanée",
                "position": [
                  0,
                  0
                ],
                "properties": {
                  "id": "traduction simultanée",
                  "label": "Service:__Entity__"
                },
                "scale_factor": 1,
                "size": [
                  55,
                  55
                ],
                "styles": {},
                "type": "#607D8B"
              },
              {
                "color": "#2196F3",
                "id": 1563,
                "label": "documents et des œuvres littéraires, scientifiques, culturelles ou juridiques",
                "position": [
                  0,
                  0
                ],
                "properties": {
                  "id": "documents et des œuvres littéraires, scientifiques, culturelles ou juridiques",
                  "label": "Category:__Entity__"
                },
                "scale_factor": 1,
                "size": [
                  55,
                  55
                ],
                "styles": {},
                "type": "#2196F3"
              }
            ],
            "_overview": {
              "enabled": null,
              "overview_set": false
            },
            "_selected_graph": [
              [],
              []
            ],
            "_sidebar": {
              "enabled": false,
              "start_with": null
            },
            "_view_count": null,
            "_view_module": "yfiles-jupyter-graphs",
            "_view_module_version": "^1.10.0",
            "_view_name": "GraphView",
            "layout": "IPY_MODEL_89ccd18a586e4b72b4b958dd240d7265",
            "tabbable": null,
            "tooltip": null
          }
        },
        "89ccd18a586e4b72b4b958dd240d7265": {
          "model_module": "@jupyter-widgets/base",
          "model_module_version": "2.0.0",
          "model_name": "LayoutModel",
          "state": {
            "_model_module": "@jupyter-widgets/base",
            "_model_module_version": "2.0.0",
            "_model_name": "LayoutModel",
            "_view_count": null,
            "_view_module": "@jupyter-widgets/base",
            "_view_module_version": "2.0.0",
            "_view_name": "LayoutView",
            "align_content": null,
            "align_items": null,
            "align_self": null,
            "border_bottom": null,
            "border_left": null,
            "border_right": null,
            "border_top": null,
            "bottom": null,
            "display": null,
            "flex": null,
            "flex_flow": null,
            "grid_area": null,
            "grid_auto_columns": null,
            "grid_auto_flow": null,
            "grid_auto_rows": null,
            "grid_column": null,
            "grid_gap": null,
            "grid_row": null,
            "grid_template_areas": null,
            "grid_template_columns": null,
            "grid_template_rows": null,
            "height": "800px",
            "justify_content": null,
            "justify_items": null,
            "left": null,
            "margin": null,
            "max_height": null,
            "max_width": null,
            "min_height": null,
            "min_width": null,
            "object_fit": null,
            "object_position": null,
            "order": null,
            "overflow": null,
            "padding": null,
            "right": null,
            "top": null,
            "visibility": null,
            "width": "100%"
          }
        }
      }
    }
  },
  "nbformat": 4,
  "nbformat_minor": 0
}
